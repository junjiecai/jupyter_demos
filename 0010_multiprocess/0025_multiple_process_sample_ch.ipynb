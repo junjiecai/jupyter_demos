{
 "cells": [
  {
   "cell_type": "markdown",
   "metadata": {},
   "source": [
    "# Python多进程的演示"
   ]
  },
  {
   "cell_type": "markdown",
   "metadata": {},
   "source": [
    "多进程模式常见的模式\n",
    "* 主进程和子进程之间通过Queue传递数据\n",
    "* 主进程开启多个process, 并且负责往Queue中不断的放入数据。主进程可以通过传递特殊的信息例如None， 表示没有更多的数据。\n",
    "* 子进程不断的从Queue获取数据（可以用```while True```实现）,并进行处理。如果接受到特殊的终止信息， 则退出函数结束进程。"
   ]
  },
  {
   "cell_type": "markdown",
   "metadata": {},
   "source": [
    "## 代码示例"
   ]
  },
  {
   "cell_type": "markdown",
   "metadata": {},
   "source": [
    "* run_parallel负责自进程的建立和往Queue放数据和传递终止信息\n",
    "* task是子进程的运算内容"
   ]
  },
  {
   "cell_type": "code",
   "execution_count": 1,
   "metadata": {
    "collapsed": false
   },
   "outputs": [],
   "source": [
    "from multiprocessing import Process, Queue\n",
    "from datetime import datetime"
   ]
  },
  {
   "cell_type": "code",
   "execution_count": 3,
   "metadata": {
    "collapsed": false
   },
   "outputs": [
    {
     "name": "stdout",
     "output_type": "stream",
     "text": [
      "Worker 3 is starting\n",
      "Worker 4 is starting\n",
      "Worker 5 is starting\n",
      "Worker 6 is starting\n",
      "Worker 7 is starting\n",
      "Worker 1 is starting\n",
      "Worker 0 is starting\n",
      "Worker 2 is starting\n",
      "Worker 9 is starting\n",
      "Worker 8 is starting\n",
      "No more jobs. Worker 9 is quiting\n",
      "No more jobs. Worker 8 is quiting\n",
      "No more jobs. Worker 2 is quiting\n",
      "Worker 0 is inputing 36\n",
      "No more jobs. Worker 0 is quiting\n",
      "Worker 4 is inputing 4\n",
      "No more jobs. Worker 4 is quiting\n",
      "Worker 1 is inputing 49\n",
      "No more jobs. Worker 1 is quiting\n",
      "Worker 5 is inputing 9\n",
      "Worker 6 is inputing 16\n",
      "No more jobs. Worker 5 is quiting\n",
      "No more jobs. Worker 6 is quiting\n",
      "Worker 3 is inputing 1\n",
      "No more jobs. Worker 3 is quiting\n",
      "Worker 7 is inputing 25\n",
      "No more jobs. Worker 7 is quiting\n",
      "***run_parallel(n_job,True) returned***\n",
      "Time spent: 0.642116 seconds\n",
      "\n",
      "\n",
      "Worker 2 is starting\n",
      "Worker 5 is starting\n",
      "Worker 3 is starting\n",
      "Worker 4 is starting\n",
      "Worker 1 is starting\n",
      "Worker 7 is starting\n",
      "Worker 9 is starting\n",
      "Worker 8 is starting\n",
      "Worker 6 is starting\n",
      "Worker 0 is starting\n",
      "***run_parallel(n_job,False) returned***\n",
      "Time spent: 0.037395 seconds\n",
      "No more jobs. Worker 1 is quiting\n",
      "No more jobs. Worker 8 is quiting\n",
      "No more jobs. Worker 0 is quiting\n",
      "Worker 5 is inputing 4\n",
      "No more jobs. Worker 5 is quiting\n",
      "Worker 6 is inputing 16\n",
      "No more jobs. Worker 6 is quiting\n",
      "Worker 2 is inputing 1\n",
      "No more jobs. Worker 2 is quiting\n",
      "Worker 3 is inputing 9\n",
      "No more jobs. Worker 3 is quiting\n",
      "Worker 7 is inputing 36\n",
      "No more jobs. Worker 7 is quiting\n",
      "Worker 9 is inputing 49\n",
      "No more jobs. Worker 9 is quiting\n",
      "Worker 4 is inputing 25\n",
      "No more jobs. Worker 4 is quiting\n"
     ]
    }
   ],
   "source": [
    "def task(queue, n):\n",
    "    from random import randint\n",
    "    from time import sleep    \n",
    "    print('Worker {} is starting'.format(n))\n",
    "    \n",
    "    # 不断的尝试从Queue获取数据\n",
    "    while True:\n",
    "        data = queue.get()  \n",
    "        \n",
    "        # 如果拿到终止信息， 退出函数\n",
    "        if data is None:\n",
    "            print('No more jobs. Worker {} is quiting'.format(n))\n",
    "            return\n",
    "        else:\n",
    "            # 实际的处理内容， 这里为了演示， 只是简单的将拿到的数据开方并print。\n",
    "            # 为了模拟较慢的运算， 每次处理时随机休眠0.5~0.6秒\n",
    "            \n",
    "            sleep(randint(50,60)/100)\n",
    "            print('Worker {} is inputing {}'.format(n,data**2))\n",
    "            \n",
    "def run_parallel(njob, join = True):\n",
    "    queue = Queue()\n",
    "    # 创建子进程， 配置子进程所需的函数和函数参数\n",
    "    workers = [Process(target = task, args = (queue,n)) for n in range(njob)]\n",
    "    for worker in workers:\n",
    "        worker.start()\n",
    "\n",
    "    ## 放入待处理的数据    \n",
    "    for data_chunk in range(1,8):\n",
    "        queue.put(data_chunk)\n",
    "    ## 传递终止信息， 数量要和njob保持一直\n",
    "    for i in range(njob):\n",
    "        queue.put(None)    \n",
    "    \n",
    "    if join:\n",
    "        # 这段功能是让主进程的函数等待所有的字进程函数完成后在返回, \n",
    "        # 如果不加这一段, 主进程的函数会立即返回。\n",
    "        for worker in workers:\n",
    "            worker.join()\n",
    "\n",
    "if __name__ == '__main__':\n",
    "    # 子进程数量, 可以调整下观察效果\n",
    "    n_job = 10\n",
    "    \n",
    "    # 启用worker.join()\n",
    "    t1 = datetime.now() #开始时间\n",
    "    run_parallel(n_job, True)\n",
    "    t2 = datetime.now() # 结束时间\n",
    "    time = (t2-t1).total_seconds() #时间差(秒)\n",
    "    print('***run_parallel(n_job,True) returned***')\n",
    "    print('Time spent: {} seconds'.format(time))\n",
    "    \n",
    "    print('\\n')\n",
    "    # 不启用worker.join()    \n",
    "    t1 = datetime.now()    \n",
    "    run_parallel(n_job, False)\n",
    "    t2 = datetime.now()\n",
    "    time = (t2-t1).total_seconds()    \n",
    "    print('***run_parallel(n_job,False) returned***')\n",
    "    print('Time spent: {} seconds'.format(time))                "
   ]
  },
  {
   "cell_type": "code",
   "execution_count": null,
   "metadata": {
    "collapsed": true
   },
   "outputs": [],
   "source": []
  }
 ],
 "metadata": {
  "kernelspec": {
   "display_name": "Python 3",
   "language": "python",
   "name": "python3"
  },
  "language_info": {
   "codemirror_mode": {
    "name": "ipython",
    "version": 3
   },
   "file_extension": ".py",
   "mimetype": "text/x-python",
   "name": "python",
   "nbconvert_exporter": "python",
   "pygments_lexer": "ipython3",
   "version": "3.5.2"
  }
 },
 "nbformat": 4,
 "nbformat_minor": 0
}
