{
 "cells": [
  {
   "cell_type": "markdown",
   "metadata": {},
   "source": [
    "## VTE项目\n",
    "1. 支持学术部门对现有入组标准进行统计\n",
    "    * 按年份和科室统计VTE入群标准对应的visit_id和patient_id的数量\n",
    "    * 统计每个visit_id对应的就诊次数的分布\n",
    "    * 统计每个patient_id对应的visit_id的分布\n",
    "2. 协助产品部门\n",
    "    * 协助薛乐乐开发比较Caprini和VTE模型的表现的代码，标准为诊断前任意一次调用为阳性则为阳性。\n",
    "3. 协助十院\n",
    "    * 调查胡老师反馈的VTE标签获取不准的问题。发现主要是实施提交统计数据时，采用的诊断标准和建模时不一致导致\n",
    "    \n",
    "## 脓毒阵项目\n",
    "1. 脓毒症在公司测试库调试，全流程通过\n",
    "\n",
    "## 基础建设\n",
    "1. 在建模流程中追加SVM模型\n",
    "2. 完善特征工程逻辑\n",
    "    * 修复全麻特征的逻辑错误。\n",
    "    * 身高，体重，bmi，bsa, \n",
    "    * 入院时长\n",
    "    * 年龄（天）\n",
    "    * 其他Eason推荐的VTE建模特征\n",
    "3. 模型效果的计算逻辑从模型监控系统单独抽离出来，方便单独调用\n",
    "4. 重构数据亚组模块，降低今后维护修改代码的难度\n",
    "5. 开发word自动报告生成模块，可以自动将建模后生成的数据和图表插入Word形成完整的文档"
   ]
  },
  {
   "cell_type": "code",
   "execution_count": null,
   "metadata": {},
   "outputs": [],
   "source": []
  }
 ],
 "metadata": {
  "kernelspec": {
   "display_name": "Python 3",
   "language": "python",
   "name": "python3"
  },
  "language_info": {
   "codemirror_mode": {
    "name": "ipython",
    "version": 3
   },
   "file_extension": ".py",
   "mimetype": "text/x-python",
   "name": "python",
   "nbconvert_exporter": "python",
   "pygments_lexer": "ipython3",
   "version": "3.7.1"
  },
  "toc": {
   "base_numbering": 1,
   "nav_menu": {},
   "number_sections": true,
   "sideBar": true,
   "skip_h1_title": false,
   "title_cell": "Table of Contents",
   "title_sidebar": "Contents",
   "toc_cell": false,
   "toc_position": {},
   "toc_section_display": true,
   "toc_window_display": false
  }
 },
 "nbformat": 4,
 "nbformat_minor": 2
}
