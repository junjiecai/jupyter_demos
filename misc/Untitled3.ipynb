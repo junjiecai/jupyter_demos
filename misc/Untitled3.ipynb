{
 "cells": [
  {
   "cell_type": "code",
   "execution_count": 1,
   "metadata": {},
   "outputs": [],
   "source": [
    "from pandas import DataFrame"
   ]
  },
  {
   "cell_type": "code",
   "execution_count": null,
   "metadata": {},
   "outputs": [],
   "source": [
    "group = {\n",
    "    'train': ['train'],\n",
    "    'test': ['train'],\n",
    "    'feature_evaluation': ['train']\n",
    "}\n",
    "data_generator = DataSetGenerator(data, ['label'], ['dataset_name'], group)\n"
   ]
  },
  {
   "cell_type": "code",
   "execution_count": null,
   "metadata": {},
   "outputs": [],
   "source": [
    "class Segmentaion:\n",
    "    def __init__(self, cols, values):\n",
    "        self.cols = cols\n",
    "        self.values = values\n",
    "    \n",
    "    def filter_df(self, df):\n",
    "        return filtered_df\n",
    "\n",
    "class SegmentationGroup:\n",
    "    def __init__(self, name, segmentations):\n",
    "        pass\n",
    "    \n",
    "    def filter_df(self, df):\n",
    "        return filtered_df\n",
    "    \n",
    "    @property # obsolete\n",
    "    def cols(self):\n",
    "        pass\n",
    "    \n",
    "    @property # obsolete  \n",
    "    def values(self):\n",
    "        pass\n",
    "\n",
    "segmentation_1 = Segmentation(['vte_type', 'after_2018'], ['pe', True])\n",
    "segmentation_2 = Segmentation(['vte_type', 'after_2018'], ['pe', False])\n",
    "segmentation_3 = Segmentation(['vte_type', 'after_2018'], ['dvt', True])\n",
    "segmentation_4 = Segmentation(['vte_type', 'after_2018'], ['dvt', False])\n",
    "segmentstion_5 = Segmentation(['vte_type'], ['dvt']) \n",
    "\n",
    "train_segmentation_group = SegmentationGroup('train_all', [segmentation_2, segmentation_4])\n",
    "test_segmentation_pe = SegmentationGroup('test_pe', [segmentation_1])\n",
    "test_segmentation_dvt = SegmentationGroup('test_dvt'[segmentation_3])\n",
    "test_segmentation_all = SegmentationGroup('test_all', [segmentation_1, segmentation_3])\n",
    "\n",
    "data_generator = DataSetGenerator(data, ['label'], ['dataset_name'])\n",
    "data_genetator.generate_datasets([train_segmentation_group])\n",
    "data_genetator.generate_dataset([test_segmentation_pe, test_segmentation_dvt, test_segmentation_all])"
   ]
  }
 ],
 "metadata": {
  "kernelspec": {
   "display_name": "Python 3",
   "language": "python",
   "name": "python3"
  },
  "language_info": {
   "codemirror_mode": {
    "name": "ipython",
    "version": 3
   },
   "file_extension": ".py",
   "mimetype": "text/x-python",
   "name": "python",
   "nbconvert_exporter": "python",
   "pygments_lexer": "ipython3",
   "version": "3.7.1"
  },
  "toc": {
   "base_numbering": 1,
   "nav_menu": {},
   "number_sections": true,
   "sideBar": true,
   "skip_h1_title": false,
   "title_cell": "Table of Contents",
   "title_sidebar": "Contents",
   "toc_cell": false,
   "toc_position": {},
   "toc_section_display": true,
   "toc_window_display": false
  }
 },
 "nbformat": 4,
 "nbformat_minor": 2
}
