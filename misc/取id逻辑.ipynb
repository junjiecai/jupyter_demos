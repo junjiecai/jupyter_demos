{
 "cells": [
  {
   "cell_type": "code",
   "execution_count": null,
   "metadata": {},
   "outputs": [],
   "source": [
    "#  心超报告，调整正则后重新运行\n",
    "\n",
    "create table if not exists af_ict.exclu_xin_ultrasound_1207 as \n",
    "select checks.ultrasound_report.visit_id,\n",
    "       checks.ultrasound_report.visit_type,\n",
    "       'ultrasound' as exclusion_source\n",
    "from checks.ultrasound_report\n",
    "where checks.ultrasound_report.check_name like '%%心%%'\n",
    "  and checks.ultrasound_report.visit_id <> 0\n",
    "  and (checks.ultrasound_report.check_conclusion like '%%瓣%%'\n",
    "      or checks.ultrasound_report.check_conclusion like '%%风湿性%%'\n",
    "      or checks.ultrasound_report.check_conclusion like '%%二尖%%'\n",
    "      or checks.ultrasound_report.check_conclusion like '%%狭窄%%'\n",
    "      or checks.ultrasound_report.check_conclusion like '%%中度二尖%%'\n",
    "      or checks.ultrasound_report.check_conclusion like '%%重度二尖%%'\n",
    "      or checks.ultrasound_report.check_conclusion like '%%风心%%');\n",
    "\n",
    "# 满足超声检查类型(B)\n",
    "\n",
    "create table if not exists af_ict.exclu_shi_ultrasound_1207 as \n",
    "select checks.ultrasound_report.visit_id,\n",
    "       checks.ultrasound_report.visit_type,\n",
    "       'ultrasound' as exclusion_source\n",
    "from checks.ultrasound_report\n",
    "where checks.ultrasound_report.visit_id <> 0\n",
    "and (checks.ultrasound_report.check_name like '%%食%%'\n",
    "       or checks.ultrasound_report.check_name like '%%食道%%'\n",
    "       or checks.ultrasound_report.check_name like '%%TEE%%');"
   ]
  },
  {
   "cell_type": "code",
   "execution_count": null,
   "metadata": {},
   "outputs": [],
   "source": [
    "sql_large_table = '''\n",
    "                    select t_xinnei.*,\n",
    "                            (case when t_fangchan.source is null then 0 else 1 end) as fangchan,\n",
    "                            (case when t_fangchanshi.source is null then 0 else 1 end) as fangchanshi,\n",
    "                            (case when t_ecg.source is null then 0 else 1 end) as ecg,\n",
    "                            (case when t_banmobing.exclusion_source is null then 0 else 1 end) as banmobing,\n",
    "                            (case when t_manzuchaosheng.exclusion_source is null then 0 else 1 end) as manzuchaosheng\n",
    "        \n",
    "                      from af_ict.distinct_unioned_visits t_xinnei\n",
    "                             left join (select * from af_ict.af_criteria_diag_regexp\n",
    "                                        union\n",
    "                                        select * from af_ict.af_criteria_diag_synyi_code) t_fangchan\n",
    "                               on t_xinnei.visit_id = t_fangchan.visit_id\n",
    "\n",
    "                             left join af_ict.af_criteria_hospital_record t_fangchanshi\n",
    "                             on t_xinnei.visit_id = t_fangchanshi.visit_id\n",
    "\n",
    "                             left join af_ict.af_criteria_nlp_ecg_report t_ecg\n",
    "                             on t_xinnei.visit_id = t_ecg.visit_id\n",
    "\n",
    "                             left join af_ict.exclu_xin_ultrasound_1207 t_banmobing\n",
    "                             on t_xinnei.visit_id = t_banmobing.visit_id\n",
    "\n",
    "                             left join af_ict.exclu_shi_ultrasound_1207 t_manzuchaosheng\n",
    "                             on t_xinnei.visit_id = t_manzuchaosheng.visit_id\n",
    "\n",
    "                      where t_xinnei.visit_id is not null;                     \n",
    "'''"
   ]
  }
 ],
 "metadata": {
  "kernelspec": {
   "display_name": "Python 3",
   "language": "python",
   "name": "python3"
  },
  "language_info": {
   "codemirror_mode": {
    "name": "ipython",
    "version": 3
   },
   "file_extension": ".py",
   "mimetype": "text/x-python",
   "name": "python",
   "nbconvert_exporter": "python",
   "pygments_lexer": "ipython3",
   "version": "3.7.1"
  },
  "toc": {
   "base_numbering": 1,
   "nav_menu": {},
   "number_sections": true,
   "sideBar": true,
   "skip_h1_title": false,
   "title_cell": "Table of Contents",
   "title_sidebar": "Contents",
   "toc_cell": false,
   "toc_position": {},
   "toc_section_display": true,
   "toc_window_display": false
  }
 },
 "nbformat": 4,
 "nbformat_minor": 2
}
