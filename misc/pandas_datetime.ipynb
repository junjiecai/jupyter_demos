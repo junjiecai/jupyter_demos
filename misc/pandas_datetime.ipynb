{
 "cells": [
  {
   "cell_type": "code",
   "execution_count": 10,
   "metadata": {},
   "outputs": [],
   "source": [
    "import pandas as pd\n",
    "from pandas import DataFrame, Series\n",
    "from numpy.random import randn"
   ]
  },
  {
   "cell_type": "code",
   "execution_count": 26,
   "metadata": {},
   "outputs": [],
   "source": [
    "time_range = pd.date_range('1/1/2011', periods=72, freq='H')"
   ]
  },
  {
   "cell_type": "markdown",
   "metadata": {},
   "source": [
    "# Time range as Index"
   ]
  },
  {
   "cell_type": "code",
   "execution_count": 27,
   "metadata": {},
   "outputs": [
    {
     "data": {
      "text/plain": [
       "2011-01-01 00:00:00    0.377169\n",
       "2011-01-01 01:00:00    0.094994\n",
       "2011-01-01 02:00:00    0.470335\n",
       "2011-01-01 03:00:00   -0.038478\n",
       "2011-01-01 04:00:00    0.381668\n",
       "Freq: H, dtype: float64"
      ]
     },
     "execution_count": 27,
     "metadata": {},
     "output_type": "execute_result"
    }
   ],
   "source": [
    "ts = Series(randn(len(time_range)), index=time_range)\n",
    "ts.head()"
   ]
  },
  {
   "cell_type": "code",
   "execution_count": 28,
   "metadata": {},
   "outputs": [
    {
     "data": {
      "text/plain": [
       "2011-01-01 00:00:00    0.377169\n",
       "2011-01-01 00:45:00    0.377169\n",
       "2011-01-01 01:30:00    0.094994\n",
       "2011-01-01 02:15:00    0.470335\n",
       "2011-01-01 03:00:00   -0.038478\n",
       "Freq: 45T, dtype: float64"
      ]
     },
     "execution_count": 28,
     "metadata": {},
     "output_type": "execute_result"
    }
   ],
   "source": [
    "ts.asfreq('45Min', method='pad').head()"
   ]
  },
  {
   "cell_type": "markdown",
   "metadata": {},
   "source": [
    "# downsampling"
   ]
  },
  {
   "cell_type": "code",
   "execution_count": 53,
   "metadata": {},
   "outputs": [
    {
     "data": {
      "text/plain": [
       "2011-01-31    0.036393\n",
       "Freq: M, dtype: float64"
      ]
     },
     "execution_count": 53,
     "metadata": {},
     "output_type": "execute_result"
    }
   ],
   "source": [
    "resample = ts.resample('m').mean()\n",
    "resample"
   ]
  },
  {
   "cell_type": "markdown",
   "metadata": {},
   "source": [
    "# oversampling"
   ]
  },
  {
   "cell_type": "code",
   "execution_count": 54,
   "metadata": {},
   "outputs": [
    {
     "data": {
      "text/plain": [
       "2011-01-01 00:00:00    0.377169\n",
       "2011-01-01 00:00:01         NaN\n",
       "2011-01-01 00:00:02         NaN\n",
       "2011-01-01 00:00:03         NaN\n",
       "2011-01-01 00:00:04         NaN\n",
       "2011-01-01 00:00:05         NaN\n",
       "2011-01-01 00:00:06         NaN\n",
       "2011-01-01 00:00:07         NaN\n",
       "2011-01-01 00:00:08         NaN\n",
       "2011-01-01 00:00:09         NaN\n",
       "2011-01-01 00:00:10         NaN\n",
       "2011-01-01 00:00:11         NaN\n",
       "2011-01-01 00:00:12         NaN\n",
       "2011-01-01 00:00:13         NaN\n",
       "2011-01-01 00:00:14         NaN\n",
       "2011-01-01 00:00:15         NaN\n",
       "2011-01-01 00:00:16         NaN\n",
       "2011-01-01 00:00:17         NaN\n",
       "2011-01-01 00:00:18         NaN\n",
       "2011-01-01 00:00:19         NaN\n",
       "2011-01-01 00:00:20         NaN\n",
       "2011-01-01 00:00:21         NaN\n",
       "2011-01-01 00:00:22         NaN\n",
       "2011-01-01 00:00:23         NaN\n",
       "2011-01-01 00:00:24         NaN\n",
       "2011-01-01 00:00:25         NaN\n",
       "2011-01-01 00:00:26         NaN\n",
       "2011-01-01 00:00:27         NaN\n",
       "2011-01-01 00:00:28         NaN\n",
       "2011-01-01 00:00:29         NaN\n",
       "                         ...   \n",
       "2011-01-03 22:59:31         NaN\n",
       "2011-01-03 22:59:32         NaN\n",
       "2011-01-03 22:59:33         NaN\n",
       "2011-01-03 22:59:34         NaN\n",
       "2011-01-03 22:59:35         NaN\n",
       "2011-01-03 22:59:36         NaN\n",
       "2011-01-03 22:59:37         NaN\n",
       "2011-01-03 22:59:38         NaN\n",
       "2011-01-03 22:59:39         NaN\n",
       "2011-01-03 22:59:40         NaN\n",
       "2011-01-03 22:59:41         NaN\n",
       "2011-01-03 22:59:42         NaN\n",
       "2011-01-03 22:59:43         NaN\n",
       "2011-01-03 22:59:44         NaN\n",
       "2011-01-03 22:59:45         NaN\n",
       "2011-01-03 22:59:46         NaN\n",
       "2011-01-03 22:59:47         NaN\n",
       "2011-01-03 22:59:48         NaN\n",
       "2011-01-03 22:59:49         NaN\n",
       "2011-01-03 22:59:50         NaN\n",
       "2011-01-03 22:59:51         NaN\n",
       "2011-01-03 22:59:52         NaN\n",
       "2011-01-03 22:59:53         NaN\n",
       "2011-01-03 22:59:54         NaN\n",
       "2011-01-03 22:59:55         NaN\n",
       "2011-01-03 22:59:56         NaN\n",
       "2011-01-03 22:59:57         NaN\n",
       "2011-01-03 22:59:58         NaN\n",
       "2011-01-03 22:59:59         NaN\n",
       "2011-01-03 23:00:00   -0.295148\n",
       "Freq: S, Length: 255601, dtype: float64"
      ]
     },
     "execution_count": 54,
     "metadata": {},
     "output_type": "execute_result"
    }
   ],
   "source": [
    "resample = ts.resample('s').mean()\n",
    "resample"
   ]
  },
  {
   "cell_type": "code",
   "execution_count": 48,
   "metadata": {},
   "outputs": [
    {
     "data": {
      "text/plain": [
       "Timestamp('2011-01-31 23:59:59.999999999')"
      ]
     },
     "execution_count": 48,
     "metadata": {},
     "output_type": "execute_result"
    }
   ],
   "source": [
    "p = pd.Period('2011-01')\n",
    "p.start_time\n",
    "p.end_time"
   ]
  },
  {
   "cell_type": "code",
   "execution_count": null,
   "metadata": {},
   "outputs": [],
   "source": []
  }
 ],
 "metadata": {
  "kernelspec": {
   "display_name": "Python 3",
   "language": "python",
   "name": "python3"
  },
  "language_info": {
   "codemirror_mode": {
    "name": "ipython",
    "version": 3
   },
   "file_extension": ".py",
   "mimetype": "text/x-python",
   "name": "python",
   "nbconvert_exporter": "python",
   "pygments_lexer": "ipython3",
   "version": "3.7.1"
  },
  "toc": {
   "base_numbering": 1,
   "nav_menu": {},
   "number_sections": true,
   "sideBar": true,
   "skip_h1_title": false,
   "title_cell": "Table of Contents",
   "title_sidebar": "Contents",
   "toc_cell": false,
   "toc_position": {},
   "toc_section_display": true,
   "toc_window_display": false
  }
 },
 "nbformat": 4,
 "nbformat_minor": 2
}
