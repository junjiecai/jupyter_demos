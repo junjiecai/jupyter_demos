{
 "cells": [
  {
   "cell_type": "markdown",
   "metadata": {},
   "source": [
    "# 为什么使用logging?\n",
    "用pythong的logging模块替代print的理由\n",
    "\n",
    "## 生产环境debug\n",
    "生产环境非常依赖logging信息进行debug，大部分情况下，我们无法想在本地那样用debugging tool进行调试。\n",
    "          \n",
    "## 分环境处理\n",
    "大家是否遇到过，为了调试方便，开发时加入print语句，之后又需要把print语句删除或者注释掉的场景？是否遇到记不得print语句添加在哪里，花费了大量时间寻找的场景？用python logging模块可以避免这个麻烦。\n",
    "\n",
    "python logging模块将logging按照严重程度分了5个等级，可以在不同的运行环境激活不同严重程度的信息，不需要修改代码。（需要配合命令行参数或者环境变量等手段，配合命令行参数的策略示例代码中有演示）\n",
    "\n",
    "|Level\t|Numeric value|scenario|\n",
    "|---|---|---|\n",
    "|CRITICAL|50|严重错误，表明软件已不能继续运行了|\n",
    "|ERROR|\t40|由于更严重的问题，软件已不能执行一些功能了|\n",
    "|WARNING|30|表明发生了一些意外，或者不久的将来会发生问题（如‘磁盘满了’），软件还是在正常工作|\n",
    "|INFO\t|20|证明事情按预期工作|\n",
    "|DEBUG\t|10|详细信息，一半只有在调试问题时会感兴趣。|\n",
    "\n",
    "\n",
    "应用例子：\n",
    "* 开发环境:为了方便debug，可以输出非常详细的信息，方便debug，但是影响性能。\n",
    "* 生产环境:为了更好的性能，只输出warning, error, critical等级的信息\n",
    "\n",
    "\n",
    "## 丰富的handler\n",
    "内置的各种handlder能够对不同严重程度的logging用不同方式处理\n",
    "* RotatingFileHandler能够自动处理限制单个log file的大小和文件log file文件数量的上限\n",
    "* SMTPHandler能够将logging用邮件发送\n",
    "* 自定义handler，将critical信息发微信通知自己？\n",
    "\n",
    "\n",
    "\n",
    "## 示例代码\n",
    "见项目代码。下面有一些注意点。\n",
    "\n",
    "###  命令行运行.py文件\n",
    "在命令行运行.py时，记得要先把package所在的路径加入PYTHON PATH环境变量，否则是无法找到package的哦。\n",
    "\n",
    "### __name__\n",
    "```__name__```是一个特殊变量，当.py文件被在命令行中直接运行的时候，```__name__```的取值是```__main__```;.py文件对应的module被其他module import的时候，```__name__```反应的是module的层级关系。\n",
    "\n",
    "### logger的层级关系\n",
    "logger会通过名称建立起层级关系，如果\n",
    "```\n",
    "logger_1 = logging.getLogger('a.b')\n",
    "logger_2 = logging.getLogger('a)\n",
    "```\n",
    "\n",
    "那么logger_2会被识别为logger_1的parent。当logger_1需要打日志的时候，会转交给logger_2进行（会使用logger_2的配置）"
   ]
  }
 ],
 "metadata": {
  "kernelspec": {
   "display_name": "Python 3",
   "language": "python",
   "name": "python3"
  },
  "language_info": {
   "codemirror_mode": {
    "name": "ipython",
    "version": 3
   },
   "file_extension": ".py",
   "mimetype": "text/x-python",
   "name": "python",
   "nbconvert_exporter": "python",
   "pygments_lexer": "ipython3",
   "version": "3.6.5"
  }
 },
 "nbformat": 4,
 "nbformat_minor": 2
}
