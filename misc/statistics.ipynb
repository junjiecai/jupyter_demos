{
 "cells": [
  {
   "cell_type": "code",
   "execution_count": 1,
   "metadata": {},
   "outputs": [],
   "source": [
    "from sqlalchemy import create_engine"
   ]
  },
  {
   "cell_type": "code",
   "execution_count": null,
   "metadata": {},
   "outputs": [],
   "source": [
    "engine = create_engine('')\n",
    "\n",
    "s = '''\n",
    "with pos_patient as (\n",
    "  select visit_id\n",
    "  from checks.ultrasound_report\n",
    "  where check_time > '2018-01-01'\n",
    "    and visit_type = 'I'\n",
    "    and visit_id <> 0\n",
    "    and check_name like '%下肢静脉%'\n",
    "\n",
    "  union\n",
    "  select visit_id\n",
    "  from checks.radiology_report\n",
    "  where check_time > '2018-01-01'\n",
    "    and visit_type = 'I'\n",
    "    and visit_id <> 0\n",
    "    and (check_name like '%肺%CT%' or check_name like '%CT%肺%')\n",
    "\n",
    ")\n",
    "select inpat_id, in_time, extract(days from out_time - in_time) as d\n",
    "from visit.inpat_record\n",
    "where inpat_id in (select visit_id from pos_patient)\n",
    "'''\n",
    "\n",
    "\n",
    "with engine.connect() as conn:\n",
    "    records = conn.execute(s)\n",
    "\n",
    "    \n",
    "records.fetchall()\n",
    "\n",
    "\n",
    "\n"
   ]
  }
 ],
 "metadata": {
  "kernelspec": {
   "display_name": "Python 3",
   "language": "python",
   "name": "python3"
  },
  "language_info": {
   "codemirror_mode": {
    "name": "ipython",
    "version": 3
   },
   "file_extension": ".py",
   "mimetype": "text/x-python",
   "name": "python",
   "nbconvert_exporter": "python",
   "pygments_lexer": "ipython3",
   "version": "3.6.5"
  },
  "toc": {
   "base_numbering": 1,
   "nav_menu": {},
   "number_sections": true,
   "sideBar": true,
   "skip_h1_title": false,
   "title_cell": "Table of Contents",
   "title_sidebar": "Contents",
   "toc_cell": false,
   "toc_position": {},
   "toc_section_display": true,
   "toc_window_display": false
  }
 },
 "nbformat": 4,
 "nbformat_minor": 2
}
