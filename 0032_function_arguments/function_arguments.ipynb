{
 "cells": [
  {
   "cell_type": "code",
   "execution_count": 1,
   "metadata": {},
   "outputs": [],
   "source": [
    "def f_1(s):\n",
    "    print(id(s))\n",
    "    return s"
   ]
  },
  {
   "cell_type": "code",
   "execution_count": 6,
   "metadata": {},
   "outputs": [
    {
     "name": "stdout",
     "output_type": "stream",
     "text": [
      "4492232832\n",
      "4492232832\n",
      "4492232832\n"
     ]
    }
   ],
   "source": [
    "s = 'abc'\n",
    "print(id(s))\n",
    "\n",
    "s_2 = f_1(s)\n",
    "\n",
    "print(id(s_2))"
   ]
  },
  {
   "cell_type": "code",
   "execution_count": 15,
   "metadata": {},
   "outputs": [],
   "source": [
    "def f_2(s):\n",
    "    s += 'a'\n",
    "    print(id(s))\n",
    "    return s"
   ]
  },
  {
   "cell_type": "code",
   "execution_count": 16,
   "metadata": {},
   "outputs": [
    {
     "name": "stdout",
     "output_type": "stream",
     "text": [
      "4492232832\n",
      "4523713176\n",
      "4523713176\n"
     ]
    }
   ],
   "source": [
    "s = 'abc'\n",
    "print(id(s))\n",
    "\n",
    "s_2 = f_2(s)\n",
    "\n",
    "print(id(s_2))"
   ]
  },
  {
   "cell_type": "code",
   "execution_count": 18,
   "metadata": {},
   "outputs": [
    {
     "name": "stdout",
     "output_type": "stream",
     "text": [
      "4522330056\n",
      "4522330056\n",
      "4522330056\n"
     ]
    }
   ],
   "source": [
    "data = []\n",
    "print(id(data))\n",
    "\n",
    "def f_3(data):\n",
    "    data.append(1)\n",
    "    print(id(data))\n",
    "    return data\n",
    "\n",
    "data_2 = f_3(data)\n",
    "print(id(data_2))"
   ]
  }
 ],
 "metadata": {
  "kernelspec": {
   "display_name": "Python 3",
   "language": "python",
   "name": "python3"
  },
  "language_info": {
   "codemirror_mode": {
    "name": "ipython",
    "version": 3
   },
   "file_extension": ".py",
   "mimetype": "text/x-python",
   "name": "python",
   "nbconvert_exporter": "python",
   "pygments_lexer": "ipython3",
   "version": "3.7.1"
  },
  "toc": {
   "base_numbering": 1,
   "nav_menu": {},
   "number_sections": true,
   "sideBar": true,
   "skip_h1_title": false,
   "title_cell": "Table of Contents",
   "title_sidebar": "Contents",
   "toc_cell": false,
   "toc_position": {},
   "toc_section_display": true,
   "toc_window_display": false
  }
 },
 "nbformat": 4,
 "nbformat_minor": 2
}
