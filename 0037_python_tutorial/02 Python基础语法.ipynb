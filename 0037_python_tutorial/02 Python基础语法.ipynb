{
 "cells": [
  {
   "cell_type": "markdown",
   "metadata": {
    "ExecuteTime": {
     "end_time": "2018-01-25T16:33:44.156000Z",
     "start_time": "2018-01-25T16:33:44.078000Z"
    }
   },
   "source": [
    "![logo](images/python_logo.jpg)"
   ]
  },
  {
   "cell_type": "markdown",
   "metadata": {},
   "source": [
    "# 本系列教程的使用说明\n",
    "\n",
    "这个系列的教程会以Jupyter Notebook的方式发布，主要包含说明图文和Jupyter中可运行, 调试的代码。\n",
    "\n",
    "编程是需要大量实践，才能掌握的技能，只靠阅读，理解是远远不够的的。\n",
    "\n",
    "因此，为了获得更好的效果，建议下载教程后，在Jupyter Notebook中动手练习相关的代码。"
   ]
  },
  {
   "cell_type": "markdown",
   "metadata": {},
   "source": [
    "# 前言"
   ]
  },
  {
   "cell_type": "markdown",
   "metadata": {},
   "source": [
    "## 程序是和计算机传达指令的手段"
   ]
  },
  {
   "cell_type": "markdown",
   "metadata": {
    "ExecuteTime": {
     "end_time": "2018-01-12T02:39:04.467198Z",
     "start_time": "2018-01-12T02:39:04.456204Z"
    }
   },
   "source": [
    "计算机在干活方面，是极佳的合作伙伴，不会对工作内容挑挑拣拣，忠实的执行用户下达的操作指令，不休不眠，\n",
    "\n",
    "但是，为了让计算机能够帮助我们工作，首先我们得以计算机能够理解的方式，表达我们希望计算机干什么。\n",
    "\n",
    "操作软件或者使用网页工具，通过鼠标点击按钮，用键盘打字等方式，就是大家熟悉的, 向计算机表达我们意图的方式。\n",
    "\n",
    "例如：\n",
    "\n",
    "|场景|操作|意图|\n",
    "|:------|:------|:-----|\n",
    "|windows系统|双击软件图标|打开对应程序|\n",
    "|windows系统|点击软件右上角的X|关闭对应程序|\n",
    "|搜索引擎|搜索框中输入关键词|定义搜索关键词|\n",
    "|搜索引擎|点击“搜索”按钮|开启启动搜索任务|\n",
    "\n",
    "\n",
    "如果已经安装了python的运行环境，那么计算机就可以理解python和运行语言。然后我们就可以利用python语言，告诉希望计算机我们希望做什么。向计算机传达更加灵活，复杂的指令，例如：\n",
    "\n",
    "\n",
    "|场景|操作|意图|\n",
    "|:------|:------|:-----|\n",
    "|使用Jupyter Notebook|运行编写好的代码|自动将一个文件夹中所有图片(也许有1000个)中的文本提取出来，并且保存成txt文件|\n",
    "|使用Jupyter Notebook|运行编写好的代码|自动将一个Excel中的一列英文(也许有2000段文本)翻译成中文，并且存在一个新的列中|\n",
    "\n"
   ]
  },
  {
   "cell_type": "markdown",
   "metadata": {},
   "source": [
    "## 编程语言语法严格\n",
    "中文，英文等人类社会的自然语言，都需要遵守一定的语法规则，否则沟通时会造成困难和误解。python等计算机编程语言，同样也有自己的语法规则。\n",
    "\n",
    "不过不像人类用自然语言沟通，对语法有一定的容错和纠正能力。用python等编程手段和计算机传达指令时，计算机对python语法有严格的要求，如果不符合要求就会报错（或者传达了错误的指令）\n",
    "\n",
    "因此，掌握Python不同功能对应的语法要求是重要学习内容"
   ]
  },
  {
   "cell_type": "markdown",
   "metadata": {},
   "source": [
    "## 但是，不要只关注语法细节\n",
    "\n",
    "后续教程中会陆陆续续介绍Python中的变量，函数，条件判断，循环遍历等技术，为我们提供了很多工具，解决不同场景的问题。（当然，最终都是为了和计算机传达我们的指令）\n",
    "\n",
    "但是，务必注意，要掌握掌握一个工具，除了关注工具本身，**更重要的是理解这个工具需要解决什么问题，并且细心的去体会这个工具如何解决这个问题**。\n",
    "\n",
    "* 只有先理解编程一个领域的问题，和解决思路是什么，才能理解对应的工具的意义和正确的使用这种工具。\n",
    "* 尽管具体的工具，技术变化是多样的，但是编程领域遇到的的问题，解决思路的变化是相对较慢，容易迁移的。如果大家能在学习python的过程中，建立起对编程领域问题，解决思路的知识体系，那么将来就能快速的掌握其他技术（如javascript，R），甚至是未来出现的新技术。\n",
    "* 很多教学材料并不重视这点，会花大量篇幅描述工具本身，忽略背后的问题和解决问题理念。学习者如何自己也不重视这点，很容易迷失方向。"
   ]
  },
  {
   "cell_type": "markdown",
   "metadata": {},
   "source": [
    "以下开始是正式的python入门培训内容。\n",
    "\n",
    "相应大家都有一定的了解，知道python能帮我们处理很多工作，例如图像识别，自然语言处理，数据分析，网络爬虫等等。\n",
    "\n",
    "不过对于新手而言，首先，我们先定个小目标，从做到让Python帮我们完成一些基础的数学运算开始熟悉python。随着问题场景越来越复杂，了解表达式，变量，函数，循环，条件判断，类等基础的python编程工具和对应语法。"
   ]
  },
  {
   "cell_type": "markdown",
   "metadata": {
    "ExecuteTime": {
     "end_time": "2018-01-12T04:31:32.468510Z",
     "start_time": "2018-01-12T04:31:32.461510Z"
    }
   },
   "source": [
    "# 如何表达基本的数学运算？"
   ]
  },
  {
   "cell_type": "markdown",
   "metadata": {},
   "source": [
    "<img src='icons/bad.png' width='40px' align='left'/><span style='font-size:20px;padding-top:10px;display:inline-block'>问题出现</span>"
   ]
  },
  {
   "cell_type": "markdown",
   "metadata": {
    "ExecuteTime": {
     "end_time": "2018-01-12T04:31:52.253489Z",
     "start_time": "2018-01-12T04:31:52.249488Z"
    }
   },
   "source": [
    "我们如何让python帮助我们进行数学运算？"
   ]
  },
  {
   "cell_type": "markdown",
   "metadata": {},
   "source": [
    "<img src='icons/tool.png' width='40px' align='left'/><span style='font-size:20px;padding-top:10px;display:inline-block'>解决工具</span>"
   ]
  },
  {
   "cell_type": "markdown",
   "metadata": {},
   "source": [
    "在python总进行数学运算比较直接，python直接以很直观的方式，表达数值，并且提供了```+,-,*,/```等基本的运算符号表示计算逻辑。"
   ]
  },
  {
   "cell_type": "code",
   "execution_count": 32,
   "metadata": {},
   "outputs": [
    {
     "data": {
      "text/plain": [
       "3"
      ]
     },
     "execution_count": 32,
     "metadata": {},
     "output_type": "execute_result"
    }
   ],
   "source": [
    "1 + 2 # 加法"
   ]
  },
  {
   "cell_type": "code",
   "execution_count": 33,
   "metadata": {},
   "outputs": [
    {
     "data": {
      "text/plain": [
       "1.2999999999999998"
      ]
     },
     "execution_count": 33,
     "metadata": {},
     "output_type": "execute_result"
    }
   ],
   "source": [
    "4.3 - 3 # 减法"
   ]
  },
  {
   "cell_type": "code",
   "execution_count": 34,
   "metadata": {},
   "outputs": [
    {
     "data": {
      "text/plain": [
       "13.939999999999998"
      ]
     },
     "execution_count": 34,
     "metadata": {},
     "output_type": "execute_result"
    }
   ],
   "source": [
    "4.1 * 3.4 # 乘法"
   ]
  },
  {
   "cell_type": "code",
   "execution_count": 35,
   "metadata": {},
   "outputs": [
    {
     "data": {
      "text/plain": [
       "1.7"
      ]
     },
     "execution_count": 35,
     "metadata": {},
     "output_type": "execute_result"
    }
   ],
   "source": [
    "5.1 / 3 # 除法"
   ]
  },
  {
   "cell_type": "code",
   "execution_count": 36,
   "metadata": {},
   "outputs": [
    {
     "data": {
      "text/plain": [
       "1"
      ]
     },
     "execution_count": 36,
     "metadata": {},
     "output_type": "execute_result"
    }
   ],
   "source": [
    "5 // 3 # 取整除法"
   ]
  },
  {
   "cell_type": "code",
   "execution_count": 37,
   "metadata": {},
   "outputs": [
    {
     "data": {
      "text/plain": [
       "64"
      ]
     },
     "execution_count": 37,
     "metadata": {},
     "output_type": "execute_result"
    }
   ],
   "source": [
    "4 ** 3 # 指数运算, 4 * 4 * 4 "
   ]
  },
  {
   "cell_type": "code",
   "execution_count": 38,
   "metadata": {},
   "outputs": [
    {
     "data": {
      "text/plain": [
       "2.0"
      ]
     },
     "execution_count": 38,
     "metadata": {},
     "output_type": "execute_result"
    }
   ],
   "source": [
    "4 ** 0.5 # 指数运算，sqrt(4)"
   ]
  },
  {
   "cell_type": "code",
   "execution_count": 39,
   "metadata": {},
   "outputs": [
    {
     "data": {
      "text/plain": [
       "1"
      ]
     },
     "execution_count": 39,
     "metadata": {},
     "output_type": "execute_result"
    }
   ],
   "source": [
    "4 % 3 # 取整运算"
   ]
  },
  {
   "cell_type": "markdown",
   "metadata": {},
   "source": [
    "也可以在一个表达式中执行多个运算"
   ]
  },
  {
   "cell_type": "code",
   "execution_count": 40,
   "metadata": {},
   "outputs": [
    {
     "data": {
      "text/plain": [
       "20.0"
      ]
     },
     "execution_count": 40,
     "metadata": {},
     "output_type": "execute_result"
    }
   ],
   "source": [
    "4 / 2 + 2 * 3 **2 # 先别急着运行，猜猜看结果是什么"
   ]
  },
  {
   "cell_type": "markdown",
   "metadata": {},
   "source": [
    "## 表达式如何换行"
   ]
  },
  {
   "cell_type": "markdown",
   "metadata": {},
   "source": [
    "如果表达式较长，我们有时候希望能换行表示"
   ]
  },
  {
   "cell_type": "code",
   "execution_count": 41,
   "metadata": {},
   "outputs": [
    {
     "ename": "SyntaxError",
     "evalue": "invalid syntax (<ipython-input-41-15a7d41deab9>, line 1)",
     "output_type": "error",
     "traceback": [
      "\u001b[0;36m  File \u001b[0;32m\"<ipython-input-41-15a7d41deab9>\"\u001b[0;36m, line \u001b[0;32m1\u001b[0m\n\u001b[0;31m    4 / 2 +\u001b[0m\n\u001b[0m            ^\u001b[0m\n\u001b[0;31mSyntaxError\u001b[0m\u001b[0;31m:\u001b[0m invalid syntax\n"
     ]
    }
   ],
   "source": [
    "4 / 2 + \n",
    "2 * 3 ** 2"
   ]
  },
  {
   "cell_type": "markdown",
   "metadata": {},
   "source": [
    "<img src='icons/bad.png' width='40px' align='left'/><span style='font-size:20px;padding-top:10px;display:inline-block'>问题出现</span>"
   ]
  },
  {
   "cell_type": "markdown",
   "metadata": {},
   "source": [
    "上面这样直接换行是行不通的...那么如我们需要怎么换行，应该怎么处理呢？"
   ]
  },
  {
   "cell_type": "markdown",
   "metadata": {},
   "source": [
    "<img src='icons/tool.png' width='40px' align='left'/><span style='font-size:20px;padding-top:10px;display:inline-block'>解决工具</span>"
   ]
  },
  {
   "cell_type": "markdown",
   "metadata": {},
   "source": [
    "这里提供两个方法"
   ]
  },
  {
   "cell_type": "markdown",
   "metadata": {},
   "source": [
    "方法1:\n",
    "利用```\\```换行符，在需要换行处加上"
   ]
  },
  {
   "cell_type": "code",
   "execution_count": null,
   "metadata": {},
   "outputs": [],
   "source": [
    "4 / 2 + \\\n",
    "2 * 3 ** 2"
   ]
  },
  {
   "cell_type": "markdown",
   "metadata": {},
   "source": [
    "可是下面的代码运行会出错"
   ]
  },
  {
   "cell_type": "code",
   "execution_count": null,
   "metadata": {},
   "outputs": [],
   "source": [
    "4 / 2 + \\ \n",
    "2 * 3 ** 2"
   ]
  },
  {
   "cell_type": "markdown",
   "metadata": {},
   "source": [
    "<img src='icons/warning.png' width='40px' align='left'/><span style='font-size:20px;padding-top:10px;display:inline-block'>注意事项</span>"
   ]
  },
  {
   "cell_type": "markdown",
   "metadata": {},
   "source": [
    "上面的代码不能运行的原因，是因为```\\```之后多了一个空格。\n",
    "\n",
    "当然，在上面的代码里, 报错信息\"SyntaxError: unexpected character after line continuation character\"还是给出了明显的提示。\n",
    "\n",
    "空格，制表符等白空间，很多时候在视觉上并不明显，因此如果程序出现错误，记得要考虑这个排查方向。"
   ]
  },
  {
   "cell_type": "markdown",
   "metadata": {},
   "source": [
    "方法2:\n",
    "利用```()```将整个表达式括起来，就可以自由的换行"
   ]
  },
  {
   "cell_type": "code",
   "execution_count": null,
   "metadata": {},
   "outputs": [],
   "source": [
    "(\n",
    "    4 / 2 + \n",
    "    2 * 3 ** 2\n",
    ")"
   ]
  },
  {
   "cell_type": "markdown",
   "metadata": {},
   "source": [
    "为了演示**自由的换行**中自由的意思，我们下面玩的更野一些"
   ]
  },
  {
   "cell_type": "code",
   "execution_count": null,
   "metadata": {},
   "outputs": [],
   "source": [
    "(\n",
    "    4 \n",
    "        / \n",
    "            2 \n",
    "                + \n",
    "            2 \n",
    "        * \n",
    "    3 \n",
    "                            ** \n",
    "                    2\n",
    ") "
   ]
  },
  {
   "cell_type": "markdown",
   "metadata": {},
   "source": [
    "<img src='icons/warning.png' width='40px' align='left'/><span style='font-size:20px;padding-top:10px;display:inline-block'>注意事项</span>"
   ]
  },
  {
   "cell_type": "markdown",
   "metadata": {},
   "source": [
    "从代码可读性，可理解性角度，上面的做法不可取。\n",
    "\n",
    "为了不给自己和团队成员找麻烦，平时写代码请别这么做。（做了可别说是和老蔡学的python！）"
   ]
  },
  {
   "cell_type": "markdown",
   "metadata": {},
   "source": [
    "## 运算顺序\n",
    "\n",
    "从上面的例子中可以注意到，运算顺序并不是从左往右的顺序执行。上面的表达式中的优先级顺序是\n",
    "\n",
    "** > * == / > _\n",
    "\n",
    "如果我们分解上面的计算步骤，可以得到这样的计算过程:\n",
    "* 紫色：最原始的输入\n",
    "* 绿色：中间计算结果\n",
    "* 红色下划线：当前最高优先级运算\n"
   ]
  },
  {
   "cell_type": "markdown",
   "metadata": {},
   "source": [
    "![](images/01/orders.png)"
   ]
  },
  {
   "cell_type": "markdown",
   "metadata": {},
   "source": [
    "### 如何控制运算顺序？"
   ]
  },
  {
   "cell_type": "markdown",
   "metadata": {},
   "source": [
    "<img src='icons/bad.png' width='40px' align='left'/><span style='font-size:20px;padding-top:10px;display:inline-block'>问题出现</span>"
   ]
  },
  {
   "cell_type": "markdown",
   "metadata": {},
   "source": [
    "那么问题来了，如果我们的确希望上面表达式中，2 + 2被优先运行，怎么办？"
   ]
  },
  {
   "cell_type": "markdown",
   "metadata": {},
   "source": [
    "<img src='icons/tool.png' width='40px' align='left'/><span style='font-size:20px;padding-top:10px;display:inline-block'>解决工具</span>"
   ]
  },
  {
   "cell_type": "markdown",
   "metadata": {},
   "source": [
    "工具: ```()```除了可以提供自由换行，我们也可以利用它定义运算顺序, 被```()```包含的部分，具备更高的运算优先级"
   ]
  },
  {
   "cell_type": "code",
   "execution_count": null,
   "metadata": {},
   "outputs": [],
   "source": [
    "4 / (2 + 2) * 3 **2 # 先别急着运行，尝试推理一下运行结果"
   ]
  },
  {
   "cell_type": "markdown",
   "metadata": {},
   "source": [
    "![](images/01/orders2.png)"
   ]
  },
  {
   "cell_type": "markdown",
   "metadata": {},
   "source": [
    "我们也可以定义多层的```()```指定优先级顺序，内层的运算会被先执行"
   ]
  },
  {
   "cell_type": "code",
   "execution_count": null,
   "metadata": {},
   "outputs": [],
   "source": [
    "4 / ((2 + 2) * 3) ** 2 # 先别急着运行，尝试推理一下运行结果"
   ]
  },
  {
   "cell_type": "code",
   "execution_count": null,
   "metadata": {},
   "outputs": [],
   "source": [
    "1. 分析4 / ((2 + 2) * 3) ** 2的运算步骤"
   ]
  },
  {
   "cell_type": "markdown",
   "metadata": {},
   "source": [
    "## 练习\n",
    "\n",
    "1. 分析下面表达式的执行步骤，和实际运行的结果进行比较"
   ]
  },
  {
   "cell_type": "code",
   "execution_count": null,
   "metadata": {},
   "outputs": [],
   "source": [
    "2 * (1 + 3) ** (6 - (2 + 2))"
   ]
  },
  {
   "cell_type": "markdown",
   "metadata": {},
   "source": [
    "2. 已知一个三角形的三条边长是3,5,7, 请利用[海伦公式](https://baike.baidu.com/item/%E6%B5%B7%E4%BC%A6%E5%85%AC%E5%BC%8F)，在Jupyter Notebook中编写代码，用上面提到的数学运算符```+,-,*,/,**```计算三角形的面积。\n"
   ]
  },
  {
   "cell_type": "code",
   "execution_count": 42,
   "metadata": {},
   "outputs": [],
   "source": [
    "# 请在这里根据海伦公式，利用python计算边长为3,5,7的三角形面积公式\n",
    "\n"
   ]
  },
  {
   "cell_type": "markdown",
   "metadata": {},
   "source": [
    "# 简化复杂计算逻辑的编写和使用"
   ]
  },
  {
   "cell_type": "code",
   "execution_count": 43,
   "metadata": {},
   "outputs": [
    {
     "data": {
      "text/plain": [
       "2.3717082451262845"
      ]
     },
     "execution_count": 43,
     "metadata": {},
     "output_type": "execute_result"
    }
   ],
   "source": [
    "(\n",
    "    ((3+5+7)/2 - 3) *\n",
    "    ((3+5+7)/2 - 5) *\n",
    "    ((3+5+7)/2 - 7)\n",
    ") ** 0.5"
   ]
  },
  {
   "cell_type": "markdown",
   "metadata": {},
   "source": [
    "如果大家完成了海伦公式计算三角形公式的练习，可能会注意到以下问题"
   ]
  },
  {
   "cell_type": "markdown",
   "metadata": {},
   "source": [
    "<img src='icons/bad.png' width='40px' align='left'/><span style='font-size:20px;padding-top:10px;display:inline-block'>问题出现</span>"
   ]
  },
  {
   "cell_type": "markdown",
   "metadata": {},
   "source": [
    "* 整个表达需要一口气写完，这个过程很容易出错。\n",
    "* 写完的表达式很长，可读性很差，如果不是一开始知道，很难一眼看出这个表达式的目的是什么。\n",
    "* 三角形周长的一半```(3+5+7)/2```这个中间结果要重复几遍，导致不必要的重复计算。\n",
    "* 如果三角形的边长改变，这样复杂的表达式又要重新写一遍\n",
    "\n",
    "（这个阶段的代码，和用卡西欧计算器相比强不了多少）"
   ]
  },
  {
   "cell_type": "markdown",
   "metadata": {},
   "source": [
    "<img src='icons/tool.png' width='40px' align='left'/><span style='font-size:20px;padding-top:10px;display:inline-block'>解决工具</span>"
   ]
  },
  {
   "cell_type": "markdown",
   "metadata": {},
   "source": [
    "## 变量"
   ]
  },
  {
   "cell_type": "markdown",
   "metadata": {},
   "source": [
    "变量提供了一种工具，可以让我们用一个有意义的，方便理解的命名，去指代对应的程序中对应的值，或者保存一个表达式的计算结果。"
   ]
  },
  {
   "cell_type": "code",
   "execution_count": 44,
   "metadata": {},
   "outputs": [],
   "source": [
    "x = 1001 # 用x指代数值1001"
   ]
  },
  {
   "cell_type": "markdown",
   "metadata": {},
   "source": [
    "之后我们就可以用```x```找到之前对应的数值1001"
   ]
  },
  {
   "cell_type": "code",
   "execution_count": 45,
   "metadata": {},
   "outputs": [
    {
     "data": {
      "text/plain": [
       "1001"
      ]
     },
     "execution_count": 45,
     "metadata": {},
     "output_type": "execute_result"
    }
   ],
   "source": [
    "x"
   ]
  },
  {
   "cell_type": "markdown",
   "metadata": {},
   "source": [
    "变量可以接受表达式的接受结果"
   ]
  },
  {
   "cell_type": "code",
   "execution_count": 46,
   "metadata": {},
   "outputs": [],
   "source": [
    "y = 1002 + 2001 "
   ]
  },
  {
   "cell_type": "code",
   "execution_count": 47,
   "metadata": {},
   "outputs": [
    {
     "data": {
      "text/plain": [
       "3003"
      ]
     },
     "execution_count": 47,
     "metadata": {},
     "output_type": "execute_result"
    }
   ],
   "source": [
    "y"
   ]
  },
  {
   "cell_type": "markdown",
   "metadata": {},
   "source": [
    "变量本身也可以参与表达式的计算"
   ]
  },
  {
   "cell_type": "code",
   "execution_count": 48,
   "metadata": {},
   "outputs": [],
   "source": [
    "z = x + y"
   ]
  },
  {
   "cell_type": "code",
   "execution_count": 49,
   "metadata": {},
   "outputs": [
    {
     "data": {
      "text/plain": [
       "4004"
      ]
     },
     "execution_count": 49,
     "metadata": {},
     "output_type": "execute_result"
    }
   ],
   "source": [
    "z"
   ]
  },
  {
   "cell_type": "markdown",
   "metadata": {},
   "source": [
    "在变量的帮助下，我们可以将海伦公式的计算过程拆分成两个阶段进行"
   ]
  },
  {
   "cell_type": "code",
   "execution_count": 50,
   "metadata": {},
   "outputs": [
    {
     "data": {
      "text/plain": [
       "2.3717082451262845"
      ]
     },
     "execution_count": 50,
     "metadata": {},
     "output_type": "execute_result"
    }
   ],
   "source": [
    "# 先计算出周长的一半\n",
    "half_perimeter = (3 + 5 + 7)/2\n",
    "\n",
    "# 基于这个中间结果，进行后续的计算\n",
    "surface = (\n",
    "    (half_perimeter - 3) * \n",
    "    (half_perimeter - 5) * \n",
    "    (half_perimeter - 7)\n",
    ") ** 0.5\n",
    "\n",
    "surface"
   ]
  },
  {
   "cell_type": "markdown",
   "metadata": {},
   "source": [
    "这个改动带来了两个优点\n",
    "* 变量名half_perimeter具有良好的可读性，更能反应我们代码的意图是“计算三角形边长的一半”; surface同理\n",
    "* 三角形半边长只计算了一次，不会被重复计算\n",
    "* 当我们需要改变三角形边长的时候，代码的改动量小了很多（这一点仍有改进空间）\n",
    "\n",
    "目前的版本，尽管有了一些改进，但是我们应该注意到，需要修改三角形某个边长时，仍然需要对2处进行修改（之前是4处）。\n",
    "\n",
    "考虑到计算半周长时的数值，和后续计算的数值都是三角形的某条边长，这里我们进一步用变量进行处理"
   ]
  },
  {
   "cell_type": "code",
   "execution_count": 53,
   "metadata": {},
   "outputs": [
    {
     "data": {
      "text/plain": [
       "2.3717082451262845"
      ]
     },
     "execution_count": 53,
     "metadata": {},
     "output_type": "execute_result"
    }
   ],
   "source": [
    "# 具体的三角形的计算逻辑\n",
    "side_a = 3\n",
    "side_b = 5\n",
    "side_c = 7\n",
    "\n",
    "# 后续的计算逻辑，和三角形的具体边长无关\n",
    "half_perimeter = (side_a + side_b + side_c)/2\n",
    "\n",
    "surface = (\n",
    "    (half_perimeter - side_a) * \n",
    "    (half_perimeter - side_b) * \n",
    "    (half_perimeter - side_c)\n",
    ") ** 0.5\n",
    "\n",
    "surface"
   ]
  },
  {
   "cell_type": "markdown",
   "metadata": {},
   "source": [
    "这次改进的完成后的进展\n",
    "* 计算半边长的表达式含义变得明显\n",
    "* 当我们需要改变三角形边长的时候，只需改动1处代码（量变）\n",
    "* 我们将代码需要变的具体数值，和不需变得计算逻辑进行了分离；使用时，我们改变开始```side_a, side_b, side_c```的数值即可，不用在关心不需要改变的计算逻辑部分（质变）"
   ]
  },
  {
   "cell_type": "markdown",
   "metadata": {},
   "source": [
    "<img src='icons/good.jpeg' width='40px' align='left'/><span style='font-size:20px;padding-top:10px;display:inline-block'>优势总结</span>"
   ]
  },
  {
   "cell_type": "markdown",
   "metadata": {},
   "source": [
    "和利用使用变量后，能够我们带来以下优势\n",
    "* 将负责的计算逻辑拆分成多段进行\n",
    "* 保存可以重复利用的中间变量， 避免重复计算\n",
    "* 合理命名的变量名，会让程序的意图变得更加清晰\n",
    "* 能够将可能发生改变的数值，和不会发生改变的计算逻辑事先分离。减少使用时，需要关注和理解的代码范围。"
   ]
  },
  {
   "cell_type": "markdown",
   "metadata": {},
   "source": [
    "## 练习"
   ]
  },
  {
   "cell_type": "markdown",
   "metadata": {},
   "source": [
    "根据一元二次方程求解公式, 计算$ax^2 + bx^2 + c = 0$的解（注意有两个哦）"
   ]
  },
  {
   "cell_type": "code",
   "execution_count": 54,
   "metadata": {},
   "outputs": [],
   "source": [
    "# 可以在这里调试代码，注意充分利用变量\n",
    "\n"
   ]
  }
 ],
 "metadata": {
  "kernelspec": {
   "display_name": "Python 3",
   "language": "python",
   "name": "python3"
  },
  "language_info": {
   "codemirror_mode": {
    "name": "ipython",
    "version": 3
   },
   "file_extension": ".py",
   "mimetype": "text/x-python",
   "name": "python",
   "nbconvert_exporter": "python",
   "pygments_lexer": "ipython3",
   "version": "3.7.7"
  },
  "toc": {
   "base_numbering": 1,
   "nav_menu": {},
   "number_sections": true,
   "sideBar": true,
   "skip_h1_title": false,
   "title_cell": "Table of Contents",
   "title_sidebar": "Contents",
   "toc_cell": false,
   "toc_position": {
    "height": "calc(100% - 180px)",
    "left": "10px",
    "top": "150px",
    "width": "228px"
   },
   "toc_section_display": "block",
   "toc_window_display": true
  }
 },
 "nbformat": 4,
 "nbformat_minor": 2
}
