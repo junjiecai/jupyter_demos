{
 "cells": [
  {
   "cell_type": "markdown",
   "metadata": {},
   "source": [
    "# pytest的基本文件结构\n",
    "\n",
    "\n",
    "pytest可以自动遍历文件夹中包含测试用例的.py文件， 并且运行其中的测试用例代码。如何才能被pytest自动识别到呢？只要让.py文件，以及其中测试用例代码用'test_'或者'_test'结尾即可。\n",
    "\n",
    "例如我们测试文件是这样的组织的\n",
    "\n",
    "```\n",
    "|demo\n",
    "    test_basic.py\n",
    "    test_resource.py    \n",
    "```\n",
    "打开的话可以找到很多'test_'开头的函数，这些都是可以被自动识别的。\n",
    "\n",
    "\n",
    "(在Jupyter Notebook中用'!'可以运行terminal命令，下面的命令等同于在这个notebook所在的文件夹打开一个terminal,运行```pytest demo```)"
   ]
  },
  {
   "cell_type": "code",
   "execution_count": 1,
   "metadata": {
    "collapsed": false
   },
   "outputs": [
    {
     "name": "stdout",
     "output_type": "stream",
     "text": [
      "\u001b[1m============================= test session starts ==============================\u001b[0m\n",
      "platform linux -- Python 3.5.2, pytest-3.0.6, py-1.4.32, pluggy-0.4.0\n",
      "rootdir: /home/junjiecai/Documents/jupyter-blog/content/articles/jupyter_labs/exolution/0001-pytest_tutorial, inifile: \n",
      "collected 4 items / 1 errors \u001b[0m\u001b[1m\n",
      "\u001b[0m\n",
      "==================================== ERRORS ====================================\n",
      "_____________________ ERROR collecting demo/test_basic.py ______________________\n",
      "\u001b[31mimport file mismatch:\n",
      "imported module 'test_basic' has this __file__ attribute:\n",
      "  /home/exolution/Documents/jupyter-blog/content/0010-pytest_tutorial/demo/test_basic.py\n",
      "which is not the same as the test file we want to collect:\n",
      "  /home/junjiecai/Documents/jupyter-blog/content/articles/jupyter_labs/exolution/0001-pytest_tutorial/demo/test_basic.py\n",
      "HINT: remove __pycache__ / .pyc files and/or use a unique basename for your test file modules\u001b[0m\n",
      "!!!!!!!!!!!!!!!!!!! Interrupted: 1 errors during collection !!!!!!!!!!!!!!!!!!!!\n",
      "\u001b[31m\u001b[1m=========================== 1 error in 0.13 seconds ============================\u001b[0m\n"
     ]
    }
   ],
   "source": [
    "! pytest demo"
   ]
  },
  {
   "cell_type": "markdown",
   "metadata": {},
   "source": [
    "上面的例子里， pytest找到了demo文件夹下2个包含测试用例的.py文件， 并且找到其中测试用例代码并且执行。(这里我们的测试用例都是能通过的)"
   ]
  },
  {
   "cell_type": "markdown",
   "metadata": {},
   "source": [
    "# 用例的基本写法"
   ]
  },
  {
   "cell_type": "markdown",
   "metadata": {},
   "source": [
    "测试用例的基本思路是， 运行待测函数，然后比较待测函数的行为(生成特定结果， 正确的raise Exception)是否和设计的一致。"
   ]
  },
  {
   "cell_type": "markdown",
   "metadata": {},
   "source": [
    "例如我们构想一个函数func, 需要满足两个特征。\n",
    "\n",
    "1. 接受参数字符串s和整数n, 返回将s扩增n次以后拼接在一起的结果\n",
    "2. 如果s的类型不是str, raise TypeError"
   ]
  },
  {
   "cell_type": "markdown",
   "metadata": {},
   "source": [
    "针对第一个要求， 我们可以构造一个具体的参数组合, 让待测函数执行， 然后比较返回的结果是否和我们设计的一致。"
   ]
  },
  {
   "cell_type": "code",
   "execution_count": 2,
   "metadata": {
    "collapsed": false
   },
   "outputs": [],
   "source": [
    "def test_value():\n",
    "    assert func('ab',3) == 'ababab'"
   ]
  },
  {
   "cell_type": "markdown",
   "metadata": {},
   "source": [
    "assert语句会判断之后的条件表达式是否成立， 如果成立， 什么都不发生； 如果不成立， 会raise Exception并被pytest捕捉。"
   ]
  },
  {
   "cell_type": "markdown",
   "metadata": {},
   "source": [
    "针对第二个需求， 无法直接利用assert语句判断， 但是可以利用pytest提供的context manager去表达\"这是会raise xx类型的Exception的错误\"的要求， 语法如下。"
   ]
  },
  {
   "cell_type": "code",
   "execution_count": 3,
   "metadata": {
    "collapsed": true
   },
   "outputs": [],
   "source": [
    "def test_error():\n",
    "    with pytest.raises(TypeError) as error_info:\n",
    "        func(1,3)"
   ]
  },
  {
   "cell_type": "markdown",
   "metadata": {},
   "source": [
    "我们一开始的代码是两个测试都能通过的， 大家可以修改一下代码后观察一下pytest的运行结果。"
   ]
  },
  {
   "cell_type": "markdown",
   "metadata": {},
   "source": [
    "# 创建和销毁资源"
   ]
  },
  {
   "cell_type": "markdown",
   "metadata": {},
   "source": [
    "有些场合下， 我们需要在测试用例执行前创建一些资源， 以及在测试用例执行后销毁一些资源。 比如在数据库中创建表， 导入数据， 测试一段sql逻辑， 然后销毁这张表。 这种场合可以利用pytest提供的@pytest.fixture和yield语法构造一个资源管理器"
   ]
  },
  {
   "cell_type": "code",
   "execution_count": 4,
   "metadata": {
    "collapsed": false
   },
   "outputs": [
    {
     "ename": "NameError",
     "evalue": "name 'pytest' is not defined",
     "output_type": "error",
     "traceback": [
      "\u001b[0;31m---------------------------------------------------------------------------\u001b[0m",
      "\u001b[0;31mNameError\u001b[0m                                 Traceback (most recent call last)",
      "\u001b[0;32m<ipython-input-4-8260efed2a58>\u001b[0m in \u001b[0;36m<module>\u001b[0;34m()\u001b[0m\n\u001b[0;32m----> 1\u001b[0;31m \u001b[0;34m@\u001b[0m\u001b[0mpytest\u001b[0m\u001b[0;34m.\u001b[0m\u001b[0mfixture\u001b[0m \u001b[0;31m# pytest提供的装饰器\u001b[0m\u001b[0;34m\u001b[0m\u001b[0m\n\u001b[0m\u001b[1;32m      2\u001b[0m \u001b[0;32mdef\u001b[0m \u001b[0mfunction_level_resource\u001b[0m\u001b[0;34m(\u001b[0m\u001b[0;34m)\u001b[0m\u001b[0;34m:\u001b[0m\u001b[0;34m\u001b[0m\u001b[0m\n\u001b[1;32m      3\u001b[0m     \u001b[0;31m# 创建资源的代码\u001b[0m\u001b[0;34m\u001b[0m\u001b[0;34m\u001b[0m\u001b[0m\n\u001b[1;32m      4\u001b[0m     \u001b[0mprint\u001b[0m\u001b[0;34m(\u001b[0m\u001b[0;34m'---------------------'\u001b[0m\u001b[0;34m)\u001b[0m\u001b[0;34m\u001b[0m\u001b[0m\n\u001b[1;32m      5\u001b[0m     \u001b[0mprint\u001b[0m\u001b[0;34m(\u001b[0m\u001b[0;34m'setup function level resource'\u001b[0m\u001b[0;34m)\u001b[0m\u001b[0;34m\u001b[0m\u001b[0m\n",
      "\u001b[0;31mNameError\u001b[0m: name 'pytest' is not defined"
     ]
    }
   ],
   "source": [
    "@pytest.fixture # pytest提供的装饰器\n",
    "def function_level_resource():\n",
    "    # 创建资源的代码\n",
    "    print('---------------------')\n",
    "    print('setup function level resource')\n",
    "    \n",
    "    # 如果有必要, 返回生成的资源(例如和特定数据库的连接conn); 如果不需要(例如只是在数据库中建张表), 写一个空的yield语句即可\n",
    "    yield 'some resource' # replace into real resource, such as connection\n",
    "\n",
    "    # 销毁资源的代码\n",
    "    print('teardown function level resource')\n",
    "    print('---------------------')"
   ]
  },
  {
   "cell_type": "markdown",
   "metadata": {},
   "source": [
    "如果不理解python的decorator和yield语法的话， 对上面这段代码可能会比较迷茫。 如果没有时间去详细理解decorator和yield， 这里只要知道\n",
    "1. 虽然这段代码用的是函数定义的语法， 但是得到的结果并不是一个函数, 而是一个object， 所以别用函数的观点去理解这段代码\n",
    "2. 记住生成资源， 返回资源， 销毁资源的代码写哪即可。"
   ]
  },
  {
   "cell_type": "markdown",
   "metadata": {},
   "source": [
    "如果要在测试用例代码中使用相关的资源， 把这个\"函数\"名传入测试用例的代码即可"
   ]
  },
  {
   "cell_type": "code",
   "execution_count": null,
   "metadata": {
    "collapsed": true
   },
   "outputs": [],
   "source": [
    "def test_1(function_level_resource):\n",
    "    print('running test case ',1)\n",
    "    print('Get '+function_level_resource) #yield返回的结果在测试用例代码中可以用函数的名字访问\n",
    "\n",
    "    assert True"
   ]
  },
  {
   "cell_type": "markdown",
   "metadata": {},
   "source": [
    "这样在运行这个测试用例前， 就会执行function_level_resource定义的资源创建代码， 将yield返回的资源通过function_level_resource这个变量暴露给测试用例代码。并且在测试用例完成后，执行销毁资源的代码。\n",
    "\n",
    "如果需要让整个.py文件共享一个资源， 在所有该文件的test case执行前统一创建一次资源， 等所有该文件的test case完成后统一销毁资源。 可以定义一个module level的资源管理器， 像这样。"
   ]
  },
  {
   "cell_type": "code",
   "execution_count": null,
   "metadata": {
    "collapsed": false
   },
   "outputs": [],
   "source": [
    "@pytest.fixture(scope=\"module\")\n",
    "def moudule_level_resource():\n",
    "    # setup resource and return by yield\n",
    "    print('==========================')\n",
    "    print('setup module level resource')\n",
    "    \n",
    "    yield 'some module level resource' # replace into real resource, such as connection\n",
    "\n",
    "    # teardown resource\n",
    "    print('teardown module level resource')\n",
    "    print('==========================')"
   ]
  },
  {
   "cell_type": "markdown",
   "metadata": {},
   "source": [
    "在test_resource.py中， 每个测试用例同时使用了module level的资源和function level的资源。\n",
    "\n",
    "\n",
    "下面验证一下结果， 可以看到module_level资源只是在测试test_resource.py时被创建和销毁一次， function_level的资源在每个待测函数的起始和终止都被创建和销毁一次。\n",
    "\n",
    "(注意pytest默认不会输出print的结果， 如果需要显示， 要添加-s的参数)"
   ]
  },
  {
   "cell_type": "code",
   "execution_count": null,
   "metadata": {
    "collapsed": false
   },
   "outputs": [],
   "source": [
    "! pytest demo -s"
   ]
  }
 ],
 "metadata": {
  "kernelspec": {
   "display_name": "Python 3",
   "language": "python",
   "name": "python3"
  },
  "language_info": {
   "codemirror_mode": {
    "name": "ipython",
    "version": 3
   },
   "file_extension": ".py",
   "mimetype": "text/x-python",
   "name": "python",
   "nbconvert_exporter": "python",
   "pygments_lexer": "ipython3",
   "version": "3.5.2"
  }
 },
 "nbformat": 4,
 "nbformat_minor": 0
}
