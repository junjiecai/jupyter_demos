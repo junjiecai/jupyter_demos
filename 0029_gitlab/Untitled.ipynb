{
 "cells": [
  {
   "cell_type": "code",
   "execution_count": 1,
   "metadata": {},
   "outputs": [],
   "source": [
    "import gitlab\n",
    "\n",
    "gl = gitlab.Gitlab('http://git.sy', email='cai.junjie@synyi.com', password='Rockmanx!4')"
   ]
  },
  {
   "cell_type": "code",
   "execution_count": 9,
   "metadata": {},
   "outputs": [
    {
     "data": {
      "text/plain": [
       "<Group id:4>"
      ]
     },
     "execution_count": 9,
     "metadata": {},
     "output_type": "execute_result"
    }
   ],
   "source": [
    "gl.groups.get(4)"
   ]
  },
  {
   "cell_type": "code",
   "execution_count": 10,
   "metadata": {},
   "outputs": [
    {
     "name": "stdout",
     "output_type": "stream",
     "text": [
      "<class 'gitlab.v4.objects.Project'> => {'id': 932, 'description': '', 'name': 'auto', 'name_with_namespace': '徐文祥 / auto', 'path': 'auto', 'path_with_namespace': 'warrori/auto', 'created_at': '2019-06-22T15:14:00.784+05:30', 'default_branch': 'master', 'tag_list': [], 'ssh_url_to_repo': 'git@git.sy:warrori/auto.git', 'http_url_to_repo': 'http://git.sy/warrori/auto.git', 'web_url': 'http://git.sy/warrori/auto', 'readme_url': 'http://git.sy/warrori/auto/blob/master/README.md', 'avatar_url': None, 'star_count': 0, 'forks_count': 0, 'last_activity_at': '2019-06-25T16:48:26.926+05:30', 'namespace': {'id': 361, 'name': 'warrori', 'path': 'warrori', 'kind': 'user', 'full_path': 'warrori', 'parent_id': None}}\n",
      "<class 'gitlab.v4.objects.Project'> => {'id': 855, 'description': 'UI component based on ng-zorro-antd before ng-zorro-antd releasing specific features', 'name': 'ng-zorro-antd', 'name_with_namespace': 'pecker / ng-zorro-antd', 'path': 'ng-zorro-antd', 'path_with_namespace': 'pecker/ng-zorro-antd', 'created_at': '2019-05-13T07:23:30.477+05:30', 'default_branch': 'master', 'tag_list': [], 'ssh_url_to_repo': 'git@git.sy:pecker/ng-zorro-antd.git', 'http_url_to_repo': 'http://git.sy/pecker/ng-zorro-antd.git', 'web_url': 'http://git.sy/pecker/ng-zorro-antd', 'readme_url': 'http://git.sy/pecker/ng-zorro-antd/blob/master/README.md', 'avatar_url': None, 'star_count': 0, 'forks_count': 0, 'last_activity_at': '2019-05-13T07:23:30.477+05:30', 'namespace': {'id': 234, 'name': 'pecker', 'path': 'pecker', 'kind': 'group', 'full_path': 'pecker', 'parent_id': None}}\n",
      "<class 'gitlab.v4.objects.Project'> => {'id': 727, 'description': '森亿 API 异常处理通用库', 'name': 'Synyi.Api.Exceptions', 'name_with_namespace': 'infrastructure-public / Synyi.Api.Exceptions', 'path': 'synyi.api.exceptions', 'path_with_namespace': 'infrastructure-public/synyi.api.exceptions', 'created_at': '2019-03-27T14:35:54.154+05:30', 'default_branch': 'master', 'tag_list': [], 'ssh_url_to_repo': 'git@git.sy:infrastructure-public/synyi.api.exceptions.git', 'http_url_to_repo': 'http://git.sy/infrastructure-public/synyi.api.exceptions.git', 'web_url': 'http://git.sy/infrastructure-public/synyi.api.exceptions', 'readme_url': 'http://git.sy/infrastructure-public/synyi.api.exceptions/blob/master/README.md', 'avatar_url': None, 'star_count': 0, 'forks_count': 0, 'last_activity_at': '2019-04-29T11:57:53.492+05:30', 'namespace': {'id': 339, 'name': 'infrastructure-public', 'path': 'infrastructure-public', 'kind': 'group', 'full_path': 'infrastructure-public', 'parent_id': None}}\n",
      "<class 'gitlab.v4.objects.Project'> => {'id': 715, 'description': 'private fork for vcpkg', 'name': 'vcpkg', 'name_with_namespace': 'public_repos / vcpkg', 'path': 'vcpkg', 'path_with_namespace': 'public_repos/vcpkg', 'created_at': '2019-03-24T10:56:56.078+05:30', 'default_branch': 'master', 'tag_list': [], 'ssh_url_to_repo': 'git@git.sy:public_repos/vcpkg.git', 'http_url_to_repo': 'http://git.sy/public_repos/vcpkg.git', 'web_url': 'http://git.sy/public_repos/vcpkg', 'readme_url': 'http://git.sy/public_repos/vcpkg/blob/master/README.md', 'avatar_url': None, 'star_count': 0, 'forks_count': 0, 'last_activity_at': '2019-03-24T10:56:56.078+05:30', 'namespace': {'id': 4, 'name': 'public_repos', 'path': 'public_repos', 'kind': 'group', 'full_path': 'public_repos', 'parent_id': None}}\n",
      "<class 'gitlab.v4.objects.Project'> => {'id': 689, 'description': '', 'name': 'rabitmq', 'name_with_namespace': '周凯杰 / rabitmq', 'path': 'rabitmq', 'path_with_namespace': 'zhoukaijie/rabitmq', 'created_at': '2019-03-18T11:25:19.130+05:30', 'default_branch': 'master', 'tag_list': [], 'ssh_url_to_repo': 'git@git.sy:zhoukaijie/rabitmq.git', 'http_url_to_repo': 'http://git.sy/zhoukaijie/rabitmq.git', 'web_url': 'http://git.sy/zhoukaijie/rabitmq', 'readme_url': 'http://git.sy/zhoukaijie/rabitmq/blob/master/README.md', 'avatar_url': None, 'star_count': 0, 'forks_count': 0, 'last_activity_at': '2019-04-15T11:26:35.604+05:30', 'namespace': {'id': 169, 'name': 'zhoukaijie', 'path': 'zhoukaijie', 'kind': 'user', 'full_path': 'zhoukaijie', 'parent_id': None}}\n",
      "<class 'gitlab.v4.objects.Project'> => {'id': 684, 'description': '', 'name': 'mapconcept_go', 'name_with_namespace': 'luyi666 / mapconcept_go', 'path': 'mapconcept_go', 'path_with_namespace': 'luyi666/mapconcept_go', 'created_at': '2019-03-16T10:38:07.710+05:30', 'default_branch': 'master', 'tag_list': [], 'ssh_url_to_repo': 'git@git.sy:luyi666/mapconcept_go.git', 'http_url_to_repo': 'http://git.sy/luyi666/mapconcept_go.git', 'web_url': 'http://git.sy/luyi666/mapconcept_go', 'readme_url': None, 'avatar_url': None, 'star_count': 0, 'forks_count': 0, 'last_activity_at': '2019-03-16T10:38:07.710+05:30', 'namespace': {'id': 88, 'name': 'luyi666', 'path': 'luyi666', 'kind': 'user', 'full_path': 'luyi666', 'parent_id': None}}\n",
      "<class 'gitlab.v4.objects.Project'> => {'id': 683, 'description': '', 'name': 'pipeline', 'name_with_namespace': 'panchengtao / pipeline', 'path': 'pipeline', 'path_with_namespace': 'panchengtao/pipeline', 'created_at': '2019-03-16T08:33:13.106+05:30', 'default_branch': 'master', 'tag_list': [], 'ssh_url_to_repo': 'git@git.sy:panchengtao/pipeline.git', 'http_url_to_repo': 'http://git.sy/panchengtao/pipeline.git', 'web_url': 'http://git.sy/panchengtao/pipeline', 'readme_url': None, 'avatar_url': None, 'star_count': 0, 'forks_count': 0, 'last_activity_at': '2019-03-19T16:07:37.166+05:30', 'namespace': {'id': 75, 'name': 'panchengtao', 'path': 'panchengtao', 'kind': 'user', 'full_path': 'panchengtao', 'parent_id': None}}\n",
      "<class 'gitlab.v4.objects.Project'> => {'id': 667, 'description': '', 'name': 'dev-guideline', 'name_with_namespace': 'pecker / dev-guideline', 'path': 'dev-guideline', 'path_with_namespace': 'pecker/dev-guideline', 'created_at': '2019-03-04T12:27:30.849+05:30', 'default_branch': 'master', 'tag_list': [], 'ssh_url_to_repo': 'git@git.sy:pecker/dev-guideline.git', 'http_url_to_repo': 'http://git.sy/pecker/dev-guideline.git', 'web_url': 'http://git.sy/pecker/dev-guideline', 'readme_url': 'http://git.sy/pecker/dev-guideline/blob/master/README.md', 'avatar_url': None, 'star_count': 0, 'forks_count': 0, 'last_activity_at': '2019-03-04T12:27:30.849+05:30', 'namespace': {'id': 234, 'name': 'pecker', 'path': 'pecker', 'kind': 'group', 'full_path': 'pecker', 'parent_id': None}}\n",
      "<class 'gitlab.v4.objects.Project'> => {'id': 665, 'description': None, 'name': 'processors', 'name_with_namespace': 'panchengtao / processors', 'path': 'processors', 'path_with_namespace': 'panchengtao/processors', 'created_at': '2019-03-04T11:14:27.190+05:30', 'default_branch': 'master', 'tag_list': [], 'ssh_url_to_repo': 'git@git.sy:panchengtao/processors.git', 'http_url_to_repo': 'http://git.sy/panchengtao/processors.git', 'web_url': 'http://git.sy/panchengtao/processors', 'readme_url': None, 'avatar_url': None, 'star_count': 0, 'forks_count': 0, 'last_activity_at': '2019-03-04T11:14:27.190+05:30', 'namespace': {'id': 75, 'name': 'panchengtao', 'path': 'panchengtao', 'kind': 'user', 'full_path': 'panchengtao', 'parent_id': None}}\n",
      "<class 'gitlab.v4.objects.Project'> => {'id': 623, 'description': '', 'name': 'heroku-buildpack-java', 'name_with_namespace': 'public_repos / heroku-buildpack-java', 'path': 'heroku-buildpack-java', 'path_with_namespace': 'public_repos/heroku-buildpack-java', 'created_at': '2019-02-19T16:41:38.926+05:30', 'default_branch': 'master', 'tag_list': [], 'ssh_url_to_repo': 'git@git.sy:public_repos/heroku-buildpack-java.git', 'http_url_to_repo': 'http://git.sy/public_repos/heroku-buildpack-java.git', 'web_url': 'http://git.sy/public_repos/heroku-buildpack-java', 'readme_url': 'http://git.sy/public_repos/heroku-buildpack-java/blob/master/README.md', 'avatar_url': None, 'star_count': 0, 'forks_count': 0, 'last_activity_at': '2019-02-19T16:41:38.926+05:30', 'namespace': {'id': 4, 'name': 'public_repos', 'path': 'public_repos', 'kind': 'group', 'full_path': 'public_repos', 'parent_id': None}}\n",
      "<class 'gitlab.v4.objects.Project'> => {'id': 600, 'description': '这是一个用springboot2开发的，基于数据库（postgresql）的quartz定时任务', 'name': 'SpringBoot-Quartz-postgrsql', 'name_with_namespace': '周凯杰 / SpringBoot-Quartz-postgrsql', 'path': 'springboot-quartz-postgrsql', 'path_with_namespace': 'zhoukaijie/springboot-quartz-postgrsql', 'created_at': '2019-02-12T08:43:45.732+05:30', 'default_branch': 'master', 'tag_list': [], 'ssh_url_to_repo': 'git@git.sy:zhoukaijie/springboot-quartz-postgrsql.git', 'http_url_to_repo': 'http://git.sy/zhoukaijie/springboot-quartz-postgrsql.git', 'web_url': 'http://git.sy/zhoukaijie/springboot-quartz-postgrsql', 'readme_url': 'http://git.sy/zhoukaijie/springboot-quartz-postgrsql/blob/master/README.MD', 'avatar_url': None, 'star_count': 0, 'forks_count': 0, 'last_activity_at': '2019-02-12T08:43:45.732+05:30', 'namespace': {'id': 169, 'name': 'zhoukaijie', 'path': 'zhoukaijie', 'kind': 'user', 'full_path': 'zhoukaijie', 'parent_id': None}}\n",
      "<class 'gitlab.v4.objects.Project'> => {'id': 596, 'description': 'xulei_3', 'name': 'xulei_3', 'name_with_namespace': '徐磊 / xulei_3', 'path': 'xulei_3', 'path_with_namespace': 'xu.lei/xulei_3', 'created_at': '2019-02-11T08:04:08.816+05:30', 'default_branch': 'master', 'tag_list': [], 'ssh_url_to_repo': 'git@git.sy:xu.lei/xulei_3.git', 'http_url_to_repo': 'http://git.sy/xu.lei/xulei_3.git', 'web_url': 'http://git.sy/xu.lei/xulei_3', 'readme_url': None, 'avatar_url': None, 'star_count': 0, 'forks_count': 0, 'last_activity_at': '2019-03-07T10:48:42.742+05:30', 'namespace': {'id': 265, 'name': 'xu.lei', 'path': 'xu.lei', 'kind': 'user', 'full_path': 'xu.lei', 'parent_id': None}}\n",
      "<class 'gitlab.v4.objects.Project'> => {'id': 558, 'description': '', 'name': 'synyi.trigger', 'name_with_namespace': '朱坚 / synyi.trigger', 'path': 'synyi.trigger', 'path_with_namespace': 'zhu.jian/synyi.trigger', 'created_at': '2019-01-18T16:06:51.043+05:30', 'default_branch': 'master', 'tag_list': [], 'ssh_url_to_repo': 'git@git.sy:zhu.jian/synyi.trigger.git', 'http_url_to_repo': 'http://git.sy/zhu.jian/synyi.trigger.git', 'web_url': 'http://git.sy/zhu.jian/synyi.trigger', 'readme_url': 'http://git.sy/zhu.jian/synyi.trigger/blob/master/README.md', 'avatar_url': None, 'star_count': 0, 'forks_count': 0, 'last_activity_at': '2019-01-18T16:06:51.043+05:30', 'namespace': {'id': 57, 'name': 'zhu.jian', 'path': 'zhu.jian', 'kind': 'user', 'full_path': 'zhu.jian', 'parent_id': None}}\n",
      "<class 'gitlab.v4.objects.Project'> => {'id': 512, 'description': '公开课程代码仓库', 'name': 'OpenClass', 'name_with_namespace': '吴佩江 / OpenClass', 'path': 'openclass', 'path_with_namespace': 'wupeijiang/openclass', 'created_at': '2019-01-04T12:46:51.315+05:30', 'default_branch': 'master', 'tag_list': [], 'ssh_url_to_repo': 'git@git.sy:wupeijiang/openclass.git', 'http_url_to_repo': 'http://git.sy/wupeijiang/openclass.git', 'web_url': 'http://git.sy/wupeijiang/openclass', 'readme_url': None, 'avatar_url': None, 'star_count': 0, 'forks_count': 0, 'last_activity_at': '2019-01-04T12:46:51.315+05:30', 'namespace': {'id': 147, 'name': 'wupeijiang', 'path': 'wupeijiang', 'kind': 'user', 'full_path': 'wupeijiang', 'parent_id': None}}\n",
      "<class 'gitlab.v4.objects.Project'> => {'id': 371, 'description': '', 'name': 'documentaion', 'name_with_namespace': 'maching_learning_public / documentaion', 'path': 'documentaion', 'path_with_namespace': 'maching_learning_public/documentaion', 'created_at': '2018-11-13T14:46:32.547+05:30', 'default_branch': 'master', 'tag_list': [], 'ssh_url_to_repo': 'git@git.sy:maching_learning_public/documentaion.git', 'http_url_to_repo': 'http://git.sy/maching_learning_public/documentaion.git', 'web_url': 'http://git.sy/maching_learning_public/documentaion', 'readme_url': None, 'avatar_url': None, 'star_count': 0, 'forks_count': 0, 'last_activity_at': '2018-11-13T14:46:32.547+05:30', 'namespace': {'id': 204, 'name': 'maching_learning_public', 'path': 'maching_learning_public', 'kind': 'group', 'full_path': 'maching_learning_public', 'parent_id': None}}\n",
      "<class 'gitlab.v4.objects.Project'> => {'id': 325, 'description': '', 'name': 'data-manage', 'name_with_namespace': '周凯杰 / data-manage', 'path': 'data-manage', 'path_with_namespace': 'zhoukaijie/data-manage', 'created_at': '2018-10-28T14:58:22.159+05:30', 'default_branch': 'master', 'tag_list': [], 'ssh_url_to_repo': 'git@git.sy:zhoukaijie/data-manage.git', 'http_url_to_repo': 'http://git.sy/zhoukaijie/data-manage.git', 'web_url': 'http://git.sy/zhoukaijie/data-manage', 'readme_url': 'http://git.sy/zhoukaijie/data-manage/blob/master/README.md', 'avatar_url': None, 'star_count': 1, 'forks_count': 0, 'last_activity_at': '2018-10-29T07:05:46.544+05:30', 'namespace': {'id': 169, 'name': 'zhoukaijie', 'path': 'zhoukaijie', 'kind': 'user', 'full_path': 'zhoukaijie', 'parent_id': None}}\n",
      "<class 'gitlab.v4.objects.Project'> => {'id': 323, 'description': '', 'name': 'Synyi.SpecializedTools.Web', 'name_with_namespace': '熊霄宇 / Synyi.SpecializedTools.Web', 'path': 'Synyi.SpecializedTools.Web', 'path_with_namespace': 'xiong.xiaoyu/Synyi.SpecializedTools.Web', 'created_at': '2018-10-26T14:13:47.964+05:30', 'default_branch': 'master', 'tag_list': [], 'ssh_url_to_repo': 'git@git.sy:xiong.xiaoyu/Synyi.SpecializedTools.Web.git', 'http_url_to_repo': 'http://git.sy/xiong.xiaoyu/Synyi.SpecializedTools.Web.git', 'web_url': 'http://git.sy/xiong.xiaoyu/Synyi.SpecializedTools.Web', 'readme_url': None, 'avatar_url': None, 'star_count': 0, 'forks_count': 0, 'last_activity_at': '2018-11-08T10:51:51.756+05:30', 'namespace': {'id': 61, 'name': 'xiong.xiaoyu', 'path': 'xiong.xiaoyu', 'kind': 'user', 'full_path': 'xiong.xiaoyu', 'parent_id': None}}\n",
      "<class 'gitlab.v4.objects.Project'> => {'id': 322, 'description': '', 'name': 'PostgreSQLCopyHelper', 'name_with_namespace': '熊霄宇 / PostgreSQLCopyHelper', 'path': 'PostgreSQLCopyHelper', 'path_with_namespace': 'xiong.xiaoyu/PostgreSQLCopyHelper', 'created_at': '2018-10-26T12:01:48.126+05:30', 'default_branch': 'master', 'tag_list': [], 'ssh_url_to_repo': 'git@git.sy:xiong.xiaoyu/PostgreSQLCopyHelper.git', 'http_url_to_repo': 'http://git.sy/xiong.xiaoyu/PostgreSQLCopyHelper.git', 'web_url': 'http://git.sy/xiong.xiaoyu/PostgreSQLCopyHelper', 'readme_url': 'http://git.sy/xiong.xiaoyu/PostgreSQLCopyHelper/blob/master/README.md', 'avatar_url': None, 'star_count': 0, 'forks_count': 0, 'last_activity_at': '2018-12-13T13:20:13.389+05:30', 'namespace': {'id': 61, 'name': 'xiong.xiaoyu', 'path': 'xiong.xiaoyu', 'kind': 'user', 'full_path': 'xiong.xiaoyu', 'parent_id': None}}\n",
      "<class 'gitlab.v4.objects.Project'> => {'id': 317, 'description': '', 'name': 'JPA-samples', 'name_with_namespace': '周凯杰 / JPA-samples', 'path': 'JPA-samples', 'path_with_namespace': 'zhoukaijie/JPA-samples', 'created_at': '2018-10-25T07:45:31.026+05:30', 'default_branch': 'master', 'tag_list': [], 'ssh_url_to_repo': 'git@git.sy:zhoukaijie/JPA-samples.git', 'http_url_to_repo': 'http://git.sy/zhoukaijie/JPA-samples.git', 'web_url': 'http://git.sy/zhoukaijie/JPA-samples', 'readme_url': 'http://git.sy/zhoukaijie/JPA-samples/blob/master/README.md', 'avatar_url': None, 'star_count': 2, 'forks_count': 0, 'last_activity_at': '2018-11-15T11:17:44.461+05:30', 'namespace': {'id': 169, 'name': 'zhoukaijie', 'path': 'zhoukaijie', 'kind': 'user', 'full_path': 'zhoukaijie', 'parent_id': None}}\n",
      "<class 'gitlab.v4.objects.Project'> => {'id': 299, 'description': 'Golang 嵌入式调用 Python3.6 代码', 'name': 'gopython', 'name_with_namespace': 'panchengtao / gopython', 'path': 'gopython', 'path_with_namespace': 'panchengtao/gopython', 'created_at': '2018-10-15T13:34:33.994+05:30', 'default_branch': 'master', 'tag_list': [], 'ssh_url_to_repo': 'git@git.sy:panchengtao/gopython.git', 'http_url_to_repo': 'http://git.sy/panchengtao/gopython.git', 'web_url': 'http://git.sy/panchengtao/gopython', 'readme_url': None, 'avatar_url': None, 'star_count': 0, 'forks_count': 0, 'last_activity_at': '2018-10-19T11:05:56.909+05:30', 'namespace': {'id': 75, 'name': 'panchengtao', 'path': 'panchengtao', 'kind': 'user', 'full_path': 'panchengtao', 'parent_id': None}}\n"
     ]
    }
   ],
   "source": [
    "# list all the projects\n",
    "projects = gl.projects.list()\n",
    "for project in projects:\n",
    "    print(project)\n"
   ]
  },
  {
   "cell_type": "code",
   "execution_count": 5,
   "metadata": {},
   "outputs": [
    {
     "ename": "NameError",
     "evalue": "name 'groups' is not defined",
     "output_type": "error",
     "traceback": [
      "\u001b[0;31m---------------------------------------------------------------------------\u001b[0m",
      "\u001b[0;31mNameError\u001b[0m                                 Traceback (most recent call last)",
      "\u001b[0;32m<ipython-input-5-61c6f5650aae>\u001b[0m in \u001b[0;36m<module>\u001b[0;34m\u001b[0m\n\u001b[1;32m      1\u001b[0m \u001b[0;31m# get the group with id == 2\u001b[0m\u001b[0;34m\u001b[0m\u001b[0;34m\u001b[0m\u001b[0;34m\u001b[0m\u001b[0m\n\u001b[0;32m----> 2\u001b[0;31m \u001b[0;32mfor\u001b[0m \u001b[0mgroup\u001b[0m \u001b[0;32min\u001b[0m \u001b[0mgroups\u001b[0m\u001b[0;34m:\u001b[0m\u001b[0;34m\u001b[0m\u001b[0;34m\u001b[0m\u001b[0m\n\u001b[0m\u001b[1;32m      3\u001b[0m     \u001b[0mprint\u001b[0m\u001b[0;34m(\u001b[0m\u001b[0;34m)\u001b[0m\u001b[0;34m\u001b[0m\u001b[0;34m\u001b[0m\u001b[0m\n",
      "\u001b[0;31mNameError\u001b[0m: name 'groups' is not defined"
     ]
    }
   ],
   "source": [
    "# get the group with id == 2\n",
    "for group in groups:\n",
    "    print()"
   ]
  },
  {
   "cell_type": "code",
   "execution_count": null,
   "metadata": {},
   "outputs": [],
   "source": []
  }
 ],
 "metadata": {
  "kernelspec": {
   "display_name": "Python 3",
   "language": "python",
   "name": "python3"
  },
  "language_info": {
   "codemirror_mode": {
    "name": "ipython",
    "version": 3
   },
   "file_extension": ".py",
   "mimetype": "text/x-python",
   "name": "python",
   "nbconvert_exporter": "python",
   "pygments_lexer": "ipython3",
   "version": "3.7.1"
  },
  "toc": {
   "base_numbering": 1,
   "nav_menu": {},
   "number_sections": true,
   "sideBar": true,
   "skip_h1_title": false,
   "title_cell": "Table of Contents",
   "title_sidebar": "Contents",
   "toc_cell": false,
   "toc_position": {},
   "toc_section_display": true,
   "toc_window_display": false
  }
 },
 "nbformat": 4,
 "nbformat_minor": 2
}
