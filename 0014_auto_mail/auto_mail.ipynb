{
 "cells": [
  {
   "cell_type": "code",
   "execution_count": 3,
   "metadata": {
    "collapsed": true
   },
   "outputs": [],
   "source": [
    "import sys\n",
    "sys.path.append('/home/katherine/Documents/Work/jfdata')"
   ]
  },
  {
   "cell_type": "code",
   "execution_count": 4,
   "metadata": {
    "ExecuteTime": {
     "end_time": "2017-04-12T09:20:19.278070Z",
     "start_time": "2017-04-12T17:20:19.252215+08:00"
    }
   },
   "outputs": [
    {
     "ename": "ImportError",
     "evalue": "No module named 'jfdata'",
     "output_type": "error",
     "traceback": [
      "\u001b[0;31m---------------------------------------------------------------------------\u001b[0m",
      "\u001b[0;31mImportError\u001b[0m                               Traceback (most recent call last)",
      "\u001b[0;32m<ipython-input-4-4437fc140d52>\u001b[0m in \u001b[0;36m<module>\u001b[0;34m()\u001b[0m\n\u001b[1;32m      7\u001b[0m \u001b[0;32mfrom\u001b[0m \u001b[0mpandas\u001b[0m \u001b[0;32mimport\u001b[0m \u001b[0mSeries\u001b[0m\u001b[0;34m\u001b[0m\u001b[0m\n\u001b[1;32m      8\u001b[0m \u001b[0;34m\u001b[0m\u001b[0m\n\u001b[0;32m----> 9\u001b[0;31m \u001b[0;32mfrom\u001b[0m \u001b[0mjfdata\u001b[0m\u001b[0;34m.\u001b[0m\u001b[0mutilities\u001b[0m\u001b[0;34m.\u001b[0m\u001b[0mdata_aquisition\u001b[0m \u001b[0;32mimport\u001b[0m  \u001b[0mload_dataframe\u001b[0m\u001b[0;34m\u001b[0m\u001b[0m\n\u001b[0m\u001b[1;32m     10\u001b[0m \u001b[0;32mfrom\u001b[0m \u001b[0mjfdata\u001b[0m\u001b[0;34m.\u001b[0m\u001b[0mutilities\u001b[0m\u001b[0;34m.\u001b[0m\u001b[0mdata_analysis\u001b[0m \u001b[0;32mimport\u001b[0m \u001b[0mfill_df_null\u001b[0m\u001b[0;34m,\u001b[0m\u001b[0mcategorize_df\u001b[0m\u001b[0;34m,\u001b[0m\u001b[0mget_categorical_distribution_by_group\u001b[0m\u001b[0;34m,\u001b[0m\u001b[0m_get_first_not_null\u001b[0m\u001b[0;34m\u001b[0m\u001b[0m\n\u001b[1;32m     11\u001b[0m \u001b[0;32mfrom\u001b[0m \u001b[0mjfdata\u001b[0m\u001b[0;34m.\u001b[0m\u001b[0mutilities\u001b[0m\u001b[0;34m.\u001b[0m\u001b[0mvisualization\u001b[0m \u001b[0;32mimport\u001b[0m \u001b[0mcompare_distribution\u001b[0m\u001b[0;34m\u001b[0m\u001b[0m\n",
      "\u001b[0;31mImportError\u001b[0m: No module named 'jfdata'"
     ]
    }
   ],
   "source": [
    "from IPython.display import HTML, display\n",
    "\n",
    "import warnings\n",
    "warnings.filterwarnings('ignore')\n",
    "\n",
    "import pandas as pd\n",
    "from pandas import Series\n",
    "\n",
    "from jfdata.utilities.data_aquisition import  load_dataframe\n",
    "from jfdata.utilities.data_analysis import fill_df_null,categorize_df,get_categorical_distribution_by_group,_get_first_not_null\n",
    "from jfdata.utilities.visualization import compare_distribution\n",
    "from jfdata.utilities.helper import split_dict_keys\n",
    "\n",
    "import seaborn as sns\n",
    "sns.set(style=\"whitegrid\")\n",
    "from matplotlib.pyplot import plot, figure, rc\n",
    "import matplotlib.pyplot as plt\n",
    "plt.rcParams['font.family'] = \"Droid Sans Fallback\"\n",
    "plt.rcParams['xtick.labelsize'] = 16\n",
    "plt.rcParams['ytick.labelsize'] = 16\n",
    "plt.rcParams['axes.titlesize'] = 16\n",
    "plt.rcParams['figure.titlesize'] = 20"
   ]
  },
  {
   "cell_type": "code",
   "execution_count": 4,
   "metadata": {
    "ExecuteTime": {
     "end_time": "2017-04-12T09:20:22.264499Z",
     "start_time": "2017-04-12T17:20:22.254544+08:00"
    },
    "collapsed": true
   },
   "outputs": [],
   "source": [
    "df = pd.DataFrame({'A':[1,2,3]})\n",
    "df.A = df.A.astype('category')"
   ]
  },
  {
   "cell_type": "code",
   "execution_count": 5,
   "metadata": {
    "ExecuteTime": {
     "end_time": "2017-04-12T09:20:23.251651Z",
     "start_time": "2017-04-12T17:20:23.059133+08:00"
    }
   },
   "outputs": [
    {
     "ename": "TypeError",
     "evalue": "'CategoricalDtype' object is not callable",
     "output_type": "error",
     "traceback": [
      "\u001b[0;31m---------------------------------------------------------------------------\u001b[0m",
      "\u001b[0;31mTypeError\u001b[0m                                 Traceback (most recent call last)",
      "\u001b[0;32m<ipython-input-5-072e1daf138e>\u001b[0m in \u001b[0;36m<module>\u001b[0;34m()\u001b[0m\n\u001b[1;32m      1\u001b[0m \u001b[0;32mfrom\u001b[0m \u001b[0mjfdata\u001b[0m\u001b[0;34m.\u001b[0m\u001b[0mutilities\u001b[0m\u001b[0;34m.\u001b[0m\u001b[0mdata_analysis\u001b[0m \u001b[0;32mimport\u001b[0m \u001b[0m_get_df_dtypes\u001b[0m\u001b[0;34m\u001b[0m\u001b[0m\n\u001b[0;32m----> 2\u001b[0;31m \u001b[0mtest\u001b[0m \u001b[0;34m=\u001b[0m \u001b[0m_get_df_dtypes\u001b[0m\u001b[0;34m(\u001b[0m\u001b[0mdf\u001b[0m\u001b[0;34m)\u001b[0m\u001b[0;34m\u001b[0m\u001b[0m\n\u001b[0m",
      "\u001b[0;32m/home/finance-datascience/CJJ/jfdata/utilities/data_analysis.py\u001b[0m in \u001b[0;36m_get_df_dtypes\u001b[0;34m(df)\u001b[0m\n\u001b[1;32m    606\u001b[0m             \u001b[0mordered\u001b[0m \u001b[0;34m=\u001b[0m \u001b[0ms\u001b[0m\u001b[0;34m.\u001b[0m\u001b[0mcat\u001b[0m\u001b[0;34m.\u001b[0m\u001b[0mordered\u001b[0m\u001b[0;34m\u001b[0m\u001b[0m\n\u001b[1;32m    607\u001b[0m             \u001b[0mtype_str\u001b[0m \u001b[0;34m=\u001b[0m \u001b[0mmapping\u001b[0m\u001b[0;34m[\u001b[0m\u001b[0ms\u001b[0m\u001b[0;34m.\u001b[0m\u001b[0mcat\u001b[0m\u001b[0;34m.\u001b[0m\u001b[0mcategories\u001b[0m\u001b[0;34m.\u001b[0m\u001b[0mdtype\u001b[0m\u001b[0;34m]\u001b[0m\u001b[0;34m\u001b[0m\u001b[0m\n\u001b[0;32m--> 608\u001b[0;31m             \u001b[0mprint\u001b[0m\u001b[0;34m(\u001b[0m\u001b[0mcol_name\u001b[0m\u001b[0;34m,\u001b[0m \u001b[0ms\u001b[0m\u001b[0;34m.\u001b[0m\u001b[0mcat\u001b[0m\u001b[0;34m.\u001b[0m\u001b[0mcategories\u001b[0m\u001b[0;34m.\u001b[0m\u001b[0mdtype\u001b[0m\u001b[0;34m,\u001b[0m \u001b[0ms\u001b[0m\u001b[0;34m.\u001b[0m\u001b[0mcat\u001b[0m\u001b[0;34m.\u001b[0m\u001b[0mcategories\u001b[0m\u001b[0;34m.\u001b[0m\u001b[0mdtype\u001b[0m \u001b[0;32mis\u001b[0m \u001b[0mdtype\u001b[0m\u001b[0;34m(\u001b[0m\u001b[0;34m'int64'\u001b[0m\u001b[0;34m)\u001b[0m\u001b[0;34m)\u001b[0m\u001b[0;34m\u001b[0m\u001b[0m\n\u001b[0m\u001b[1;32m    609\u001b[0m             \u001b[0;32mif\u001b[0m \u001b[0ms\u001b[0m\u001b[0;34m.\u001b[0m\u001b[0mcat\u001b[0m\u001b[0;34m.\u001b[0m\u001b[0mcategories\u001b[0m\u001b[0;34m.\u001b[0m\u001b[0mdtype\u001b[0m \u001b[0;32mis\u001b[0m \u001b[0mdtype\u001b[0m\u001b[0;34m(\u001b[0m\u001b[0;34m'int64'\u001b[0m\u001b[0;34m)\u001b[0m\u001b[0;34m:\u001b[0m\u001b[0;34m\u001b[0m\u001b[0m\n\u001b[1;32m    610\u001b[0m                 \u001b[0mprint\u001b[0m\u001b[0;34m(\u001b[0m\u001b[0;34m'!!!'\u001b[0m\u001b[0;34m)\u001b[0m\u001b[0;34m\u001b[0m\u001b[0m\n",
      "\u001b[0;31mTypeError\u001b[0m: 'CategoricalDtype' object is not callable"
     ]
    }
   ],
   "source": [
    "from jfdata.utilities.data_analysis import _get_df_dtypes\n",
    "test = _get_df_dtypes(df)"
   ]
  },
  {
   "cell_type": "markdown",
   "metadata": {},
   "source": [
    "# 定义函数"
   ]
  },
  {
   "cell_type": "code",
   "execution_count": 2,
   "metadata": {
    "ExecuteTime": {
     "end_time": "2017-04-12T09:15:04.452141Z",
     "start_time": "2017-04-12T17:15:04.432555+08:00"
    },
    "collapsed": true
   },
   "outputs": [],
   "source": [
    "#找出Ｔｒｕｅ/Ｆａｌｓｅ的列，以便做特殊填充\n",
    "def find_bool_columns(df):\n",
    "    col_s = []\n",
    "    for col in df:\n",
    "        s = df[col]\n",
    "        sample = _get_first_not_null(s, 5)\n",
    "        if (sample=='True') | (sample=='False'):\n",
    "            col_s.append(col)\n",
    "    return col_s\n",
    "\n",
    "#此函数的意图是，保存ｆｉｇ的地址\n",
    "def get_plot(df,plot_col_list,colors={True:'orangered'}):\n",
    "   \n",
    "    cid_dict = {}  #记录ｆ地址      \n",
    "    for c in plot_col_list:\n",
    "\n",
    "        df[c] = df[c].astype('category')\n",
    " \n",
    "        dist = get_categorical_distribution_by_group(df, model_key, c)\n",
    "\n",
    "        f = compare_distribution(dist, model_key, c, '', colors = colors)\n",
    "\n",
    "        cid_dict[c] = f\n",
    "    return cid_dict\n",
    "\n",
    "# 筛选出分类不只１种的列\n",
    "def get_plot_col(df):\n",
    "    keep_cols = []    \n",
    "    for col in df:\n",
    "        if (len(df.drop_duplicates(col))>1):\n",
    "            keep_cols.append(col)\n",
    "    df_plot = df[keep_cols]\n",
    "    \n",
    "    return df_plot\n"
   ]
  },
  {
   "cell_type": "markdown",
   "metadata": {},
   "source": [
    "# 部分变量"
   ]
  },
  {
   "cell_type": "code",
   "execution_count": 3,
   "metadata": {
    "ExecuteTime": {
     "end_time": "2017-04-12T09:15:04.838962Z",
     "start_time": "2017-04-12T17:15:04.835213+08:00"
    },
    "collapsed": true
   },
   "outputs": [],
   "source": [
    "from pandas import DataFrame\n",
    "import pandas as pd"
   ]
  },
  {
   "cell_type": "code",
   "execution_count": 4,
   "metadata": {
    "ExecuteTime": {
     "end_time": "2017-04-12T09:15:05.739148Z",
     "start_time": "2017-04-12T17:15:05.713072+08:00"
    },
    "collapsed": true
   },
   "outputs": [],
   "source": [
    "model_key = '是否坏账'\n",
    "product = 'RWD'\n",
    "product_name = '任小贷'\n",
    "with_shumei = False\n",
    "\n",
    "mail_list = [\n",
    "    'shh@jfpal.com',\n",
    "    'zhaopeng@jfpal.com',\n",
    "    'lbl@jfpal.com',\n",
    "    'jzl@jfpal.com',\n",
    "    'zq@jfpal.com',\n",
    "    'ys@jfpal.com',\n",
    "    'qkm@jfpal.com',\n",
    "    'cjj@jfpal.com'\n",
    "]\n",
    "\n",
    "\n",
    "group_member = [\n",
    "    'cjj@jfpal.com',\n",
    "    'hxt@jfpal.com',\n",
    "    'mjp@jfpal.com',\n",
    "    'zx@jfpal.com',\n",
    "    'lzg@jfpal.com',\n",
    "    'bhf@jfpal.com',\n",
    "    'cjy@jfpal.com',\n",
    "    'wkj@jfpal.com'\n",
    "    \n",
    "]\n",
    "\n",
    "mail_list = group_member\n",
    "\n",
    "mail_list = ['mjp@jfpal.com']\n",
    "\n",
    "\n",
    "cc_list = [\n",
    "    #'shh@jfpal.com',\n",
    "    #'qkm@jfpal.com'\n",
    "]\n",
    "\n",
    "categorize_num = 10 #变量区间化数量\n",
    "\n",
    "# 指定要画图的列，若为Ｎｏｎｅ或[],则全部要画\n",
    "plot_col_list=[]"
   ]
  },
  {
   "cell_type": "markdown",
   "metadata": {},
   "source": [
    "# 删掉没用的cols"
   ]
  },
  {
   "cell_type": "code",
   "execution_count": 5,
   "metadata": {
    "ExecuteTime": {
     "end_time": "2017-04-12T09:15:06.506613Z",
     "start_time": "2017-04-12T17:15:06.497975+08:00"
    },
    "collapsed": true
   },
   "outputs": [],
   "source": [
    "drop_cols = [\n",
    "    'order_no',\n",
    "    '用户编号_y',\n",
    "    '申请日期',\n",
    "    '纬度',\n",
    "    '经度',\n",
    "    '居住城市',\n",
    "    '单位城市',\n",
    "    '用户注册时间',\n",
    "    '认证通过时间',\n",
    "    '身份证年龄'\n",
    "]"
   ]
  },
  {
   "cell_type": "code",
   "execution_count": 6,
   "metadata": {
    "ExecuteTime": {
     "end_time": "2017-04-12T09:15:07.244555Z",
     "start_time": "2017-04-12T17:15:06.992350+08:00"
    }
   },
   "outputs": [],
   "source": [
    "df_model = load_dataframe('model_data.csv').drop(drop_cols,axis=1)\n",
    "\n",
    "# save_dataframe(df_model, 'test.csv', index=False)\n",
    "\n",
    "# df_test = load_dataframe('test.csv')\n",
    "\n",
    "# df_model.equals(df_test)\n",
    "# True"
   ]
  },
  {
   "cell_type": "markdown",
   "metadata": {},
   "source": [
    "# 填充空值"
   ]
  },
  {
   "cell_type": "code",
   "execution_count": 7,
   "metadata": {
    "ExecuteTime": {
     "end_time": "2017-04-12T09:15:52.669043Z",
     "start_time": "2017-04-12T17:15:08.932381+08:00"
    }
   },
   "outputs": [],
   "source": [
    "bool_list = find_bool_columns(df_model)\n",
    "\n",
    "fills_dict = split_dict_keys({tuple(bool_list):'False'})\n",
    "\n",
    "df_model = fill_df_null(df_model, default_numeric_fill=0, default_non_numeric_fill='空',fills=fills_dict)"
   ]
  },
  {
   "cell_type": "markdown",
   "metadata": {},
   "source": [
    "# 区间化"
   ]
  },
  {
   "cell_type": "code",
   "execution_count": 8,
   "metadata": {
    "ExecuteTime": {
     "end_time": "2017-04-12T09:15:53.152339Z",
     "start_time": "2017-04-12T17:15:52.670521+08:00"
    }
   },
   "outputs": [],
   "source": [
    "df_model = categorize_df(df_model, categorize_num, std_threshold=2)"
   ]
  },
  {
   "cell_type": "code",
   "execution_count": 10,
   "metadata": {
    "ExecuteTime": {
     "end_time": "2017-04-12T09:13:51.833543Z",
     "start_time": "2017-04-12T17:13:51.739251+08:00"
    }
   },
   "outputs": [
    {
     "name": "stdout",
     "output_type": "stream",
     "text": [
      "1 is not JSON serializable\n",
      "填写过几个不同的公司所在城市\n",
      "{'categories': [1, 2], 'type': 'int', 'ordered': False}\n",
      "1 is not JSON serializable\n",
      "填写过几个不同的公司地址\n",
      "{'categories': [1, 2], 'type': 'int', 'ordered': False}\n",
      "1 is not JSON serializable\n",
      "填写过几个不同的公司名称\n",
      "{'categories': [1, 2], 'type': 'int', 'ordered': False}\n",
      "1 is not JSON serializable\n",
      "填写过几个不同的住址城市\n",
      "{'categories': [1, 2], 'type': 'int', 'ordered': False}\n",
      "1 is not JSON serializable\n",
      "填写过几个不同的住址\n",
      "{'categories': [1, 2], 'type': 'int', 'ordered': False}\n",
      "1 is not JSON serializable\n",
      "填写过几个不同的联系人手机\n",
      "{'categories': [1, 2], 'type': 'int', 'ordered': False}\n",
      "1 is not JSON serializable\n",
      "申请日是星期几\n",
      "{'categories': [1, 2, 3, 4, 5, 6, 7], 'type': 'int', 'ordered': False}\n",
      "10 is not JSON serializable\n",
      "产品周期\n",
      "{'categories': [10, 20], 'type': 'int', 'ordered': False}\n",
      "1 is not JSON serializable\n",
      "填写过几个不同的公司电话\n",
      "{'categories': [1, 2], 'type': 'int', 'ordered': False}\n"
     ]
    }
   ],
   "source": [
    "from jfdata.utilities.publish import get_dtype_info, save_dict\n",
    "test_dict = get_dtype_info(df_model)\n",
    "\n",
    "# from json import dump, load\n",
    "problem_list = []\n",
    "for k,val in test_dict.items():\n",
    "    try:\n",
    "        save_dict(\n",
    "            val,\n",
    "            'save_dict_test'\n",
    "        )\n",
    "    except Exception as e:\n",
    "        print(e)\n",
    "        print(k)\n",
    "        problem_list.append(k)\n",
    "        print(val)"
   ]
  },
  {
   "cell_type": "code",
   "execution_count": 15,
   "metadata": {
    "ExecuteTime": {
     "end_time": "2017-04-12T08:11:29.192733Z",
     "start_time": "2017-04-12T16:11:29.189636+08:00"
    },
    "collapsed": true
   },
   "outputs": [],
   "source": [
    "import numpy as np\n",
    "x = np.int64(50)\n",
    "y = int(50)"
   ]
  },
  {
   "cell_type": "code",
   "execution_count": 16,
   "metadata": {
    "ExecuteTime": {
     "end_time": "2017-04-12T08:11:30.335878Z",
     "start_time": "2017-04-12T16:11:30.329007+08:00"
    }
   },
   "outputs": [
    {
     "data": {
      "text/plain": [
       "(numpy.int64, int)"
      ]
     },
     "execution_count": 16,
     "metadata": {},
     "output_type": "execute_result"
    }
   ],
   "source": [
    "type(x), type(y)"
   ]
  },
  {
   "cell_type": "code",
   "execution_count": 18,
   "metadata": {
    "ExecuteTime": {
     "end_time": "2017-04-12T08:12:57.753230Z",
     "start_time": "2017-04-12T16:12:57.749239+08:00"
    },
    "collapsed": true
   },
   "outputs": [],
   "source": [
    "from json import dump"
   ]
  },
  {
   "cell_type": "code",
   "execution_count": 19,
   "metadata": {
    "ExecuteTime": {
     "end_time": "2017-04-12T08:12:58.400448Z",
     "start_time": "2017-04-12T16:12:58.373050+08:00"
    }
   },
   "outputs": [
    {
     "ename": "TypeError",
     "evalue": "50 is not JSON serializable",
     "output_type": "error",
     "traceback": [
      "\u001b[0;31m---------------------------------------------------------------------------\u001b[0m",
      "\u001b[0;31mTypeError\u001b[0m                                 Traceback (most recent call last)",
      "\u001b[0;32m<ipython-input-19-a1f772985e35>\u001b[0m in \u001b[0;36m<module>\u001b[0;34m()\u001b[0m\n\u001b[1;32m      1\u001b[0m \u001b[0;32mwith\u001b[0m \u001b[0mopen\u001b[0m\u001b[0;34m(\u001b[0m\u001b[0;34m'test'\u001b[0m\u001b[0;34m,\u001b[0m \u001b[0;34m'w'\u001b[0m\u001b[0;34m)\u001b[0m \u001b[0;32mas\u001b[0m \u001b[0mf\u001b[0m\u001b[0;34m:\u001b[0m\u001b[0;34m\u001b[0m\u001b[0m\n\u001b[0;32m----> 2\u001b[0;31m     \u001b[0mdump\u001b[0m\u001b[0;34m(\u001b[0m\u001b[0mx\u001b[0m\u001b[0;34m,\u001b[0m \u001b[0mf\u001b[0m\u001b[0;34m)\u001b[0m\u001b[0;34m\u001b[0m\u001b[0m\n\u001b[0m",
      "\u001b[0;32m/usr/lib/python3.5/json/__init__.py\u001b[0m in \u001b[0;36mdump\u001b[0;34m(obj, fp, skipkeys, ensure_ascii, check_circular, allow_nan, cls, indent, separators, default, sort_keys, **kw)\u001b[0m\n\u001b[1;32m    176\u001b[0m     \u001b[0;31m# could accelerate with writelines in some versions of Python, at\u001b[0m\u001b[0;34m\u001b[0m\u001b[0;34m\u001b[0m\u001b[0m\n\u001b[1;32m    177\u001b[0m     \u001b[0;31m# a debuggability cost\u001b[0m\u001b[0;34m\u001b[0m\u001b[0;34m\u001b[0m\u001b[0m\n\u001b[0;32m--> 178\u001b[0;31m     \u001b[0;32mfor\u001b[0m \u001b[0mchunk\u001b[0m \u001b[0;32min\u001b[0m \u001b[0miterable\u001b[0m\u001b[0;34m:\u001b[0m\u001b[0;34m\u001b[0m\u001b[0m\n\u001b[0m\u001b[1;32m    179\u001b[0m         \u001b[0mfp\u001b[0m\u001b[0;34m.\u001b[0m\u001b[0mwrite\u001b[0m\u001b[0;34m(\u001b[0m\u001b[0mchunk\u001b[0m\u001b[0;34m)\u001b[0m\u001b[0;34m\u001b[0m\u001b[0m\n\u001b[1;32m    180\u001b[0m \u001b[0;34m\u001b[0m\u001b[0m\n",
      "\u001b[0;32m/usr/lib/python3.5/json/encoder.py\u001b[0m in \u001b[0;36m_iterencode\u001b[0;34m(o, _current_indent_level)\u001b[0m\n\u001b[1;32m    434\u001b[0m                     \u001b[0;32mraise\u001b[0m \u001b[0mValueError\u001b[0m\u001b[0;34m(\u001b[0m\u001b[0;34m\"Circular reference detected\"\u001b[0m\u001b[0;34m)\u001b[0m\u001b[0;34m\u001b[0m\u001b[0m\n\u001b[1;32m    435\u001b[0m                 \u001b[0mmarkers\u001b[0m\u001b[0;34m[\u001b[0m\u001b[0mmarkerid\u001b[0m\u001b[0;34m]\u001b[0m \u001b[0;34m=\u001b[0m \u001b[0mo\u001b[0m\u001b[0;34m\u001b[0m\u001b[0m\n\u001b[0;32m--> 436\u001b[0;31m             \u001b[0mo\u001b[0m \u001b[0;34m=\u001b[0m \u001b[0m_default\u001b[0m\u001b[0;34m(\u001b[0m\u001b[0mo\u001b[0m\u001b[0;34m)\u001b[0m\u001b[0;34m\u001b[0m\u001b[0m\n\u001b[0m\u001b[1;32m    437\u001b[0m             \u001b[0;32myield\u001b[0m \u001b[0;32mfrom\u001b[0m \u001b[0m_iterencode\u001b[0m\u001b[0;34m(\u001b[0m\u001b[0mo\u001b[0m\u001b[0;34m,\u001b[0m \u001b[0m_current_indent_level\u001b[0m\u001b[0;34m)\u001b[0m\u001b[0;34m\u001b[0m\u001b[0m\n\u001b[1;32m    438\u001b[0m             \u001b[0;32mif\u001b[0m \u001b[0mmarkers\u001b[0m \u001b[0;32mis\u001b[0m \u001b[0;32mnot\u001b[0m \u001b[0;32mNone\u001b[0m\u001b[0;34m:\u001b[0m\u001b[0;34m\u001b[0m\u001b[0m\n",
      "\u001b[0;32m/usr/lib/python3.5/json/encoder.py\u001b[0m in \u001b[0;36mdefault\u001b[0;34m(self, o)\u001b[0m\n\u001b[1;32m    177\u001b[0m \u001b[0;34m\u001b[0m\u001b[0m\n\u001b[1;32m    178\u001b[0m         \"\"\"\n\u001b[0;32m--> 179\u001b[0;31m         \u001b[0;32mraise\u001b[0m \u001b[0mTypeError\u001b[0m\u001b[0;34m(\u001b[0m\u001b[0mrepr\u001b[0m\u001b[0;34m(\u001b[0m\u001b[0mo\u001b[0m\u001b[0;34m)\u001b[0m \u001b[0;34m+\u001b[0m \u001b[0;34m\" is not JSON serializable\"\u001b[0m\u001b[0;34m)\u001b[0m\u001b[0;34m\u001b[0m\u001b[0m\n\u001b[0m\u001b[1;32m    180\u001b[0m \u001b[0;34m\u001b[0m\u001b[0m\n\u001b[1;32m    181\u001b[0m     \u001b[0;32mdef\u001b[0m \u001b[0mencode\u001b[0m\u001b[0;34m(\u001b[0m\u001b[0mself\u001b[0m\u001b[0;34m,\u001b[0m \u001b[0mo\u001b[0m\u001b[0;34m)\u001b[0m\u001b[0;34m:\u001b[0m\u001b[0;34m\u001b[0m\u001b[0m\n",
      "\u001b[0;31mTypeError\u001b[0m: 50 is not JSON serializable"
     ]
    }
   ],
   "source": [
    "with open('test', 'w') as f:\n",
    "    dump(x, f)"
   ]
  },
  {
   "cell_type": "code",
   "execution_count": 20,
   "metadata": {
    "ExecuteTime": {
     "end_time": "2017-04-12T08:13:09.032350Z",
     "start_time": "2017-04-12T16:13:09.026846+08:00"
    },
    "collapsed": true
   },
   "outputs": [],
   "source": [
    "with open('test', 'w') as f:\n",
    "    dump(y, f)"
   ]
  },
  {
   "cell_type": "code",
   "execution_count": 21,
   "metadata": {
    "ExecuteTime": {
     "end_time": "2017-04-12T08:16:30.463961Z",
     "start_time": "2017-04-12T16:16:30.316662+08:00"
    }
   },
   "outputs": [],
   "source": [
    "from jfdata.utilities.publish import get_dtype_info, save_dict\n",
    "test_dict = get_dtype_info(df_model)\n",
    "\n",
    "# from json import dump, load\n",
    "problem_list = []\n",
    "for k,val in test_dict.items():\n",
    "    try:\n",
    "        save_dict(\n",
    "            val,\n",
    "            'save_dict_test'\n",
    "        )\n",
    "    except Exception as e:\n",
    "        print(e)\n",
    "        print(k)\n",
    "        problem_list.append(k)\n",
    "        print(val)"
   ]
  },
  {
   "cell_type": "code",
   "execution_count": 22,
   "metadata": {
    "ExecuteTime": {
     "end_time": "2017-04-12T08:16:31.193703Z",
     "start_time": "2017-04-12T16:16:31.175978+08:00"
    }
   },
   "outputs": [
    {
     "data": {
      "text/plain": [
       "Series([], dtype: object)"
      ]
     },
     "execution_count": 22,
     "metadata": {},
     "output_type": "execute_result"
    }
   ],
   "source": [
    "df_model[problem_list].dtypes"
   ]
  },
  {
   "cell_type": "code",
   "execution_count": 14,
   "metadata": {
    "ExecuteTime": {
     "end_time": "2017-04-12T08:10:50.206603Z",
     "start_time": "2017-04-12T16:10:50.202649+08:00"
    }
   },
   "outputs": [
    {
     "data": {
      "text/plain": [
       "numpy.int64"
      ]
     },
     "execution_count": 14,
     "metadata": {},
     "output_type": "execute_result"
    }
   ],
   "source": [
    "type(df_model['产品周期'][0])"
   ]
  },
  {
   "cell_type": "code",
   "execution_count": 13,
   "metadata": {
    "ExecuteTime": {
     "end_time": "2017-04-12T08:10:39.117062Z",
     "start_time": "2017-04-12T16:10:39.110098+08:00"
    }
   },
   "outputs": [
    {
     "data": {
      "text/plain": [
       "dtype('int64')"
      ]
     },
     "execution_count": 13,
     "metadata": {},
     "output_type": "execute_result"
    }
   ],
   "source": [
    "df_model['产品周期'][0].dtype"
   ]
  },
  {
   "cell_type": "code",
   "execution_count": 26,
   "metadata": {
    "ExecuteTime": {
     "end_time": "2017-04-11T09:20:19.467386Z",
     "start_time": "2017-04-11T17:20:19.129129+08:00"
    }
   },
   "outputs": [
    {
     "ename": "TypeError",
     "evalue": "1 is not JSON serializable",
     "output_type": "error",
     "traceback": [
      "\u001b[0;31m---------------------------------------------------------------------------\u001b[0m",
      "\u001b[0;31mTypeError\u001b[0m                                 Traceback (most recent call last)",
      "\u001b[0;32m<ipython-input-26-80bd2938a2bb>\u001b[0m in \u001b[0;36m<module>\u001b[0;34m()\u001b[0m\n\u001b[1;32m      1\u001b[0m \u001b[0;32mfrom\u001b[0m \u001b[0mjfdata\u001b[0m\u001b[0;34m.\u001b[0m\u001b[0mutilities\u001b[0m\u001b[0;34m.\u001b[0m\u001b[0mpublish\u001b[0m \u001b[0;32mimport\u001b[0m \u001b[0msave_dataframe\u001b[0m\u001b[0;34m\u001b[0m\u001b[0m\n\u001b[0;32m----> 2\u001b[0;31m \u001b[0msave_dataframe\u001b[0m\u001b[0;34m(\u001b[0m\u001b[0mdf_model\u001b[0m\u001b[0;34m,\u001b[0m \u001b[0;34m'model_data_20170411.csv'\u001b[0m\u001b[0;34m,\u001b[0m \u001b[0mindex\u001b[0m \u001b[0;34m=\u001b[0m \u001b[0;32mFalse\u001b[0m\u001b[0;34m)\u001b[0m\u001b[0;34m\u001b[0m\u001b[0m\n\u001b[0m",
      "\u001b[0;32m/home/finance-datascience/CJJ/jfdata/utilities/publish.py\u001b[0m in \u001b[0;36msave_dataframe\u001b[0;34m(df, path, *args, **kwargs)\u001b[0m\n\u001b[1;32m    146\u001b[0m \u001b[0;32mdef\u001b[0m \u001b[0msave_dataframe\u001b[0m\u001b[0;34m(\u001b[0m\u001b[0mdf\u001b[0m\u001b[0;34m,\u001b[0m \u001b[0mpath\u001b[0m\u001b[0;34m,\u001b[0m \u001b[0;34m*\u001b[0m\u001b[0margs\u001b[0m\u001b[0;34m,\u001b[0m \u001b[0;34m**\u001b[0m\u001b[0mkwargs\u001b[0m\u001b[0;34m)\u001b[0m\u001b[0;34m:\u001b[0m\u001b[0;34m\u001b[0m\u001b[0m\n\u001b[1;32m    147\u001b[0m     \u001b[0mdf\u001b[0m\u001b[0;34m.\u001b[0m\u001b[0mto_csv\u001b[0m\u001b[0;34m(\u001b[0m\u001b[0mpath\u001b[0m\u001b[0;34m,\u001b[0m \u001b[0;34m*\u001b[0m\u001b[0margs\u001b[0m\u001b[0;34m,\u001b[0m \u001b[0;34m**\u001b[0m\u001b[0mkwargs\u001b[0m\u001b[0;34m)\u001b[0m\u001b[0;34m\u001b[0m\u001b[0m\n\u001b[0;32m--> 148\u001b[0;31m     \u001b[0msave_dict\u001b[0m\u001b[0;34m(\u001b[0m\u001b[0mget_dtype_info\u001b[0m\u001b[0;34m(\u001b[0m\u001b[0mdf\u001b[0m\u001b[0;34m)\u001b[0m\u001b[0;34m,\u001b[0m \u001b[0mpath\u001b[0m\u001b[0;34m+\u001b[0m\u001b[0;34m'.meta'\u001b[0m\u001b[0;34m)\u001b[0m\u001b[0;34m\u001b[0m\u001b[0m\n\u001b[0m",
      "\u001b[0;32m/home/finance-datascience/CJJ/jfdata/utilities/publish.py\u001b[0m in \u001b[0;36msave_dict\u001b[0;34m(d, filepath)\u001b[0m\n\u001b[1;32m    142\u001b[0m \u001b[0;32mdef\u001b[0m \u001b[0msave_dict\u001b[0m\u001b[0;34m(\u001b[0m\u001b[0md\u001b[0m\u001b[0;34m,\u001b[0m \u001b[0mfilepath\u001b[0m\u001b[0;34m)\u001b[0m\u001b[0;34m:\u001b[0m\u001b[0;34m\u001b[0m\u001b[0m\n\u001b[1;32m    143\u001b[0m     \u001b[0;32mwith\u001b[0m \u001b[0mopen\u001b[0m\u001b[0;34m(\u001b[0m\u001b[0mfilepath\u001b[0m\u001b[0;34m,\u001b[0m \u001b[0;34m'w'\u001b[0m\u001b[0;34m)\u001b[0m \u001b[0;32mas\u001b[0m \u001b[0mf\u001b[0m\u001b[0;34m:\u001b[0m\u001b[0;34m\u001b[0m\u001b[0m\n\u001b[0;32m--> 144\u001b[0;31m         \u001b[0mdump\u001b[0m\u001b[0;34m(\u001b[0m\u001b[0md\u001b[0m\u001b[0;34m,\u001b[0m \u001b[0mf\u001b[0m\u001b[0;34m)\u001b[0m\u001b[0;34m\u001b[0m\u001b[0m\n\u001b[0m\u001b[1;32m    145\u001b[0m \u001b[0;34m\u001b[0m\u001b[0m\n\u001b[1;32m    146\u001b[0m \u001b[0;32mdef\u001b[0m \u001b[0msave_dataframe\u001b[0m\u001b[0;34m(\u001b[0m\u001b[0mdf\u001b[0m\u001b[0;34m,\u001b[0m \u001b[0mpath\u001b[0m\u001b[0;34m,\u001b[0m \u001b[0;34m*\u001b[0m\u001b[0margs\u001b[0m\u001b[0;34m,\u001b[0m \u001b[0;34m**\u001b[0m\u001b[0mkwargs\u001b[0m\u001b[0;34m)\u001b[0m\u001b[0;34m:\u001b[0m\u001b[0;34m\u001b[0m\u001b[0m\n",
      "\u001b[0;32m/usr/lib/python3.5/json/__init__.py\u001b[0m in \u001b[0;36mdump\u001b[0;34m(obj, fp, skipkeys, ensure_ascii, check_circular, allow_nan, cls, indent, separators, default, sort_keys, **kw)\u001b[0m\n\u001b[1;32m    176\u001b[0m     \u001b[0;31m# could accelerate with writelines in some versions of Python, at\u001b[0m\u001b[0;34m\u001b[0m\u001b[0;34m\u001b[0m\u001b[0m\n\u001b[1;32m    177\u001b[0m     \u001b[0;31m# a debuggability cost\u001b[0m\u001b[0;34m\u001b[0m\u001b[0;34m\u001b[0m\u001b[0m\n\u001b[0;32m--> 178\u001b[0;31m     \u001b[0;32mfor\u001b[0m \u001b[0mchunk\u001b[0m \u001b[0;32min\u001b[0m \u001b[0miterable\u001b[0m\u001b[0;34m:\u001b[0m\u001b[0;34m\u001b[0m\u001b[0m\n\u001b[0m\u001b[1;32m    179\u001b[0m         \u001b[0mfp\u001b[0m\u001b[0;34m.\u001b[0m\u001b[0mwrite\u001b[0m\u001b[0;34m(\u001b[0m\u001b[0mchunk\u001b[0m\u001b[0;34m)\u001b[0m\u001b[0;34m\u001b[0m\u001b[0m\n\u001b[1;32m    180\u001b[0m \u001b[0;34m\u001b[0m\u001b[0m\n",
      "\u001b[0;32m/usr/lib/python3.5/json/encoder.py\u001b[0m in \u001b[0;36m_iterencode\u001b[0;34m(o, _current_indent_level)\u001b[0m\n\u001b[1;32m    427\u001b[0m             \u001b[0;32myield\u001b[0m \u001b[0;32mfrom\u001b[0m \u001b[0m_iterencode_list\u001b[0m\u001b[0;34m(\u001b[0m\u001b[0mo\u001b[0m\u001b[0;34m,\u001b[0m \u001b[0m_current_indent_level\u001b[0m\u001b[0;34m)\u001b[0m\u001b[0;34m\u001b[0m\u001b[0m\n\u001b[1;32m    428\u001b[0m         \u001b[0;32melif\u001b[0m \u001b[0misinstance\u001b[0m\u001b[0;34m(\u001b[0m\u001b[0mo\u001b[0m\u001b[0;34m,\u001b[0m \u001b[0mdict\u001b[0m\u001b[0;34m)\u001b[0m\u001b[0;34m:\u001b[0m\u001b[0;34m\u001b[0m\u001b[0m\n\u001b[0;32m--> 429\u001b[0;31m             \u001b[0;32myield\u001b[0m \u001b[0;32mfrom\u001b[0m \u001b[0m_iterencode_dict\u001b[0m\u001b[0;34m(\u001b[0m\u001b[0mo\u001b[0m\u001b[0;34m,\u001b[0m \u001b[0m_current_indent_level\u001b[0m\u001b[0;34m)\u001b[0m\u001b[0;34m\u001b[0m\u001b[0m\n\u001b[0m\u001b[1;32m    430\u001b[0m         \u001b[0;32melse\u001b[0m\u001b[0;34m:\u001b[0m\u001b[0;34m\u001b[0m\u001b[0m\n\u001b[1;32m    431\u001b[0m             \u001b[0;32mif\u001b[0m \u001b[0mmarkers\u001b[0m \u001b[0;32mis\u001b[0m \u001b[0;32mnot\u001b[0m \u001b[0;32mNone\u001b[0m\u001b[0;34m:\u001b[0m\u001b[0;34m\u001b[0m\u001b[0m\n",
      "\u001b[0;32m/usr/lib/python3.5/json/encoder.py\u001b[0m in \u001b[0;36m_iterencode_dict\u001b[0;34m(dct, _current_indent_level)\u001b[0m\n\u001b[1;32m    401\u001b[0m                 \u001b[0;32melse\u001b[0m\u001b[0;34m:\u001b[0m\u001b[0;34m\u001b[0m\u001b[0m\n\u001b[1;32m    402\u001b[0m                     \u001b[0mchunks\u001b[0m \u001b[0;34m=\u001b[0m \u001b[0m_iterencode\u001b[0m\u001b[0;34m(\u001b[0m\u001b[0mvalue\u001b[0m\u001b[0;34m,\u001b[0m \u001b[0m_current_indent_level\u001b[0m\u001b[0;34m)\u001b[0m\u001b[0;34m\u001b[0m\u001b[0m\n\u001b[0;32m--> 403\u001b[0;31m                 \u001b[0;32myield\u001b[0m \u001b[0;32mfrom\u001b[0m \u001b[0mchunks\u001b[0m\u001b[0;34m\u001b[0m\u001b[0m\n\u001b[0m\u001b[1;32m    404\u001b[0m         \u001b[0;32mif\u001b[0m \u001b[0mnewline_indent\u001b[0m \u001b[0;32mis\u001b[0m \u001b[0;32mnot\u001b[0m \u001b[0;32mNone\u001b[0m\u001b[0;34m:\u001b[0m\u001b[0;34m\u001b[0m\u001b[0m\n\u001b[1;32m    405\u001b[0m             \u001b[0m_current_indent_level\u001b[0m \u001b[0;34m-=\u001b[0m \u001b[0;36m1\u001b[0m\u001b[0;34m\u001b[0m\u001b[0m\n",
      "\u001b[0;32m/usr/lib/python3.5/json/encoder.py\u001b[0m in \u001b[0;36m_iterencode_dict\u001b[0;34m(dct, _current_indent_level)\u001b[0m\n\u001b[1;32m    401\u001b[0m                 \u001b[0;32melse\u001b[0m\u001b[0;34m:\u001b[0m\u001b[0;34m\u001b[0m\u001b[0m\n\u001b[1;32m    402\u001b[0m                     \u001b[0mchunks\u001b[0m \u001b[0;34m=\u001b[0m \u001b[0m_iterencode\u001b[0m\u001b[0;34m(\u001b[0m\u001b[0mvalue\u001b[0m\u001b[0;34m,\u001b[0m \u001b[0m_current_indent_level\u001b[0m\u001b[0;34m)\u001b[0m\u001b[0;34m\u001b[0m\u001b[0m\n\u001b[0;32m--> 403\u001b[0;31m                 \u001b[0;32myield\u001b[0m \u001b[0;32mfrom\u001b[0m \u001b[0mchunks\u001b[0m\u001b[0;34m\u001b[0m\u001b[0m\n\u001b[0m\u001b[1;32m    404\u001b[0m         \u001b[0;32mif\u001b[0m \u001b[0mnewline_indent\u001b[0m \u001b[0;32mis\u001b[0m \u001b[0;32mnot\u001b[0m \u001b[0;32mNone\u001b[0m\u001b[0;34m:\u001b[0m\u001b[0;34m\u001b[0m\u001b[0m\n\u001b[1;32m    405\u001b[0m             \u001b[0m_current_indent_level\u001b[0m \u001b[0;34m-=\u001b[0m \u001b[0;36m1\u001b[0m\u001b[0;34m\u001b[0m\u001b[0m\n",
      "\u001b[0;32m/usr/lib/python3.5/json/encoder.py\u001b[0m in \u001b[0;36m_iterencode_list\u001b[0;34m(lst, _current_indent_level)\u001b[0m\n\u001b[1;32m    322\u001b[0m                 \u001b[0;32melse\u001b[0m\u001b[0;34m:\u001b[0m\u001b[0;34m\u001b[0m\u001b[0m\n\u001b[1;32m    323\u001b[0m                     \u001b[0mchunks\u001b[0m \u001b[0;34m=\u001b[0m \u001b[0m_iterencode\u001b[0m\u001b[0;34m(\u001b[0m\u001b[0mvalue\u001b[0m\u001b[0;34m,\u001b[0m \u001b[0m_current_indent_level\u001b[0m\u001b[0;34m)\u001b[0m\u001b[0;34m\u001b[0m\u001b[0m\n\u001b[0;32m--> 324\u001b[0;31m                 \u001b[0;32myield\u001b[0m \u001b[0;32mfrom\u001b[0m \u001b[0mchunks\u001b[0m\u001b[0;34m\u001b[0m\u001b[0m\n\u001b[0m\u001b[1;32m    325\u001b[0m         \u001b[0;32mif\u001b[0m \u001b[0mnewline_indent\u001b[0m \u001b[0;32mis\u001b[0m \u001b[0;32mnot\u001b[0m \u001b[0;32mNone\u001b[0m\u001b[0;34m:\u001b[0m\u001b[0;34m\u001b[0m\u001b[0m\n\u001b[1;32m    326\u001b[0m             \u001b[0m_current_indent_level\u001b[0m \u001b[0;34m-=\u001b[0m \u001b[0;36m1\u001b[0m\u001b[0;34m\u001b[0m\u001b[0m\n",
      "\u001b[0;32m/usr/lib/python3.5/json/encoder.py\u001b[0m in \u001b[0;36m_iterencode\u001b[0;34m(o, _current_indent_level)\u001b[0m\n\u001b[1;32m    434\u001b[0m                     \u001b[0;32mraise\u001b[0m \u001b[0mValueError\u001b[0m\u001b[0;34m(\u001b[0m\u001b[0;34m\"Circular reference detected\"\u001b[0m\u001b[0;34m)\u001b[0m\u001b[0;34m\u001b[0m\u001b[0m\n\u001b[1;32m    435\u001b[0m                 \u001b[0mmarkers\u001b[0m\u001b[0;34m[\u001b[0m\u001b[0mmarkerid\u001b[0m\u001b[0;34m]\u001b[0m \u001b[0;34m=\u001b[0m \u001b[0mo\u001b[0m\u001b[0;34m\u001b[0m\u001b[0m\n\u001b[0;32m--> 436\u001b[0;31m             \u001b[0mo\u001b[0m \u001b[0;34m=\u001b[0m \u001b[0m_default\u001b[0m\u001b[0;34m(\u001b[0m\u001b[0mo\u001b[0m\u001b[0;34m)\u001b[0m\u001b[0;34m\u001b[0m\u001b[0m\n\u001b[0m\u001b[1;32m    437\u001b[0m             \u001b[0;32myield\u001b[0m \u001b[0;32mfrom\u001b[0m \u001b[0m_iterencode\u001b[0m\u001b[0;34m(\u001b[0m\u001b[0mo\u001b[0m\u001b[0;34m,\u001b[0m \u001b[0m_current_indent_level\u001b[0m\u001b[0;34m)\u001b[0m\u001b[0;34m\u001b[0m\u001b[0m\n\u001b[1;32m    438\u001b[0m             \u001b[0;32mif\u001b[0m \u001b[0mmarkers\u001b[0m \u001b[0;32mis\u001b[0m \u001b[0;32mnot\u001b[0m \u001b[0;32mNone\u001b[0m\u001b[0;34m:\u001b[0m\u001b[0;34m\u001b[0m\u001b[0m\n",
      "\u001b[0;32m/usr/lib/python3.5/json/encoder.py\u001b[0m in \u001b[0;36mdefault\u001b[0;34m(self, o)\u001b[0m\n\u001b[1;32m    177\u001b[0m \u001b[0;34m\u001b[0m\u001b[0m\n\u001b[1;32m    178\u001b[0m         \"\"\"\n\u001b[0;32m--> 179\u001b[0;31m         \u001b[0;32mraise\u001b[0m \u001b[0mTypeError\u001b[0m\u001b[0;34m(\u001b[0m\u001b[0mrepr\u001b[0m\u001b[0;34m(\u001b[0m\u001b[0mo\u001b[0m\u001b[0;34m)\u001b[0m \u001b[0;34m+\u001b[0m \u001b[0;34m\" is not JSON serializable\"\u001b[0m\u001b[0;34m)\u001b[0m\u001b[0;34m\u001b[0m\u001b[0m\n\u001b[0m\u001b[1;32m    180\u001b[0m \u001b[0;34m\u001b[0m\u001b[0m\n\u001b[1;32m    181\u001b[0m     \u001b[0;32mdef\u001b[0m \u001b[0mencode\u001b[0m\u001b[0;34m(\u001b[0m\u001b[0mself\u001b[0m\u001b[0;34m,\u001b[0m \u001b[0mo\u001b[0m\u001b[0;34m)\u001b[0m\u001b[0;34m:\u001b[0m\u001b[0;34m\u001b[0m\u001b[0m\n",
      "\u001b[0;31mTypeError\u001b[0m: 1 is not JSON serializable"
     ]
    }
   ],
   "source": [
    "from jfdata.utilities.publish import save_dataframe\n",
    "save_dataframe(df_model, 'model_data_20170411.csv', index = False)"
   ]
  },
  {
   "cell_type": "code",
   "execution_count": 10,
   "metadata": {
    "ExecuteTime": {
     "end_time": "2017-04-10T12:19:44.596724Z",
     "start_time": "2017-04-10T20:19:43.919150+08:00"
    }
   },
   "outputs": [],
   "source": [
    "df_plot = get_plot_col(df_model)"
   ]
  },
  {
   "cell_type": "markdown",
   "metadata": {},
   "source": [
    "# 单变量可视化"
   ]
  },
  {
   "cell_type": "markdown",
   "metadata": {},
   "source": [
    "## 筛选出要可视化的列及ｍｏｄｅｌ_key"
   ]
  },
  {
   "cell_type": "code",
   "execution_count": 11,
   "metadata": {
    "ExecuteTime": {
     "end_time": "2017-04-10T12:19:44.601248Z",
     "start_time": "2017-04-10T20:19:44.598240+08:00"
    }
   },
   "outputs": [],
   "source": [
    "if plot_col_list:\n",
    "    plot_col_list = plot_col_list\n",
    "else:\n",
    "    plot_col_list = list(set(list(df_plot.columns))-set([model_key]))"
   ]
  },
  {
   "cell_type": "markdown",
   "metadata": {},
   "source": [
    "# 编写可视化函数"
   ]
  },
  {
   "cell_type": "code",
   "execution_count": 12,
   "metadata": {
    "ExecuteTime": {
     "end_time": "2017-04-10T12:20:17.891214Z",
     "start_time": "2017-04-10T20:19:44.602582+08:00"
    },
    "scrolled": true
   },
   "outputs": [],
   "source": [
    "image_dict = get_plot(df_plot,plot_col_list)"
   ]
  },
  {
   "cell_type": "code",
   "execution_count": 14,
   "metadata": {
    "ExecuteTime": {
     "end_time": "2017-04-10T12:21:27.742189Z",
     "start_time": "2017-04-10T20:21:04.499053+08:00"
    }
   },
   "outputs": [],
   "source": [
    "# 读取图片地址，并存储下来\n",
    "cid_dict = {}\n",
    "i = 0\n",
    "for k,v in image_dict.items():\n",
    "    cid = 'image'+str(i).zfill(3)\n",
    "    path = 'images/{}/{}.png'.format(product, cid)\n",
    "    image_dict[k].savefig(path)\n",
    "    cid_dict[k] = {'cid':cid,'path':path}\n",
    "    i+=1"
   ]
  },
  {
   "cell_type": "markdown",
   "metadata": {},
   "source": [
    "# 邮件报告"
   ]
  },
  {
   "cell_type": "code",
   "execution_count": 15,
   "metadata": {
    "ExecuteTime": {
     "end_time": "2017-04-10T12:21:27.747443Z",
     "start_time": "2017-04-10T20:21:27.743735+08:00"
    },
    "collapsed": true
   },
   "outputs": [],
   "source": [
    "from jfdata.utilities.html_report import Tag"
   ]
  },
  {
   "cell_type": "code",
   "execution_count": 16,
   "metadata": {
    "ExecuteTime": {
     "end_time": "2017-04-10T12:21:27.779575Z",
     "start_time": "2017-04-10T20:21:27.748858+08:00"
    },
    "collapsed": true
   },
   "outputs": [],
   "source": [
    "report = Tag('html',tag_class='mail_report')"
   ]
  },
  {
   "cell_type": "code",
   "execution_count": 17,
   "metadata": {
    "ExecuteTime": {
     "end_time": "2017-04-10T12:21:27.810776Z",
     "start_time": "2017-04-10T20:21:27.781377+08:00"
    },
    "collapsed": true
   },
   "outputs": [],
   "source": [
    "report  = (\n",
    "    report\n",
    "    .add_title('{}坏账情况的分析和建模'.format(product_name))\n",
    "    .add_list(\n",
    "        '说明:',\n",
    "        [\n",
    "            '截止20170303时，逾期30天以上还款的借贷被看做是一笔坏账(不管最终是否会还款)',\n",
    "            '分析的数据范围是20170203之前申请的借贷数据',\n",
    "            '综合利用了支付， 小贷， 同盾分等不同来源的数据'\n",
    "        ]\n",
    "    ).add_list(\n",
    "        '结论:',\n",
    "        [\n",
    "            '目前多次借贷的用户少数会出现填写信息和之前不一样的现象。 但是这个现象和是否产生坏账没有迹象能产生关联。建议对于第二次及以上借贷的用户， 采用上一次填写的内容作为默认值，不强迫用户重新填写，但允许用户需要时进行修改',\n",
    "            '经纬度数据目前缺失非常严重， 无法经纬度数据对于坏账预测的影响',\n",
    "            '用户填写了几个不同的信息那里的“空”，表示用户是首次借贷。 二次以及二次以上借贷的用户， 风险度明显比首次借贷的用户低。',\n",
    "            '同盾分背后的明细数据，诸如在其他金融平台借贷的次数，对模型准确性有明显的提升'\n",
    "        ]\n",
    "    )\n",
    ")"
   ]
  },
  {
   "cell_type": "code",
   "execution_count": 18,
   "metadata": {
    "ExecuteTime": {
     "end_time": "2017-04-10T12:21:27.847387Z",
     "start_time": "2017-04-10T20:21:27.812410+08:00"
    }
   },
   "outputs": [
    {
     "data": {
      "text/plain": [
       "<jfdata.utilities.html_report.Tag at 0x7f5a107937f0>"
      ]
     },
     "execution_count": 18,
     "metadata": {},
     "output_type": "execute_result"
    }
   ],
   "source": [
    "chapter_1 = Tag('div')\n",
    "\n",
    "chapter_1 = (\n",
    "    chapter_1\n",
    "    .append(Tag('h2','支付数据单个维度和坏账现象一一比较'))\n",
    "    .add_list(\n",
    "        '说明1:',\n",
    "        [\n",
    "            '蓝色(False)表示未发生坏账的借贷, 红色(True)表示发生坏账的借贷',\n",
    "            '纵轴表示某个特征维度的取值或者取值区间，横轴表示在对应的取值或者取值区间中所占的百分比。',\n",
    "        ]\n",
    "    )\n",
    ")\n",
    "\n",
    "for c in df_plot.columns:\n",
    "    if c!=model_key:\n",
    "        section = Tag('div')\n",
    "        section.append(Tag('h3',c))\n",
    "        section.add_image(cid_dict[c]['cid'], cid=True)        \n",
    "        chapter_1.append(section)\n",
    "\n",
    "\n",
    "report.append(chapter_1)"
   ]
  },
  {
   "cell_type": "code",
   "execution_count": 20,
   "metadata": {
    "ExecuteTime": {
     "end_time": "2017-04-10T12:22:03.368685Z",
     "start_time": "2017-04-10T20:22:03.221943+08:00"
    }
   },
   "outputs": [],
   "source": [
    "from jfdata.utilities.publish import send_mail\n",
    "from premailer import transform"
   ]
  },
  {
   "cell_type": "code",
   "execution_count": 21,
   "metadata": {
    "ExecuteTime": {
     "end_time": "2017-04-10T12:22:07.747466Z",
     "start_time": "2017-04-10T20:22:07.742334+08:00"
    }
   },
   "outputs": [],
   "source": [
    "cid_dict_ = {}\n",
    "for k, v in cid_dict.items():\n",
    "    cid_dict_[v['cid']] = v['path']"
   ]
  },
  {
   "cell_type": "code",
   "execution_count": 22,
   "metadata": {
    "ExecuteTime": {
     "end_time": "2017-04-10T12:22:08.265123Z",
     "start_time": "2017-04-10T20:22:08.193739+08:00"
    }
   },
   "outputs": [],
   "source": [
    "html_text = report.to_html()\n",
    "\n",
    "styles = '''\n",
    "<style>\n",
    "    h1 {\n",
    "        font-size: 30px;\n",
    "    }\n",
    "    \n",
    "    h2 {\n",
    "        font-size: 25px;\n",
    "    }\n",
    "    \n",
    "    h3 {\n",
    "        font-size: 20px;\n",
    "    }    \n",
    "    \n",
    "    img {\n",
    "        width:90%\n",
    "    }\n",
    "    \n",
    "    ul p {\n",
    "        margin-top:0;\n",
    "        margin-bottom:0;\n",
    "    }\n",
    "    \n",
    "    .mail_report_chapter {\n",
    "        margin: 20px 0 20px 0;\n",
    "    }\n",
    "</style>\n",
    "'''\n",
    "\n",
    "l = [s for s in html_text.split('\\n') if s.replace('\\t','').replace(' ','')!='']\n",
    "\n",
    "html_text = transform(styles+'\\n'.join(l))"
   ]
  },
  {
   "cell_type": "code",
   "execution_count": 23,
   "metadata": {
    "ExecuteTime": {
     "end_time": "2017-04-10T12:22:12.937030Z",
     "start_time": "2017-04-10T20:22:08.845607+08:00"
    }
   },
   "outputs": [],
   "source": [
    "from jfdata.utilities.publish import send_mail\n",
    "\n",
    "send_mail(\n",
    "    'finance.datascience@jfpal.com',\n",
    "    'Jrsjkxzbbd2333',\n",
    "    ['hxt@jfpal.com'],\n",
    "    '{}支付数据分析和建模结果'.format(product_name),\n",
    "    html_text,\n",
    "    local_images= cid_dict_,\n",
    "    cc_addr = []\n",
    ")"
   ]
  }
 ],
 "metadata": {
  "hide_input": false,
  "kernelspec": {
   "display_name": "Python 3",
   "language": "python",
   "name": "python3"
  },
  "language_info": {
   "codemirror_mode": {
    "name": "ipython",
    "version": 3
   },
   "file_extension": ".py",
   "mimetype": "text/x-python",
   "name": "python",
   "nbconvert_exporter": "python",
   "pygments_lexer": "ipython3",
   "version": "3.7.1"
  },
  "toc": {
   "base_numbering": 1,
   "nav_menu": {
    "height": "142px",
    "width": "252px"
   },
   "number_sections": true,
   "sideBar": true,
   "skip_h1_title": false,
   "title_cell": "Table of Contents",
   "title_sidebar": "Contents",
   "toc_cell": false,
   "toc_position": {},
   "toc_section_display": "block",
   "toc_window_display": true
  }
 },
 "nbformat": 4,
 "nbformat_minor": 1
}
