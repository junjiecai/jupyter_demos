{
 "cells": [
  {
   "cell_type": "markdown",
   "metadata": {},
   "source": [
    "# 注意\n",
    "这篇文章主要参考了[Building a data science portfolio: Making a data science blog](https://www.dataquest.io/blog/how-to-setup-a-data-science-blog/)一文，讲解了将Jupyter Notebook发布成Blog的基本解决方案。 但是我在实践中发现文中提供的解决方案依然存在多方面的不足。例如\n",
    "\n",
    "* .ipynb文件一般要配合数据，其他py文件,图片等其他资源一起使用，所以往往需要将.ipynb文件和其他资源文件放在一个文件夹中。按照默认的设置， pelican是无法识别文件夹中的ipynb文件的，需要做出相应调整。\n",
    "* pelican转成的blog html,内容都是放在深层嵌套的```<div>```标签中的，这会导致一些javascript比如tocify.js失效(它能生成能随着文章浏览自动展开折叠的边栏目录)，因此需要添加一些javascript代码重构生成的html的结构\n",
    "* Pelican的Clean主题缺乏Blog需要的常见功能，例如评论功能，流量统计功能，打赏功能等等。\n",
    "\n",
    "总之需要流畅的将一个Jupyter Notebook实验项目发布成功能完备的blog页面，还需要对pelican配置和Theme做出大量调整和修改。\n",
    "\n",
    "如果大家不想折腾的话,建议直接fork我在github上的[这个项目](https://github.com/junjiecai/pelican_setup_for_jupyters)。这个项目中已经包含了调整过的pelican设置和Theme文件，只需做出最少量的配置就可以顺利的使用jupyter notebook开始写自己的博客，使用方法参见项目的README"
   ]
  },
  {
   "cell_type": "markdown",
   "metadata": {},
   "source": [
    "# 说明\n",
    "Jupyter Notebook是进行代码实验非常好用的工具， 可以一边交互式的进行代码探索，一边利用markdown穿插丰富文本，图片，视频等描述资源。\n",
    "\n",
    "另一方面，很多工程师也有写技术Blog记录自己的心得笔记的习惯。 如果能一边用Jupyter Notebook实验代码， 一边添加相关的文本描述， 最后直接将Jupyter Notebook的内容发布为Blog， 那将获得非常流畅的技术Blog创作体验。\n",
    "\n",
    "(遥想当年在中科院的时候， 每次要写分析报告， 首先要开matlab编写代码， 运行代码， 将代码的结果保存为文本， 图片，Excel等文件， 然后再开Word， 一边写报告， 一边要导入图片， 数据。 更糟糕的是， 一旦代码发生更改， 程序生成的结果发生了改变， 可能又得重新调整Word文档。 这个过程非常的繁琐耗时。 由于报告的内容和代码并非紧密的结合， 时间久了以后， 想不起来当时某个处理的细节， 又找不到当时的代码的事情也是经常发生。)\n",
    "\n",
    "这篇文章就是讲解如何利用Pelican将Jupyter Notebook上做的实验直接发布在Git Pages上。\n",
    "\n",
    "这里是一个效果展示。[这个git repo](https://github.com/junjiecai/jupyter_labs/tree/master/exolution)用于存放jupyter notebooks实验，而[这里](https://junjiecai.github.io)是这个notebooks被发布成blogs以后的效果。\n",
    "\n",
    "\n",
    "# 重要的组件\n",
    "在Jupyter Notebook中编写内容， 然后由Pelican负责将jupyter notebook组装成blog html， Github Pages则提供了网站服务，让大家能通过浏览器看到你的Blog。\n",
    "\n",
    "不过要注意的是，转成html后的代码部分是不能运行的，如果希望读者享受到Jupyter Notebook的便利，可以将文章对应的.ipynb源文件的地址(可以把源文件也放在Github)贴在文章里，供读者下载。例如这篇文章的。\n",
    "\n",
    "## Github Pages\n",
    "Github Pages是github公司提供的免费的静态网站托管服务，具体使用上，就是注册用户在Gihub上创建过一个[username].github.io的repo,并且在里面的master branch存有html文件的话，那么其他人就可以通过http://[username].github.io 这个链接访问到这些html页面。\n",
    "\n",
    "例如我把这篇文章对应的blog_with_jupyter.html放在了junjiecai.github.io的repo中的master branch里(这里是[链接](https://github.com/junjiecai/junjiecai.github.io/tree/master/posts/2016/Aug/10/blog_with_jupyter)，那么大家就可以通过http://junjiecai.github.io/posts/2016/Aug/10/blog_with_jupyter/看到这篇文章\n",
    "\n",
    "如果用户愿意，也可以绑定自己准备的域名，代替http://[username].github.io\n",
    "\n",
    "## Pelican\n",
    "Pelican是一个基于python的开源库，可以将markdown, jupyter notebook(需要额外插件)等文件转成html文件，并根据meta-data和theme信息， 在生成的html中添加分类，标签，菜单，侧边栏等组件和相应的css style，生成可以用于Blog使用的html文件。\n",
    "\n",
    "## Jupyter Notebook\n",
    "jupyter notebook提供了一个交互环境，可以在web浏览器一边编写code，运行并展示结果，一边用markdown添加图文视频等丰富的内容进行相应的描述。代码调试完，文章也写完，省去了将code复制粘贴到文章的繁琐的过程。既省事，也避免了文章中的code和运行时的code不一致的问题。\n",
    "\n",
    "另一方面，如果读者如果下载了jupyter notebook源文件，就可以直接在浏览器上边看文章，边调试代码，体验也流畅很多。\n",
    "\n",
    "Jupyter notebook支持python, R, scala, Julia等40多种编程语言， 如果对Jupyter Notebook不了解的话，请去[官网](http://jupyter.org/)了解一下(似乎被墙了，请自备梯子)。\n",
    "\n",
    "下面就是Jupyter Notebook编写了一段可视化代码，运行后展示结果的例子。"
   ]
  },
  {
   "cell_type": "code",
   "execution_count": 5,
   "metadata": {
    "collapsed": false
   },
   "outputs": [
    {
     "ename": "ImportError",
     "evalue": "No module named 'seaborn'",
     "output_type": "error",
     "traceback": [
      "\u001b[0;31m---------------------------------------------------------------------------\u001b[0m",
      "\u001b[0;31mImportError\u001b[0m                               Traceback (most recent call last)",
      "\u001b[0;32m<ipython-input-5-e1e831e479a7>\u001b[0m in \u001b[0;36m<module>\u001b[0;34m()\u001b[0m\n\u001b[1;32m      1\u001b[0m \u001b[0mget_ipython\u001b[0m\u001b[0;34m(\u001b[0m\u001b[0;34m)\u001b[0m\u001b[0;34m.\u001b[0m\u001b[0mmagic\u001b[0m\u001b[0;34m(\u001b[0m\u001b[0;34m'matplotlib inline'\u001b[0m\u001b[0;34m)\u001b[0m\u001b[0;34m\u001b[0m\u001b[0m\n\u001b[1;32m      2\u001b[0m \u001b[0;32mimport\u001b[0m \u001b[0mnumpy\u001b[0m \u001b[0;32mas\u001b[0m \u001b[0mnp\u001b[0m\u001b[0;34m\u001b[0m\u001b[0m\n\u001b[0;32m----> 3\u001b[0;31m \u001b[0;32mimport\u001b[0m \u001b[0mseaborn\u001b[0m \u001b[0;32mas\u001b[0m \u001b[0msns\u001b[0m\u001b[0;34m\u001b[0m\u001b[0m\n\u001b[0m\u001b[1;32m      4\u001b[0m \u001b[0;32mimport\u001b[0m \u001b[0mmatplotlib\u001b[0m\u001b[0;34m.\u001b[0m\u001b[0mpyplot\u001b[0m \u001b[0;32mas\u001b[0m \u001b[0mplt\u001b[0m\u001b[0;34m\u001b[0m\u001b[0m\n\u001b[1;32m      5\u001b[0m \u001b[0;34m\u001b[0m\u001b[0m\n",
      "\u001b[0;31mImportError\u001b[0m: No module named 'seaborn'"
     ]
    }
   ],
   "source": [
    "%matplotlib inline\n",
    "import numpy as np\n",
    "import seaborn as sns\n",
    "import matplotlib.pyplot as plt\n",
    "\n",
    "sns.set(style=\"dark\")\n",
    "rs = np.random.RandomState(50)\n",
    "\n",
    "# Set up the matplotlib figure\n",
    "f, axes = plt.subplots(3, 3, figsize=(9, 9), sharex=True, sharey=True)\n",
    "\n",
    "# Rotate the starting point around the cubehelix hue circle\n",
    "for ax, s in zip(axes.flat, np.linspace(0, 3, 10)):\n",
    "\n",
    "    # Create a cubehelix colormap to use with kdeplot\n",
    "    cmap = sns.cubehelix_palette(start=s, light=1, as_cmap=True)\n",
    "\n",
    "    # Generate and plot a random bivariate dataset\n",
    "    x, y = rs.randn(2, 50)\n",
    "    sns.kdeplot(x, y, cmap=cmap, shade=True, cut=5, ax=ax)\n",
    "    ax.set(xlim=(-3, 3), ylim=(-3, 3))\n",
    "\n",
    "f.tight_layout()"
   ]
  },
  {
   "cell_type": "markdown",
   "metadata": {},
   "source": [
    "# 系统环境\n",
    "* 我的操作系统是Ubunut 16\n",
    "* Python版本是3.5\n",
    "\n",
    "windows/mac或是python2.7的话安装过程请自行做一些相应的调整-_-"
   ]
  },
  {
   "cell_type": "markdown",
   "metadata": {},
   "source": [
    "# 步骤\n",
    "\n",
    "## 安装Pelican和Jupyter\n",
    "下面是安装过程\n",
    "\n",
    "* 创建一个文件夹， 我用的名字是jupyter-blog\n",
    "* (可选步骤)在jupyter-blog新建一个virtual env, 不会的话请看[这里](http://docs.python-guide.org/en/latest/dev/virtualenvs/)\n",
    "\n",
    "当然如果不需要让Pelican使用单独的的python环境的话， 跳过这个步骤也没问题\n",
    "* 安装所需的依赖包\n",
    "由于所需的依赖比较多，因此可以在jupyter-blog创建requirements.txt文件后一起安装。 requirements.txt中的内容是\n",
    "```\n",
    "Markdown\n",
    "pelican\n",
    "jupyter\n",
    "ipython\n",
    "nbconvert\n",
    "beautifulsoup4\n",
    "matplotlib\n",
    "```\n",
    "然后运行```pip install -r requirements.txt```进行安装。 \n",
    "\n",
    "## 初始化Pelican\n",
    "\n",
    "在jupyter-blog目录运行```pelican-quickstart```，会弹出一系列的问题，全部填完后Pelican就会完成初始化\n",
    "\n",
    "下面只列出几个重要的问题， 和我填的内容, 根据自己的情况调整即可。剩余的问题直接按回车，使用默认值即可。\n",
    "\n",
    "```\n",
    "What will be the title of this web site? JunjieCai's Blog\n",
    "Who will be the author of this web site? JunjieCai\n",
    "What will be the default language of this web site? en\n",
    "Do you want to specify a URL prefix? e.g., http://example.com (Y/n) n\n",
    "What is your time zone? [Europe/Paris] Asia/Shanghai\n",
    "```\n",
    "\n",
    "这步骤完成后， 文件夹的结构看上去应该是这样的\n",
    "```\n",
    "jupyter-blog\n",
    "│   output\n",
    "│   content\n",
    "│   develop_server.sh\n",
    "│   fabfile.py\n",
    "│   Makefile\n",
    "│   requirements.txt\n",
    "│   pelicanconf.py\n",
    "│   publishconf.py\n",
    "```\n",
    "\n",
    "## 安装Jupyter Notebook插件\n",
    "经过前面的步骤,Pelican已经算是安装好了，但是默认情况下，它是不支持Jupyter Notebook的,因此需要额外的安装Jupyter Plugin。\n",
    "\n",
    "* 如果没有安装git, 先用sudo apt-get install git安装git\n",
    "* 在jupyter-blog运行```git init```， 将jupyter-blog变成git repository\n",
    "* 在jupyter-blog中创建一个叫plugin的文件夹\n",
    "* 在jupyter-blog中运行```git submodule add git://github.com/danielfrg/pelican-ipynb.git plugins/ipynb```\n",
    "\n",
    "为了激活插件，还要记得修改jupyter-blog中的pelicanconf.py文件，在最后添加以下几行，并且保存\n",
    "```\n",
    "MARKUP = ('md', 'ipynb')\n",
    "\n",
    "PLUGIN_PATH = './plugins'\n",
    "PLUGINS = ['ipynb.markup']\n",
    "```\n"
   ]
  },
  {
   "cell_type": "markdown",
   "metadata": {},
   "source": [
    "## 发布Blog\n",
    "### 编写Jupyter Notebook\n",
    "* 在jupyter-blog/content/下打开jupyter notebook， 撰写第一份blog， 并且保存为.ipynb文件。 已当前的这篇文章为例， 我使用的文件名是blog_with_jupyter.ipynb\n",
    "\n",
    "* 然后新建一个同名的文件, 但是后缀要改成.ipynb-meta。 在我的例子里， 就是blog_with_jupyter.ipynb-meta这个文件主要是为了定义blog的名称，作者，时间，分类等信息, pelican生成html的时候需要用到这些信息。 在该文件中添加以下信息(请根据自己的情况修改)\n",
    "\n",
    "```\n",
    "Title: 如何用pelican, jupyter notebook搭建技术博客\n",
    "Slug: blog_with_jupyter\n",
    "Date: 2016-09-11 18:55\n",
    "Category: tools\n",
    "Tags: blog tool\n",
    "Author: Junjie Cai\n",
    "Summary: 简单介绍了如何在Pelican和GitPages的帮助下，用Jupyter Notebook撰写Blog\n",
    "```\n",
    "\n",
    "```Slug```是访问这篇Blog所需要的url路径。例如Server地址是http://junjiecai.github.io/ 的话, 那么这篇blog的访问链接就是http://junjiecai.github.io/blog_with_jupyter\n",
    "\n",
    "```Tags```表示标签， 不过多个Tag之间注意要用空格去区分\n",
    "\n",
    "其余的应该不用解释了:)"
   ]
  },
  {
   "cell_type": "markdown",
   "metadata": {},
   "source": [
    "这步骤完成后， 文件夹的结构看上去应该是这样的\n",
    "```\n",
    "jupyter-blog\n",
    "│   output\n",
    "│   content\n",
    "    | blog_with_jupyter.ipynb\n",
    "    | blog_with_jupyter.ipynb-meta\n",
    "│   develop_server.sh\n",
    "│   fabfile.py\n",
    "│   Makefile\n",
    "│   requirements.txt\n",
    "│   pelicanconf.py\n",
    "│   publishconf.py\n",
    "```\n",
    "\n"
   ]
  },
  {
   "cell_type": "markdown",
   "metadata": {
    "collapsed": true
   },
   "source": [
    "## 生成HTML文件并在本地测试"
   ]
  },
  {
   "cell_type": "markdown",
   "metadata": {},
   "source": [
    "* 切换到jupyter-blog文件夹\n",
    "* 运行```pelican content```。 这样Pelican就会读取jupyter-blog/content文件夹中的.ipynb和.ipynb-meta文件，并且结合theme等内容， 在jupyter-blog/output文件夹中生成相应的html文件。运行玩这步后，可以在content文件夹中看到新增了不少.html文件\n",
    "* 切换到jupyter-blog/output文件夹， 运行```python -m pelican.server```启动一个本地的服务起， 然后打开浏览器，输入localhost:8000，一切顺利的话就可以看到自己的blog文章页面"
   ]
  },
  {
   "cell_type": "markdown",
   "metadata": {},
   "source": [
    "## 将HTML文件部署到到GitHub Pages\n",
    "* 没注册Github的，先去[Github](www.github.com)注册\n",
    "* 在github创建一个叫[username].github.io的repository, **把[username]替换成注册时用的username,后面相同。**\n",
    "* 将本地的jupyter-blog文件夹和github上的[username].github.io建立连接\n",
    "切换到jupyter-blog文件夹后运行```git remote add origin git@github.com:[username]/[username].github.io.git```\n",
    "* 在jupyter-blog创建一个.gitignore(这不是后缀，完整的文件名就是这样)文件， 里面的内容可以参考[这里](https://github.com/github/gitignore/blob/master/Python.gitignore)， 将一些不必要的内容排除出git同步的范围。\n",
    "* 修改publishconf.py文件， 将SITEURL改成http://[username].github.io\n",
    "\n",
    "    \n",
    "要部署到GitPages前，在jupyter-blog运行```pelican content -s publishconf.py```,重新生成html文件\n",
    "(如果要在本地预览，用```pelican content```)\n",
    "\n",
    "最后利用\n",
    "```\n",
    "ghp-import output -b master\n",
    "git push origin master\n",
    "```\n",
    "提交html页面至[username].github.io的master repo即可。\n",
    "\n",
    "注:GitHub Pages识别的是[username].github.io中master branch repo根目录下的.html文件， 而我们本地生成的html文件是在output文件家中， 因此这里才需要```ghp-import```的协助，将output文件夹中的内容部署后实现放在[username].github.io根目录下。\n",
    "\n",
    "成功后就可以在[username].github.io的master分支看到变化。 不过如果要在http://[username].github.io 的页面上看到变化，可能要等上几分钟。"
   ]
  },
  {
   "cell_type": "markdown",
   "metadata": {},
   "source": [
    "## 将.ipynb文件也同步到Github\n",
    "\n",
    "如果除了生成的html文件，我们需要将content文件夹中的.ipynb等文件也在[username].github.io保留一份，可以新建一个dev branch， 然后用经典的\n",
    "```\n",
    "git add --all\n",
    "git commit -m 'you comment'\n",
    "git push origin dev\n",
    "```\n",
    "流程将```jupyter-blog```的内容添加到dev branch即可。"
   ]
  },
  {
   "cell_type": "markdown",
   "metadata": {},
   "source": [
    "## 更改Theme和添加插件\n",
    "可以去查询pelican的[官方文档](http://docs.getpelican.com/en/3.6.3/)和pelican的[Theme站](https://github.com/getpelican/pelican-themes)自己去进行配置。\n",
    "\n",
    "除此之外，也可以去Pelican的[插件站](https://github.com/getpelican/pelican-plugins)挑选对自己有用的插件。\n",
    "\n",
    "由于每个Theme和插件的配置方式都有有些不同，以Theme和插件自己的说明为准。这里就不详细介绍了。"
   ]
  }
 ],
 "metadata": {
  "kernelspec": {
   "display_name": "Python 3",
   "language": "python",
   "name": "python3"
  },
  "language_info": {
   "codemirror_mode": {
    "name": "ipython",
    "version": 3
   },
   "file_extension": ".py",
   "mimetype": "text/x-python",
   "name": "python",
   "nbconvert_exporter": "python",
   "pygments_lexer": "ipython3",
   "version": "3.5.2"
  }
 },
 "nbformat": 4,
 "nbformat_minor": 0
}
