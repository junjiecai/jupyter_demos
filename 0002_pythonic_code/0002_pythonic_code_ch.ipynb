{
 "cells": [
  {
   "cell_type": "markdown",
   "metadata": {},
   "source": [
    "充分利用python的特点和功能， 可以让我们的代码更加的简洁， 有更好的可读性， 很多情况下也会带来更好的性能。 符合这样要求的代码也被python社区称为pythonic的代码。\n",
    "\n",
    "这里举例一些常见的使用python时遇到的场景。 针对这些场景， 给出两个版本的代码， 它们都实现了同样的功能， 但是第一个版本没有充分利用python特性，另一个版本则比较pythonic。"
   ]
  },
  {
   "cell_type": "markdown",
   "metadata": {},
   "source": [
    "pythonic的代码除了简介优雅，大部分时候，也会有更好的性能(因为它们经过特别优化)。为了验证这点，我们可以利用helper.py中的func_compare函数比较两个版本的代码的性能。"
   ]
  },
  {
   "cell_type": "code",
   "execution_count": 7,
   "metadata": {
    "collapsed": true
   },
   "outputs": [],
   "source": [
    "# 这段代码定义了一个函数， 可以将相同的参数传给两个版本的函数后比较运行时间， 后面的代码实验中会用到， 默认每个函数重复100000次。\n",
    "from helper import func_compare"
   ]
  },
  {
   "cell_type": "markdown",
   "metadata": {},
   "source": [
    "## tuple/list unpacking"
   ]
  },
  {
   "cell_type": "markdown",
   "metadata": {},
   "source": [
    "### 批量赋值给多个变量\n",
    "\n",
    "从一个tuple/list中将数据取出， 赋值给几个不同的变量是一个常见的需求。有时候这个tuple/list中还会嵌套更多的tuple/list。\n",
    "\n",
    "下面的例子里， 我们有这样一个tuple"
   ]
  },
  {
   "cell_type": "code",
   "execution_count": 8,
   "metadata": {
    "collapsed": true
   },
   "outputs": [],
   "source": [
    "d = ('male',('Junjie', 'Cai'), 'cjj@jfpal.com', 'data engineer')"
   ]
  },
  {
   "cell_type": "markdown",
   "metadata": {},
   "source": [
    "现在希望将里面的性别， 姓， 名， 邮箱几个数据取出并赋值给相应的变量后， 然后用这些变量组成一个字符串返回。 \n",
    "\n",
    "版本1的代码用index一个个的取出数值\n"
   ]
  },
  {
   "cell_type": "code",
   "execution_count": 9,
   "metadata": {
    "collapsed": false
   },
   "outputs": [],
   "source": [
    "def func_ver_1(d):\n",
    "    sex = d[0]\n",
    "    email = d[2]\n",
    "    name = d[1]\n",
    "    family_name = name[1]\n",
    "    first_name = name[0]\n",
    "    title = d[3]\n",
    "    \n",
    "    return \"{family_name} {first_name} is a {sex} {title} with email:{email}\".format(**locals())   \n"
   ]
  },
  {
   "cell_type": "markdown",
   "metadata": {},
   "source": [
    "版本2的代码则利用tuple unpacking一次性的取出所有数值。"
   ]
  },
  {
   "cell_type": "code",
   "execution_count": 12,
   "metadata": {
    "collapsed": false
   },
   "outputs": [
    {
     "name": "stdout",
     "output_type": "stream",
     "text": [
      "func_1 result:\n",
      "Cai Junjie is a male data engineer with email:cjj@jfpal.com\n",
      "\n",
      "func_2 result:\n",
      "Cai Junjie is a male data engineer with email:cjj@jfpal.com\n",
      "\n",
      "time: 1.912s vs 1.681s\n",
      "----------------------\n"
     ]
    }
   ],
   "source": [
    "def func_ver_2(d):\n",
    "    sex, (first_name, family_name), email, title = d\n",
    "    \n",
    "    return \"{family_name} {first_name} is a {sex} {title} with email:{email}\".format(**locals())\n",
    "    \n",
    "d = ('male',('Junjie', 'Cai'), 'cjj@jfpal.com', 'data engineer')\n",
    "\n",
    "func_compare(func_ver_1, func_ver_2, [d])"
   ]
  },
  {
   "cell_type": "markdown",
   "metadata": {},
   "source": [
    "### 在循环中利用\n",
    "\n",
    "上面的技巧可以放在for循环中使用。看下面的例子。"
   ]
  },
  {
   "cell_type": "code",
   "execution_count": 14,
   "metadata": {
    "collapsed": true
   },
   "outputs": [],
   "source": [
    "d_list = [\n",
    " ('male',('Junjie', 'Cai'), 'cjj@jfpal.com', 'data engineer'),\n",
    " ('male',('Hongfei', 'Bao'), 'bhf@jfpal.com', 'data engineer')    \n",
    "]"
   ]
  },
  {
   "cell_type": "code",
   "execution_count": 15,
   "metadata": {
    "collapsed": false
   },
   "outputs": [
    {
     "name": "stdout",
     "output_type": "stream",
     "text": [
      "func_1 result:\n",
      "['Cai Junjie is a male data engineer with email:cjj@jfpal.com', 'Bao Hongfei is a male data engineer with email:bhf@jfpal.com']\n",
      "\n",
      "func_2 result:\n",
      "['Cai Junjie is a male data engineer with email:cjj@jfpal.com', 'Bao Hongfei is a male data engineer with email:bhf@jfpal.com']\n",
      "\n",
      "time: 3.791s vs 3.231s\n",
      "----------------------\n"
     ]
    }
   ],
   "source": [
    "def func_ver_1(d_list):\n",
    "    str_list = []\n",
    "    \n",
    "    for d in d_list:\n",
    "        sex = d[0]\n",
    "        email = d[2]\n",
    "        name = d[1]\n",
    "        family_name = name[1]\n",
    "        first_name = name[0]\n",
    "        title = d[3]\n",
    "        \n",
    "        str_list.append(\"{family_name} {first_name} is a {sex} {title} with email:{email}\".format(**locals()))\n",
    "        \n",
    "    return str_list\n",
    "    \n",
    "    \n",
    "def func_ver_2(d):\n",
    "    str_list = []    \n",
    "    for sex, (first_name, family_name), email, title in d_list:      \n",
    "        str_list.append(\"{family_name} {first_name} is a {sex} {title} with email:{email}\".format(**locals()))        \n",
    "    \n",
    "    return str_list\n",
    "\n",
    "func_compare(func_ver_1, func_ver_2, [d_list])"
   ]
  },
  {
   "cell_type": "markdown",
   "metadata": {},
   "source": [
    "### 选取开头和结尾部分的变量\n",
    "假设这里只需要取出第一个和最后一个变量。\n",
    "\n",
    "tuple/list unpacking是不能只选择头尾部分的数据的， 但是如果对tuple/list中间的部分不感兴趣， 可以用 **```*_```** 统一接收， 这样就会将中间段的数据放入变量名为**_**的list中， 后面代码不使用即可。 "
   ]
  },
  {
   "cell_type": "code",
   "execution_count": 18,
   "metadata": {
    "collapsed": false
   },
   "outputs": [
    {
     "name": "stdout",
     "output_type": "stream",
     "text": [
      "func_1 result:\n",
      "Owner of cjj@jfpal.com is male\n",
      "\n",
      "func_2 result:\n",
      "Owner of cjj@jfpal.com is male\n",
      "\n",
      "time: 1.081s vs 1.230s\n",
      "----------------------\n"
     ]
    }
   ],
   "source": [
    "def func_ver_1(d):\n",
    "    sex = d[0]\n",
    "    email = d[2]\n",
    "    \n",
    "    return \"Owner of {email} is {sex}\".format(**locals())\n",
    "    \n",
    "def func_ver_2(d):\n",
    "    sex, *_, email = d #注意这里\n",
    "    \n",
    "    return \"Owner of {email} is {sex}\".format(**locals())    \n",
    "    \n",
    "d = ('male',('Junjie', 'Cai'), 'cjj@jfpal.com')\n",
    "\n",
    "func_compare(func_ver_1, func_ver_2, [d])"
   ]
  },
  {
   "cell_type": "markdown",
   "metadata": {},
   "source": [
    "注意这里使用**_**作为变量名， 只是一种约定， 表示unpacking后，这个变量存的信息代码的作者并不关心。 不过实际上使用任何合法的变量名都是可以的。"
   ]
  },
  {
   "cell_type": "markdown",
   "metadata": {},
   "source": [
    "### 数值交换\n",
    "有a, b两个变量"
   ]
  },
  {
   "cell_type": "code",
   "execution_count": 19,
   "metadata": {
    "collapsed": true
   },
   "outputs": [],
   "source": [
    "a = 1\n",
    "b = 10"
   ]
  },
  {
   "cell_type": "markdown",
   "metadata": {},
   "source": [
    "我们需要交换a, b两个变量的数值。这时也可以利用tuple unpacking的技巧。"
   ]
  },
  {
   "cell_type": "code",
   "execution_count": 22,
   "metadata": {
    "collapsed": false
   },
   "outputs": [
    {
     "name": "stdout",
     "output_type": "stream",
     "text": [
      "func_1 result:\n",
      "(10, 1)\n",
      "\n",
      "func_2 result:\n",
      "(10, 1)\n",
      "\n",
      "time: 0.482s vs 0.362s\n",
      "----------------------\n"
     ]
    }
   ],
   "source": [
    "def func_ver_1(a, b):\n",
    "    temp = b\n",
    "    b = a\n",
    "    a = temp\n",
    "    \n",
    "    return (a, b)\n",
    "\n",
    "def func_ver_2(a, b):\n",
    "    a, b = b, a # 注意这里\n",
    "    \n",
    "    return (a, b)\n",
    "\n",
    "func_compare(func_ver_1, func_ver_2, [a,b])"
   ]
  },
  {
   "cell_type": "markdown",
   "metadata": {},
   "source": [
    "注意虽然没有添加()，但是python也是创建了一个tuple哦。"
   ]
  },
  {
   "cell_type": "code",
   "execution_count": 25,
   "metadata": {
    "collapsed": false
   },
   "outputs": [
    {
     "name": "stdout",
     "output_type": "stream",
     "text": [
      "<class 'tuple'>\n"
     ]
    }
   ],
   "source": [
    "x = 1,2\n",
    "print(type(x))"
   ]
  },
  {
   "cell_type": "markdown",
   "metadata": {},
   "source": [
    "这种场景很容易推广到多个变量数值进行交换的情况"
   ]
  },
  {
   "cell_type": "code",
   "execution_count": 26,
   "metadata": {
    "collapsed": false
   },
   "outputs": [
    {
     "name": "stdout",
     "output_type": "stream",
     "text": [
      "3 1 2\n"
     ]
    }
   ],
   "source": [
    "a = 1\n",
    "b = 2\n",
    "c = 3\n",
    "\n",
    "b, c, a = a, b, c\n",
    "\n",
    "print(a, b, c)"
   ]
  },
  {
   "cell_type": "markdown",
   "metadata": {},
   "source": [
    "## 字符串连接"
   ]
  },
  {
   "cell_type": "markdown",
   "metadata": {},
   "source": [
    "一个很常见的任务就是把list中的字符串用某个特定的字符进行拼接， 例如我们有这样一个list"
   ]
  },
  {
   "cell_type": "code",
   "execution_count": 27,
   "metadata": {
    "collapsed": true
   },
   "outputs": [],
   "source": [
    "s_list = ['To', 'be', 'or', 'not', 'to', 'be']"
   ]
  },
  {
   "cell_type": "markdown",
   "metadata": {},
   "source": [
    "希望把他们用空格去连接几个单词组成一个句子"
   ]
  },
  {
   "cell_type": "code",
   "execution_count": 28,
   "metadata": {
    "collapsed": false
   },
   "outputs": [
    {
     "name": "stdout",
     "output_type": "stream",
     "text": [
      "func_1 result:\n",
      "To be or not to be\n",
      "\n",
      "func_2 result:\n",
      "To be or not to be\n",
      "\n",
      "time: 1.557s vs 0.473s\n",
      "----------------------\n"
     ]
    }
   ],
   "source": [
    "def func_1(s_list, sep):\n",
    "    string = ''\n",
    "    for i, s in enumerate(s_list):\n",
    "        if i!=0:\n",
    "            string += sep+s\n",
    "        else:\n",
    "            string += s\n",
    "    return string\n",
    "\n",
    "def func_2(s_list,sep):\n",
    "    return sep.join(s_list)\n",
    "\n",
    "\n",
    "sep = ' '\n",
    "func_compare(func_1, func_2, [s_list, sep])"
   ]
  },
  {
   "cell_type": "markdown",
   "metadata": {},
   "source": [
    "第二个版本中， 用python内置的函数比自己去实现， 简洁度， 效率都高了不是一点点。"
   ]
  },
  {
   "cell_type": "markdown",
   "metadata": {},
   "source": [
    "## 二. 创建同值的list"
   ]
  },
  {
   "cell_type": "markdown",
   "metadata": {},
   "source": [
    "某时候我们需要快速的创建一个list， 里面的值是相同的。 \n",
    "\n",
    "例如， 我们创建一个长度为4的list, 其中每个位置的内容都是[0,0,0,0] "
   ]
  },
  {
   "cell_type": "code",
   "execution_count": 31,
   "metadata": {
    "collapsed": false
   },
   "outputs": [
    {
     "name": "stdout",
     "output_type": "stream",
     "text": [
      "func_1 result:\n",
      "[0, 0, 0, 0]\n",
      "\n",
      "func_2 result:\n",
      "[0, 0, 0, 0]\n",
      "\n",
      "time: 1.103s vs 0.483s\n",
      "----------------------\n"
     ]
    }
   ],
   "source": [
    "def func_1(v, n):\n",
    "    l = []\n",
    "    for i in range(n):\n",
    "        l.append(v)\n",
    "    return l\n",
    "\n",
    "def func_2(v, n):\n",
    "    return [v]*n\n",
    "\n",
    "func_compare(func_1, func_2, [0,4])"
   ]
  },
  {
   "cell_type": "markdown",
   "metadata": {},
   "source": [
    "python提供的**```*```**运算符可以将list复制扩增。"
   ]
  },
  {
   "cell_type": "markdown",
   "metadata": {},
   "source": [
    "不过这里要注意的是, 用这种方法创建的list中存放的数据如果是object， 它们指向的都是同一个object。 用下面的代码可以验证这点"
   ]
  },
  {
   "cell_type": "code",
   "execution_count": 35,
   "metadata": {
    "collapsed": false
   },
   "outputs": [
    {
     "name": "stdout",
     "output_type": "stream",
     "text": [
      "[[0, 0, 0, 0], [0, 0, 0, 0], [0, 0, 0, 0], [0, 0, 0, 0]]\n"
     ]
    }
   ],
   "source": [
    "a = [[0,0,0,0]]*4\n",
    "print(a)"
   ]
  },
  {
   "cell_type": "code",
   "execution_count": 36,
   "metadata": {
    "collapsed": false
   },
   "outputs": [
    {
     "name": "stdout",
     "output_type": "stream",
     "text": [
      "True\n",
      "[[10, 0, 0, 0], [10, 0, 0, 0], [10, 0, 0, 0], [10, 0, 0, 0]]\n"
     ]
    }
   ],
   "source": [
    "print(a[0] is a[1])\n",
    "\n",
    "a[0][0] = 10\n",
    "print(a)"
   ]
  },
  {
   "cell_type": "markdown",
   "metadata": {},
   "source": [
    "## for循环是否全通过"
   ]
  },
  {
   "cell_type": "markdown",
   "metadata": {},
   "source": [
    "有时候我们要判断一个for循环是否中途被break掉还是“寿终正寝”。 \n",
    "\n",
    "例如下面判断list_a中每一个元素是否都属于list_b(这里只是为了演示for...else...,完成这个需求更好的办法是用set)"
   ]
  },
  {
   "cell_type": "code",
   "execution_count": 37,
   "metadata": {
    "collapsed": true
   },
   "outputs": [],
   "source": [
    "list_a = ['java','spark','python']\n",
    "list_b = ['java','html5','excel','spark','python']"
   ]
  },
  {
   "cell_type": "code",
   "execution_count": 39,
   "metadata": {
    "collapsed": false
   },
   "outputs": [
    {
     "name": "stdout",
     "output_type": "stream",
     "text": [
      "func_1 result:\n",
      "all item in list_a is in list_b\n",
      "\n",
      "func_2 result:\n",
      "all item in list_a is in list_b\n",
      "\n",
      "time: 0.641s vs 0.654s\n",
      "----------------------\n"
     ]
    }
   ],
   "source": [
    "def func_1(list_a, list_b):\n",
    "    is_all_in = True\n",
    "    \n",
    "    for x in list_a:\n",
    "        if not x in list_b:\n",
    "            is_all_in = False\n",
    "            break\n",
    "            \n",
    "    if is_all_in:\n",
    "        return 'all item in list_a is in list_b'\n",
    "    else:\n",
    "        return 'not all item in list_a is in list_b'        \n",
    "        \n",
    "def func_2(available, demand):\n",
    "    for x in list_a:\n",
    "        if not x in list_b:\n",
    "            return 'not all item in list_a is in list_b'        \n",
    "    else: \n",
    "        return 'all item in list_a is in list_b'\n",
    "        \n",
    "func_compare(func_1, func_2, [list_a, list_b])"
   ]
  },
  {
   "cell_type": "markdown",
   "metadata": {},
   "source": [
    "for ...else...中的else刚接触会觉得有点别扭， 总之记住如果for循环部分执行了break， 或者出现Exception， else分支就不会被执行即可。 利用这个语句可以省掉一个flag变量标记for循环是否中途被break掉。"
   ]
  },
  {
   "cell_type": "markdown",
   "metadata": {},
   "source": [
    "## 10>c>b>a>0?"
   ]
  },
  {
   "cell_type": "markdown",
   "metadata": {},
   "source": [
    "如何判断10>c>b>a>0?"
   ]
  },
  {
   "cell_type": "code",
   "execution_count": 40,
   "metadata": {
    "collapsed": false
   },
   "outputs": [
    {
     "name": "stdout",
     "output_type": "stream",
     "text": [
      "func_1 result:\n",
      "True\n",
      "\n",
      "func_2 result:\n",
      "True\n",
      "\n",
      "time: 0.458s vs 0.408s\n",
      "----------------------\n"
     ]
    }
   ],
   "source": [
    "def func_ver_1(a,b,c):\n",
    "    return (10>c) and (c>b) and (b>a) and (a>0)\n",
    "        \n",
    "\n",
    "def func_ver_2(a, b, c):\n",
    "    return 10>c>b>a>0 #注1\n",
    "\n",
    "a = 1\n",
    "b = 3\n",
    "c = 5\n",
    "\n",
    "func_compare(func_ver_1, func_ver_2, [a, b, c])"
   ]
  },
  {
   "cell_type": "markdown",
   "metadata": {},
   "source": [
    "几乎每个学C语言的同学都课上都会被强调不能用第二个版本的中的写法，否则无法得到正确的结果。不过这种写法在python确是完全可以的哦。"
   ]
  },
  {
   "cell_type": "markdown",
   "metadata": {},
   "source": [
    "## 判断空容器和空值"
   ]
  },
  {
   "cell_type": "markdown",
   "metadata": {},
   "source": [
    "### 判断容器为空"
   ]
  },
  {
   "cell_type": "markdown",
   "metadata": {},
   "source": [
    "下面的例子里， 我们检查一个list是否为空， 如果是， 返回True， 否则返回False"
   ]
  },
  {
   "cell_type": "code",
   "execution_count": 42,
   "metadata": {
    "collapsed": false
   },
   "outputs": [
    {
     "name": "stdout",
     "output_type": "stream",
     "text": [
      "func_1 result:\n",
      "False\n",
      "\n",
      "func_2 result:\n",
      "False\n",
      "\n",
      "time: 0.389s vs 0.304s\n",
      "----------------------\n"
     ]
    }
   ],
   "source": [
    "def func_ver_1(l):\n",
    "    if len(l)>0:\n",
    "        return True\n",
    "    else:\n",
    "        return False\n",
    "        \n",
    "def func_ver_2(l):\n",
    "    if l: # 不需要用len\n",
    "        return True\n",
    "    else:\n",
    "        return False      \n",
    "        \n",
    "l = []\n",
    "\n",
    "func_compare(func_ver_1, func_ver_2, [[]])"
   ]
  },
  {
   "cell_type": "markdown",
   "metadata": {},
   "source": [
    "如果把list直接用在if语句中， 那么如果它们是空的， 对于if相当于False， 否则为True。\n",
    "\n",
    "因此如果目的是判断它们是否为空， 就不用额外的使用len求长度了。 这点同样适用于tuple, set, dict, string, 见下面代码"
   ]
  },
  {
   "cell_type": "code",
   "execution_count": 43,
   "metadata": {
    "collapsed": false
   },
   "outputs": [
    {
     "name": "stdout",
     "output_type": "stream",
     "text": [
      "tuple is empty\n",
      "set is empty\n",
      "dict is empty\n",
      "string is empty\n"
     ]
    }
   ],
   "source": [
    "if ():\n",
    "    pass\n",
    "else:\n",
    "    print('tuple is empty')\n",
    "    \n",
    "if set():\n",
    "    pass\n",
    "else:    \n",
    "    print('set is empty')\n",
    "    \n",
    "if {}:\n",
    "    pass\n",
    "else:    \n",
    "    print('dict is empty')\n",
    "    \n",
    "if \"\":\n",
    "    pass\n",
    "else:    \n",
    "    print('string is empty')    "
   ]
  },
  {
   "cell_type": "markdown",
   "metadata": {},
   "source": [
    "不过很遗憾， 对于数据分析常用的pandas.DataFrame和pandas.Series， 并不支持这个特征， 直接放在if里会报错。"
   ]
  },
  {
   "cell_type": "code",
   "execution_count": 45,
   "metadata": {
    "collapsed": false
   },
   "outputs": [
    {
     "name": "stdout",
     "output_type": "stream",
     "text": [
      "<class 'ValueError'> The truth value of a DataFrame is ambiguous. Use a.empty, a.bool(), a.item(), a.any() or a.all().\n"
     ]
    }
   ],
   "source": [
    "try:\n",
    "    from pandas import DataFrame\n",
    "    if DataFrame():\n",
    "        pass\n",
    "    else:\n",
    "        print('DataFrame is empty')       \n",
    "except Exception as e:\n",
    "    print(type(e),e)"
   ]
  },
  {
   "cell_type": "markdown",
   "metadata": {},
   "source": [
    "###  判断是否是None"
   ]
  },
  {
   "cell_type": "markdown",
   "metadata": {},
   "source": [
    "这里假设数据是None返回False, 否则返回Yes"
   ]
  },
  {
   "cell_type": "code",
   "execution_count": 46,
   "metadata": {
    "collapsed": false
   },
   "outputs": [
    {
     "name": "stdout",
     "output_type": "stream",
     "text": [
      "func_1 result:\n",
      "True\n",
      "\n",
      "func_2 result:\n",
      "True\n",
      "\n",
      "time: 0.347s vs 0.311s\n",
      "----------------------\n"
     ]
    }
   ],
   "source": [
    "def func_ver_1(l):\n",
    "    if x is None:\n",
    "        return True\n",
    "    else:\n",
    "        return False\n",
    "        \n",
    "def func_ver_2(l):\n",
    "    if x: # 注意这里\n",
    "        return False\n",
    "    else:\n",
    "        return True\n",
    "        \n",
    "x = None\n",
    "\n",
    "func_compare(func_ver_1, func_ver_2, [[]])"
   ]
  },
  {
   "cell_type": "markdown",
   "metadata": {},
   "source": [
    "如果将None直接用在if中， 相当于False， 因此可以利用这点很方便的判断一个数据是否为None"
   ]
  },
  {
   "cell_type": "markdown",
   "metadata": {},
   "source": [
    "## list/generator/dict/set comprehension"
   ]
  },
  {
   "cell_type": "markdown",
   "metadata": {},
   "source": [
    "一个很常见的场景是, 把一个容器中的元素进行便利，取出符合条件的值， 进行变换处理，然后存放在另一个容器中。 \n",
    "\n",
    "例如下面把list中的偶数取出， 求平方后存在另一个list。"
   ]
  },
  {
   "cell_type": "code",
   "execution_count": 54,
   "metadata": {
    "collapsed": true
   },
   "outputs": [],
   "source": [
    "l = [1,2,3,4,5,6,7,8,9,10]"
   ]
  },
  {
   "cell_type": "code",
   "execution_count": 55,
   "metadata": {
    "collapsed": false
   },
   "outputs": [
    {
     "name": "stdout",
     "output_type": "stream",
     "text": [
      "func_1 result:\n",
      "[4, 16, 36, 64, 100]\n",
      "\n",
      "func_2 result:\n",
      "[4, 16, 36, 64, 100]\n",
      "\n",
      "time: 3.040s vs 2.717s\n",
      "----------------------\n"
     ]
    }
   ],
   "source": [
    "def func_ver_1(l):\n",
    "    new_list = []\n",
    "    for v in l:\n",
    "        if v%2==0:\n",
    "            new_list.append(v**2)\n",
    "    return new_list\n",
    "\n",
    "def func_ver_2(l):\n",
    "    return [v**2 for v in l if v%2==0] #注意\n",
    "\n",
    "\n",
    "\n",
    "func_compare(func_ver_1, func_ver_2, [l])"
   ]
  },
  {
   "cell_type": "markdown",
   "metadata": {},
   "source": [
    "版本2的写法叫做list comprehension功能，它有几个组成要素。换行后更容易观察。"
   ]
  },
  {
   "cell_type": "code",
   "execution_count": 59,
   "metadata": {
    "collapsed": false
   },
   "outputs": [
    {
     "data": {
      "text/plain": [
       "[4, 16, 36, 64, 100]"
      ]
     },
     "execution_count": 59,
     "metadata": {},
     "output_type": "execute_result"
    }
   ],
   "source": [
    "[ #定义新容器的类型，这里是list\n",
    "    v**2 #需要进行的变换方式\n",
    "    for v in l # 对原容器进行遍历\n",
    "    if v%2==0 #筛选条件， 这部分是可选的\n",
    "]"
   ]
  },
  {
   "cell_type": "markdown",
   "metadata": {},
   "source": [
    "对应的也有dict comprehension， 例如下面的例子中。"
   ]
  },
  {
   "cell_type": "code",
   "execution_count": 62,
   "metadata": {
    "collapsed": false
   },
   "outputs": [],
   "source": [
    "d = {1:'apple', 2:'peach', 3:'melon', 4:'banana'}"
   ]
  },
  {
   "cell_type": "markdown",
   "metadata": {},
   "source": [
    "我们把key为偶数的item取出后， 将value变成大写， 然后将这个key-value pair存入新的dict"
   ]
  },
  {
   "cell_type": "code",
   "execution_count": 63,
   "metadata": {
    "collapsed": false
   },
   "outputs": [
    {
     "name": "stdout",
     "output_type": "stream",
     "text": [
      "func_1 result:\n",
      "{2: 'PEACH', 4: 'BANANA'}\n",
      "\n",
      "func_2 result:\n",
      "{2: 'PEACH', 4: 'BANANA'}\n",
      "\n",
      "time: 1.266s vs 1.397s\n",
      "----------------------\n"
     ]
    }
   ],
   "source": [
    "def func_ver_1(d):\n",
    "    new_dict = {}\n",
    "    for k in d:\n",
    "        if k%2==0:\n",
    "            new_dict[k] = d[k].upper()\n",
    "    return new_dict            \n",
    "    \n",
    "def func_ver_2(d):\n",
    "    return {k:v.upper() for k,v in d.items() if k%2==0} #注1\n",
    "\n",
    "d = {1:'apple', 2:'peach', 3:'melon', 4:'banana'}\n",
    "\n",
    "func_compare(func_ver_1, func_ver_2, [d])"
   ]
  },
  {
   "cell_type": "markdown",
   "metadata": {},
   "source": [
    "换行后更好的观察各个要素"
   ]
  },
  {
   "cell_type": "code",
   "execution_count": 65,
   "metadata": {
    "collapsed": false
   },
   "outputs": [
    {
     "name": "stdout",
     "output_type": "stream",
     "text": [
      "{2: 'PEACH', 4: 'BANANA'}\n"
     ]
    }
   ],
   "source": [
    "new_d = { #定义新容器的类型，这里是dict\n",
    "    k:v.upper() #新的key-value pair,可以分别进行变换\n",
    "    for k,v in d.items() # 对原来的dict进行遍历\n",
    "    if k%2==0 #筛选条件，k是偶数\n",
    "}\n",
    "\n",
    "print(new_d)"
   ]
  },
  {
   "cell_type": "markdown",
   "metadata": {},
   "source": [
    "同样，有set comprehension。 例如将下面list中的偶数取出，放入一个set"
   ]
  },
  {
   "cell_type": "code",
   "execution_count": 66,
   "metadata": {
    "collapsed": false
   },
   "outputs": [
    {
     "name": "stdout",
     "output_type": "stream",
     "text": [
      "{8, 2, 10, 4, 6}\n"
     ]
    }
   ],
   "source": [
    "l = [1,2,3,4,5,6,7,8,9,10]\n",
    "s = {v for v in l if v%2==0}\n",
    "\n",
    "print(s)"
   ]
  },
  {
   "cell_type": "markdown",
   "metadata": {},
   "source": [
    "有一点要注意的是,如果使用(),得到的并不是一个tuple,而是generator"
   ]
  },
  {
   "cell_type": "code",
   "execution_count": 69,
   "metadata": {
    "collapsed": false
   },
   "outputs": [
    {
     "name": "stdout",
     "output_type": "stream",
     "text": [
      "<generator object <genexpr> at 0x7f69f1d8beb8>\n",
      "[2, 4, 6, 8, 10]\n"
     ]
    }
   ],
   "source": [
    "l = [1,2,3,4,5,6,7,8,9,10]\n",
    "g = (v for v in l if v%2==0)\n",
    "\n",
    "print(g)\n",
    "print(list(g))"
   ]
  },
  {
   "cell_type": "markdown",
   "metadata": {},
   "source": [
    "## 两个list创建一个dict"
   ]
  },
  {
   "cell_type": "markdown",
   "metadata": {},
   "source": [
    "这也是一个非常常见的场景。一个list提供key, 另一个list提供value"
   ]
  },
  {
   "cell_type": "code",
   "execution_count": 72,
   "metadata": {
    "collapsed": false
   },
   "outputs": [
    {
     "name": "stdout",
     "output_type": "stream",
     "text": [
      "func_1 result:\n",
      "{1: 'a', 2: 'b', 3: 'c', 4: 'd', 5: 'e'}\n",
      "\n",
      "func_2 result:\n",
      "{1: 'a', 2: 'b', 3: 'c', 4: 'd', 5: 'e'}\n",
      "\n",
      "time: 1.104s vs 1.227s\n",
      "----------------------\n"
     ]
    }
   ],
   "source": [
    "def func_1(l_key, l_value):\n",
    "    d = {}\n",
    "    for i, v in enumerate(l_key):\n",
    "        d[v] = l_value[i]\n",
    "    return d\n",
    "\n",
    "def func_2(l_key, l_value):\n",
    "    return dict(zip(l_key, l_value)) #注1\n",
    "\n",
    "l_key = [1,2,3,4,5]\n",
    "l_value = ['a','b','c','d','e']\n",
    "\n",
    "func_compare(func_1, func_2, [l_key, l_value])"
   ]
  },
  {
   "cell_type": "markdown",
   "metadata": {},
   "source": [
    "这里利用zip函数将两个list合并成一个generator, generator会按顺序输出一系列tuple, tuple中的数据分别来自两个list. 见下面代码。"
   ]
  },
  {
   "cell_type": "code",
   "execution_count": 73,
   "metadata": {
    "collapsed": false
   },
   "outputs": [
    {
     "name": "stdout",
     "output_type": "stream",
     "text": [
      "('a', 1)\n",
      "('b', 2)\n",
      "('c', 3)\n"
     ]
    }
   ],
   "source": [
    "list_a = ['a','b','c']\n",
    "list_b = [1,2,3]\n",
    "\n",
    "z = zip(list_a, list_b)\n",
    "print(next(z))\n",
    "print(next(z))\n",
    "print(next(z))"
   ]
  },
  {
   "cell_type": "markdown",
   "metadata": {},
   "source": [
    "dict()函数可以接受输出一列二元tuple的generator并构造dict，这种写法非常简洁。"
   ]
  },
  {
   "cell_type": "markdown",
   "metadata": {},
   "source": [
    "##  确保资源被正确关闭"
   ]
  },
  {
   "cell_type": "markdown",
   "metadata": {},
   "source": [
    "下面的场景里， 我们要确保打开了一个文件后， 要确保它们被关闭"
   ]
  },
  {
   "cell_type": "code",
   "execution_count": 77,
   "metadata": {
    "collapsed": false
   },
   "outputs": [
    {
     "name": "stdout",
     "output_type": "stream",
     "text": [
      "func_1 result:\n",
      "None\n",
      "\n",
      "func_2 result:\n",
      "None\n",
      "\n",
      "time: 0.355s vs 0.373s\n",
      "----------------------\n"
     ]
    }
   ],
   "source": [
    "def func_ver_1(file_name):\n",
    "    try:\n",
    "        f = open(file_name, 'w')        \n",
    "    except Exception as e:\n",
    "        pass\n",
    "    finally:\n",
    "        f.close()\n",
    "\n",
    "def func_ver_2(file_name):\n",
    "    with open(file_name, 'w') as f: #注1    \n",
    "        pass\n",
    "    \n",
    "file_name = 'test_temp_file.txt'\n",
    "func_compare(func_ver_1, func_ver_2, [file_name],n=10000)\n"
   ]
  },
  {
   "cell_type": "markdown",
   "metadata": {},
   "source": [
    "with语法在python中叫做context manager, 在with语句去打开文件， 将对这个文件所需的处理语句放在with中， 这样无论这些语句是否raise Exception， 都能保证文件都能被关闭。 可以省掉一大块try, except, finnaly组合， 让代码简洁不少。\n",
    "\n",
    "其他一些连接数据资源， 比如连接数据库的函数， 一般也会支持这种用法。 \n",
    "\n"
   ]
  },
  {
   "cell_type": "markdown",
   "metadata": {
    "slideshow": {
     "slide_type": "subslide"
    }
   },
   "source": [
    "## 判断数据的类型"
   ]
  },
  {
   "cell_type": "markdown",
   "metadata": {},
   "source": [
    "下面我们判断a是否是tuple或list, 是的话返回True, 否则False"
   ]
  },
  {
   "cell_type": "code",
   "execution_count": 78,
   "metadata": {
    "collapsed": true
   },
   "outputs": [],
   "source": [
    "a = (1, 2, 3)"
   ]
  },
  {
   "cell_type": "markdown",
   "metadata": {
    "collapsed": true
   },
   "source": [
    "判断是否是函数可以用callable"
   ]
  },
  {
   "cell_type": "code",
   "execution_count": 81,
   "metadata": {
    "collapsed": false
   },
   "outputs": [
    {
     "data": {
      "text/plain": [
       "True"
      ]
     },
     "execution_count": 81,
     "metadata": {},
     "output_type": "execute_result"
    }
   ],
   "source": [
    "def a():\n",
    "    pass\n",
    "\n",
    "callable(a)"
   ]
  },
  {
   "cell_type": "code",
   "execution_count": 82,
   "metadata": {
    "collapsed": false,
    "slideshow": {
     "slide_type": "fragment"
    }
   },
   "outputs": [
    {
     "name": "stdout",
     "output_type": "stream",
     "text": [
      "func_1 result:\n",
      "False\n",
      "\n",
      "func_2 result:\n",
      "False\n",
      "\n",
      "time: 1.393s vs 0.592s\n",
      "----------------------\n"
     ]
    }
   ],
   "source": [
    "def func_ver_1(a):\n",
    "    if (str(type(a)) == \"<class 'tuple'>\") or (str(type(a)) == \"<class 'list'>\"):\n",
    "        return True\n",
    "    else:\n",
    "        return False\n",
    "    \n",
    "def func_ver_2(a):\n",
    "    if isinstance(a, (tuple, list)): #注1\n",
    "        return True\n",
    "    else:\n",
    "        return False\n",
    "    \n",
    "\n",
    "func_compare(func_ver_1, func_ver_2, [a])"
   ]
  },
  {
   "cell_type": "markdown",
   "metadata": {
    "slideshow": {
     "slide_type": "fragment"
    }
   },
   "source": [
    "注释\n",
    "\n",
    "1. 由于很多python教材都会在早期的时候引入对type函数的介绍， 因此初学者可能会很长时间内使用type去判断数据的类型。 不过isinstance是更好的选择。"
   ]
  },
  {
   "cell_type": "markdown",
   "metadata": {},
   "source": [
    "# 应对不合法的输入参数\n"
   ]
  },
  {
   "cell_type": "markdown",
   "metadata": {},
   "source": [
    "有时候我们需要考虑到输入的参数可能不合法的问题。 不过与其每次都检查一下输入参数的类型， 不妨将这个问题交给try, except机制去处理。\n",
    "\n",
    "下面的例子里， 我们实现一个对两个数值求sum的功能， 如果输入参数并不能参与sum计算， 那么返回None"
   ]
  },
  {
   "cell_type": "code",
   "execution_count": 50,
   "metadata": {
    "collapsed": false
   },
   "outputs": [
    {
     "ename": "NameError",
     "evalue": "name 'func1' is not defined",
     "output_type": "error",
     "traceback": [
      "\u001b[0;31m---------------------------------------------------------------------------\u001b[0m",
      "\u001b[0;31mNameError\u001b[0m                                 Traceback (most recent call last)",
      "\u001b[0;32m<ipython-input-50-b6731c3b81ed>\u001b[0m in \u001b[0;36m<module>\u001b[0;34m()\u001b[0m\n\u001b[1;32m     13\u001b[0m         \u001b[0;32mreturn\u001b[0m \u001b[0;32mNone\u001b[0m\u001b[0;34m\u001b[0m\u001b[0m\n\u001b[1;32m     14\u001b[0m \u001b[0;34m\u001b[0m\u001b[0m\n\u001b[0;32m---> 15\u001b[0;31m \u001b[0mfunc_compare\u001b[0m\u001b[0;34m(\u001b[0m\u001b[0mfunc1\u001b[0m\u001b[0;34m,\u001b[0m \u001b[0mfunc2\u001b[0m\u001b[0;34m,\u001b[0m \u001b[0;34m[\u001b[0m\u001b[0;36m5\u001b[0m\u001b[0;34m,\u001b[0m\u001b[0;36m10\u001b[0m\u001b[0;34m]\u001b[0m\u001b[0;34m)\u001b[0m\u001b[0;34m\u001b[0m\u001b[0m\n\u001b[0m",
      "\u001b[0;31mNameError\u001b[0m: name 'func1' is not defined"
     ]
    }
   ],
   "source": [
    "\n",
    "def func_ver_1(a, b):\n",
    "    if isinstance(a, (float,int)) and isinstance(b, (float, int)):\n",
    "        return sum([a, b])\n",
    "    else:\n",
    "        return None\n",
    "\n",
    "        \n",
    "def func_ver_2(a, b):\n",
    "    try:\n",
    "        return sum([a, b])\n",
    "    except TypeError:\n",
    "        return None\n",
    "    \n",
    "func_compare(func1, func2, [5,10])"
   ]
  },
  {
   "cell_type": "markdown",
   "metadata": {},
   "source": [
    "第二个版本的代码中， 我们不去主动检验输入参数的合法性， 而是由try, except去处理可能发生的问题， 简化了代码。 \n",
    "\n",
    "而且由于类型判断本身也是一个耗时的步骤， 第二个版本的函书省略了类型判断的步骤， 效率也更高。"
   ]
  },
  {
   "cell_type": "markdown",
   "metadata": {},
   "source": [
    "# 跨行的字符串连接"
   ]
  },
  {
   "cell_type": "code",
   "execution_count": 51,
   "metadata": {
    "collapsed": false
   },
   "outputs": [
    {
     "data": {
      "text/plain": [
       "'For a long time I used to go to bed early. Sometimes, when I had put out my candle, my eyes would close so quickly that I had not even time to say “I’m going to sleep.”'"
      ]
     },
     "execution_count": 51,
     "metadata": {},
     "output_type": "execute_result"
    }
   ],
   "source": [
    "my_very_big_string = (\n",
    "    \"For a long time I used to go to bed early. Sometimes, \"\n",
    "    \"when I had put out my candle, my eyes would close so quickly \"\n",
    "    \"that I had not even time to say “I’m going to sleep.”\"\n",
    ")\n",
    "\n",
    "my_very_big_string"
   ]
  }
 ],
 "metadata": {
  "celltoolbar": "Slideshow",
  "kernelspec": {
   "display_name": "Python 3",
   "language": "python",
   "name": "python3"
  },
  "language_info": {
   "codemirror_mode": {
    "name": "ipython",
    "version": 3
   },
   "file_extension": ".py",
   "mimetype": "text/x-python",
   "name": "python",
   "nbconvert_exporter": "python",
   "pygments_lexer": "ipython3",
   "version": "3.5.2"
  }
 },
 "nbformat": 4,
 "nbformat_minor": 0
}
