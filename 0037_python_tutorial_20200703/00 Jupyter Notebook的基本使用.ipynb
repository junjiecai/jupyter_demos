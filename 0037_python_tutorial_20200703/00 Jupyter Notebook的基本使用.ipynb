{
 "cells": [
  {
   "cell_type": "code",
   "execution_count": 5,
   "metadata": {},
   "outputs": [],
   "source": [
    "from IPython.display import IFrame"
   ]
  },
  {
   "cell_type": "markdown",
   "metadata": {},
   "source": [
    "# 关于Jupyter Notebook的基本使用\n",
    "由于这个系列的教程主要会以Jupyter Notebook的形式发布，因此希望大家先了解一下Jupyter Notebook的基本使用方法。\n",
    "\n",
    "## 如何打开一个notebook\n",
    "选中指定的文件夹后，打开命令行工具，运行```jupyter notebook```\n"
   ]
  },
  {
   "cell_type": "code",
   "execution_count": 10,
   "metadata": {},
   "outputs": [
    {
     "data": {
      "text/html": [
       "\n",
       "        <iframe\n",
       "            width=\"800\"\n",
       "            height=\"600\"\n",
       "            src=\"//player.bilibili.com/player.html?aid=626123504&bvid=BV15t4y197MX&cid=204762112&page=1\"\n",
       "            frameborder=\"0\"\n",
       "            allowfullscreen\n",
       "        ></iframe>\n",
       "        "
      ],
      "text/plain": [
       "<IPython.lib.display.IFrame at 0x107e1ec90>"
      ]
     },
     "execution_count": 10,
     "metadata": {},
     "output_type": "execute_result"
    }
   ],
   "source": [
    "IFrame(\"//player.bilibili.com/player.html?aid=626123504&bvid=BV15t4y197MX&cid=204762112&page=1\", width=800, height=600)"
   ]
  },
  {
   "cell_type": "markdown",
   "metadata": {},
   "source": [
    "## 了解Jupyter界面的基本构成\n",
    "主要包括：\n",
    "* 菜单栏\n",
    "* 工具栏\n",
    "* 包含很多Cell的编辑区域\n",
    "\n",
    "\n",
    "## 菜单栏，工具栏。其中包含几个和代码运行相关的几个常用功能：\n",
    "* 终止代码运行\n",
    "* 重启这个Notebook\n",
    "* 重启这个Notebook，并且运行所有代码\n",
    "* 批量运行代码\n",
    "\n",
    "后面会详细介绍，这里先跳过。\n",
    "\n",
    "\n",
    "其余的常用功能，大多有对应的快捷键操作，直接掌握相应的快捷键操作即可。\n",
    "\n",
    "> 频繁的鼠标和键盘之间切换会打断思路，降低工作效率。\n",
    "> 对于专业人员，对常用的软件，应该熟练掌握对应的快捷键操作\n",
    "\n",
    "\n",
    "如果忘记快捷键的话，可以在help中找到快捷键的提示。"
   ]
  },
  {
   "cell_type": "code",
   "execution_count": 19,
   "metadata": {},
   "outputs": [
    {
     "data": {
      "text/html": [
       "\n",
       "        <iframe\n",
       "            width=\"800\"\n",
       "            height=\"600\"\n",
       "            src=\"//player.bilibili.com/player.html?aid=668501518&bvid=BV1Va4y1Y73X&cid=204764548&page=1\"\n",
       "            frameborder=\"0\"\n",
       "            allowfullscreen\n",
       "        ></iframe>\n",
       "        "
      ],
      "text/plain": [
       "<IPython.lib.display.IFrame at 0x107be21d0>"
      ]
     },
     "execution_count": 19,
     "metadata": {},
     "output_type": "execute_result"
    }
   ],
   "source": [
    "IFrame(\"//player.bilibili.com/player.html?aid=668501518&bvid=BV1Va4y1Y73X&cid=204764548&page=1\", width=800, height=600)"
   ]
  },
  {
   "cell_type": "markdown",
   "metadata": {},
   "source": [
    "## Cell的两种模式\n",
    "### 命令模式\n",
    "进入命令模式的特点：\n",
    "* 对选中的Cell按```Esc```进入命令模式\n",
    "* 左侧边框变蓝色\n",
    "* Cell区域没有光标，这时失去对编辑区域的编辑能力。\n",
    "* 这时键盘操作的功能为用快捷键，对区域本身进行操作（新增，删除等）\n",
    "\n",
    "### 编辑模式\n",
    "进入编辑模式的特点：\n",
    "* 对选中的Cell按```Enter```进入编辑模式\n",
    "* 左侧边框变绿色\n",
    "* Cell区域出现闪烁光标，提示当前编辑位置"
   ]
  },
  {
   "cell_type": "code",
   "execution_count": 14,
   "metadata": {},
   "outputs": [
    {
     "data": {
      "text/html": [
       "\n",
       "        <iframe\n",
       "            width=\"800\"\n",
       "            height=\"600\"\n",
       "            src=\"//player.bilibili.com/player.html?aid=796033795&bvid=BV1yC4y1a7iK&cid=204763494&page=1\"\n",
       "            frameborder=\"0\"\n",
       "            allowfullscreen\n",
       "        ></iframe>\n",
       "        "
      ],
      "text/plain": [
       "<IPython.lib.display.IFrame at 0x107bca1d0>"
      ]
     },
     "execution_count": 14,
     "metadata": {},
     "output_type": "execute_result"
    }
   ],
   "source": [
    "IFrame(\"//player.bilibili.com/player.html?aid=796033795&bvid=BV1yC4y1a7iK&cid=204763494&page=1\", width=800, height=600)"
   ]
  },
  {
   "cell_type": "markdown",
   "metadata": {},
   "source": [
    "## 命令模式下最常用的Cell操作\n",
    "\n",
    "### 新增\n",
    "\n",
    "在上方插入Cell，快捷键```a```，助记：(**A**bove)\n",
    "\n",
    "在下方插入Cell，快捷键```b```，助记：(**B**elow)\n",
    "\n",
    "### 选中\n",
    "* 使用键盘```⬆️```, ```⬇️```即可\n",
    "* 选中多个，可以使用shift配合\n",
    "\n",
    "\n",
    "### 删除\n",
    "删除Cell，快捷键**双击**```d```，助记：(**D**elete)\n",
    "\n",
    "### 取消删除\n",
    "取消删除Cell，快捷键```z```，助记：(Ctrl + **z**)\n",
    "\n",
    "### 合并\n",
    "合并多个选中的Cell内容，快捷键```shift + M```，助记：**M**erge。\n",
    "\n",
    "为什么要加```shift```？因为```M```是切换Cell为Markdown的功能。\n",
    "\n",
    "### 复制\n",
    "复制选中的Cell，快捷键```C```，助记：(Ctrl + **C**)\n",
    "\n",
    "### 剪切\n",
    "复制选中的Cell，快捷键```X```，助记：(Ctrl + **X**)\n",
    "\n",
    "###  黏贴\n",
    "在下方黏贴Cell，快捷键```V```，助记：(Ctrl + **V**)\n",
    "\n",
    "在上方黏贴Cell，快捷键```shift + V```\n",
    "\n",
    "### 类型切换\n",
    "* 代码Cell，用于编写和运行代码： ```Y```\n",
    "* markdown Cell，用于编写Markdown文档： ```M```，助记：**M**arkdown\n"
   ]
  },
  {
   "cell_type": "code",
   "execution_count": 23,
   "metadata": {},
   "outputs": [
    {
     "data": {
      "text/html": [
       "\n",
       "        <iframe\n",
       "            width=\"800\"\n",
       "            height=\"600\"\n",
       "            src=\"////player.bilibili.com/player.html?bvid=BV1TV411k75i&page=1\"\n",
       "            frameborder=\"0\"\n",
       "            allowfullscreen\n",
       "        ></iframe>\n",
       "        "
      ],
      "text/plain": [
       "<IPython.lib.display.IFrame at 0x107bee4d0>"
      ]
     },
     "execution_count": 23,
     "metadata": {},
     "output_type": "execute_result"
    }
   ],
   "source": [
    "IFrame(\"////player.bilibili.com/player.html?bvid=BV1TV411k75i&page=1\", width=800, height=600)"
   ]
  },
  {
   "cell_type": "markdown",
   "metadata": {
    "hideCode": false,
    "hidePrompt": false
   },
   "source": [
    "\n",
    "## 两种cell类型的介绍\n",
    "### Markdown Cell\n",
    "支持Markdown语法，可以用来用于编辑图文描述。详细用法见**01 Markdown常用语法**那个教程。\n",
    "\n",
    "### Code Cell\n",
    "支持代码编写和运行，用Ananconda安装的话，默认支持的是python语言。后续会介绍具体的Python编程知识。\n",
    "\n",
    "Code Cell左侧会有```In [x]:```，可以用来区分Cell类型\n",
    "\n",
    "试试切换下面Cell的类型，看看显示效果和运行效果。\n",
    "\n",
    "## 运行cell\n",
    "运行当前Cell，快捷键```Ctrl+Enter```\n",
    "\n",
    "运行当前Cell，并且选中下一个Cell，快捷键```Shift+Enter```\n",
    "\n",
    "运行所有Cell。菜单栏选择```Cell-Run All``\n",
    "\n",
    "运行所有上方所有的Cell(不包含选中的Cell)。菜单栏选择```Cell-Run All Above``\n",
    "\n",
    "运行所有下方所有的的(包含选中的Cell)。菜单栏选择```Cell-Run All Below``\n",
    "\n",
    "### Code Cell运行效果\n",
    "对于code Cell，效果是运行Cell中的代码\n",
    "\n",
    "下面是几个测试用的Code Cell"
   ]
  },
  {
   "cell_type": "code",
   "execution_count": 83,
   "metadata": {},
   "outputs": [
    {
     "data": {
      "text/plain": [
       "2000"
      ]
     },
     "execution_count": 83,
     "metadata": {},
     "output_type": "execute_result"
    }
   ],
   "source": [
    "100 * 20"
   ]
  },
  {
   "cell_type": "code",
   "execution_count": 84,
   "metadata": {
    "scrolled": true
   },
   "outputs": [
    {
     "data": {
      "text/plain": [
       "600"
      ]
     },
     "execution_count": 84,
     "metadata": {},
     "output_type": "execute_result"
    }
   ],
   "source": [
    "200 * 3"
   ]
  },
  {
   "cell_type": "code",
   "execution_count": 85,
   "metadata": {},
   "outputs": [
    {
     "data": {
      "text/plain": [
       "330"
      ]
     },
     "execution_count": 85,
     "metadata": {},
     "output_type": "execute_result"
    }
   ],
   "source": [
    "300 + 30"
   ]
  },
  {
   "cell_type": "code",
   "execution_count": 86,
   "metadata": {},
   "outputs": [
    {
     "data": {
      "text/plain": [
       "4000"
      ]
     },
     "execution_count": 86,
     "metadata": {},
     "output_type": "execute_result"
    }
   ],
   "source": [
    "400 * 10"
   ]
  },
  {
   "cell_type": "markdown",
   "metadata": {},
   "source": [
    "注意Jupyter可以将最后一个python返回的结果自动显示。\n",
    "\n",
    "这是Jupyter附加的效果，这不是语句的本身的效果。后面的教程后大量使用这个方便的特性。"
   ]
  },
  {
   "cell_type": "code",
   "execution_count": 87,
   "metadata": {},
   "outputs": [
    {
     "data": {
      "text/plain": [
       "5"
      ]
     },
     "execution_count": 87,
     "metadata": {},
     "output_type": "execute_result"
    }
   ],
   "source": [
    "1 + 1 # 不是最后的语句，结果不会自动显示\n",
    "2 + 3"
   ]
  },
  {
   "cell_type": "code",
   "execution_count": 88,
   "metadata": {},
   "outputs": [
    {
     "name": "stdout",
     "output_type": "stream",
     "text": [
      "2\n"
     ]
    },
    {
     "data": {
      "text/plain": [
       "5"
      ]
     },
     "execution_count": 88,
     "metadata": {},
     "output_type": "execute_result"
    }
   ],
   "source": [
    "print(1 + 1) # 如果我们需要看到中间语句的结果，需要使用print等函数\n",
    "2 + 3"
   ]
  },
  {
   "cell_type": "markdown",
   "metadata": {},
   "source": [
    "### Markdown Cell运行效果\n",
    "对于Markdown Cell，效果是渲染Markdown文档（根据不同的标记，以合适的方式展示）。这个大家应该很熟悉了。"
   ]
  },
  {
   "cell_type": "code",
   "execution_count": 17,
   "metadata": {},
   "outputs": [
    {
     "data": {
      "text/html": [
       "\n",
       "        <iframe\n",
       "            width=\"800\"\n",
       "            height=\"600\"\n",
       "            src=\"//player.bilibili.com/player.html?bvid=BV1af4y1y7Fi&page=1\"\n",
       "            frameborder=\"0\"\n",
       "            allowfullscreen\n",
       "        ></iframe>\n",
       "        "
      ],
      "text/plain": [
       "<IPython.lib.display.IFrame at 0x107bd47d0>"
      ]
     },
     "execution_count": 17,
     "metadata": {},
     "output_type": "execute_result"
    }
   ],
   "source": [
    "IFrame(\"//player.bilibili.com/player.html?bvid=BV1af4y1y7Fi&page=1\", width=800, height=600)"
   ]
  },
  {
   "cell_type": "markdown",
   "metadata": {},
   "source": [
    "## 编辑结果的保存\n",
    "\n",
    "Jupyter Notebook会提供定时保存功能；我们也可以其他和常见的的软件一样，通过手动```ctrl+S```保存notebook编辑的内容。"
   ]
  },
  {
   "cell_type": "code",
   "execution_count": 24,
   "metadata": {},
   "outputs": [
    {
     "data": {
      "text/html": [
       "\n",
       "        <iframe\n",
       "            width=\"800\"\n",
       "            height=\"600\"\n",
       "            src=\"//player.bilibili.com/player.html?bvid=BV1yT4y1J7pq&page=1\"\n",
       "            frameborder=\"0\"\n",
       "            allowfullscreen\n",
       "        ></iframe>\n",
       "        "
      ],
      "text/plain": [
       "<IPython.lib.display.IFrame at 0x107bd4610>"
      ]
     },
     "execution_count": 24,
     "metadata": {},
     "output_type": "execute_result"
    }
   ],
   "source": [
    "IFrame(\"//player.bilibili.com/player.html?bvid=BV1yT4y1J7pq&page=1\", width=800, height=600)"
   ]
  },
  {
   "cell_type": "markdown",
   "metadata": {},
   "source": [
    "## 不要同时打开同一个notebook多次！！！\n",
    "\n",
    "对于Jupyter Notebook来说，有一个新手常见的错误需要特别注意。\n",
    "\n",
    "在Jupyter Notebook中，可以对同一份notebook打开多个页面（一般是误操作），这时很容易由于编辑内容冲突，导致内容丢失，这个需要注意避免。（详细见视频演示）\n",
    "\n",
    "**看到这个弹窗出现时，打起12分精神，想清楚该怎么操作！**\n",
    "![弹窗](images/warning.png)"
   ]
  },
  {
   "cell_type": "code",
   "execution_count": 25,
   "metadata": {},
   "outputs": [
    {
     "data": {
      "text/html": [
       "\n",
       "        <iframe\n",
       "            width=\"800\"\n",
       "            height=\"600\"\n",
       "            src=\"//player.bilibili.com/player.html?bvid=BV1Wi4y1G7P9&page=1\"\n",
       "            frameborder=\"0\"\n",
       "            allowfullscreen\n",
       "        ></iframe>\n",
       "        "
      ],
      "text/plain": [
       "<IPython.lib.display.IFrame at 0x107bcad90>"
      ]
     },
     "execution_count": 25,
     "metadata": {},
     "output_type": "execute_result"
    }
   ],
   "source": [
    "IFrame(\"//player.bilibili.com/player.html?bvid=BV1Wi4y1G7P9&page=1\", width=800, height=600)"
   ]
  },
  {
   "cell_type": "markdown",
   "metadata": {},
   "source": [
    "## Jupyter插件\n",
    "\n",
    "1. 在开始菜单中打开Anaconda Prompt\n",
    "2. 执行如下安装命令：\n",
    "\n",
    "```conda install -c conda-forge jupyter_contrib_nbextensions```\n",
    "\n",
    "```conda install -c conda-forge jupyter_nbextensions_configurator```\n",
    "\n",
    "然后在jupyter notebook中打开```Edit-nbextensions-config```，开启对应的插件。\n",
    "\n",
    "个人最常用的插件是**Table of Contents**可以基于标题层级，自动生成目录导航。\n",
    "\n",
    "大家有兴趣可以试试其他插件。"
   ]
  },
  {
   "cell_type": "code",
   "execution_count": 22,
   "metadata": {},
   "outputs": [
    {
     "data": {
      "text/html": [
       "\n",
       "        <iframe\n",
       "            width=\"800\"\n",
       "            height=\"600\"\n",
       "            src=\"//player.bilibili.com/player.html?bvid=BV1hg4y1q7iY&page=1\"\n",
       "            frameborder=\"0\"\n",
       "            allowfullscreen\n",
       "        ></iframe>\n",
       "        "
      ],
      "text/plain": [
       "<IPython.lib.display.IFrame at 0x107be2fd0>"
      ]
     },
     "execution_count": 22,
     "metadata": {},
     "output_type": "execute_result"
    }
   ],
   "source": [
    "IFrame(\"//player.bilibili.com/player.html?bvid=BV1hg4y1q7iY&page=1\", width=800, height=600)"
   ]
  },
  {
   "cell_type": "markdown",
   "metadata": {},
   "source": [
    "## 练习\n",
    "\n",
    "1. 跟着本教程，理解不同操作的使用场景\n",
    "2. 练习对应的Jupyter Notebook操作，直到不再陌生。\n",
    "3. 重现**不要同时打开同一个notebook多次！！！**将工作成果丢失的过程，在以后工作中避开。"
   ]
  }
 ],
 "metadata": {
  "hide_code_all_hidden": false,
  "kernelspec": {
   "display_name": "Python 3",
   "language": "python",
   "name": "python3"
  },
  "language_info": {
   "codemirror_mode": {
    "name": "ipython",
    "version": 3
   },
   "file_extension": ".py",
   "mimetype": "text/x-python",
   "name": "python",
   "nbconvert_exporter": "python",
   "pygments_lexer": "ipython3",
   "version": "3.7.7"
  },
  "toc": {
   "base_numbering": 1,
   "nav_menu": {},
   "number_sections": true,
   "sideBar": true,
   "skip_h1_title": false,
   "title_cell": "Table of Contents",
   "title_sidebar": "Contents",
   "toc_cell": false,
   "toc_position": {
    "height": "calc(100% - 180px)",
    "left": "10px",
    "top": "150px",
    "width": "288px"
   },
   "toc_section_display": true,
   "toc_window_display": true
  }
 },
 "nbformat": 4,
 "nbformat_minor": 2
}
