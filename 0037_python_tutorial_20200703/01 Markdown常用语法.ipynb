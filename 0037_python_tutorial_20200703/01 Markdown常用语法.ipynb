{
 "cells": [
  {
   "cell_type": "markdown",
   "metadata": {},
   "source": [
    "这是一个Markdown Cell的效果演示，可以显示Markdown语法编辑的文档。下面是一些Markdown语法的效果\n",
    "\n",
    "# 一级大标题\n",
    "## 二级小标题\n",
    "### 三级标题\n",
    "\n",
    "\n",
    "### 强调效果\n",
    "基本的效果，**加粗效果**，*斜体效果*，***加粗斜体一起用的效果***\n",
    "\n",
    "### 引用\n",
    "> 这句话我没说过 --鲁迅\n",
    "\n",
    "也可以支持多行引用\n",
    "> 程序开发有一个难点：  \n",
    "> 一方面人脑的处理能力有限；另一方面，程序的复杂度又在不断的上升\n",
    "\n",
    "\n",
    "### 换行\n",
    "直接按回车换行\n",
    "是不行的的。\n",
    "\n",
    "注意要换行的话，要么像上面那样隔开一行；要么在前一行的最后，至少加2空格   \n",
    "才有有换行效果\n",
    "\n",
    "\n",
    "### 无序列表\n",
    "* 项目\n",
    "    * 项目\n",
    "    * 项目\n",
    "* 项目2\n",
    "* 项目3\n",
    "\n",
    "\n",
    "### 有序列表\n",
    "1. 项目1\n",
    "    1. 项目1\n",
    "    2. 项目1\n",
    "2. 项目2\n",
    "3. 项目3\n",
    "\n",
    "\n",
    "### 代码\n",
    "注意markdown cell中只是针对代码给出更好的显示效果（如语法高亮），但是不会运行代码。\n",
    "\n",
    "插入行内的代码片段，比如经典的```print(\"hello world\")```\n",
    "\n",
    "\n",
    "也插入完整的代码段落（在mardown中仅仅以不同的效果显示，不会运行）。注意可以指定语言类型，获得一定的语法高亮效果\n",
    "``` python\n",
    "def add(x, y):\n",
    "    x = 1\n",
    "    y = 1\n",
    "    \n",
    "    return x + y\n",
    "```\n",
    "\n",
    "\n",
    "### 表格\n",
    "\n",
    "|列A|列B|\n",
    "|---|---|\n",
    "|a1|b1|\n",
    "|a2|b2|\n",
    "|a3|b3|\n",
    "\n",
    "\n",
    "### 插入图片\n",
    "```![替代显示名称](路径/链接)```的格式\n",
    "![本地图片](icons/tool.png)\n",
    "![网络图片](https://d33wubrfki0l68.cloudfront.net/e7ed9fe4bafe46e275c807d63591f85f9ab246ba/e2d28/assets/images/tux.png)\n",
    "\n",
    "```[替代显示名称]```中的文本，是当对应的图片找不到的时候，替代显示的文本\n",
    "![不存在的图片](not_existing.png)\n",
    "\n",
    "### 链接\n",
    "```![显示名](链接)```的格式\n",
    "[森亿官网](http://www.synyi.com)"
   ]
  },
  {
   "cell_type": "markdown",
   "metadata": {},
   "source": [
    "## 练习"
   ]
  },
  {
   "cell_type": "markdown",
   "metadata": {},
   "source": [
    "1. 熟悉有哪些Markdown支持的常用场景\n",
    "2. 练习用Markdown编辑一份文档，尽可能多的是利用上Markdown的功能"
   ]
  }
 ],
 "metadata": {
  "kernelspec": {
   "display_name": "Python 3",
   "language": "python",
   "name": "python3"
  },
  "language_info": {
   "codemirror_mode": {
    "name": "ipython",
    "version": 3
   },
   "file_extension": ".py",
   "mimetype": "text/x-python",
   "name": "python",
   "nbconvert_exporter": "python",
   "pygments_lexer": "ipython3",
   "version": "3.7.7"
  },
  "toc": {
   "base_numbering": 1,
   "nav_menu": {},
   "number_sections": true,
   "sideBar": true,
   "skip_h1_title": false,
   "title_cell": "Table of Contents",
   "title_sidebar": "Contents",
   "toc_cell": false,
   "toc_position": {},
   "toc_section_display": true,
   "toc_window_display": false
  }
 },
 "nbformat": 4,
 "nbformat_minor": 2
}
