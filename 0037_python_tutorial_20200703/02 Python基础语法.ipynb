{
 "cells": [
  {
   "cell_type": "markdown",
   "metadata": {
    "ExecuteTime": {
     "end_time": "2018-01-25T16:33:44.156000Z",
     "start_time": "2018-01-25T16:33:44.078000Z"
    }
   },
   "source": [
    "![logo](images/python_logo.jpg)"
   ]
  },
  {
   "cell_type": "markdown",
   "metadata": {},
   "source": [
    "# 本系列教程的使用说明\n",
    "\n",
    "这个系列的教程会以Jupyter Notebook的方式发布，主要包含说明图文和Jupyter中可运行, 调试的代码。\n",
    "\n",
    "编程是需要大量实践，才能掌握的技能，只靠阅读，理解是远远不够的的。\n",
    "\n",
    "因此，为了获得更好的效果，建议下载教程后，在Jupyter Notebook中动手练习相关的代码。"
   ]
  },
  {
   "cell_type": "markdown",
   "metadata": {},
   "source": [
    "# 前言"
   ]
  },
  {
   "cell_type": "markdown",
   "metadata": {},
   "source": [
    "## 程序是和计算机传达指令的手段"
   ]
  },
  {
   "cell_type": "markdown",
   "metadata": {
    "ExecuteTime": {
     "end_time": "2018-01-12T02:39:04.467198Z",
     "start_time": "2018-01-12T02:39:04.456204Z"
    }
   },
   "source": [
    "计算机在干活方面，是极佳的合作伙伴，不会对工作内容挑挑拣拣，忠实的执行用户下达的操作指令，不休不眠，\n",
    "\n",
    "但是，为了让计算机能够帮助我们工作，首先我们得以计算机能够理解的方式，表达我们希望计算机干什么。\n",
    "\n",
    "操作软件或者使用网页工具，通过鼠标点击按钮，用键盘打字等方式，就是大家熟悉的, 向计算机表达我们意图的方式。\n",
    "\n",
    "例如：\n",
    "\n",
    "|场景|操作|意图|\n",
    "|:------|:------|:-----|\n",
    "|windows系统|双击软件图标|打开对应程序|\n",
    "|windows系统|点击软件右上角的X|关闭对应程序|\n",
    "|搜索引擎|搜索框中输入关键词|定义搜索关键词|\n",
    "|搜索引擎|点击“搜索”按钮|开启启动搜索任务|\n",
    "\n",
    "\n",
    "如果已经安装了python的运行环境，那么计算机就可以理解python和运行语言。然后我们就可以利用python语言，告诉希望计算机我们希望做什么。向计算机传达更加灵活，复杂的指令，例如：\n",
    "\n",
    "\n",
    "|场景|操作|意图|\n",
    "|:------|:------|:-----|\n",
    "|使用Jupyter Notebook|运行编写好的代码|自动将一个文件夹中所有图片(也许有1000个)中的文本提取出来，并且保存成txt文件|\n",
    "|使用Jupyter Notebook|运行编写好的代码|自动将一个Excel中的一列英文(也许有2000段文本)翻译成中文，并且存在一个新的列中|\n",
    "\n"
   ]
  },
  {
   "cell_type": "markdown",
   "metadata": {},
   "source": [
    "## 编程语言语法严格\n",
    "中文，英文等人类社会的自然语言，都需要遵守一定的语法规则，否则沟通时会造成困难和误解。python等计算机编程语言，同样也有自己的语法规则。\n",
    "\n",
    "不过不像人类用自然语言沟通，对语法有一定的容错和纠正能力。用python等编程手段和计算机传达指令时，计算机对python语法有严格的要求，如果不符合要求就会报错（或者传达了错误的指令）\n",
    "\n",
    "因此，掌握Python不同功能对应的语法要求是重要学习内容"
   ]
  },
  {
   "cell_type": "markdown",
   "metadata": {},
   "source": [
    "## 但是，不要只关注语法细节\n",
    "\n",
    "后续教程中会陆陆续续介绍Python中的变量，函数，条件判断，循环遍历等技术，为我们提供了很多工具，解决不同场景的问题。（当然，最终都是为了和计算机传达我们的指令）\n",
    "\n",
    "但是，务必注意，要掌握掌握一个工具，除了关注工具本身，**更重要的是理解这个工具需要解决什么问题，并且细心的去体会这个工具如何解决这个问题**。\n",
    "\n",
    "* 只有先理解编程一个领域的问题，和解决思路是什么，才能理解对应的工具的意义和正确的使用这种工具。\n",
    "* 尽管具体的工具，技术变化是多样的，但是编程领域遇到的的问题，解决思路的变化是相对较慢，容易迁移的。如果大家能在学习python的过程中，建立起对编程领域问题，解决思路的知识体系，那么将来就能快速的掌握其他技术（如javascript，R），甚至是未来出现的新技术。\n",
    "* 很多教学材料并不重视这点，会花大量篇幅描述工具本身，忽略背后的问题和解决问题理念。学习者如何自己也不重视这点，很容易迷失方向。"
   ]
  },
  {
   "cell_type": "markdown",
   "metadata": {},
   "source": [
    "以下开始是正式的python入门培训内容。\n",
    "\n",
    "相应大家都有一定的了解，知道python能帮我们处理很多工作，例如图像识别，自然语言处理，数据分析，网络爬虫等等。\n",
    "\n",
    "不过对于新手而言，首先，我们先定个小目标，从做到让Python帮我们完成一些基础的数学运算开始熟悉python。随着问题场景越来越复杂，了解表达式，变量，函数，循环，条件判断，类等基础的python编程工具和对应语法。"
   ]
  },
  {
   "cell_type": "markdown",
   "metadata": {
    "ExecuteTime": {
     "end_time": "2018-01-12T04:31:32.468510Z",
     "start_time": "2018-01-12T04:31:32.461510Z"
    }
   },
   "source": [
    "# 如何表达基本的数学运算？"
   ]
  },
  {
   "cell_type": "markdown",
   "metadata": {},
   "source": [
    "<img src='icons/bad.png' width='40px' align='left'/><span style='font-size:20px;padding-top:10px;display:inline-block'>问题出现</span>"
   ]
  },
  {
   "cell_type": "markdown",
   "metadata": {
    "ExecuteTime": {
     "end_time": "2018-01-12T04:31:52.253489Z",
     "start_time": "2018-01-12T04:31:52.249488Z"
    }
   },
   "source": [
    "我们如何让python帮助我们进行数学运算？"
   ]
  },
  {
   "cell_type": "markdown",
   "metadata": {},
   "source": [
    "<img src='icons/tool.png' width='40px' align='left'/><span style='font-size:20px;padding-top:10px;display:inline-block'>解决工具</span>"
   ]
  },
  {
   "cell_type": "markdown",
   "metadata": {},
   "source": [
    "在python总进行数学运算比较直接，python直接以很直观的方式，表达数值，并且提供了```+,-,*,/```等基本的运算符号表示计算逻辑。"
   ]
  },
  {
   "cell_type": "code",
   "execution_count": null,
   "metadata": {},
   "outputs": [],
   "source": [
    "1 + 2 # 加法"
   ]
  },
  {
   "cell_type": "code",
   "execution_count": null,
   "metadata": {},
   "outputs": [],
   "source": [
    "4.3 - 3 # 减法"
   ]
  },
  {
   "cell_type": "code",
   "execution_count": null,
   "metadata": {},
   "outputs": [],
   "source": [
    "4.1 * 3.4 # 乘法"
   ]
  },
  {
   "cell_type": "code",
   "execution_count": null,
   "metadata": {},
   "outputs": [],
   "source": [
    "5.1 / 3 # 除法"
   ]
  },
  {
   "cell_type": "code",
   "execution_count": null,
   "metadata": {},
   "outputs": [],
   "source": [
    "5 // 3 # 取整除法"
   ]
  },
  {
   "cell_type": "code",
   "execution_count": null,
   "metadata": {},
   "outputs": [],
   "source": [
    "4 ** 3 # 指数运算, 4 * 4 * 4 "
   ]
  },
  {
   "cell_type": "code",
   "execution_count": null,
   "metadata": {},
   "outputs": [],
   "source": [
    "4 ** 0.5 # 指数运算，sqrt(4)"
   ]
  },
  {
   "cell_type": "code",
   "execution_count": null,
   "metadata": {},
   "outputs": [],
   "source": [
    "4 % 3 # 取整运算"
   ]
  },
  {
   "cell_type": "markdown",
   "metadata": {},
   "source": [
    "也可以在一个表达式中执行多个运算"
   ]
  },
  {
   "cell_type": "code",
   "execution_count": null,
   "metadata": {},
   "outputs": [],
   "source": [
    "4 / 2 + 2 * 3 **2 # 先别急着运行，猜猜看结果是什么"
   ]
  },
  {
   "cell_type": "markdown",
   "metadata": {},
   "source": [
    "## 表达式如何换行"
   ]
  },
  {
   "cell_type": "markdown",
   "metadata": {},
   "source": [
    "如果表达式较长，我们有时候希望能换行表示"
   ]
  },
  {
   "cell_type": "code",
   "execution_count": null,
   "metadata": {},
   "outputs": [],
   "source": [
    "4 / 2 + \n",
    "2 * 3 ** 2"
   ]
  },
  {
   "cell_type": "markdown",
   "metadata": {},
   "source": [
    "<img src='icons/bad.png' width='40px' align='left'/><span style='font-size:20px;padding-top:10px;display:inline-block'>问题出现</span>"
   ]
  },
  {
   "cell_type": "markdown",
   "metadata": {},
   "source": [
    "上面这样直接换行是行不通的...那么如我们需要怎么换行，应该怎么处理呢？"
   ]
  },
  {
   "cell_type": "markdown",
   "metadata": {},
   "source": [
    "<img src='icons/tool.png' width='40px' align='left'/><span style='font-size:20px;padding-top:10px;display:inline-block'>解决工具</span>"
   ]
  },
  {
   "cell_type": "markdown",
   "metadata": {},
   "source": [
    "这里提供两个方法"
   ]
  },
  {
   "cell_type": "markdown",
   "metadata": {},
   "source": [
    "方法1:\n",
    "利用```\\```换行符，在需要换行处加上"
   ]
  },
  {
   "cell_type": "code",
   "execution_count": null,
   "metadata": {},
   "outputs": [],
   "source": [
    "4 / 2 + \\\n",
    "2 * 3 ** 2"
   ]
  },
  {
   "cell_type": "markdown",
   "metadata": {},
   "source": [
    "可是下面的代码运行会出错"
   ]
  },
  {
   "cell_type": "code",
   "execution_count": null,
   "metadata": {},
   "outputs": [],
   "source": [
    "4 / 2 + \\ \n",
    "2 * 3 ** 2"
   ]
  },
  {
   "cell_type": "markdown",
   "metadata": {},
   "source": [
    "<img src='icons/warning.png' width='40px' align='left'/><span style='font-size:20px;padding-top:10px;display:inline-block'>注意事项</span>"
   ]
  },
  {
   "cell_type": "markdown",
   "metadata": {},
   "source": [
    "上面的代码不能运行的原因，是因为```\\```之后多了一个空格。\n",
    "\n",
    "当然，在上面的代码里, 报错信息\"SyntaxError: unexpected character after line continuation character\"还是给出了明显的提示。\n",
    "\n",
    "空格，制表符等白空间，很多时候在视觉上并不明显，因此如果程序出现错误，记得要考虑这个排查方向。"
   ]
  },
  {
   "cell_type": "markdown",
   "metadata": {},
   "source": [
    "方法2:\n",
    "利用```()```将整个表达式括起来，就可以自由的换行"
   ]
  },
  {
   "cell_type": "code",
   "execution_count": null,
   "metadata": {},
   "outputs": [],
   "source": [
    "(\n",
    "    4 / 2 + \n",
    "    2 * 3 ** 2\n",
    ")"
   ]
  },
  {
   "cell_type": "markdown",
   "metadata": {},
   "source": [
    "为了演示**自由的换行**中自由的意思，我们下面玩的更野一些"
   ]
  },
  {
   "cell_type": "code",
   "execution_count": null,
   "metadata": {},
   "outputs": [],
   "source": [
    "(\n",
    "    4 \n",
    "        / \n",
    "            2 \n",
    "                + \n",
    "            2 \n",
    "        * \n",
    "    3 \n",
    "                            ** \n",
    "                    2\n",
    ") "
   ]
  },
  {
   "cell_type": "markdown",
   "metadata": {},
   "source": [
    "<img src='icons/warning.png' width='40px' align='left'/><span style='font-size:20px;padding-top:10px;display:inline-block'>注意事项</span>"
   ]
  },
  {
   "cell_type": "markdown",
   "metadata": {},
   "source": [
    "从代码可读性，可理解性角度，上面的做法不可取。\n",
    "\n",
    "为了不给自己和团队成员找麻烦，平时写代码请别这么做。（做了可别说是和老蔡学的python！）"
   ]
  },
  {
   "cell_type": "markdown",
   "metadata": {},
   "source": [
    "## 运算顺序\n",
    "\n",
    "从上面的例子中可以注意到，运算顺序并不是从左往右的顺序执行。上面的表达式中的优先级顺序是\n",
    "\n",
    "** > * == / > _\n",
    "\n",
    "如果我们分解上面的计算步骤，可以得到这样的计算过程:\n",
    "* 紫色：最原始的输入\n",
    "* 绿色：中间计算结果\n",
    "* 红色下划线：当前最高优先级运算\n"
   ]
  },
  {
   "cell_type": "markdown",
   "metadata": {},
   "source": [
    "![](images/01/orders.png)"
   ]
  },
  {
   "cell_type": "markdown",
   "metadata": {},
   "source": [
    "### 如何控制运算顺序？"
   ]
  },
  {
   "cell_type": "markdown",
   "metadata": {},
   "source": [
    "<img src='icons/bad.png' width='40px' align='left'/><span style='font-size:20px;padding-top:10px;display:inline-block'>问题出现</span>"
   ]
  },
  {
   "cell_type": "markdown",
   "metadata": {},
   "source": [
    "那么问题来了，如果我们的确希望上面表达式中，2 + 2被优先运行，怎么办？"
   ]
  },
  {
   "cell_type": "markdown",
   "metadata": {},
   "source": [
    "<img src='icons/tool.png' width='40px' align='left'/><span style='font-size:20px;padding-top:10px;display:inline-block'>解决工具</span>"
   ]
  },
  {
   "cell_type": "markdown",
   "metadata": {},
   "source": [
    "工具: ```()```除了可以提供自由换行，我们也可以利用它定义运算顺序, 被```()```包含的部分，具备更高的运算优先级"
   ]
  },
  {
   "cell_type": "code",
   "execution_count": null,
   "metadata": {},
   "outputs": [],
   "source": [
    "4 / (2 + 2) * 3 **2 # 先别急着运行，尝试推理一下运行结果"
   ]
  },
  {
   "cell_type": "markdown",
   "metadata": {},
   "source": [
    "![](images/01/orders2.png)"
   ]
  },
  {
   "cell_type": "markdown",
   "metadata": {},
   "source": [
    "我们也可以定义多层的```()```指定优先级顺序，内层的运算会被先执行"
   ]
  },
  {
   "cell_type": "code",
   "execution_count": null,
   "metadata": {},
   "outputs": [],
   "source": [
    "4 / ((2 + 2) * 3) ** 2 # 先别急着运行，尝试推理一下运行结果"
   ]
  },
  {
   "cell_type": "markdown",
   "metadata": {},
   "source": [
    "## 练习\n",
    "\n",
    "1. 分析下面表达式的执行步骤，和实际运行的结果进行比较"
   ]
  },
  {
   "cell_type": "code",
   "execution_count": null,
   "metadata": {},
   "outputs": [],
   "source": [
    "2 * (1 + 3) ** (6 - (2 + 2))"
   ]
  },
  {
   "cell_type": "markdown",
   "metadata": {},
   "source": [
    "2. 已知一个三角形的三条边长是3,5,7, 请利用[海伦公式](https://baike.baidu.com/item/%E6%B5%B7%E4%BC%A6%E5%85%AC%E5%BC%8F)，在Jupyter Notebook中编写代码，用上面提到的数学运算符```+,-,*,/,**```计算三角形的面积。\n"
   ]
  },
  {
   "cell_type": "code",
   "execution_count": null,
   "metadata": {},
   "outputs": [],
   "source": [
    "# 请在这里根据海伦公式，利用python计算边长为3,5,7的三角形面积公式\n",
    "\n"
   ]
  },
  {
   "cell_type": "markdown",
   "metadata": {},
   "source": [
    "# 简化复杂计算逻辑的编写和使用"
   ]
  },
  {
   "cell_type": "markdown",
   "metadata": {},
   "source": [
    "这是一个海伦公式的参考例子"
   ]
  },
  {
   "cell_type": "code",
   "execution_count": null,
   "metadata": {},
   "outputs": [],
   "source": [
    "(\n",
    "    ((3+5+7)/2 - 3) *\n",
    "    ((3+5+7)/2 - 5) *\n",
    "    ((3+5+7)/2 - 7)\n",
    ") ** 0.5"
   ]
  },
  {
   "cell_type": "markdown",
   "metadata": {},
   "source": [
    "如果大家完成了海伦公式计算三角形公式的练习，可能会注意到以下问题"
   ]
  },
  {
   "cell_type": "markdown",
   "metadata": {},
   "source": [
    "<img src='icons/bad.png' width='40px' align='left'/><span style='font-size:20px;padding-top:10px;display:inline-block'>问题出现</span>"
   ]
  },
  {
   "cell_type": "markdown",
   "metadata": {},
   "source": [
    "* 整个表达需要一口气写完，这个过程很容易出错。\n",
    "* 写完的表达式很长，可读性很差，如果不是一开始知道，很难一眼看出这个表达式的目的是什么。\n",
    "* 三角形周长的一半```(3+5+7)/2```这个中间结果要重复几遍，导致不必要的重复计算。\n",
    "* 如果三角形的边长改变，这样复杂的表达式又要重新写一遍\n",
    "\n",
    "（这个阶段的代码，和用卡西欧计算器相比强不了多少）"
   ]
  },
  {
   "cell_type": "markdown",
   "metadata": {},
   "source": [
    "<img src='icons/tool.png' width='40px' align='left'/><span style='font-size:20px;padding-top:10px;display:inline-block'>解决工具</span>"
   ]
  },
  {
   "cell_type": "markdown",
   "metadata": {},
   "source": [
    "## 变量"
   ]
  },
  {
   "cell_type": "markdown",
   "metadata": {},
   "source": [
    "变量提供了一种工具，可以让我们用一个有意义的，方便理解的命名，去指代对应的程序中对应的值，或者保存一个表达式的计算结果。"
   ]
  },
  {
   "cell_type": "code",
   "execution_count": null,
   "metadata": {},
   "outputs": [],
   "source": [
    "x = 1001 # 用x指代数值1001"
   ]
  },
  {
   "cell_type": "markdown",
   "metadata": {},
   "source": [
    "之后我们就可以用```x```找到之前对应的数值1001"
   ]
  },
  {
   "cell_type": "code",
   "execution_count": null,
   "metadata": {},
   "outputs": [],
   "source": [
    "x"
   ]
  },
  {
   "cell_type": "markdown",
   "metadata": {},
   "source": [
    "变量可以接受表达式的接受结果"
   ]
  },
  {
   "cell_type": "code",
   "execution_count": null,
   "metadata": {},
   "outputs": [],
   "source": [
    "y = 1002 + 2001 "
   ]
  },
  {
   "cell_type": "code",
   "execution_count": null,
   "metadata": {},
   "outputs": [],
   "source": [
    "y"
   ]
  },
  {
   "cell_type": "markdown",
   "metadata": {},
   "source": [
    "变量本身也可以参与表达式的计算"
   ]
  },
  {
   "cell_type": "code",
   "execution_count": null,
   "metadata": {},
   "outputs": [],
   "source": [
    "z = x + y"
   ]
  },
  {
   "cell_type": "code",
   "execution_count": null,
   "metadata": {},
   "outputs": [],
   "source": [
    "z"
   ]
  },
  {
   "cell_type": "markdown",
   "metadata": {},
   "source": [
    "在变量的帮助下，我们可以将海伦公式的计算过程拆分成两个阶段进行"
   ]
  },
  {
   "cell_type": "code",
   "execution_count": null,
   "metadata": {},
   "outputs": [],
   "source": [
    "# 先计算出周长的一半\n",
    "half_perimeter = (3 + 5 + 7)/2\n",
    "\n",
    "# 基于这个中间结果，进行后续的计算\n",
    "surface = (\n",
    "    (half_perimeter - 3) * \n",
    "    (half_perimeter - 5) * \n",
    "    (half_perimeter - 7)\n",
    ") ** 0.5\n",
    "\n",
    "surface"
   ]
  },
  {
   "cell_type": "markdown",
   "metadata": {},
   "source": [
    "这个改动带来了两个优点\n",
    "* 变量名half_perimeter具有良好的可读性，更能反应我们代码的意图是“计算三角形边长的一半”; surface同理\n",
    "* 三角形半边长只计算了一次，不会被重复计算\n",
    "* 当我们需要改变三角形边长的时候，代码的改动量小了很多（这一点仍有改进空间）\n",
    "\n",
    "目前的版本，尽管有了一些改进，但是我们应该注意到，需要修改三角形某个边长时，仍然需要对2处进行修改（之前是4处）。\n",
    "\n",
    "考虑到计算半周长时的数值，和后续计算的数值都是三角形的某条边长，这里我们进一步用变量进行处理"
   ]
  },
  {
   "cell_type": "code",
   "execution_count": null,
   "metadata": {},
   "outputs": [],
   "source": [
    "# 具体的三角形的计算逻辑\n",
    "side_a = 3\n",
    "side_b = 5\n",
    "side_c = 7\n",
    "\n",
    "# 后续的计算逻辑，和三角形的具体边长无关\n",
    "half_perimeter = (side_a + side_b + side_c)/2\n",
    "\n",
    "surface = (\n",
    "    (half_perimeter - side_a) * \n",
    "    (half_perimeter - side_b) * \n",
    "    (half_perimeter - side_c)\n",
    ") ** 0.5\n",
    "\n",
    "surface"
   ]
  },
  {
   "cell_type": "markdown",
   "metadata": {},
   "source": [
    "这次改进的完成后的进展\n",
    "* 计算半边长的表达式含义变得明显\n",
    "* 当我们需要改变三角形边长的时候，只需改动1处代码（量变）\n",
    "* 我们将代码需要变的具体数值，和不需变得计算逻辑进行了分离；使用时，我们改变开始```side_a, side_b, side_c```的数值即可，不用在关心不需要改变的计算逻辑部分（质变）"
   ]
  },
  {
   "cell_type": "markdown",
   "metadata": {},
   "source": [
    "<img src='icons/good.jpeg' width='40px' align='left'/><span style='font-size:20px;padding-top:10px;display:inline-block'>优势总结</span>"
   ]
  },
  {
   "cell_type": "markdown",
   "metadata": {},
   "source": [
    "和利用使用变量后，能够我们带来以下优势\n",
    "* 将负责的计算逻辑拆分成多段进行\n",
    "* 保存可以重复利用的中间变量， 避免重复计算\n",
    "* 合理命名的变量名，会让程序的意图变得更加清晰\n",
    "* 能够将可能发生改变的数值，和不会发生改变的计算逻辑事先分离。减少使用时，需要关注和理解的代码范围。"
   ]
  },
  {
   "cell_type": "markdown",
   "metadata": {},
   "source": [
    "## 缩进"
   ]
  },
  {
   "cell_type": "markdown",
   "metadata": {},
   "source": [
    "<img src='icons/warning.png' width='40px' align='left'/><span style='font-size:20px;padding-top:10px;display:inline-block'>注意</span>"
   ]
  },
  {
   "cell_type": "markdown",
   "metadata": {},
   "source": [
    "在上面的例子中，已经出现了很多在一个cell中写多个表达式的例子。这里大家要留意一个问题，在同一个cel\n",
    "的多个表达式之间，要保持缩进一致，否则程序无法运行。"
   ]
  },
  {
   "cell_type": "code",
   "execution_count": null,
   "metadata": {},
   "outputs": [],
   "source": [
    "1 + 1 # 都不加缩进\n",
    "1 + 2"
   ]
  },
  {
   "cell_type": "code",
   "execution_count": null,
   "metadata": {},
   "outputs": [],
   "source": [
    " 1 + 1 # 都加1个空格\n",
    " 1 + 2"
   ]
  },
  {
   "cell_type": "code",
   "execution_count": null,
   "metadata": {},
   "outputs": [],
   "source": [
    "    1 + 1  # 都加1个制表符\n",
    "    1 + 2"
   ]
  },
  {
   "cell_type": "code",
   "execution_count": null,
   "metadata": {},
   "outputs": [],
   "source": [
    "1 + 1 # 不一致的缩进，程序无法运行\n",
    " 2 + 2"
   ]
  },
  {
   "cell_type": "markdown",
   "metadata": {},
   "source": [
    "## 练习"
   ]
  },
  {
   "cell_type": "markdown",
   "metadata": {},
   "source": [
    "根据一元二次方程求解公式, 计算$ax^2 + bx + c = 0$的解（注意有两个哦）"
   ]
  },
  {
   "cell_type": "code",
   "execution_count": null,
   "metadata": {},
   "outputs": [],
   "source": [
    "# 可以在这里调试代码，注意充分利用变量\n",
    "\n"
   ]
  },
  {
   "cell_type": "markdown",
   "metadata": {},
   "source": [
    "# 如何表示和操作文本"
   ]
  },
  {
   "cell_type": "markdown",
   "metadata": {},
   "source": [
    "但目前为止，我们一直在用一些简单的数学运算介绍Python的特性。我知道你们在心里默默的吐槽，传说中强大的Python看上去只是一个高阶版的Casio计算器。\n",
    "\n",
    "为了让后面的例子稍微有趣一些。这里先初步的介绍一下如何在Python中定义文本信息和操作这些信息。"
   ]
  },
  {
   "cell_type": "markdown",
   "metadata": {},
   "source": [
    "在python中定义文本，几乎和定义数值一样直接，主要的差别是要加上```\"```或者```'```将文本的内容包裹起来。用这种方式定义的内容，在python中被称为字符串。"
   ]
  },
  {
   "cell_type": "code",
   "execution_count": null,
   "metadata": {},
   "outputs": [],
   "source": [
    "\"Hello World\""
   ]
  },
  {
   "cell_type": "code",
   "execution_count": null,
   "metadata": {},
   "outputs": [],
   "source": [
    "'Hello World'"
   ]
  },
  {
   "cell_type": "code",
   "execution_count": null,
   "metadata": {},
   "outputs": [],
   "source": [
    "# 这样不行！\n",
    "\"Hello World' "
   ]
  },
  {
   "cell_type": "code",
   "execution_count": null,
   "metadata": {},
   "outputs": [],
   "source": [
    "message = \"Hello Python\" # 和数值一样，也可以把字符串赋值给变量\n",
    "message"
   ]
  },
  {
   "cell_type": "code",
   "execution_count": null,
   "metadata": {},
   "outputs": [],
   "source": [
    "我们可以```+```拼接几个字符"
   ]
  },
  {
   "cell_type": "code",
   "execution_count": null,
   "metadata": {},
   "outputs": [],
   "source": [
    "\"Hello\" + \" \" + \" World\""
   ]
  },
  {
   "cell_type": "markdown",
   "metadata": {},
   "source": [
    "我们可以用```*```复制字符串"
   ]
  },
  {
   "cell_type": "code",
   "execution_count": null,
   "metadata": {},
   "outputs": [],
   "source": [
    "\"=**=\" * 21"
   ]
  },
  {
   "cell_type": "markdown",
   "metadata": {},
   "source": [
    "我们可以用```print```打印字符串的内容"
   ]
  },
  {
   "cell_type": "code",
   "execution_count": null,
   "metadata": {},
   "outputs": [],
   "source": [
    "print(\"*\")\n",
    "print(\"*\" * 3)\n",
    "print(\"*\" * 5)\n",
    "print(\"*\" * 3)\n",
    "print(\"*\")"
   ]
  },
  {
   "cell_type": "markdown",
   "metadata": {},
   "source": [
    "<img src='icons/future.jpg' width='40px' align='left'/><span style='font-size:20px;padding-top:10px;display:inline-block'>后续详解</span>\n",
    "\n",
    "对于字符串，Python提供了非常丰富的操作处理方法。后续教程会详细介绍。"
   ]
  },
  {
   "cell_type": "markdown",
   "metadata": {
    "hidePrompt": true
   },
   "source": [
    "# 如何重复利用我们开发过的代码逻辑"
   ]
  },
  {
   "cell_type": "markdown",
   "metadata": {},
   "source": [
    "先回到我们三角形面积计算的场景。如果我们在程序中多个地方计算三角形的面积，这时候应该怎么处理呢？\n",
    "\n",
    "方案一：\n",
    "将上面计算三角形面积的代码部分复制黏贴到需要用到的地方。\n",
    "\n",
    "虽然这也实现了可复用，但是这么做有一些缺点：\n",
    "1. 使用者只是想计算三角形的面积，不希望，也没必要看到具体的代码细节\n",
    "2. 当和其他代码混在一起的时候，这段代码的意图可能并不很明显\n",
    "3. 如果一段代码被复制了多次，那么我们想修改这段代码逻辑的时候（例如修复一个逻辑错误，或者添加新功能），我们需要找到所有这段代码被复制黏贴到哪里去了，并且全部进行相应的修改。\n",
    "\n",
    "<img src='icons/bad.png' width='40px' align='left'/><span style='font-size:20px;padding-top:10px;display:inline-block'>问题出现</span>\n",
    "\n",
    "所以，我们应该怎样重复利用我们的编写好的代码，又能克服上面的问题呢？\n",
    "\n",
    "函数，就是能有效的解决这一问题的工具。\n",
    "\n",
    "<img src='icons/tool.png' width='40px' align='left'/><span style='font-size:20px;padding-top:10px;display:inline-block'>解决工具</span>"
   ]
  },
  {
   "cell_type": "markdown",
   "metadata": {},
   "source": [
    "## 函数I\n",
    "\n",
    "函数可以将我们编写的计算逻辑，有一个有意义的名称去指代。\n",
    "\n",
    "如果不容易理解的话，我们看下面的例子，我们知道了圆的半径后，希望计算圆的面积"
   ]
  },
  {
   "cell_type": "code",
   "execution_count": null,
   "metadata": {},
   "outputs": [],
   "source": [
    "r = 2\n",
    "\n",
    "r_square = r ** 2\n",
    "area = 3.14159 * r_square\n",
    "area"
   ]
  },
  {
   "cell_type": "markdown",
   "metadata": {},
   "source": [
    "我们希望把这个计算逻辑保存下来，不要每次都重新写出这些代码，这时可以把这个计算过程的代码定义在一个函数中。"
   ]
  },
  {
   "cell_type": "code",
   "execution_count": null,
   "metadata": {},
   "outputs": [],
   "source": [
    "def cal_area(r):\n",
    "    r_square = r ** 2\n",
    "    area = 3.14159 * r_square\n",
    "    \n",
    "    return area "
   ]
  },
  {
   "cell_type": "markdown",
   "metadata": {},
   "source": [
    "运行完上面代码后，我们在Jupyter中尝试运行一下```cal_area```，利用Jupyter的自动显示功能，看看```cal_area```是什么。\n",
    "\n",
    "显示的结果表示当前的运行环境中已经出现了```cal_area```的定义。（大家可以尝试，在不运行上面代码的情况下，运行```cal_area```会是什么结果。"
   ]
  },
  {
   "cell_type": "code",
   "execution_count": null,
   "metadata": {},
   "outputs": [],
   "source": [
    "cal_area # 利用Jupyer的自动显示功能，看看cal_area是什么"
   ]
  },
  {
   "cell_type": "markdown",
   "metadata": {},
   "source": [
    "### 基本的函数定义"
   ]
  },
  {
   "cell_type": "markdown",
   "metadata": {},
   "source": [
    "#### def关键词\n",
    "python中的关键词，表示要开始定义一个函数"
   ]
  },
  {
   "cell_type": "markdown",
   "metadata": {},
   "source": [
    "<img width='600' src='images/函数/def.png'>"
   ]
  },
  {
   "cell_type": "markdown",
   "metadata": {},
   "source": [
    "#### 函数名\n",
    "函数的名称。函数的名称应该**尽可能的描述包含的计算逻辑的意图**，提高代码的可读性。\n",
    "\n",
    "<img width='600' src='images/函数/name.png'>"
   ]
  },
  {
   "cell_type": "markdown",
   "metadata": {},
   "source": [
    "#### 函数体\n",
    "\n",
    "定义函数包含的计算逻辑\n",
    "\n",
    "<img width='600' src='images/函数/body.png'>"
   ]
  },
  {
   "cell_type": "markdown",
   "metadata": {},
   "source": [
    "#### 参数列表\n",
    "\n",
    "很多时候，函数在运行时，需要接受一些输入，但是在定义函数时，并不知道，**也不需要知道**这些输入的具体值是什么。函数定义时，只需要考虑如果我们拿到了这些数值，应该怎么进行计算即可。\n",
    "\n",
    "例如我们定义这个圆面积的计算公式时，计算逻辑并不依赖一个具体的半径数值，这时候我们在参数列表中用```r```指代这个半径。\n",
    "\n",
    "函数体中，可以让使用变量名称那样，使用参数的名称。\n",
    "\n",
    "\n",
    "<img width='600' src='images/函数/params.png'>"
   ]
  },
  {
   "cell_type": "markdown",
   "metadata": {},
   "source": [
    "如果需要，我们可以指定多个参数。不同的参数之间用```,```分割"
   ]
  },
  {
   "cell_type": "code",
   "execution_count": null,
   "metadata": {},
   "outputs": [],
   "source": [
    "def some_calculation(x, y):\n",
    "    return (x + y) * (x - y)\n",
    "\n",
    "\n",
    "some_calculation(5, 2)"
   ]
  },
  {
   "cell_type": "markdown",
   "metadata": {},
   "source": [
    "#### 缩进与冒号\n",
    "\n",
    "* 参数列表之后需要用\":\"结尾\n",
    "* 函数体内部，相对```def```关键词，需要有**统一**的缩进（一般为4个空格，不过大部分编程工具如Jupyter可以用Tab键，通过一次按键输入4个空格）"
   ]
  },
  {
   "cell_type": "markdown",
   "metadata": {},
   "source": [
    "<img width='600' src='images/函数/space.png'>"
   ]
  },
  {
   "cell_type": "markdown",
   "metadata": {},
   "source": [
    "下面是一些不和python语法的例子"
   ]
  },
  {
   "cell_type": "code",
   "execution_count": null,
   "metadata": {},
   "outputs": [],
   "source": [
    " #没有：结尾，失败！\n",
    "def f(x)\n",
    "    y = x + 1\n",
    "    return y"
   ]
  },
  {
   "cell_type": "code",
   "execution_count": null,
   "metadata": {},
   "outputs": [],
   "source": [
    "def f(x):\n",
    "y = x + 1 #没有缩进，失败！\n",
    "return y"
   ]
  },
  {
   "cell_type": "code",
   "execution_count": null,
   "metadata": {},
   "outputs": [],
   "source": [
    "def f(x):\n",
    " y = x + 1 \n",
    "  return y #不统一的缩进，失败！"
   ]
  },
  {
   "cell_type": "markdown",
   "metadata": {},
   "source": [
    "#### return"
   ]
  },
  {
   "cell_type": "markdown",
   "metadata": {},
   "source": [
    "我们需要通过return， 定义函数运行完成后，需要返回的内容是什么。这个会在函数调用部分进一步的讨论。\n",
    "\n",
    "<img width='600' src='images/函数/return.png'>"
   ]
  },
  {
   "cell_type": "markdown",
   "metadata": {},
   "source": [
    "### 函数的调用"
   ]
  },
  {
   "cell_type": "markdown",
   "metadata": {},
   "source": [
    "函数定义的代码运行后，大家会注意到Jupyter Notebook什么都没有发生。"
   ]
  },
  {
   "cell_type": "markdown",
   "metadata": {},
   "source": [
    "注意，上面的代码运行后，只是定义了一段计算逻辑，但是函数定义的计算逻辑并没有真正的发生。\n",
    "\n",
    "如果我们希望利用这段计算逻辑的话，需要通过函数的名称**调用**函数。和函数定义不一样的是，运行一个函数，需要知道**具体的数值**才能进行计算。\n",
    "\n",
    "运行后，函数会将通过```return```指定的结果返回"
   ]
  },
  {
   "cell_type": "code",
   "execution_count": null,
   "metadata": {},
   "outputs": [],
   "source": [
    "cal_area(2) # 指定r=2，进行计算"
   ]
  },
  {
   "cell_type": "markdown",
   "metadata": {},
   "source": [
    "<img width='600' src='images/函数/run.png'>"
   ]
  },
  {
   "cell_type": "markdown",
   "metadata": {},
   "source": [
    "我们尝试传入不同的数值调用函数"
   ]
  },
  {
   "cell_type": "code",
   "execution_count": null,
   "metadata": {},
   "outputs": [],
   "source": [
    "cal_area(1)"
   ]
  },
  {
   "cell_type": "code",
   "execution_count": null,
   "metadata": {},
   "outputs": [],
   "source": [
    "cal_area(3)"
   ]
  },
  {
   "cell_type": "markdown",
   "metadata": {},
   "source": [
    "<img src='icons/good.jpeg' width='40px' align='left'/><span style='font-size:20px;padding-top:10px;display:inline-block'>优势总结</span>\n",
    "\n",
    "至此，我们已经解决了开始提到的很多问题！\n",
    "* 我们通过```cal_area```这样的函数名更直观，简洁的表达我们的意图，屏蔽了具体的计算细节。\n",
    "* 我们只是定义了计算逻辑一次，做到了可以多次重复利用这段计算逻辑。\n",
    "* 如果我们要修改计算逻辑（例如我们想将上面圆面积PI值精度提升到小数点之后20位），只需修改函数定义一个地方即可。\n"
   ]
  },
  {
   "cell_type": "markdown",
   "metadata": {},
   "source": [
    "## 函数II"
   ]
  },
  {
   "cell_type": "markdown",
   "metadata": {},
   "source": [
    "### 利用已有的函数\n",
    "\n",
    "我们并不需要从零开始编写所有的代码，编程时可以利用一些已有的函数去帮助我们的工作。\n",
    "\n",
    "例如，下面几个是Python内置的一些函数的例子，我们可以直接使用。"
   ]
  },
  {
   "cell_type": "markdown",
   "metadata": {},
   "source": [
    "用```round```保留指定位数的精度"
   ]
  },
  {
   "cell_type": "code",
   "execution_count": null,
   "metadata": {},
   "outputs": [],
   "source": [
    "round(3.1415926, 2) # 四舍五入保留指定精度，"
   ]
  },
  {
   "cell_type": "markdown",
   "metadata": {},
   "source": [
    "用```type```获取值的类型"
   ]
  },
  {
   "cell_type": "code",
   "execution_count": null,
   "metadata": {},
   "outputs": [],
   "source": [
    "type(1)"
   ]
  },
  {
   "cell_type": "code",
   "execution_count": null,
   "metadata": {},
   "outputs": [],
   "source": [
    "type(1.2)"
   ]
  },
  {
   "cell_type": "markdown",
   "metadata": {},
   "source": [
    "用```str```把类型转变成字符串"
   ]
  },
  {
   "cell_type": "code",
   "execution_count": null,
   "metadata": {},
   "outputs": [],
   "source": [
    "str(1) # 注意输出结果的引号"
   ]
  },
  {
   "cell_type": "code",
   "execution_count": null,
   "metadata": {},
   "outputs": [],
   "source": [
    "str(1.5) # 注意输出结果的引号"
   ]
  },
  {
   "cell_type": "code",
   "execution_count": null,
   "metadata": {},
   "outputs": [],
   "source": [
    "str(1) + str(1.5)"
   ]
  },
  {
   "cell_type": "markdown",
   "metadata": {},
   "source": [
    "用```float```将字符串转化成浮点数"
   ]
  },
  {
   "cell_type": "code",
   "execution_count": null,
   "metadata": {},
   "outputs": [],
   "source": [
    "float(\"2.1\") + float(\"1.1\")"
   ]
  },
  {
   "cell_type": "markdown",
   "metadata": {},
   "source": [
    "用```int```将字符串转化成整数"
   ]
  },
  {
   "cell_type": "code",
   "execution_count": null,
   "metadata": {},
   "outputs": [],
   "source": [
    "int(\"1\") + int(\"11\")"
   ]
  },
  {
   "cell_type": "markdown",
   "metadata": {},
   "source": [
    "用```print```打印信息"
   ]
  },
  {
   "cell_type": "code",
   "execution_count": null,
   "metadata": {},
   "outputs": [],
   "source": [
    "print(\"开始打印一些信息：\")\n",
    "print(1)\n",
    "print(2)\n",
    "print(3)"
   ]
  },
  {
   "cell_type": "markdown",
   "metadata": {},
   "source": [
    "用```input```接受用户的窗口输入"
   ]
  },
  {
   "cell_type": "code",
   "execution_count": null,
   "metadata": {},
   "outputs": [],
   "source": [
    "name = input('请输入姓名:')\n",
    "age = input('请输入年龄：')\n",
    "\n",
    "print('你好' + name)\n",
    "print('你今年' + age + \"岁\")"
   ]
  },
  {
   "cell_type": "markdown",
   "metadata": {},
   "source": [
    "有些函数需要用```from ... import ...```语法导入后，才能使用"
   ]
  },
  {
   "cell_type": "code",
   "execution_count": null,
   "metadata": {},
   "outputs": [],
   "source": [
    "from math import log, ceil"
   ]
  },
  {
   "cell_type": "code",
   "execution_count": null,
   "metadata": {},
   "outputs": [],
   "source": [
    "log(100, 10) # 进行log运行"
   ]
  },
  {
   "cell_type": "code",
   "execution_count": null,
   "metadata": {},
   "outputs": [],
   "source": [
    "ceil(2.1) # 向上取整"
   ]
  },
  {
   "cell_type": "markdown",
   "metadata": {},
   "source": [
    "<img src='icons/future.jpg' width='40px' align='left'/><span style='font-size:20px;padding-top:10px;display:inline-block'>后续详解</span>\n",
    "\n",
    "为了让大家将注意力放在基本的python编程概念上，目前我们都基于简单的算术问题作为例子，介绍Python语言。但是希望大家不要以为Python只能进行这些基本的运算。\n",
    "\n",
    "Python社区存在大量的已有代码库，供大家完成各类工作。包括但不限于\n",
    "* 科学计算\n",
    "* 文本分析\n",
    "* 网站开发\n",
    "* 数据可视化\n",
    "* 图像处理\n",
    "* 机器学习建模\n",
    "* 网络爬虫\n",
    "* 游戏开发\n",
    "* ....\n",
    "\n",
    "在大家掌握基本的Python语法和编程技能后，后续教程会进一步的说明，如何引入更丰富的第三方库，协助自己的工作。"
   ]
  },
  {
   "cell_type": "markdown",
   "metadata": {},
   "source": [
    "### 带默认值的参数"
   ]
  },
  {
   "cell_type": "markdown",
   "metadata": {},
   "source": [
    "我们可以为部分参数指定默认值。允许使用者调用时，不指定这些参数的值。这时函数会采用默认值进行计算。"
   ]
  },
  {
   "cell_type": "markdown",
   "metadata": {},
   "source": [
    "我们可以在参数列表中，用```=```提供默认值"
   ]
  },
  {
   "cell_type": "code",
   "execution_count": null,
   "metadata": {},
   "outputs": [],
   "source": [
    "def divide(x, y, n=2): # n表示保留的小数点位数，默认为2\n",
    "    return round(x / y, n)"
   ]
  },
  {
   "cell_type": "markdown",
   "metadata": {},
   "source": [
    "在调用这函数时，使用```arg_name = value```的形式传入值"
   ]
  },
  {
   "cell_type": "code",
   "execution_count": null,
   "metadata": {},
   "outputs": [],
   "source": [
    "divide(2, 3, n=4)"
   ]
  },
  {
   "cell_type": "code",
   "execution_count": null,
   "metadata": {},
   "outputs": [],
   "source": [
    "divide(2, 3) # 没有指定n, 这时采用默认的2进行计算"
   ]
  },
  {
   "cell_type": "markdown",
   "metadata": {},
   "source": [
    "有一点要注意的是，带默认值的参数也可以支持多个。但是要放在不带默认值的参数后面，否则会报错。"
   ]
  },
  {
   "cell_type": "code",
   "execution_count": null,
   "metadata": {},
   "outputs": [],
   "source": [
    "def valid_definition(a, b, c=1, d=2): # 没问题\n",
    "    return a + b + c + d"
   ]
  },
  {
   "cell_type": "code",
   "execution_count": null,
   "metadata": {},
   "outputs": [],
   "source": [
    "def valid_definition(a, c=1, c, d=2): # 这样是不行的\n",
    "    return a + b + c + d"
   ]
  },
  {
   "cell_type": "markdown",
   "metadata": {},
   "source": [
    "### return"
   ]
  },
  {
   "cell_type": "markdown",
   "metadata": {},
   "source": [
    "#### 多个```return```值"
   ]
  },
  {
   "cell_type": "markdown",
   "metadata": {},
   "source": [
    "函数可以return多个值，不同的值之间用```,```分割"
   ]
  },
  {
   "cell_type": "code",
   "execution_count": null,
   "metadata": {},
   "outputs": [],
   "source": [
    "def cal(x, y):\n",
    "    return x + y, x - y, x * y, round(x / y, 2)"
   ]
  },
  {
   "cell_type": "code",
   "execution_count": null,
   "metadata": {},
   "outputs": [],
   "source": [
    "cal(2,3)"
   ]
  },
  {
   "cell_type": "markdown",
   "metadata": {},
   "source": [
    "#### ```return```是可选的"
   ]
  },
  {
   "cell_type": "markdown",
   "metadata": {},
   "source": [
    "```return```的内容可以不写，甚至可以省略```return```语句"
   ]
  },
  {
   "cell_type": "code",
   "execution_count": null,
   "metadata": {},
   "outputs": [],
   "source": [
    "def hello():\n",
    "    print(\"Hello World\") # 这个函数的目的只是print一些信息，没有需要返回的数值\n",
    "    print(\"Hello Python\") \n",
    "    \n",
    "result = hello() # 将运行结果赋值给result"
   ]
  },
  {
   "cell_type": "code",
   "execution_count": null,
   "metadata": {},
   "outputs": [],
   "source": [
    "result # Jupyter没有显示任何内容"
   ]
  },
  {
   "cell_type": "markdown",
   "metadata": {},
   "source": [
    "实际上，即使没有明确的定义```return```内容, 函数会自动返回```None```这个特殊值。 下面几个函数的效果是等价的"
   ]
  },
  {
   "cell_type": "code",
   "execution_count": null,
   "metadata": {},
   "outputs": [],
   "source": [
    "def hello_1():\n",
    "    print(\"Hello World\") # 这个函数的目的只是print一些信息，没有需要返回的数值\n",
    "    print(\"Hello Python\") \n",
    "    \n",
    "def hello_2():\n",
    "    print(\"Hello World\") # 这个函数的目的只是print一些信息，没有需要返回的数值\n",
    "    print(\"Hello Python\") \n",
    "    \n",
    "    return\n",
    "    \n",
    "def hello_3():\n",
    "    print(\"Hello World\") # 这个函数的目的只是print一些信息，没有需要返回的数值\n",
    "    print(\"Hello Python\")  \n",
    "    \n",
    "    return None"
   ]
  },
  {
   "cell_type": "markdown",
   "metadata": {},
   "source": [
    "利用```type```,```print```函数我们可以\"感知\"```None```被函数返回"
   ]
  },
  {
   "cell_type": "code",
   "execution_count": null,
   "metadata": {},
   "outputs": [],
   "source": [
    "type(result)"
   ]
  },
  {
   "cell_type": "code",
   "execution_count": null,
   "metadata": {},
   "outputs": [],
   "source": [
    "print(result)"
   ]
  },
  {
   "cell_type": "markdown",
   "metadata": {},
   "source": [
    "<img src='icons/future.jpg' width='40px' align='left'/><span style='font-size:20px;padding-top:10px;display:inline-block'>后续详解</span>\n",
    "\n",
    "```None```作为一个特殊的值，可以表示数据缺失，结果无法定义等含义。```None```的用法和特性会在后续教程中进一步的讨论。\n"
   ]
  },
  {
   "cell_type": "markdown",
   "metadata": {},
   "source": [
    "### 在函数中调用函数"
   ]
  },
  {
   "cell_type": "markdown",
   "metadata": {},
   "source": [
    "我们可以在函数中调用其他的函数。"
   ]
  },
  {
   "cell_type": "code",
   "execution_count": null,
   "metadata": {},
   "outputs": [],
   "source": [
    "def cal_area(r):\n",
    "    print(r) # 打印r的值，调用print函数处理\n",
    "    r_square =  r ** 2\n",
    "    print(r_square)\n",
    "    \n",
    "    result = round(3.1415926 * r_square, 2) # 保留小数点后面2位精度，调用round函数处理\n",
    "    print(result)\n",
    "    \n",
    "    return result\n",
    "\n",
    "\n",
    "cal_area(2)"
   ]
  },
  {
   "cell_type": "markdown",
   "metadata": {},
   "source": [
    "## 练习"
   ]
  },
  {
   "cell_type": "markdown",
   "metadata": {},
   "source": [
    "### 练习1"
   ]
  },
  {
   "cell_type": "markdown",
   "metadata": {},
   "source": [
    "编写一个函数```quadratic```，接受参数```a,b,c```, 函数运行后，返回$ax^2 +bx + c=0$的两个解\n",
    "\n"
   ]
  },
  {
   "cell_type": "markdown",
   "metadata": {},
   "source": [
    "### 练习2"
   ]
  },
  {
   "cell_type": "markdown",
   "metadata": {},
   "source": [
    "编写一个函数, 函数名称```triangle_analysis```，运行后，支持以下功能。\n",
    "* 允许用户输入三角形的3条边长\n",
    "* 获得3条边长后，计算三角形的周长和面积\n",
    "* 完成计算后，打印三角形的信息\n",
    "\n",
    "具体效果见视频"
   ]
  },
  {
   "cell_type": "code",
   "execution_count": 6,
   "metadata": {},
   "outputs": [],
   "source": [
    "def get_inputs():\n",
    "    a = float(input(\"请输入边长a:\"))\n",
    "    b = float(input(\"请输入边长b:\"))\n",
    "    c = float(input(\"请输入边长c:\"))    \n",
    "    \n",
    "    return a, b, c\n",
    "\n",
    "def cal_area(side_a, side_b, side_c):\n",
    "    perimeter = side_a + side_b + side_c\n",
    "    \n",
    "    half_perimeter = perimeter / 2\n",
    "    \n",
    "    area = (\n",
    "        half_perimeter * \n",
    "        (half_perimeter - side_a) * \n",
    "        (half_perimeter - side_b) * \n",
    "        (half_perimeter - side_c)    \n",
    "    ) ** 0.5\n",
    "    \n",
    "    return perimeter, area\n",
    "\n",
    "def print_message(a, b, c, perimeter, area):\n",
    "    print(\"=\"*40)    \n",
    "    print(\"下面是三角形分析报告\")\n",
    "    print(\"=\"*40)\n",
    "    print(\"三角形的边长分别是:\")\n",
    "    print(a,b,c)\n",
    "    print(\"三角形的周长是:\")\n",
    "    print(perimeter)\n",
    "    print(\"三角形的面积是\")\n",
    "    print(area)\n",
    "    \n",
    "def triangle_analysis(n=2):\n",
    "    side_a, side_b, side_c = get_inputs()\n",
    "    \n",
    "    perimeter, area = cal_area(side_a, side_b, side_c)\n",
    "    \n",
    "    print_message(side_a, side_b, side_c, perimeter, area)\n",
    "\n"
   ]
  },
  {
   "cell_type": "code",
   "execution_count": 4,
   "metadata": {},
   "outputs": [
    {
     "name": "stdout",
     "output_type": "stream",
     "text": [
      "请输入边长a:7\n",
      "请输入边长b:8\n",
      "请输入边长c:9\n",
      "========================================\n",
      "下面是三角形分析报告\n",
      "========================================\n",
      "三角形的边长分别是:\n",
      "7.0 8.0 9.0\n",
      "三角形的周长是:\n",
      "24.0\n",
      "三角形的面积是\n",
      "26.832815729997478\n"
     ]
    }
   ],
   "source": [
    "\n",
    "\n",
    "\n",
    "\n",
    "\n",
    "\n",
    "\n",
    "\n",
    "\n",
    "\n",
    "\n",
    "\n",
    "\n",
    "\n",
    "\n",
    "\n",
    "\n",
    "\n",
    "\n",
    "\n",
    "triangle_analysis()\n",
    "\n",
    "\n",
    "\n",
    "\n",
    "\n",
    "\n",
    "\n",
    "\n",
    "\n"
   ]
  }
 ],
 "metadata": {
  "kernelspec": {
   "display_name": "Python 3",
   "language": "python",
   "name": "python3"
  },
  "language_info": {
   "codemirror_mode": {
    "name": "ipython",
    "version": 3
   },
   "file_extension": ".py",
   "mimetype": "text/x-python",
   "name": "python",
   "nbconvert_exporter": "python",
   "pygments_lexer": "ipython3",
   "version": "3.7.7"
  },
  "toc": {
   "base_numbering": 1,
   "nav_menu": {},
   "number_sections": true,
   "sideBar": true,
   "skip_h1_title": false,
   "title_cell": "Table of Contents",
   "title_sidebar": "Contents",
   "toc_cell": false,
   "toc_position": {
    "height": "calc(100% - 180px)",
    "left": "10px",
    "top": "150px",
    "width": "228px"
   },
   "toc_section_display": "block",
   "toc_window_display": false
  }
 },
 "nbformat": 4,
 "nbformat_minor": 2
}
