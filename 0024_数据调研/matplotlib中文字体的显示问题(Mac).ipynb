{
 "cells": [
  {
   "cell_type": "code",
   "execution_count": 5,
   "metadata": {},
   "outputs": [
    {
     "data": {
      "text/plain": [
       "['.Keyboard',\n",
       " '.LastResort',\n",
       " '.SF Compact Display',\n",
       " '.SF Compact Display',\n",
       " '.SF Compact Display',\n",
       " '.SF Compact Display',\n",
       " '.SF Compact Display',\n",
       " '.SF Compact Display',\n",
       " '.SF Compact Display',\n",
       " '.SF Compact Display',\n",
       " '.SF Compact Display',\n",
       " '.SF Compact Rounded',\n",
       " '.SF Compact Rounded',\n",
       " '.SF Compact Rounded',\n",
       " '.SF Compact Rounded',\n",
       " '.SF Compact Rounded',\n",
       " '.SF Compact Rounded',\n",
       " '.SF Compact Rounded',\n",
       " '.SF Compact Rounded',\n",
       " '.SF Compact Rounded',\n",
       " '.SF Compact Text',\n",
       " '.SF Compact Text',\n",
       " '.SF Compact Text',\n",
       " '.SF Compact Text',\n",
       " '.SF Compact Text',\n",
       " '.SF Compact Text',\n",
       " '.SF Compact Text',\n",
       " '.SF Compact Text',\n",
       " '.SF Compact Text',\n",
       " '.SF Compact Text',\n",
       " '.SF Compact Text',\n",
       " '.SF Compact Text',\n",
       " '.SF NS Display Condensed',\n",
       " '.SF NS Display Condensed',\n",
       " '.SF NS Display Condensed',\n",
       " '.SF NS Display Condensed',\n",
       " '.SF NS Display Condensed',\n",
       " '.SF NS Display Condensed',\n",
       " '.SF NS Display Condensed',\n",
       " '.SF NS Display Condensed',\n",
       " '.SF NS Display Condensed',\n",
       " '.SF NS Text Condensed',\n",
       " '.SF NS Text Condensed',\n",
       " '.SF NS Text Condensed',\n",
       " '.SF NS Text Condensed',\n",
       " '.SF NS Text Condensed',\n",
       " '.SF NS Text Condensed',\n",
       " 'Andale Mono',\n",
       " 'Apple Braille',\n",
       " 'Apple Braille',\n",
       " 'Apple Braille',\n",
       " 'Apple Braille',\n",
       " 'Apple Braille',\n",
       " 'Apple Chancery',\n",
       " 'Apple Symbols',\n",
       " 'AppleGothic',\n",
       " 'AppleMyungjo',\n",
       " 'Arial',\n",
       " 'Arial',\n",
       " 'Arial',\n",
       " 'Arial',\n",
       " 'Arial Black',\n",
       " 'Arial Narrow',\n",
       " 'Arial Narrow',\n",
       " 'Arial Narrow',\n",
       " 'Arial Narrow',\n",
       " 'Arial Rounded MT Bold',\n",
       " 'Arial Unicode MS',\n",
       " 'Ayuthaya',\n",
       " 'Big Caslon',\n",
       " 'Bodoni 72 Smallcaps',\n",
       " 'Bodoni Ornaments',\n",
       " 'Bradley Hand',\n",
       " 'Brush Script MT',\n",
       " 'Chalkduster',\n",
       " 'Comic Sans MS',\n",
       " 'Comic Sans MS',\n",
       " 'Courier New',\n",
       " 'Courier New',\n",
       " 'Courier New',\n",
       " 'Courier New',\n",
       " 'DIN Alternate',\n",
       " 'DIN Condensed',\n",
       " 'DejaVu Sans',\n",
       " 'DejaVu Sans',\n",
       " 'DejaVu Sans',\n",
       " 'DejaVu Sans',\n",
       " 'DejaVu Sans Display',\n",
       " 'DejaVu Sans Mono',\n",
       " 'DejaVu Sans Mono',\n",
       " 'DejaVu Sans Mono',\n",
       " 'DejaVu Sans Mono',\n",
       " 'DejaVu Serif',\n",
       " 'DejaVu Serif',\n",
       " 'DejaVu Serif',\n",
       " 'DejaVu Serif',\n",
       " 'DejaVu Serif Display',\n",
       " 'Diwan Thuluth',\n",
       " 'Farisi',\n",
       " 'Georgia',\n",
       " 'Georgia',\n",
       " 'Georgia',\n",
       " 'Georgia',\n",
       " 'Gurmukhi MT',\n",
       " 'Herculanum',\n",
       " 'Hoefler Text',\n",
       " 'Impact',\n",
       " 'Khmer Sangam MN',\n",
       " 'Kokonor',\n",
       " 'Krungthep',\n",
       " 'Lao Sangam MN',\n",
       " 'Luminari',\n",
       " 'Microsoft Sans Serif',\n",
       " 'Microsoft YaHei',\n",
       " 'Mishafi',\n",
       " 'Mishafi Gold',\n",
       " 'Plantagenet Cherokee',\n",
       " 'STIXGeneral',\n",
       " 'STIXGeneral',\n",
       " 'STIXGeneral',\n",
       " 'STIXGeneral',\n",
       " 'STIXGeneral',\n",
       " 'STIXGeneral',\n",
       " 'STIXGeneral',\n",
       " 'STIXGeneral',\n",
       " 'STIXIntegralsD',\n",
       " 'STIXIntegralsD',\n",
       " 'STIXIntegralsSm',\n",
       " 'STIXIntegralsSm',\n",
       " 'STIXIntegralsUp',\n",
       " 'STIXIntegralsUp',\n",
       " 'STIXIntegralsUpD',\n",
       " 'STIXIntegralsUpD',\n",
       " 'STIXIntegralsUpSm',\n",
       " 'STIXIntegralsUpSm',\n",
       " 'STIXNonUnicode',\n",
       " 'STIXNonUnicode',\n",
       " 'STIXNonUnicode',\n",
       " 'STIXNonUnicode',\n",
       " 'STIXNonUnicode',\n",
       " 'STIXNonUnicode',\n",
       " 'STIXNonUnicode',\n",
       " 'STIXNonUnicode',\n",
       " 'STIXSizeFiveSym',\n",
       " 'STIXSizeFiveSym',\n",
       " 'STIXSizeFourSym',\n",
       " 'STIXSizeFourSym',\n",
       " 'STIXSizeFourSym',\n",
       " 'STIXSizeFourSym',\n",
       " 'STIXSizeOneSym',\n",
       " 'STIXSizeOneSym',\n",
       " 'STIXSizeOneSym',\n",
       " 'STIXSizeOneSym',\n",
       " 'STIXSizeThreeSym',\n",
       " 'STIXSizeThreeSym',\n",
       " 'STIXSizeThreeSym',\n",
       " 'STIXSizeThreeSym',\n",
       " 'STIXSizeTwoSym',\n",
       " 'STIXSizeTwoSym',\n",
       " 'STIXSizeTwoSym',\n",
       " 'STIXSizeTwoSym',\n",
       " 'STIXVariants',\n",
       " 'STIXVariants',\n",
       " 'Sathu',\n",
       " 'Silom',\n",
       " 'SimHei',\n",
       " 'Skia',\n",
       " 'Symbol',\n",
       " 'System Font',\n",
       " 'System Font',\n",
       " 'System Font',\n",
       " 'System Font',\n",
       " 'System Font',\n",
       " 'System Font',\n",
       " 'System Font',\n",
       " 'System Font',\n",
       " 'System Font',\n",
       " 'System Font',\n",
       " 'System Font',\n",
       " 'System Font',\n",
       " 'System Font',\n",
       " 'Tahoma',\n",
       " 'Tahoma',\n",
       " 'Times New Roman',\n",
       " 'Times New Roman',\n",
       " 'Times New Roman',\n",
       " 'Times New Roman',\n",
       " 'Trattatello',\n",
       " 'Trebuchet MS',\n",
       " 'Trebuchet MS',\n",
       " 'Trebuchet MS',\n",
       " 'Trebuchet MS',\n",
       " 'Verdana',\n",
       " 'Verdana',\n",
       " 'Verdana',\n",
       " 'Verdana',\n",
       " 'Webdings',\n",
       " 'Wingdings',\n",
       " 'Wingdings 2',\n",
       " 'Wingdings 3',\n",
       " 'Zapf Dingbats',\n",
       " 'Zapfino',\n",
       " 'cmb10',\n",
       " 'cmex10',\n",
       " 'cmmi10',\n",
       " 'cmr10',\n",
       " 'cmss10',\n",
       " 'cmsy10',\n",
       " 'cmtt10']"
      ]
     },
     "execution_count": 5,
     "metadata": {},
     "output_type": "execute_result"
    }
   ],
   "source": [
    "from matplotlib import font_manager\n",
    "a = sorted([f.name for f in font_manager.fontManager.ttflist])\n",
    "a"
   ]
  },
  {
   "cell_type": "markdown",
   "metadata": {},
   "source": [
    "如果找到的到，直接跳到步骤5；如果找不到，进入步骤2"
   ]
  },
  {
   "cell_type": "markdown",
   "metadata": {},
   "source": [
    "# 安装字体\n",
    "先去安装中文字体的ttf文件（例如:微软雅黑，请自行搜索下载）。\n",
    "\n",
    "将字体放入matplotlib能够识别的文件夹，用以下代码查找文件夹位置。"
   ]
  },
  {
   "cell_type": "code",
   "execution_count": 3,
   "metadata": {},
   "outputs": [
    {
     "name": "stdout",
     "output_type": "stream",
     "text": [
      "/usr/local/lib/python3.7/site-packages/matplotlib/mpl-data/fonts/ttf\n"
     ]
    }
   ],
   "source": [
    "import matplotlib\n",
    "from os.path import join\n",
    "print(join(matplotlib.matplotlib_fname()[:-12], 'fonts', 'ttf'))"
   ]
  },
  {
   "cell_type": "markdown",
   "metadata": {},
   "source": [
    "# 刷新matplotlib的font信息\n",
    "重新load一次就行"
   ]
  },
  {
   "cell_type": "code",
   "execution_count": 4,
   "metadata": {},
   "outputs": [],
   "source": [
    "from matplotlib.font_manager import _rebuild\n",
    "_rebuild() "
   ]
  },
  {
   "cell_type": "markdown",
   "metadata": {},
   "source": [
    "# 测试效果"
   ]
  },
  {
   "cell_type": "markdown",
   "metadata": {},
   "source": [
    "每个项目开头对matplotlib进行如下配置"
   ]
  },
  {
   "cell_type": "code",
   "execution_count": 12,
   "metadata": {},
   "outputs": [],
   "source": [
    "import matplotlib.pyplot as plt\n",
    "plt.rcParams['font.family']=['Microsoft YaHei'] #用来正常显示中文标签\n",
    "plt.rcParams['axes.unicode_minus']=False  # 用于正常显示负号"
   ]
  },
  {
   "cell_type": "markdown",
   "metadata": {},
   "source": [
    "试试看是否成功"
   ]
  },
  {
   "cell_type": "code",
   "execution_count": 13,
   "metadata": {},
   "outputs": [
    {
     "data": {
      "text/plain": [
       "Text(0.5, 1.0, '水果变化')"
      ]
     },
     "execution_count": 13,
     "metadata": {},
     "output_type": "execute_result"
    },
    {
     "data": {
      "image/png": "[encoded data removed]",
      "text/plain": [
       "<Figure size 432x288 with 1 Axes>"
      ]
     },
     "metadata": {
      "needs_background": "light"
     },
     "output_type": "display_data"
    }
   ],
   "source": [
    "plt.plot(['苹果', '梨子', '桃子'], [10, -20, 5], 'o')\n",
    "plt.title('水果变化')"
   ]
  },
  {
   "cell_type": "code",
   "execution_count": null,
   "metadata": {},
   "outputs": [],
   "source": []
  }
 ],
 "metadata": {
  "kernelspec": {
   "display_name": "Python 3",
   "language": "python",
   "name": "python3"
  },
  "language_info": {
   "codemirror_mode": {
    "name": "ipython",
    "version": 3
   },
   "file_extension": ".py",
   "mimetype": "text/x-python",
   "name": "python",
   "nbconvert_exporter": "python",
   "pygments_lexer": "ipython3",
   "version": "3.7.1"
  },
  "toc": {
   "base_numbering": 1,
   "nav_menu": {},
   "number_sections": true,
   "sideBar": true,
   "skip_h1_title": false,
   "title_cell": "Table of Contents",
   "title_sidebar": "Contents",
   "toc_cell": false,
   "toc_position": {},
   "toc_section_display": true,
   "toc_window_display": false
  }
 },
 "nbformat": 4,
 "nbformat_minor": 2
}
