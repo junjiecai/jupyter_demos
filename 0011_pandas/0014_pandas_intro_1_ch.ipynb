{
 "cells": [
  {
   "cell_type": "code",
   "execution_count": 1,
   "metadata": {
    "collapsed": true
   },
   "outputs": [],
   "source": [
    "from pandas import DataFrame, Series\n",
    "import pandas as pd\n",
    "import numpy as np\n",
    "from IPython.display import display"
   ]
  },
  {
   "cell_type": "markdown",
   "metadata": {},
   "source": [
    "# 说明\n",
    "\n",
    "关于pandas的笔记。 讲解面对常用的场景和需求时的解决方案。 不过并不力求全面。 \n",
    "\n",
    "这份笔记的内容涉及Series的创建。 Series成员修改， 添加和删除。"
   ]
  },
  {
   "cell_type": "markdown",
   "metadata": {},
   "source": [
    "# 创建\n",
    "## 从已知的数据创建\n",
    "\n",
    "定义一个Series最基本的两个参数是data和index，分别提供数据和对应的标签。 \n",
    "\n",
    "可以分别传入两个等长的array like数据结构分别定义data和index，例如list, tuple, numpy.array, generator。\n",
    "\n",
    "下面我们创建四个tuple，tuple中第一个成员之后用做index, 第二个成员用作data。 它们的类型分别是list, tuple, numpy.array, generator。 这种情况下data和index必须等长度。"
   ]
  },
  {
   "cell_type": "code",
   "execution_count": 2,
   "metadata": {
    "collapsed": false
   },
   "outputs": [],
   "source": [
    "inputs = [\n",
    "    ([1,2], ['a','b']),\n",
    "    ((1,2), ('a','b')),\n",
    "    ((x for x in [1,2]), (x for x in ['a','b'])),\n",
    "    (np.array([1,2]),np.array(['a','b']))    \n",
    "]"
   ]
  },
  {
   "cell_type": "markdown",
   "metadata": {},
   "source": [
    "遍历每一个tuple，创建Series。"
   ]
  },
  {
   "cell_type": "code",
   "execution_count": 3,
   "metadata": {
    "collapsed": false
   },
   "outputs": [
    {
     "name": "stdout",
     "output_type": "stream",
     "text": [
      "<<\n",
      "data的类型是 <class 'list'> index的类型是 <class 'list'>\n"
     ]
    },
    {
     "data": {
      "text/plain": [
       "a    1\n",
       "b    2\n",
       "dtype: int64"
      ]
     },
     "metadata": {},
     "output_type": "display_data"
    },
    {
     "name": "stdout",
     "output_type": "stream",
     "text": [
      ">>\n",
      "<<\n",
      "data的类型是 <class 'tuple'> index的类型是 <class 'tuple'>\n"
     ]
    },
    {
     "data": {
      "text/plain": [
       "a    1\n",
       "b    2\n",
       "dtype: int64"
      ]
     },
     "metadata": {},
     "output_type": "display_data"
    },
    {
     "name": "stdout",
     "output_type": "stream",
     "text": [
      ">>\n",
      "<<\n",
      "data的类型是 <class 'generator'> index的类型是 <class 'generator'>\n"
     ]
    },
    {
     "data": {
      "text/plain": [
       "a    1\n",
       "b    2\n",
       "dtype: int64"
      ]
     },
     "metadata": {},
     "output_type": "display_data"
    },
    {
     "name": "stdout",
     "output_type": "stream",
     "text": [
      ">>\n",
      "<<\n",
      "data的类型是 <class 'numpy.ndarray'> index的类型是 <class 'numpy.ndarray'>\n"
     ]
    },
    {
     "data": {
      "text/plain": [
       "a    1\n",
       "b    2\n",
       "dtype: int64"
      ]
     },
     "metadata": {},
     "output_type": "display_data"
    },
    {
     "name": "stdout",
     "output_type": "stream",
     "text": [
      ">>\n"
     ]
    }
   ],
   "source": [
    "for data, index in inputs:\n",
    "    print('<<')    \n",
    "    print('data的类型是',type(data), 'index的类型是',type(index))\n",
    "    \n",
    "    s = Series(data, index) #定义Series\n",
    "    \n",
    "    display(s)\n",
    "    print('>>')"
   ]
  },
  {
   "cell_type": "markdown",
   "metadata": {},
   "source": [
    "如果data传入单个数值,Series的长度会以传入的index为准。"
   ]
  },
  {
   "cell_type": "code",
   "execution_count": 4,
   "metadata": {
    "collapsed": false
   },
   "outputs": [
    {
     "data": {
      "text/plain": [
       "a    1\n",
       "b    1\n",
       "c    1\n",
       "dtype: int64"
      ]
     },
     "execution_count": 4,
     "metadata": {},
     "output_type": "execute_result"
    }
   ],
   "source": [
    "s = Series(1,['a','b','c'])\n",
    "s"
   ]
  },
  {
   "cell_type": "markdown",
   "metadata": {},
   "source": [
    "如果data是dict或一个Series的话，dict的keys或Series的index就可以作为index使用。这种情况下，可以省略index参数。 例如。"
   ]
  },
  {
   "cell_type": "code",
   "execution_count": 5,
   "metadata": {
    "collapsed": false
   },
   "outputs": [
    {
     "data": {
      "text/plain": [
       "a    1\n",
       "b    2\n",
       "dtype: int64"
      ]
     },
     "execution_count": 5,
     "metadata": {},
     "output_type": "execute_result"
    }
   ],
   "source": [
    "d = {'a':1,'b':2}\n",
    "\n",
    "s = Series(d) #传入dict\n",
    "s"
   ]
  },
  {
   "cell_type": "markdown",
   "metadata": {},
   "source": [
    "如果这时额外的指定index, 那么传入dict和Series定义的index会和传入index做匹配。 传入index中存在但是数据中找不到对应label数据会被用NaN填充。 传入index中不存在, 传入数据中存在的label会被舍弃。"
   ]
  },
  {
   "cell_type": "code",
   "execution_count": 6,
   "metadata": {
    "collapsed": false
   },
   "outputs": [
    {
     "data": {
      "text/plain": [
       "a    1.0\n",
       "c    NaN\n",
       "dtype: float64"
      ]
     },
     "execution_count": 6,
     "metadata": {},
     "output_type": "execute_result"
    }
   ],
   "source": [
    "d = {'a':1,'b':2}\n",
    "s = Series(d, index = ['a','c'])\n",
    "s # 'b'对应的数据被舍弃，'c'对应的数据用NaN填充"
   ]
  },
  {
   "cell_type": "markdown",
   "metadata": {},
   "source": [
    "总结:\n",
    "    \n",
    "依照传入data的类型， 传入的index会有不同的表现。\n",
    "\n",
    "|data类型|index需要和data等长度|index用途|\n",
    "|---|---|---|\n",
    "|array like|是|定义|\n",
    "|标量|否|定义|\n",
    "|dict/Series|否|匹配|\n",
    "\n",
    "\n",
    "\n"
   ]
  },
  {
   "cell_type": "markdown",
   "metadata": {},
   "source": [
    "### name"
   ]
  },
  {
   "cell_type": "markdown",
   "metadata": {},
   "source": [
    "可以给Series传入一个name作为Series的名字。当Series组成DataFrame时,name会成为DataFrame的columns名称。(DataFrame后面会介绍)"
   ]
  },
  {
   "cell_type": "code",
   "execution_count": 7,
   "metadata": {
    "collapsed": false
   },
   "outputs": [
    {
     "name": "stdout",
     "output_type": "stream",
     "text": [
      "Series:\n"
     ]
    },
    {
     "data": {
      "text/plain": [
       "a    1.0\n",
       "c    NaN\n",
       "Name: a series, dtype: float64"
      ]
     },
     "metadata": {},
     "output_type": "display_data"
    },
    {
     "name": "stdout",
     "output_type": "stream",
     "text": [
      "Series name:\n"
     ]
    },
    {
     "data": {
      "text/plain": [
       "'a series'"
      ]
     },
     "metadata": {},
     "output_type": "display_data"
    }
   ],
   "source": [
    "d = {'a':1,'b':2}\n",
    "s = Series(s,index = ['a','c'],name = 'a series')\n",
    "\n",
    "print('Series:')\n",
    "display(s)\n",
    "print('Series name:')\n",
    "display(s.name)"
   ]
  },
  {
   "cell_type": "markdown",
   "metadata": {
    "collapsed": false
   },
   "source": [
    "### dtype"
   ]
  },
  {
   "cell_type": "markdown",
   "metadata": {
    "collapsed": true
   },
   "source": [
    "创建Series的时候可以传入多类型的数据,Series会尝试自动用一个适合所有成员的数据类型作为最终的数据类型。\n",
    "\n",
    "例如下面的例子里,int类型和float类型放在一起时，所有的成员都被统一成了float。"
   ]
  },
  {
   "cell_type": "code",
   "execution_count": 8,
   "metadata": {
    "collapsed": false
   },
   "outputs": [
    {
     "data": {
      "text/plain": [
       "0    1.0\n",
       "1    1.1\n",
       "dtype: float64"
      ]
     },
     "metadata": {},
     "output_type": "display_data"
    }
   ],
   "source": [
    "s = Series([1,1.1])\n",
    "display(s)"
   ]
  },
  {
   "cell_type": "markdown",
   "metadata": {},
   "source": [
    "下面的例子里，pandas则用了最万能的object类型作为Series的结构。这时每个成员保持了原有的数据类型。"
   ]
  },
  {
   "cell_type": "code",
   "execution_count": 9,
   "metadata": {
    "collapsed": false
   },
   "outputs": [
    {
     "data": {
      "text/plain": [
       "0    True\n",
       "1       1\n",
       "2     1.1\n",
       "3    1.23\n",
       "dtype: object"
      ]
     },
     "metadata": {},
     "output_type": "display_data"
    },
    {
     "name": "stdout",
     "output_type": "stream",
     "text": [
      "数据:\t True \t数据类型: <class 'bool'>\n",
      "数据:\t 1 \t数据类型: <class 'int'>\n",
      "数据:\t 1.1 \t数据类型: <class 'float'>\n",
      "数据:\t 1.23 \t数据类型: <class 'str'>\n"
     ]
    }
   ],
   "source": [
    "s = Series([True,1,1.1,'1.23'])\n",
    "display(s)\n",
    "\n",
    "for x in s:\n",
    "    print('数据:\\t',x,'\\t数据类型:',type(x))"
   ]
  },
  {
   "cell_type": "markdown",
   "metadata": {},
   "source": [
    "如果不满意pandas的自动处理策略，可以通过指定dtype的方式来指定最终的数据类型。"
   ]
  },
  {
   "cell_type": "code",
   "execution_count": 10,
   "metadata": {
    "collapsed": false
   },
   "outputs": [
    {
     "name": "stdout",
     "output_type": "stream",
     "text": [
      "Series\n"
     ]
    },
    {
     "data": {
      "text/plain": [
       "0    1.00\n",
       "1    1.00\n",
       "2    1.10\n",
       "3    1.23\n",
       "dtype: float64"
      ]
     },
     "metadata": {},
     "output_type": "display_data"
    },
    {
     "name": "stdout",
     "output_type": "stream",
     "text": [
      "数据:\t 1.0 \t数据类型: <class 'numpy.float64'>\n",
      "数据:\t 1.0 \t数据类型: <class 'numpy.float64'>\n",
      "数据:\t 1.1 \t数据类型: <class 'numpy.float64'>\n",
      "数据:\t 1.23 \t数据类型: <class 'numpy.float64'>\n"
     ]
    }
   ],
   "source": [
    "s = Series([True,1,1.1,'1.23'],dtype = float)\n",
    "print('Series')\n",
    "display(s)\n",
    "\n",
    "for x in s:\n",
    "    print('数据:\\t',x,'\\t数据类型:',type(x))"
   ]
  },
  {
   "cell_type": "markdown",
   "metadata": {},
   "source": [
    "## 利用函数创建"
   ]
  },
  {
   "cell_type": "markdown",
   "metadata": {},
   "source": [
    "可以利用一些函数创建常用的Sereis。 例如，连续的日期序列。"
   ]
  },
  {
   "cell_type": "code",
   "execution_count": 11,
   "metadata": {
    "collapsed": false,
    "scrolled": true
   },
   "outputs": [
    {
     "data": {
      "text/plain": [
       "DatetimeIndex(['2000-01-01', '2000-01-02', '2000-01-03', '2000-01-04',\n",
       "               '2000-01-05', '2000-01-06', '2000-01-07', '2000-01-08'],\n",
       "              dtype='datetime64[ns]', freq='D')"
      ]
     },
     "execution_count": 11,
     "metadata": {},
     "output_type": "execute_result"
    }
   ],
   "source": [
    "pd.date_range('1/1/2000', periods=8)"
   ]
  },
  {
   "cell_type": "markdown",
   "metadata": {},
   "source": [
    "# 选择成员"
   ]
  },
  {
   "cell_type": "markdown",
   "metadata": {},
   "source": [
    "## 基于label进行选择"
   ]
  },
  {
   "cell_type": "markdown",
   "metadata": {},
   "source": [
    "### 单个label"
   ]
  },
  {
   "cell_type": "markdown",
   "metadata": {},
   "source": [
    "使用```at[]```， 传入单个label。"
   ]
  },
  {
   "cell_type": "code",
   "execution_count": 12,
   "metadata": {
    "collapsed": false
   },
   "outputs": [
    {
     "data": {
      "text/plain": [
       "1"
      ]
     },
     "execution_count": 12,
     "metadata": {},
     "output_type": "execute_result"
    }
   ],
   "source": [
    "s = Series([1,2,3,4],index = ['a','b','c','d'])\n",
    "\n",
    "result = s.at['a']\n",
    "\n",
    "result"
   ]
  },
  {
   "cell_type": "markdown",
   "metadata": {},
   "source": [
    "Series也可以像dict那样使用```get()```方法， 在找不到指定label成员的时候，可以返回一个默认值。"
   ]
  },
  {
   "cell_type": "code",
   "execution_count": 13,
   "metadata": {
    "collapsed": false
   },
   "outputs": [
    {
     "data": {
      "text/plain": [
       "1"
      ]
     },
     "execution_count": 13,
     "metadata": {},
     "output_type": "execute_result"
    }
   ],
   "source": [
    "s.get('a',None)"
   ]
  },
  {
   "cell_type": "markdown",
   "metadata": {},
   "source": [
    "### 多个label\n",
    "#### loc[]"
   ]
  },
  {
   "cell_type": "markdown",
   "metadata": {},
   "source": [
    "使用```loc[]```,传入list of label"
   ]
  },
  {
   "cell_type": "code",
   "execution_count": 14,
   "metadata": {
    "collapsed": false
   },
   "outputs": [
    {
     "data": {
      "text/plain": [
       "a    1\n",
       "c    3\n",
       "dtype: int64"
      ]
     },
     "execution_count": 14,
     "metadata": {},
     "output_type": "execute_result"
    }
   ],
   "source": [
    "result = s.loc[['a','c']]\n",
    "\n",
    "result"
   ]
  },
  {
   "cell_type": "markdown",
   "metadata": {},
   "source": [
    "如果传入了并不存在的label,会用NaN填充"
   ]
  },
  {
   "cell_type": "code",
   "execution_count": 15,
   "metadata": {
    "collapsed": false
   },
   "outputs": [
    {
     "data": {
      "text/plain": [
       "a    1.0\n",
       "c    3.0\n",
       "f    NaN\n",
       "dtype: float64"
      ]
     },
     "execution_count": 15,
     "metadata": {},
     "output_type": "execute_result"
    }
   ],
   "source": [
    "result = s.loc[['a','c','f']]\n",
    "\n",
    "result"
   ]
  },
  {
   "cell_type": "markdown",
   "metadata": {},
   "source": [
    "但是如果所有的label都不存在,会报错。"
   ]
  },
  {
   "cell_type": "code",
   "execution_count": 16,
   "metadata": {
    "collapsed": false
   },
   "outputs": [
    {
     "name": "stdout",
     "output_type": "stream",
     "text": [
      "<class 'KeyError'> \"None of [['g', 'f']] are in the [index]\"\n"
     ]
    }
   ],
   "source": [
    "try:\n",
    "    result = s.loc[['g','f']]\n",
    "except Exception as e:\n",
    "    print(type(e),e)"
   ]
  },
  {
   "cell_type": "markdown",
   "metadata": {},
   "source": [
    "```loc[]```也可以接受label slice"
   ]
  },
  {
   "cell_type": "code",
   "execution_count": 17,
   "metadata": {
    "collapsed": false
   },
   "outputs": [
    {
     "data": {
      "text/plain": [
       "a    1\n",
       "c    2\n",
       "dtype: int64"
      ]
     },
     "execution_count": 17,
     "metadata": {},
     "output_type": "execute_result"
    }
   ],
   "source": [
    "s = Series([1,2,3,4],index = ['a','c','b','d'])\n",
    "\n",
    "s.loc['a':'c']"
   ]
  },
  {
   "cell_type": "markdown",
   "metadata": {},
   "source": [
    "注意'a':'c'并不是找出label是['a','b','c']的成员, 而是找到'a'后，按顺序向后搜索，直到找到'c'，并不假设label按照特定的顺序排过序。\n",
    "\n",
    "下面这个例子，从'zda'对应的成员开始搜索，直至找到'dsdasd'对应的成员。 最后的:2表示返回一个成员后跳过1个成员, 不加的默认是:1,表示不跳过成员。"
   ]
  },
  {
   "cell_type": "code",
   "execution_count": 18,
   "metadata": {
    "collapsed": false
   },
   "outputs": [
    {
     "data": {
      "text/plain": [
       "zda       1\n",
       "dsdasd    3\n",
       "dtype: int64"
      ]
     },
     "execution_count": 18,
     "metadata": {},
     "output_type": "execute_result"
    }
   ],
   "source": [
    "s = Series([1,2,3,4],index = ['zda','axa','dsdasd','a'])\n",
    "\n",
    "s.loc['zda':'dsdasd':2]"
   ]
  },
  {
   "cell_type": "markdown",
   "metadata": {},
   "source": [
    "#### reindex()"
   ]
  },
  {
   "cell_type": "markdown",
   "metadata": {},
   "source": [
    "```reindex()```也可以返回多个label对应的成员， 如果找不到label对应的成员， 则用NaN填充。 和```loc```不同的是， 及时所有的label都找不到相应的成员，也不会报错。"
   ]
  },
  {
   "cell_type": "code",
   "execution_count": 19,
   "metadata": {
    "collapsed": false
   },
   "outputs": [
    {
     "data": {
      "text/plain": [
       "g   NaN\n",
       "f   NaN\n",
       "dtype: float64"
      ]
     },
     "execution_count": 19,
     "metadata": {},
     "output_type": "execute_result"
    }
   ],
   "source": [
    "s = Series([1,2,3,4],index = ['a','c','b','d'])\n",
    "\n",
    "result = s.reindex(['g','f'])\n",
    "\n",
    "result"
   ]
  },
  {
   "cell_type": "markdown",
   "metadata": {},
   "source": [
    "## 基于位置索引选择\n",
    "\n",
    "位置索引从0开始递增。第一个成员索引是0,第二个成员索引是1，以此类推。\n",
    "\n",
    "位置索引可以是负数，倒数第一个成员的索引是-1,倒数第二个成员的索引是-2，以此类推。\n",
    "\n",
    "\n",
    "### 单个位置\n",
    "使用```.iat[i]```。例如选择最后一个成员。"
   ]
  },
  {
   "cell_type": "code",
   "execution_count": 20,
   "metadata": {
    "collapsed": false
   },
   "outputs": [
    {
     "data": {
      "text/plain": [
       "4"
      ]
     },
     "execution_count": 20,
     "metadata": {},
     "output_type": "execute_result"
    }
   ],
   "source": [
    "s = Series([1,2,3,4],index = ['a','c','b','d'])\n",
    "\n",
    "s.iat[-1]"
   ]
  },
  {
   "cell_type": "markdown",
   "metadata": {},
   "source": [
    "### 多个位置\n",
    "使用```iloc[l]```的方式进行选择。```l```是位置索引组成的list。 例如选择第一个和最后一个成员。"
   ]
  },
  {
   "cell_type": "code",
   "execution_count": 21,
   "metadata": {
    "collapsed": false
   },
   "outputs": [
    {
     "data": {
      "text/plain": [
       "a    1\n",
       "d    4\n",
       "dtype: int64"
      ]
     },
     "execution_count": 21,
     "metadata": {},
     "output_type": "execute_result"
    }
   ],
   "source": [
    "s = Series([1,2,3,4],index = ['a','c','b','d'])\n",
    "\n",
    "s.iloc[[0,-1]]"
   ]
  },
  {
   "cell_type": "markdown",
   "metadata": {},
   "source": [
    "不像```loc```,```iloc```中传入的位置索引如果超出Series的范围，不会自动扩展，而是抛出异常。"
   ]
  },
  {
   "cell_type": "code",
   "execution_count": 22,
   "metadata": {
    "collapsed": false
   },
   "outputs": [
    {
     "name": "stdout",
     "output_type": "stream",
     "text": [
      "<class 'IndexError'> single positional indexer is out-of-bounds\n"
     ]
    }
   ],
   "source": [
    "s = Series([1,2,3,4],index = ['a','c','b','d'])\n",
    "\n",
    "try:\n",
    "    s.iloc[9]\n",
    "except Exception as e:\n",
    "    print(type(e),e)"
   ]
  },
  {
   "cell_type": "markdown",
   "metadata": {},
   "source": [
    "```iloc[]```也支持传入slice。slice的语法是```m:n:s```。其中m是起始索引值（包含）, n是终止索引值（不包含）, s是步长(不填的话默认是1,不会跳过任何成员，2会跳过一个成员，以此类推)。 例如，要选出位置索引是0,1,2的成员，可以用"
   ]
  },
  {
   "cell_type": "code",
   "execution_count": 23,
   "metadata": {
    "collapsed": false
   },
   "outputs": [
    {
     "data": {
      "text/plain": [
       "a    1\n",
       "c    2\n",
       "b    3\n",
       "dtype: int64"
      ]
     },
     "execution_count": 23,
     "metadata": {},
     "output_type": "execute_result"
    }
   ],
   "source": [
    "s = Series([1,2,3,4],index = ['a','c','b','d'])\n",
    "s.iloc[0:3]"
   ]
  },
  {
   "cell_type": "markdown",
   "metadata": {},
   "source": [
    "选出索引是0,2成员，可以用"
   ]
  },
  {
   "cell_type": "code",
   "execution_count": 24,
   "metadata": {
    "collapsed": false
   },
   "outputs": [
    {
     "data": {
      "text/plain": [
       "a    1\n",
       "b    3\n",
       "dtype: int64"
      ]
     },
     "execution_count": 24,
     "metadata": {},
     "output_type": "execute_result"
    }
   ],
   "source": [
    "s = Series([1,2,3,4],index = ['a','c','b','d'])\n",
    "s.iloc[0:4:2]"
   ]
  },
  {
   "cell_type": "markdown",
   "metadata": {},
   "source": [
    "如果slice的索引越界，会自动忽略越界的部分。不会用NaN填充，也不会抛出异常。"
   ]
  },
  {
   "cell_type": "code",
   "execution_count": 25,
   "metadata": {
    "collapsed": false
   },
   "outputs": [
    {
     "data": {
      "text/plain": [
       "a    1\n",
       "c    2\n",
       "b    3\n",
       "d    4\n",
       "dtype: int64"
      ]
     },
     "execution_count": 25,
     "metadata": {},
     "output_type": "execute_result"
    }
   ],
   "source": [
    "s = Series([1,2,3,4],index = ['a','c','b','d'])\n",
    "s.iloc[0:100]"
   ]
  },
  {
   "cell_type": "markdown",
   "metadata": {},
   "source": [
    "slice也支持负数位置索引。 例如选出倒数第1个,跳过倒数第2个, 选出倒数第3个...，可以用。"
   ]
  },
  {
   "cell_type": "code",
   "execution_count": 26,
   "metadata": {
    "collapsed": false
   },
   "outputs": [
    {
     "data": {
      "text/plain": [
       "d    4\n",
       "c    2\n",
       "dtype: int64"
      ]
     },
     "execution_count": 26,
     "metadata": {},
     "output_type": "execute_result"
    }
   ],
   "source": [
    "s = Series([1,2,3,4],index = ['a','c','b','d'])\n",
    "s.iloc[-1:-4:-2]"
   ]
  },
  {
   "cell_type": "markdown",
   "metadata": {},
   "source": [
    "总结:\n",
    "    \n",
    "```loc```,```iloc```,```reindex```对于越界的选择处理方式是不一样的。\n",
    "\n",
    "|场景|行为|\n",
    "|---|---|\n",
    "|loc[label_list]|至少一个label存在，越界部分NaN填充;否则抛出异常|\n",
    "|loc[slice]|报错|\n",
    "|reindex(label_list)|越界部分NaN填充|\n",
    "|iloc[int_list]|抛出异常|\n",
    "|iloc[slice]|忽略越界部分|\n",
    "\n",
    "```loc[]```和```iloc[]```中使用slice a:b的含义是不一样的，以a>0,b>0的情况为例。\n",
    "\n",
    "||含义|\n",
    "|---|---|\n",
    "|loc[a:b]|找到a对应成员开始，直到找到c对应的成员|\n",
    "|iloc[a:b]|找到位置索引在[a, b)之间的成员|"
   ]
  },
  {
   "cell_type": "markdown",
   "metadata": {},
   "source": [
    "## 基于bool值\n",
    "\n",
    "### loc[]"
   ]
  },
  {
   "cell_type": "markdown",
   "metadata": {},
   "source": [
    "可以传入由True,False构成的list（长度需要和Series相同）进行选择。返回True对应位置成员组成的Series。例如下面这种方法，可以选出位置索引是0,2,3的成员。"
   ]
  },
  {
   "cell_type": "code",
   "execution_count": 27,
   "metadata": {
    "collapsed": false
   },
   "outputs": [
    {
     "data": {
      "text/plain": [
       "a    1\n",
       "b    3\n",
       "d    4\n",
       "dtype: int64"
      ]
     },
     "execution_count": 27,
     "metadata": {},
     "output_type": "execute_result"
    }
   ],
   "source": [
    "result = s.loc[[True,False,True,True]]\n",
    "\n",
    "result"
   ]
  },
  {
   "cell_type": "markdown",
   "metadata": {},
   "source": [
    "也可以往```loc[]```中传入bool Series。注意这时候会按照index进行匹配。下面的例子里，选出的成员是'c','b'对应的成员， 而不是前两个成员。"
   ]
  },
  {
   "cell_type": "code",
   "execution_count": 28,
   "metadata": {
    "collapsed": false
   },
   "outputs": [
    {
     "data": {
      "text/plain": [
       "c    2\n",
       "b    3\n",
       "dtype: int64"
      ]
     },
     "execution_count": 28,
     "metadata": {},
     "output_type": "execute_result"
    }
   ],
   "source": [
    "s = Series([1,2,3,4],index = ['a','c','b','d'])\n",
    "\n",
    "condition = Series([True, True, False, False], index = ['c','b','a','d'])\n",
    "\n",
    "s.loc[condition]"
   ]
  },
  {
   "cell_type": "markdown",
   "metadata": {
    "collapsed": true
   },
   "source": [
    "用bool Series筛选的Series的时候。 bool Series的长度需要和待筛选的Series相同，否则会出错。"
   ]
  },
  {
   "cell_type": "code",
   "execution_count": 31,
   "metadata": {
    "collapsed": false
   },
   "outputs": [
    {
     "name": "stdout",
     "output_type": "stream",
     "text": [
      "<class 'pandas.core.indexing.IndexingError'> Unalignable boolean Series key provided\n"
     ]
    }
   ],
   "source": [
    "s = Series([1,2,3,4],index = ['a','c','b','d'])\n",
    "\n",
    "condition = Series([True, True, False], index = ['c','b','a'])\n",
    "\n",
    "try:\n",
    "    s.loc[condition]\n",
    "except Exception as e:\n",
    "    print(type(e),e)"
   ]
  },
  {
   "cell_type": "markdown",
   "metadata": {},
   "source": [
    "bool Series一般对原有的Series进行条件判断得到的。\n",
    "\n",
    "例如，要知道那些成员的数值大于1。"
   ]
  },
  {
   "cell_type": "code",
   "execution_count": 32,
   "metadata": {
    "collapsed": false
   },
   "outputs": [
    {
     "data": {
      "text/plain": [
       "a    False\n",
       "c     True\n",
       "b     True\n",
       "d     True\n",
       "dtype: bool"
      ]
     },
     "execution_count": 32,
     "metadata": {},
     "output_type": "execute_result"
    }
   ],
   "source": [
    "greater_then_one = (s>1)\n",
    "greater_then_one"
   ]
  },
  {
   "cell_type": "markdown",
   "metadata": {},
   "source": [
    "判断哪些成员是偶数"
   ]
  },
  {
   "cell_type": "code",
   "execution_count": 33,
   "metadata": {
    "collapsed": false
   },
   "outputs": [
    {
     "data": {
      "text/plain": [
       "a    False\n",
       "c     True\n",
       "b    False\n",
       "d     True\n",
       "dtype: bool"
      ]
     },
     "execution_count": 33,
     "metadata": {},
     "output_type": "execute_result"
    }
   ],
   "source": [
    "is_even = s%2==0\n",
    "is_even"
   ]
  },
  {
   "cell_type": "markdown",
   "metadata": {},
   "source": [
    "如果用```&```,```|```,```~```表示逻辑连词与，或，非。 从而将几个基本的条件组成复杂的条件。 例如,选出成员数值>1且是偶数的成员。"
   ]
  },
  {
   "cell_type": "code",
   "execution_count": 34,
   "metadata": {
    "collapsed": false
   },
   "outputs": [
    {
     "data": {
      "text/plain": [
       "c    2\n",
       "d    4\n",
       "dtype: int64"
      ]
     },
     "execution_count": 34,
     "metadata": {},
     "output_type": "execute_result"
    }
   ],
   "source": [
    "s.loc[greater_then_one&(is_even)]"
   ]
  },
  {
   "cell_type": "markdown",
   "metadata": {},
   "source": [
    "## 基于函数"
   ]
  },
  {
   "cell_type": "markdown",
   "metadata": {},
   "source": [
    "```select()```方法可以接受一个函数。这个函数对index的label值进行判断，返回True,False值。 例如，找出label>'a'的成员"
   ]
  },
  {
   "cell_type": "code",
   "execution_count": 35,
   "metadata": {
    "collapsed": false
   },
   "outputs": [
    {
     "data": {
      "text/plain": [
       "c    2\n",
       "b    3\n",
       "d    4\n",
       "dtype: int64"
      ]
     },
     "execution_count": 35,
     "metadata": {},
     "output_type": "execute_result"
    }
   ],
   "source": [
    "s.select(lambda x:x>'a')"
   ]
  },
  {
   "cell_type": "markdown",
   "metadata": {},
   "source": [
    "等价的方法是"
   ]
  },
  {
   "cell_type": "code",
   "execution_count": 36,
   "metadata": {
    "collapsed": false
   },
   "outputs": [
    {
     "data": {
      "text/plain": [
       "c    2\n",
       "b    3\n",
       "d    4\n",
       "dtype: int64"
      ]
     },
     "execution_count": 36,
     "metadata": {},
     "output_type": "execute_result"
    }
   ],
   "source": [
    "s.loc[s.index>'a']"
   ]
  },
  {
   "cell_type": "markdown",
   "metadata": {},
   "source": [
    "```loc[]```中也支持使用函数，只要这个函数满足\n",
    "\n",
    "* 接受一个Series\n",
    "* 返回list of label或者和Series等长的bool list或者bool Series\n",
    "\n",
    "使用函数的好处是可以减少一些中间临时变量， 更容易利用method chaining。 例如， 如果我们要分两次筛选出数值是偶数和index>='b'的成员。(这里是为了演示的目的故意将筛选分两次做，实际使用时可以将两个条件用&合并成一个)如果不利用函数，只能这么做。"
   ]
  },
  {
   "cell_type": "code",
   "execution_count": 37,
   "metadata": {
    "collapsed": false
   },
   "outputs": [
    {
     "data": {
      "text/plain": [
       "b    2\n",
       "d    4\n",
       "dtype: int64"
      ]
     },
     "execution_count": 37,
     "metadata": {},
     "output_type": "execute_result"
    }
   ],
   "source": [
    "s = Series([1,2,3,4],index = ['a','b','c','d'])\n",
    "\n",
    "s1 = s.loc[s%2==0]\n",
    "\n",
    "s1[s1.index>='b']"
   ]
  },
  {
   "cell_type": "markdown",
   "metadata": {},
   "source": [
    "利用函数的话，可以省掉临时变量s1"
   ]
  },
  {
   "cell_type": "code",
   "execution_count": 38,
   "metadata": {
    "collapsed": false
   },
   "outputs": [
    {
     "data": {
      "text/plain": [
       "b    2\n",
       "d    4\n",
       "dtype: int64"
      ]
     },
     "execution_count": 38,
     "metadata": {},
     "output_type": "execute_result"
    }
   ],
   "source": [
    "s = Series([1,2,3,4],index = ['a','b','c','d'])\n",
    "\n",
    "s.loc[s%2==0].loc[lambda s:s.index>='b']"
   ]
  },
  {
   "cell_type": "markdown",
   "metadata": {},
   "source": [
    "```iloc[]```同理。"
   ]
  },
  {
   "cell_type": "markdown",
   "metadata": {},
   "source": [
    "## 其它方法\n",
    "Series提供了```[]```可以根据情况“智能的”进行成员选择。"
   ]
  },
  {
   "cell_type": "code",
   "execution_count": 39,
   "metadata": {
    "collapsed": false
   },
   "outputs": [],
   "source": [
    "s = Series([1,2,3,4],index = ['a','b','c','d'])"
   ]
  },
  {
   "cell_type": "markdown",
   "metadata": {},
   "source": [
    "它可以像```loc[]```那样基于label进行选择。"
   ]
  },
  {
   "cell_type": "code",
   "execution_count": 40,
   "metadata": {
    "collapsed": false
   },
   "outputs": [
    {
     "data": {
      "text/plain": [
       "a    1.0\n",
       "b    2.0\n",
       "c    3.0\n",
       "f    NaN\n",
       "dtype: float64"
      ]
     },
     "execution_count": 40,
     "metadata": {},
     "output_type": "execute_result"
    }
   ],
   "source": [
    "s[['a','b','c','f']]"
   ]
  },
  {
   "cell_type": "markdown",
   "metadata": {},
   "source": [
    "如果index中找不到相应的label，而传入的是int list,那么它会像```iloc[]```那样基于位置参数进行选择。"
   ]
  },
  {
   "cell_type": "code",
   "execution_count": 41,
   "metadata": {
    "collapsed": false
   },
   "outputs": [
    {
     "data": {
      "text/plain": [
       "a    1\n",
       "b    2\n",
       "dtype: int64"
      ]
     },
     "execution_count": 41,
     "metadata": {},
     "output_type": "execute_result"
    }
   ],
   "source": [
    "s[[0,1]]"
   ]
  },
  {
   "cell_type": "markdown",
   "metadata": {},
   "source": [
    "它支持slice"
   ]
  },
  {
   "cell_type": "code",
   "execution_count": 42,
   "metadata": {
    "collapsed": false
   },
   "outputs": [
    {
     "data": {
      "text/plain": [
       "a    1\n",
       "b    2\n",
       "c    3\n",
       "dtype: int64"
      ]
     },
     "execution_count": 42,
     "metadata": {},
     "output_type": "execute_result"
    }
   ],
   "source": [
    "s[0:3]"
   ]
  },
  {
   "cell_type": "markdown",
   "metadata": {},
   "source": [
    "支持单个label"
   ]
  },
  {
   "cell_type": "code",
   "execution_count": 43,
   "metadata": {
    "collapsed": false
   },
   "outputs": [
    {
     "data": {
      "text/plain": [
       "1"
      ]
     },
     "execution_count": 43,
     "metadata": {},
     "output_type": "execute_result"
    }
   ],
   "source": [
    "s['a']"
   ]
  },
  {
   "cell_type": "markdown",
   "metadata": {},
   "source": [
    "其他用法不一一展示了。```[]```能够根据情况自动的决定选择行为在使用的时候会带来一些便利，但是代价是看到这段代码的时候需要花费额外的精力去判断```[]```到底做了什么。在我们的例子中，由于Series的内容是可见的；可是生产代码中，别人看到的只是代表Series的变量，这时要准确判断```[]```的行为就很困难。\n",
    "\n",
    "此外，pandas本身为了判断```[]```到底应该做什么，也需要花费额外的时间。\n",
    "\n",
    "因此只推荐在数据探索阶段编写一些不会长期保存的代码时使用```[]```，不要在生产代码中使用。\n",
    "\n",
    "同理，尽管```iloc[]```,```loc[]```也支持传入标量，起到和```iat[]```,```at```一样的功能。 但是建议```iloc[]```,```loc[]```只使用,传入标量时一律用```iat[]```和```at[]```，这样阅读代码时能立即明确意图。"
   ]
  },
  {
   "cell_type": "markdown",
   "metadata": {},
   "source": [
    "## 随机采样"
   ]
  },
  {
   "cell_type": "markdown",
   "metadata": {},
   "source": [
    "随机挑出一些样本，利用```sample()```函数。重要的参数有。\n",
    "\n",
    "* n:样本数量"
   ]
  },
  {
   "cell_type": "code",
   "execution_count": 44,
   "metadata": {
    "collapsed": false
   },
   "outputs": [
    {
     "data": {
      "text/plain": [
       "c    3\n",
       "d    4\n",
       "dtype: int64"
      ]
     },
     "execution_count": 44,
     "metadata": {},
     "output_type": "execute_result"
    }
   ],
   "source": [
    "s = Series([1,2,3,4],index = ['a','b','c','d'])\n",
    "\n",
    "s.sample(n=2)"
   ]
  },
  {
   "cell_type": "markdown",
   "metadata": {},
   "source": [
    "frac:样本数量的比例。"
   ]
  },
  {
   "cell_type": "code",
   "execution_count": 45,
   "metadata": {
    "collapsed": false
   },
   "outputs": [
    {
     "data": {
      "text/plain": [
       "a    1\n",
       "b    2\n",
       "dtype: int64"
      ]
     },
     "execution_count": 45,
     "metadata": {},
     "output_type": "execute_result"
    }
   ],
   "source": [
    "s.sample(frac = 0.5)"
   ]
  },
  {
   "cell_type": "markdown",
   "metadata": {},
   "source": [
    "随机数生成的seed， 给定的seed生成的随机结果在多次运行的时候会产生一样的结果，方便测试和debug。"
   ]
  },
  {
   "cell_type": "code",
   "execution_count": 46,
   "metadata": {
    "collapsed": false
   },
   "outputs": [
    {
     "data": {
      "text/plain": [
       "d    4\n",
       "c    3\n",
       "dtype: int64"
      ]
     },
     "metadata": {},
     "output_type": "display_data"
    },
    {
     "data": {
      "text/plain": [
       "d    4\n",
       "c    3\n",
       "dtype: int64"
      ]
     },
     "metadata": {},
     "output_type": "display_data"
    },
    {
     "data": {
      "text/plain": [
       "d    4\n",
       "c    3\n",
       "dtype: int64"
      ]
     },
     "metadata": {},
     "output_type": "display_data"
    }
   ],
   "source": [
    "for i in range(3):\n",
    "    display(s.sample(n=2, random_state=1))"
   ]
  },
  {
   "cell_type": "code",
   "execution_count": 47,
   "metadata": {
    "collapsed": false
   },
   "outputs": [
    {
     "data": {
      "text/plain": [
       "a    1\n",
       "c    3\n",
       "dtype: int64"
      ]
     },
     "metadata": {},
     "output_type": "display_data"
    },
    {
     "data": {
      "text/plain": [
       "b    2\n",
       "a    1\n",
       "dtype: int64"
      ]
     },
     "metadata": {},
     "output_type": "display_data"
    },
    {
     "data": {
      "text/plain": [
       "b    2\n",
       "d    4\n",
       "dtype: int64"
      ]
     },
     "metadata": {},
     "output_type": "display_data"
    }
   ],
   "source": [
    "for i in range(3):\n",
    "    display(s.sample(n=2))"
   ]
  },
  {
   "cell_type": "markdown",
   "metadata": {},
   "source": [
    "# 修改"
   ]
  },
  {
   "cell_type": "markdown",
   "metadata": {},
   "source": [
    "## 修改单个数值"
   ]
  },
  {
   "cell_type": "markdown",
   "metadata": {},
   "source": [
    "用at或者iat选择单个成员并且用```=```赋值即可。例如将label为'c'的成员改成33， 第一个成员改成11，可以用。"
   ]
  },
  {
   "cell_type": "code",
   "execution_count": 48,
   "metadata": {
    "collapsed": false
   },
   "outputs": [
    {
     "data": {
      "text/plain": [
       "a    11\n",
       "b     2\n",
       "c    33\n",
       "d     4\n",
       "dtype: int64"
      ]
     },
     "execution_count": 48,
     "metadata": {},
     "output_type": "execute_result"
    }
   ],
   "source": [
    "s = Series([1,2,3,4],index = list('abcd'))\n",
    "\n",
    "s.at['c'] = 33\n",
    "\n",
    "s.iat[0] = 11\n",
    "\n",
    "s"
   ]
  },
  {
   "cell_type": "markdown",
   "metadata": {},
   "source": [
    "### 修改多个成员"
   ]
  },
  {
   "cell_type": "markdown",
   "metadata": {},
   "source": [
    "用loc或者iloc选择多个成员并且用```=```赋值即可， ```=```右侧需要是和```=```左侧等长度的array like object， 例如list。 例如将label为'a','b'的成员改成11,12, 第3,4个成员改成33和44。"
   ]
  },
  {
   "cell_type": "code",
   "execution_count": 157,
   "metadata": {
    "collapsed": false
   },
   "outputs": [
    {
     "data": {
      "text/plain": [
       "a    11\n",
       "b    22\n",
       "c    33\n",
       "d    44\n",
       "dtype: int64"
      ]
     },
     "execution_count": 157,
     "metadata": {},
     "output_type": "execute_result"
    }
   ],
   "source": [
    "s = Series([1,2,3,4],index = list('abcd'))\n",
    "\n",
    "s.loc[['a','b']] = [11,22]\n",
    "\n",
    "s.iloc[[2,3]] = [33,44]\n",
    "\n",
    "s"
   ]
  },
  {
   "cell_type": "markdown",
   "metadata": {},
   "source": [
    "```=```右侧除了可以是和选出的成员数量等长度的list，也可以是一个标量，这样所有选中的成员都会被修改成同一个值。"
   ]
  },
  {
   "cell_type": "code",
   "execution_count": 158,
   "metadata": {
    "collapsed": false
   },
   "outputs": [
    {
     "data": {
      "text/plain": [
       "a    0\n",
       "b    0\n",
       "c    3\n",
       "d    4\n",
       "dtype: int64"
      ]
     },
     "execution_count": 158,
     "metadata": {},
     "output_type": "execute_result"
    }
   ],
   "source": [
    "s = Series([1,2,3,4],index = list('abcd'))\n",
    "\n",
    "s.loc['a','b'] = 0\n",
    "\n",
    "s"
   ]
  },
  {
   "cell_type": "markdown",
   "metadata": {},
   "source": [
    "```=```右侧甚至可以是一个Series或者dict。这种情况下,选中的成员会匹配```=```右侧的Series，用右侧Series同样label的成员数值替换自己的数值；如果在右侧找不到相应的label,则用NaN填充。"
   ]
  },
  {
   "cell_type": "code",
   "execution_count": 159,
   "metadata": {
    "collapsed": false
   },
   "outputs": [
    {
     "data": {
      "text/plain": [
       "a    10.0\n",
       "b     NaN\n",
       "c     3.0\n",
       "d     4.0\n",
       "dtype: float64"
      ]
     },
     "execution_count": 159,
     "metadata": {},
     "output_type": "execute_result"
    }
   ],
   "source": [
    "s = Series([1,2,3,4],index = list('abcd'))\n",
    "\n",
    "s2 = Series([10,20,30,40],index = list('acde'))\n",
    "\n",
    "s.loc['a','b'] = s2\n",
    "\n",
    "s"
   ]
  },
  {
   "cell_type": "code",
   "execution_count": 160,
   "metadata": {
    "collapsed": false
   },
   "outputs": [
    {
     "data": {
      "text/plain": [
       "a    10\n",
       "b    20\n",
       "c     3\n",
       "d     4\n",
       "dtype: int64"
      ]
     },
     "execution_count": 160,
     "metadata": {},
     "output_type": "execute_result"
    }
   ],
   "source": [
    "s = Series([1,2,3,4],index = list('abcd'))\n",
    "\n",
    "s2 = {'a':10,'b':20,'c':30,'d':40}\n",
    "\n",
    "s.loc['a','b'] = s2\n",
    "\n",
    "s"
   ]
  },
  {
   "cell_type": "markdown",
   "metadata": {},
   "source": [
    "### where"
   ]
  },
  {
   "cell_type": "markdown",
   "metadata": {},
   "source": [
    "利用Where可以使用不完整的bool Series作为筛选条件。"
   ]
  },
  {
   "cell_type": "markdown",
   "metadata": {},
   "source": [
    "```where```的重要参数\n",
    "\n",
    "* condition: 另一个存有Bool值的ndarray, Series, 或者是接受Series，返回前面两者的函数。\n",
    "* other: 单一数值, 另一个Series， 或是返回前面两者的函数。\n",
    "\n",
    "如果满足condition， 则会保留原来的Series的数值， 否则用other中的数值代替。"
   ]
  },
  {
   "cell_type": "code",
   "execution_count": 125,
   "metadata": {
    "collapsed": false
   },
   "outputs": [
    {
     "data": {
      "text/plain": [
       "a     1\n",
       "b     2\n",
       "c    10\n",
       "d    10\n",
       "dtype: int64"
      ]
     },
     "execution_count": 125,
     "metadata": {},
     "output_type": "execute_result"
    }
   ],
   "source": [
    "s = Series([1,2,3,4],index = list('abcd'))\n",
    "\n",
    "s.where(np.array([True, True, False, False]), 10)"
   ]
  },
  {
   "cell_type": "markdown",
   "metadata": {},
   "source": [
    "下面使用Series作为condition的例子。 注意这里会采用index alignment, 在原Series存在label，在条件中不存在的label会从other中取数值替代。"
   ]
  },
  {
   "cell_type": "code",
   "execution_count": 127,
   "metadata": {
    "collapsed": false
   },
   "outputs": [
    {
     "data": {
      "text/plain": [
       "a     1\n",
       "b     2\n",
       "c    10\n",
       "d    10\n",
       "dtype: int64"
      ]
     },
     "execution_count": 127,
     "metadata": {},
     "output_type": "execute_result"
    }
   ],
   "source": [
    "s = Series([1,2,3,4],index = list('abcd'))\n",
    "\n",
    "s.where(Series([True, True, False], index = list('abc')), 10)"
   ]
  },
  {
   "cell_type": "markdown",
   "metadata": {},
   "source": [
    "使用函数的例子。"
   ]
  },
  {
   "cell_type": "code",
   "execution_count": 130,
   "metadata": {
    "collapsed": false
   },
   "outputs": [
    {
     "data": {
      "text/plain": [
       "a     1\n",
       "b     2\n",
       "c    10\n",
       "d    10\n",
       "dtype: int64"
      ]
     },
     "execution_count": 130,
     "metadata": {},
     "output_type": "execute_result"
    }
   ],
   "source": [
    "s = Series([1,2,3,4],index = list('abcd'))\n",
    "\n",
    "s.where(lambda s:s<=2, 10)"
   ]
  },
  {
   "cell_type": "markdown",
   "metadata": {},
   "source": [
    "other除了单一量，也可以是函数或者另一个Series。"
   ]
  },
  {
   "cell_type": "markdown",
   "metadata": {},
   "source": [
    "按照下面的条件, 只有'a'对应的成员会被保留，其余的从other取。"
   ]
  },
  {
   "cell_type": "code",
   "execution_count": 140,
   "metadata": {
    "collapsed": false
   },
   "outputs": [
    {
     "data": {
      "text/plain": [
       "a     True\n",
       "b    False\n",
       "c    False\n",
       "d    False\n",
       "dtype: bool"
      ]
     },
     "execution_count": 140,
     "metadata": {},
     "output_type": "execute_result"
    }
   ],
   "source": [
    "s<2"
   ]
  },
  {
   "cell_type": "markdown",
   "metadata": {},
   "source": [
    "对于希望从other中取值， 但是other中找不到label的情况，会被用NaN填充。"
   ]
  },
  {
   "cell_type": "code",
   "execution_count": 141,
   "metadata": {
    "collapsed": false
   },
   "outputs": [
    {
     "data": {
      "text/plain": [
       "a     1.0\n",
       "b    20.0\n",
       "c     NaN\n",
       "d     NaN\n",
       "dtype: float64"
      ]
     },
     "execution_count": 141,
     "metadata": {},
     "output_type": "execute_result"
    }
   ],
   "source": [
    "other = Series([10,20],index = ['a','b'])\n",
    "\n",
    "s.where(s<2, other)"
   ]
  },
  {
   "cell_type": "markdown",
   "metadata": {},
   "source": [
    "other是函数的例子。"
   ]
  },
  {
   "cell_type": "code",
   "execution_count": 144,
   "metadata": {
    "collapsed": false
   },
   "outputs": [
    {
     "data": {
      "text/plain": [
       "a     1\n",
       "b    20\n",
       "c    30\n",
       "d    40\n",
       "dtype: int64"
      ]
     },
     "execution_count": 144,
     "metadata": {},
     "output_type": "execute_result"
    }
   ],
   "source": [
    "s.where(s<2, lambda s:s*10)"
   ]
  },
  {
   "cell_type": "markdown",
   "metadata": {},
   "source": [
    "相比于用loc选择后赋值，where除了有自动label aligment的特性， 也可以用与将数据中的NaN替换成None。"
   ]
  },
  {
   "cell_type": "code",
   "execution_count": 145,
   "metadata": {
    "collapsed": false
   },
   "outputs": [
    {
     "data": {
      "text/plain": [
       "0    1.0\n",
       "1    2.0\n",
       "2    3.0\n",
       "3    4.0\n",
       "4    NaN\n",
       "dtype: float64"
      ]
     },
     "execution_count": 145,
     "metadata": {},
     "output_type": "execute_result"
    }
   ],
   "source": [
    "s = Series([1,2,3,4,np.NaN])\n",
    "s"
   ]
  },
  {
   "cell_type": "markdown",
   "metadata": {},
   "source": [
    "下面的方法是无效的。"
   ]
  },
  {
   "cell_type": "code",
   "execution_count": 152,
   "metadata": {
    "collapsed": false
   },
   "outputs": [
    {
     "data": {
      "text/plain": [
       "0    1.0\n",
       "1    2.0\n",
       "2    3.0\n",
       "3    4.0\n",
       "4    NaN\n",
       "dtype: float64"
      ]
     },
     "execution_count": 152,
     "metadata": {},
     "output_type": "execute_result"
    }
   ],
   "source": [
    "s[s.isnull()] = None\n",
    "s"
   ]
  },
  {
   "cell_type": "markdown",
   "metadata": {},
   "source": [
    "但是用where可以顺利进行。"
   ]
  },
  {
   "cell_type": "code",
   "execution_count": 153,
   "metadata": {
    "collapsed": false
   },
   "outputs": [
    {
     "data": {
      "text/plain": [
       "0       1\n",
       "1       2\n",
       "2       3\n",
       "3       4\n",
       "4    None\n",
       "dtype: object"
      ]
     },
     "execution_count": 153,
     "metadata": {},
     "output_type": "execute_result"
    }
   ],
   "source": [
    "s.where(s.notnull(), None)"
   ]
  },
  {
   "cell_type": "markdown",
   "metadata": {},
   "source": [
    "## Mask\n",
    "和```where```，用other的数值替换满足条件部分的数值。"
   ]
  },
  {
   "cell_type": "code",
   "execution_count": 155,
   "metadata": {
    "collapsed": false
   },
   "outputs": [
    {
     "data": {
      "text/plain": [
       "0       1\n",
       "1       2\n",
       "2       3\n",
       "3       4\n",
       "4    None\n",
       "dtype: object"
      ]
     },
     "execution_count": 155,
     "metadata": {},
     "output_type": "execute_result"
    }
   ],
   "source": [
    "s.mask(s.isnull(), None)"
   ]
  },
  {
   "cell_type": "markdown",
   "metadata": {},
   "source": [
    "### 通过函数的方式修改\n",
    "map\n",
    "\n",
    "replace\n",
    "\n",
    "where\n",
    "\n",
    "apply\n",
    "\n",
    ".str\n",
    "\n",
    ".cat"
   ]
  },
  {
   "cell_type": "markdown",
   "metadata": {},
   "source": [
    "### 新增成员"
   ]
  },
  {
   "cell_type": "markdown",
   "metadata": {},
   "source": [
    "#### 增加单个成员"
   ]
  },
  {
   "cell_type": "markdown",
   "metadata": {},
   "source": [
    "新增成员的语法和修改成员类似，但是只能使用```at```。"
   ]
  },
  {
   "cell_type": "code",
   "execution_count": 59,
   "metadata": {
    "collapsed": false
   },
   "outputs": [
    {
     "data": {
      "text/plain": [
       "a    1\n",
       "b    2\n",
       "c    3\n",
       "d    4\n",
       "e    5\n",
       "dtype: int64"
      ]
     },
     "execution_count": 59,
     "metadata": {},
     "output_type": "execute_result"
    }
   ],
   "source": [
    "s = Series([1,2,3,4],index = list('abcd'))\n",
    "\n",
    "s.at['e'] = 5\n",
    "\n",
    "s"
   ]
  },
  {
   "cell_type": "markdown",
   "metadata": {},
   "source": [
    "但是不支持```iat[]```"
   ]
  },
  {
   "cell_type": "code",
   "execution_count": 60,
   "metadata": {
    "collapsed": false
   },
   "outputs": [
    {
     "name": "stdout",
     "output_type": "stream",
     "text": [
      "<class 'IndexError'> index 4 is out of bounds for axis 0 with size 4\n"
     ]
    }
   ],
   "source": [
    "s = Series([1,2,3,4],index = list('abcd'))\n",
    "\n",
    "try:\n",
    "    s.iat[4] = 5\n",
    "except Exception as e:\n",
    "    print(type(e),e)"
   ]
  },
  {
   "cell_type": "markdown",
   "metadata": {},
   "source": [
    "#### 增加多个成员\n",
    "不能用loc或者iloc"
   ]
  },
  {
   "cell_type": "code",
   "execution_count": 61,
   "metadata": {
    "collapsed": false
   },
   "outputs": [
    {
     "name": "stdout",
     "output_type": "stream",
     "text": [
      "<class 'KeyError'> \"['e' 'f'] not in index\"\n"
     ]
    }
   ],
   "source": [
    "s = Series([1,2,3,4],index = list('abcd'))\n",
    "\n",
    "try:\n",
    "    s.loc[['e','f']] = [5,6]\n",
    "except Exception as e:\n",
    "    print(type(e),e)"
   ]
  },
  {
   "cell_type": "code",
   "execution_count": 62,
   "metadata": {
    "collapsed": false
   },
   "outputs": [
    {
     "name": "stdout",
     "output_type": "stream",
     "text": [
      "<class 'IndexError'> positional indexers are out-of-bounds\n"
     ]
    }
   ],
   "source": [
    "s = Series([1,2,3,4],index = list('abcd'))\n",
    "\n",
    "try:\n",
    "    s.iloc[[4,5]] = [5,6]\n",
    "except Exception as e:\n",
    "    print(type(e),e)"
   ]
  },
  {
   "cell_type": "markdown",
   "metadata": {},
   "source": [
    "不过可以借助```append()```或者```pd.concat()```实现。"
   ]
  },
  {
   "cell_type": "code",
   "execution_count": 63,
   "metadata": {
    "collapsed": false
   },
   "outputs": [
    {
     "data": {
      "text/plain": [
       "a    1\n",
       "b    2\n",
       "c    3\n",
       "d    4\n",
       "e    5\n",
       "f    6\n",
       "dtype: int64"
      ]
     },
     "execution_count": 63,
     "metadata": {},
     "output_type": "execute_result"
    }
   ],
   "source": [
    "s_1 = Series([1,2,3,4],index = list('abcd'))\n",
    "s_2 = Series([5,6],index = list('ef'))\n",
    "\n",
    "s_1 = s.append(s_2)\n",
    "\n",
    "s_1"
   ]
  },
  {
   "cell_type": "code",
   "execution_count": 64,
   "metadata": {
    "collapsed": false
   },
   "outputs": [
    {
     "data": {
      "text/plain": [
       "a    1\n",
       "b    2\n",
       "c    3\n",
       "d    4\n",
       "e    5\n",
       "f    6\n",
       "dtype: int64"
      ]
     },
     "execution_count": 64,
     "metadata": {},
     "output_type": "execute_result"
    }
   ],
   "source": [
    "s_1 = Series([1,2,3,4],index = list('abcd'))\n",
    "s_2 = Series([5,6],index = list('ef'))\n",
    "\n",
    "s_1 = pd.concat([s_1,s_2])\n",
    "\n",
    "s_1"
   ]
  },
  {
   "cell_type": "markdown",
   "metadata": {},
   "source": [
    "要注意append和concat等方法返回的Series并不是直接在原来的Series上做修改，而是返回一个新的Series。 只不过前面的例子里我们把返回的结果重新赋值给了```s_1```将```s_1```的指向变成了新的Series，所以起到了类似修改的效果。\n",
    "\n",
    "在大部分情况下，这个差别并不会对我们的造成影响。但是如果代码的其它部分依然依赖```s_1```的数据的话，就要小心。\n",
    "\n",
    "下面的例子中我们可以看到,```s_2```并没有发生改变。"
   ]
  },
  {
   "cell_type": "code",
   "execution_count": 65,
   "metadata": {
    "collapsed": false
   },
   "outputs": [
    {
     "data": {
      "text/plain": [
       "a    1\n",
       "b    2\n",
       "c    3\n",
       "d    4\n",
       "dtype: int64"
      ]
     },
     "execution_count": 65,
     "metadata": {},
     "output_type": "execute_result"
    }
   ],
   "source": [
    "s_1 = Series([1,2,3,4],index = list('abcd'))\n",
    "\n",
    "s_2 = s_1\n",
    "\n",
    "s_3 = Series([5,6],index = list('ef'))\n",
    "\n",
    "s_1 = s_1.append(s_3)\n",
    "\n",
    "s_2"
   ]
  },
  {
   "cell_type": "markdown",
   "metadata": {},
   "source": [
    "当然这个差别并不是Series特有的要注意的地方，在整个pandas的使用，甚至python编程的过程中，都应该关注一下object是被直接修改(modified in place)，还是返回了一个新的数据被改变过的object。\n",
    "\n",
    "在pandas中，如果调用方法后返回了一个Series或者DataFrame， 大部分情况默认行为都是返回新的object。 部分函数支持```inplace```参数， 如果设成```True```就会直接修改原有的object, 返回None。 "
   ]
  },
  {
   "cell_type": "markdown",
   "metadata": {},
   "source": [
    "## 删除\n",
    "### 删除单个成员\n",
    "#### del"
   ]
  },
  {
   "cell_type": "markdown",
   "metadata": {},
   "source": [
    "可以用```del```运算符，直接从原有的Series中删除成员。"
   ]
  },
  {
   "cell_type": "code",
   "execution_count": 66,
   "metadata": {
    "collapsed": false
   },
   "outputs": [
    {
     "data": {
      "text/plain": [
       "b    2\n",
       "c    3\n",
       "d    4\n",
       "dtype: int64"
      ]
     },
     "execution_count": 66,
     "metadata": {},
     "output_type": "execute_result"
    }
   ],
   "source": [
    "s = Series([1,2,3,4],index = list('abcd'))\n",
    "\n",
    "del s['a']\n",
    "\n",
    "s"
   ]
  },
  {
   "cell_type": "markdown",
   "metadata": {},
   "source": [
    "#### pop\n",
    "```pop()```从原有的Sereis删除某个成员,并且返回被删除的成员。"
   ]
  },
  {
   "cell_type": "code",
   "execution_count": 67,
   "metadata": {
    "collapsed": false
   },
   "outputs": [
    {
     "data": {
      "text/plain": [
       "b    2\n",
       "c    3\n",
       "d    4\n",
       "dtype: int64"
      ]
     },
     "metadata": {},
     "output_type": "display_data"
    },
    {
     "data": {
      "text/plain": [
       "1"
      ]
     },
     "metadata": {},
     "output_type": "display_data"
    }
   ],
   "source": [
    "s = Series([1,2,3,4],index = list('abcd'))\n",
    "\n",
    "x = s.pop('a')\n",
    "\n",
    "display(s)\n",
    "\n",
    "display(x)"
   ]
  },
  {
   "cell_type": "markdown",
   "metadata": {},
   "source": [
    "#### drop\n",
    "```drop()```返回删除一个或者多个成员后的新Series。"
   ]
  },
  {
   "cell_type": "code",
   "execution_count": 68,
   "metadata": {
    "collapsed": false
   },
   "outputs": [
    {
     "data": {
      "text/plain": [
       "False"
      ]
     },
     "metadata": {},
     "output_type": "display_data"
    },
    {
     "data": {
      "text/plain": [
       "c    3\n",
       "d    4\n",
       "dtype: int64"
      ]
     },
     "metadata": {},
     "output_type": "display_data"
    }
   ],
   "source": [
    "s1 = Series([1,2,3,4],index = list('abcd'))\n",
    "\n",
    "s2 = s1.drop(['a','b'])\n",
    "\n",
    "display(s1 is s2)\n",
    "\n",
    "display(s2)"
   ]
  },
  {
   "cell_type": "markdown",
   "metadata": {},
   "source": [
    "drop也可以用来删除单个成员。"
   ]
  },
  {
   "cell_type": "code",
   "execution_count": 69,
   "metadata": {
    "collapsed": false
   },
   "outputs": [
    {
     "data": {
      "text/plain": [
       "b    2\n",
       "c    3\n",
       "d    4\n",
       "dtype: int64"
      ]
     },
     "execution_count": 69,
     "metadata": {},
     "output_type": "execute_result"
    }
   ],
   "source": [
    "s1 = Series([1,2,3,4],index = list('abcd'))\n",
    "\n",
    "s2 = s1.drop('a')\n",
    "\n",
    "s2"
   ]
  },
  {
   "cell_type": "markdown",
   "metadata": {},
   "source": [
    "drop支持```inplace```参数， 设为True以后就会直接修改原来的Series, 返回None。"
   ]
  },
  {
   "cell_type": "code",
   "execution_count": 70,
   "metadata": {
    "collapsed": false
   },
   "outputs": [
    {
     "data": {
      "text/plain": [
       "NoneType"
      ]
     },
     "metadata": {},
     "output_type": "display_data"
    },
    {
     "data": {
      "text/plain": [
       "b    2\n",
       "c    3\n",
       "d    4\n",
       "dtype: int64"
      ]
     },
     "execution_count": 70,
     "metadata": {},
     "output_type": "execute_result"
    }
   ],
   "source": [
    "s1 = Series([1,2,3,4],index = list('abcd'))\n",
    "\n",
    "result = s1.drop('a',inplace = True)\n",
    "display(type(result))\n",
    "\n",
    "s1"
   ]
  }
 ],
 "metadata": {
  "kernelspec": {
   "display_name": "Python 3",
   "language": "python",
   "name": "python3"
  },
  "language_info": {
   "codemirror_mode": {
    "name": "ipython",
    "version": 3
   },
   "file_extension": ".py",
   "mimetype": "text/x-python",
   "name": "python",
   "nbconvert_exporter": "python",
   "pygments_lexer": "ipython3",
   "version": "3.5.2"
  }
 },
 "nbformat": 4,
 "nbformat_minor": 0
}
