{
 "cells": [
  {
   "cell_type": "markdown",
   "metadata": {},
   "source": [
    "![logo](python_logo.jpg)"
   ]
  },
  {
   "cell_type": "markdown",
   "metadata": {},
   "source": [
    "# 面向非程序员的Python编程(1)-初识Python\n",
    "** by 风控建模 亚德曼 2017-12-26 **\n",
    "\n",
    "\n",
    "\n",
    "\n",
    "\n",
    "相信大家日常工作中或多或少会遇到这样类型的工作\n",
    "* 内容并不复杂\n",
    "* 具有重复的流程或者模式\n",
    "* 需要消耗大量的时间精力去完成\n",
    "\n",
    " \n",
    "这种情况下，如果能掌握一些python编程，并不难将这类工作自动化完成，将自己从重复无趣的工作中解放出来。\n",
    "\n",
    "\n",
    "下面我会用一些虚构的例子去演示如何利用python去高效的完成简单的工作。\n",
    "\n",
    "对于没有编程经验的同学，会发现自己面对演示的python的代码有很多不理解的地方。请别担心，这里只要大概有个印象就可以，不用在意细节。"
   ]
  },
  {
   "cell_type": "markdown",
   "metadata": {},
   "source": [
    "## 场景一\n",
    "\n",
    "假设我们有这样一个需求:\n",
    "\n",
    "    将'folder_1/sample.xlsx'指定的excel文件中的表格根据id分组，然后对value列求平均值(忽略空值)。将分组聚合后的数据存在另一个新的Excel，保存在同样的文件夹。保存的文件名为原来Excel的文件名加上'_agg'后缀。\n",
    "    \n",
    " "
   ]
  },
  {
   "cell_type": "markdown",
   "metadata": {},
   "source": [
    "先不考虑编程，考虑清楚这件事情是怎么做的。\n",
    "\n",
    "1. 根据文件名，打开Excel\n",
    "2. 根据数据表的id分组，对value忽略空值后求平均。\n",
    "3. 将计算好的数据保存在新的Excel并且存成本地文件。\n",
    "\n",
    "只要想清楚完成这个任务的流程，接下来要做的就是通过编程语言(现在当然是用python啦)，将我们的意图传达给计算机。\n",
    "\n",
    "(下面的代码中的\"#\"所在的语句是注释，并不会被执行。)"
   ]
  },
  {
   "cell_type": "code",
   "execution_count": 1,
   "metadata": {
    "ExecuteTime": {
     "end_time": "2017-12-27T12:05:33.584410Z",
     "start_time": "2017-12-27T12:05:32.916410Z"
    },
    "collapsed": true
   },
   "outputs": [],
   "source": [
    "import pandas as pd\n",
    "\n",
    "# 1. 根据文件名，打开Excel\n",
    "df = pd.read_excel('folder_1/sample.xlsx')\n",
    "\n",
    "# 2. 根据数据表的id分组，对value忽略空值后求平均。\n",
    "agg_file = df.groupby(['id'])[['value']].agg(sum)\n",
    "\n",
    "# 3. 将计算好的数据保存在新的Excel并且存成本地文件。\n",
    "agg_file.to_excel('folder_1/sample_agg.xlsx')"
   ]
  },
  {
   "cell_type": "markdown",
   "metadata": {
    "ExecuteTime": {
     "end_time": "2017-12-26T11:41:21.460500Z",
     "start_time": "2017-12-26T11:41:21.415900Z"
    }
   },
   "source": [
    "上面的代码执行后，我们可以看到folder_1中出现了名为'sample_agg.xlsx'的excel，实现了我们的目的。\n",
    "\n",
    "(没有学过编程同学可能会对代码中的各种'.', '[ ]'等符号衔接起来的各种词汇感到无所适从。这里大可忽略这些细节，只要能从read_excel猜出这一句是读取excel文件， groupby猜出这句才做分组求和的操作，to_excel猜出这句是把结果保存在excel表格，那么恭喜，你并没有掉队。)\n",
    "\n",
    "通过上面的例子，大家应该可以观察到以下几点:\n",
    "* 在对python足够了解的情况，表达我们的意图并不一定需要很大的工作量。\n",
    "* python代码还是挺\"顾名思义\"的。\n",
    "\n",
    "虽然并不是所有的任务都能简单的解决，但这的确体现了python相比其他语言的一个显著的优点，大部分时候，使用者可以把注意力放在表达自己的意图上，而不必关心计算机底层发生的细节。\n",
    "\n",
    "看了上面例子，可能有同学会有疑问，虽然看上去用python代码去完成这个工作并很复杂，但是这里我们人工Excel处理一下，可能也就是一分钟内能搞定的事情。那么用python有什么优势呢？\n",
    "\n",
    "首先，对于这个场景的例子，用Python去做的确没有优势。但是在接下来的场景中，我们会逐渐看到用python去完成工作相比人工操作的优势。"
   ]
  },
  {
   "cell_type": "markdown",
   "metadata": {},
   "source": [
    "# 场景二\n",
    "\n",
    "假设现需求变成这样:\n",
    "\n",
    "    将'folder_2'中的4个excel文件格根据id分组，然后对value列求平均值(忽略空值)。将分组聚合后的数据存在另一个新的Excel，保存在同样的文件夹。保存的文件名为原来Excel的文件名加上'_agg'后缀。 "
   ]
  },
  {
   "cell_type": "markdown",
   "metadata": {
    "ExecuteTime": {
     "end_time": "2017-12-27T12:42:38.811529Z",
     "start_time": "2017-12-27T12:42:38.780529Z"
    }
   },
   "source": [
    "大家应该很容易注意到，我们上面写好的代码是可以重复利用的。相信会有同学去"
   ]
  },
  {
   "cell_type": "code",
   "execution_count": null,
   "metadata": {
    "collapsed": true
   },
   "outputs": [],
   "source": [
    "import pandas as pd\n",
    "\n",
    "# 处理sample1\n",
    "df = pd.read_excel('folder_1/sample.xlsx')\n",
    "agg_file = df.groupby(['id'])[['value']].agg(sum)\n",
    "agg_file.to_excel('folder_1/sample_agg.xlsx')\n",
    "\n",
    "\n",
    "# 处理sample2\n",
    "df = pd.read_excel('folder_1/sample.xlsx')\n",
    "agg_file = df.groupby(['id'])[['value']].agg(sum)\n",
    "agg_file.to_excel('folder_1/sample_agg.xlsx')\n",
    "\n",
    "\n",
    "# 处理sample3\n",
    "df = pd.read_excel('folder_1/sample.xlsx')\n",
    "agg_file = df.groupby(['id'])[['value']].agg(sum)\n",
    "agg_file.to_excel('folder_1/sample_agg.xlsx')\n",
    "\n",
    "\n",
    "# 处理sample4\n",
    "df = pd.read_excel('folder_1/sample.xlsx')\n",
    "agg_file = df.groupby(['id'])[['value']].agg(sum)\n",
    "agg_file.to_excel('folder_1/sample_agg.xlsx')"
   ]
  },
  {
   "cell_type": "code",
   "execution_count": 3,
   "metadata": {
    "ExecuteTime": {
     "end_time": "2017-12-27T13:20:00.854000Z",
     "start_time": "2017-12-27T13:20:00.723000Z"
    },
    "collapsed": true
   },
   "outputs": [],
   "source": [
    "import pandas as pd\n",
    "import os\n",
    "\n",
    "找到folder_2中所有excel的文件名\n",
    "\n",
    "# 1. 根据文件名，打开Excel\n",
    "df = pd.read_excel('folder_1/sample.xlsx')\n",
    "\n",
    "# 2. 根据数据表的id分组，对value忽略空值后求平均。\n",
    "agg_file = df.groupby(['id'])[['value']].agg(sum)\n",
    "\n",
    "# 3. 将计算好的数据保存在新的Excel并且存成本地文件。\n",
    "agg_file.to_excel('folder_1/sample_agg.xlsx')"
   ]
  },
  {
   "cell_type": "code",
   "execution_count": null,
   "metadata": {
    "collapsed": true
   },
   "outputs": [],
   "source": []
  }
 ],
 "metadata": {
  "kernelspec": {
   "display_name": "Python 3",
   "language": "python",
   "name": "python3"
  },
  "language_info": {
   "codemirror_mode": {
    "name": "ipython",
    "version": 3
   },
   "file_extension": ".py",
   "mimetype": "text/x-python",
   "name": "python",
   "nbconvert_exporter": "python",
   "pygments_lexer": "ipython3",
   "version": "3.6.1"
  },
  "toc": {
   "nav_menu": {},
   "number_sections": true,
   "sideBar": true,
   "skip_h1_title": false,
   "toc_cell": false,
   "toc_position": {},
   "toc_section_display": "block",
   "toc_window_display": false
  }
 },
 "nbformat": 4,
 "nbformat_minor": 2
}
