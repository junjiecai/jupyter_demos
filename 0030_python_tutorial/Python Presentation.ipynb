{
 "cells": [
  {
   "cell_type": "code",
   "execution_count": 1,
   "metadata": {
    "ExecuteTime": {
     "end_time": "2017-12-21T09:00:30.731672Z",
     "start_time": "2017-12-21T09:00:30.662679Z"
    },
    "slideshow": {
     "slide_type": "skip"
    }
   },
   "outputs": [
    {
     "data": {
      "text/plain": [
       "{'start_slideshow_at': 'selected', 'theme': 'sky', 'transition': 'zoom'}"
      ]
     },
     "execution_count": 1,
     "metadata": {},
     "output_type": "execute_result"
    }
   ],
   "source": [
    "from traitlets.config.manager import BaseJSONConfigManager\n",
    "path = \"C:\\\\Users\\\\yademan\\\\.jupyter\\\\nbconfig\"\n",
    "cm = BaseJSONConfigManager(config_dir=path)\n",
    "cm.update(\"livereveal\", {\n",
    "              \"theme\": \"sky\",\n",
    "              \"transition\": \"zoom\",\n",
    "              \"start_slideshow_at\": \"selected\",\n",
    "})"
   ]
  },
  {
   "cell_type": "markdown",
   "metadata": {
    "ExecuteTime": {
     "end_time": "2017-12-19T08:31:44.908729Z",
     "start_time": "2017-12-19T08:31:44.899729Z"
    },
    "collapsed": true,
    "slideshow": {
     "slide_type": "slide"
    }
   },
   "source": [
    "# 面向非程序员的Python编程入门\n",
    "\n",
    "** 2017-12-22 风控建模-亚德曼 **"
   ]
  },
  {
   "cell_type": "markdown",
   "metadata": {
    "slideshow": {
     "slide_type": "slide"
    }
   },
   "source": [
    "# 为什么非程序员要学习编程？"
   ]
  },
  {
   "cell_type": "markdown",
   "metadata": {
    "slideshow": {
     "slide_type": "subslide"
    }
   },
   "source": [
    "## 工作更高效"
   ]
  },
  {
   "cell_type": "markdown",
   "metadata": {
    "slideshow": {
     "slide_type": "subslide"
    }
   },
   "source": [
    "### 案例\n",
    "将sheet_1的数据分组聚合后放入sheet_2\n",
    "\n",
    "* Excel人工操作"
   ]
  },
  {
   "cell_type": "code",
   "execution_count": 14,
   "metadata": {
    "ExecuteTime": {
     "end_time": "2017-12-21T12:20:37.071301Z",
     "start_time": "2017-12-21T12:20:36.927801Z"
    },
    "collapsed": true
   },
   "outputs": [],
   "source": [
    "from pandas import ExcelWriter\n",
    "import pandas as pd\n",
    "\n",
    "file = pd.read_excel('folder_1/sample.xlsx')\n",
    "agg_file = file.groupby(['id', 'value'])[['value']].agg(sum)\n",
    "\n",
    "writer = pd.ExcelWriter('folder_1/sample.xlsx')\n",
    "agg_file.to_excel(writer,'Sheet2')\n",
    "writer.save()\n",
    "\n"
   ]
  },
  {
   "cell_type": "markdown",
   "metadata": {
    "slideshow": {
     "slide_type": "subslide"
    }
   },
   "source": [
    "### 可复用"
   ]
  },
  {
   "cell_type": "code",
   "execution_count": null,
   "metadata": {
    "collapsed": true,
    "slideshow": {
     "slide_type": "fragment"
    }
   },
   "outputs": [],
   "source": [
    "如果现在有100个Excel?"
   ]
  },
  {
   "cell_type": "markdown",
   "metadata": {
    "ExecuteTime": {
     "end_time": "2017-12-21T10:04:18.601805Z",
     "start_time": "2017-12-21T10:04:18.597809Z"
    }
   },
   "source": [
    "### 容易维护\n"
   ]
  },
  {
   "cell_type": "code",
   "execution_count": 1,
   "metadata": {
    "ExecuteTime": {
     "end_time": "2017-12-22T05:12:21.540170Z",
     "start_time": "2017-12-22T05:12:20.981170Z"
    },
    "collapsed": true
   },
   "outputs": [],
   "source": [
    "from pandas import Series"
   ]
  },
  {
   "cell_type": "code",
   "execution_count": null,
   "metadata": {
    "collapsed": true
   },
   "outputs": [],
   "source": [
    "如果任务的逻辑发生改变?\n",
    "* 除了平均值，还需要求最大值，最小值，计数\n",
    "* 空缺值用0填充\n",
    "\n"
   ]
  },
  {
   "cell_type": "code",
   "execution_count": null,
   "metadata": {
    "collapsed": true
   },
   "outputs": [],
   "source": [
    "# 代码"
   ]
  },
  {
   "cell_type": "markdown",
   "metadata": {},
   "source": [
    "### 隐藏细节（抽象）\n",
    "write_to_excel"
   ]
  },
  {
   "cell_type": "markdown",
   "metadata": {},
   "source": [
    "### 容易维护\n",
    "忽略空值改成用0填充?"
   ]
  },
  {
   "cell_type": "markdown",
   "metadata": {},
   "source": [
    "### 案例:特征提取SQL生成"
   ]
  },
  {
   "cell_type": "markdown",
   "metadata": {},
   "source": [
    "## 工作更准确"
   ]
  },
  {
   "cell_type": "markdown",
   "metadata": {},
   "source": [
    "### 忠实记录"
   ]
  },
  {
   "cell_type": "markdown",
   "metadata": {},
   "source": [
    "### 表现稳定"
   ]
  },
  {
   "cell_type": "markdown",
   "metadata": {},
   "source": [
    "### 案例: 切尔诺贝利事故"
   ]
  },
  {
   "cell_type": "markdown",
   "metadata": {
    "slideshow": {
     "slide_type": "subslide"
    }
   },
   "source": [
    "## 并非高不可攀"
   ]
  },
  {
   "cell_type": "markdown",
   "metadata": {
    "slideshow": {
     "slide_type": "fragment"
    }
   },
   "source": [
    "难度较高的目标:\n",
    "* 研发Alpha Go\n",
    "* ACM竞赛冠军\n",
    "* 专业大数据工程师"
   ]
  },
  {
   "cell_type": "markdown",
   "metadata": {
    "slideshow": {
     "slide_type": "subslide"
    }
   },
   "source": [
    "人人都能实现的目标:\n",
    "\n",
    "* 日常繁琐工作部分自动化\n",
    "* 常见的数据分析任务"
   ]
  },
  {
   "cell_type": "markdown",
   "metadata": {
    "slideshow": {
     "slide_type": "subslide"
    }
   },
   "source": [
    "## 大势所趋-未来的Office"
   ]
  },
  {
   "cell_type": "markdown",
   "metadata": {
    "slideshow": {
     "slide_type": "slide"
    }
   },
   "source": [
    "# 为什么要选择python？"
   ]
  },
  {
   "cell_type": "markdown",
   "metadata": {
    "collapsed": true
   },
   "source": [
    "## 选择编程语言的决策顺序"
   ]
  },
  {
   "cell_type": "markdown",
   "metadata": {},
   "source": [
    "* 是否要解决特定领域的问题?"
   ]
  },
  {
   "cell_type": "code",
   "execution_count": null,
   "metadata": {
    "collapsed": true,
    "slideshow": {
     "slide_type": "fragment"
    }
   },
   "outputs": [],
   "source": [
    "* ios app: swift"
   ]
  },
  {
   "cell_type": "code",
   "execution_count": null,
   "metadata": {
    "collapsed": true,
    "slideshow": {
     "slide_type": "fragment"
    }
   },
   "outputs": [],
   "source": [
    "* we前端:b javascript"
   ]
  },
  {
   "cell_type": "code",
   "execution_count": null,
   "metadata": {
    "collapsed": true
   },
   "outputs": [],
   "source": [
    "是否依赖特定语言的第三方库?"
   ]
  },
  {
   "cell_type": "code",
   "execution_count": null,
   "metadata": {
    "collapsed": true
   },
   "outputs": [],
   "source": [
    "R语言的bioconductor, 分析Genomic Data的利器"
   ]
  },
  {
   "cell_type": "code",
   "execution_count": null,
   "metadata": {
    "collapsed": true
   },
   "outputs": [],
   "source": [
    "对程序的性能有极高的要求?"
   ]
  },
  {
   "cell_type": "markdown",
   "metadata": {},
   "source": [
    "C or C++"
   ]
  },
  {
   "cell_type": "code",
   "execution_count": null,
   "metadata": {
    "collapsed": true
   },
   "outputs": [],
   "source": [
    "\n",
    "* 是否有梦想的职位只接受某种语言?"
   ]
  },
  {
   "cell_type": "code",
   "execution_count": null,
   "metadata": {
    "collapsed": true
   },
   "outputs": [],
   "source": [
    "某银行的数据分析岗，只接受SAS"
   ]
  },
  {
   "cell_type": "markdown",
   "metadata": {},
   "source": [
    "# Python的优点"
   ]
  },
  {
   "cell_type": "markdown",
   "metadata": {},
   "source": [
    "## 开发高效\n",
    "\n",
    "Python 代码的文件往往只有C、C++ 和Java 代码的1/5~1/3。 节约人的时间。"
   ]
  },
  {
   "cell_type": "markdown",
   "metadata": {},
   "source": [
    "### 语法简洁优雅"
   ]
  },
  {
   "cell_type": "markdown",
   "metadata": {},
   "source": [
    "### 高层语言\n",
    "\n",
    "不用太关心底层的细节。\n",
    "\n",
    "大学里学过C的同学还记得指针和内存管理的麻烦吗？"
   ]
  },
  {
   "cell_type": "markdown",
   "metadata": {},
   "source": [
    "### 丰富的第三方库\n",
    "\n",
    "你想干什么事基本都有成熟的第三方库避免从零开始工作。"
   ]
  },
  {
   "cell_type": "markdown",
   "metadata": {},
   "source": [
    "## 活跃的社区\n",
    "### 被很多人使用和学习"
   ]
  },
  {
   "cell_type": "markdown",
   "metadata": {},
   "source": [
    "### 依然有很大的发展空间"
   ]
  },
  {
   "cell_type": "markdown",
   "metadata": {},
   "source": [
    "python入高考"
   ]
  },
  {
   "cell_type": "markdown",
   "metadata": {
    "ExecuteTime": {
     "end_time": "2017-12-22T01:19:58.411245Z",
     "start_time": "2017-12-22T01:19:58.329253Z"
    }
   },
   "source": [
    "excel加入python"
   ]
  },
  {
   "cell_type": "markdown",
   "metadata": {},
   "source": [
    "## 费用\n",
    "\n",
    "python和丰富的第三方库都是免费的， 不花钱也可以做很多事。\n",
    "\n"
   ]
  },
  {
   "cell_type": "markdown",
   "metadata": {
    "collapsed": true
   },
   "source": [
    "盗版？\n",
    "* 道德上不提倡\n",
    "* 个人用也许没人管，公司用会有麻烦。"
   ]
  },
  {
   "cell_type": "markdown",
   "metadata": {},
   "source": [
    "## 缺点\n",
    "性能较差"
   ]
  },
  {
   "cell_type": "markdown",
   "metadata": {},
   "source": [
    "很多时候不是问题\n",
    "* 人的时间比机器的时间值钱\n",
    "* 只有瓶颈部分才值得优化\n",
    "* python的库并非只能用python实现，例如numpy"
   ]
  },
  {
   "cell_type": "markdown",
   "metadata": {},
   "source": [
    "| 目的   |  纯python |  纯C |\n",
    "|------|----------|-----------------|\n",
    "| 流程框架 | 10分钟     | 1分             |\n",
    "| 数值计算 | 100分钟    | 10分钟            |\n",
    "| 总耗时  | 110分钟    | 11分钟            |\n",
    "| 开发时间 | 1天       | 一周              |\n"
   ]
  },
  {
   "cell_type": "markdown",
   "metadata": {},
   "source": [
    "| 目的   |  纯python |  纯C  | python + C | \n",
    "|------|----------|------|------------| \n",
    "| 流程框架 | 10分钟     | 10分  | 10分钟       | \n",
    "| 数值计算 | 100分钟    | 10分钟 | 10分钟       | \n",
    "| 总耗时  | 110分钟    | 20分钟 | 20分钟       | \n",
    "| 开发时间 | 1天       | 一周   | 4天        | \n",
    "\n"
   ]
  },
  {
   "cell_type": "markdown",
   "metadata": {
    "ExecuteTime": {
     "end_time": "2017-12-22T01:47:21.456000Z",
     "start_time": "2017-12-22T01:47:21.432000Z"
    }
   },
   "source": [
    "| 目的   |  纯python |  纯C  | python + numpy | \n",
    "|------|----------|------|------------| \n",
    "| 流程框架 | 10分钟     | 10分  | 10分钟       | \n",
    "| 数值计算 | 100分钟    | 10分钟 | 10分钟       | \n",
    "| 总耗时  | 110分钟    | 20分钟 | 20分钟       | \n",
    "| 开发时间 | 1天       | 一周   | 1天        | \n",
    "\n"
   ]
  }
 ],
 "metadata": {
  "celltoolbar": "Slideshow",
  "kernelspec": {
   "display_name": "Python 3",
   "language": "python",
   "name": "python3"
  },
  "language_info": {
   "codemirror_mode": {
    "name": "ipython",
    "version": 3
   },
   "file_extension": ".py",
   "mimetype": "text/x-python",
   "name": "python",
   "nbconvert_exporter": "python",
   "pygments_lexer": "ipython3",
   "version": "3.6.4"
  },
  "toc": {
   "nav_menu": {},
   "number_sections": true,
   "sideBar": true,
   "skip_h1_title": false,
   "toc_cell": false,
   "toc_position": {},
   "toc_section_display": "block",
   "toc_window_display": false
  }
 },
 "nbformat": 4,
 "nbformat_minor": 2
}
