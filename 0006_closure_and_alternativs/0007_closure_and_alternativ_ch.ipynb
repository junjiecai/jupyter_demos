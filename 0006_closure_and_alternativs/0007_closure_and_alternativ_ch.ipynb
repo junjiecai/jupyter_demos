{
 "cells": [
  {
   "cell_type": "markdown",
   "metadata": {},
   "source": [
    "# Closure(闭包) 和相关实现方案"
   ]
  },
  {
   "cell_type": "markdown",
   "metadata": {},
   "source": [
    "python中, function本身也是object， 可以直接被作为变量传入函数或者被作为结果返回(Java等语言就不能这么干)。 这种灵活性带来很多有趣的应用，其中一个就是closure。 上一个最简单的代码的例子。"
   ]
  },
  {
   "cell_type": "code",
   "execution_count": 1,
   "metadata": {
    "collapsed": true
   },
   "outputs": [],
   "source": [
    "def outer():\n",
    "    a = 1    \n",
    "    def inner(b):\n",
    "        print(a+b)\n",
    "        \n",
    "    return inner"
   ]
  },
  {
   "cell_type": "markdown",
   "metadata": {
    "collapsed": true
   },
   "source": [
    "## closure的三个基本要素\n",
    "* 存在一个外层函数(outer)。在outer函数的内部，定义了一个(inner)函数\n",
    "* inner函数内部使用outer函数中存在的数据， 这个例子中是a\n",
    "* outer函数返回inner函数"
   ]
  },
  {
   "cell_type": "markdown",
   "metadata": {
    "collapsed": true
   },
   "source": [
    "下面例举几个可以用到closure的场景"
   ]
  },
  {
   "cell_type": "markdown",
   "metadata": {},
   "source": [
    "### 场景一\n",
    "需要很多功能类似， 但是具体功能又有一定变化的函数。\n",
    "\n",
    "这时， 可以把outer函数看做是另外一个函数的“制造工厂”, inner函数看做是“工厂”的产出。 通过给outer函数传入参数， 控制制造出的inner函数的具体行为。\n",
    "\n",
    "例如有一个自动决策系统,可以接受用户自己编写的决策器函数。 这个例子里面\n",
    "* 假设决策器只是简单的判断传入数据知否大于某个阈值。\n",
    "* 假设框架约定， 传入的决策器函数， 只能接受一个变量。 这个变量是待判断的数值。"
   ]
  },
  {
   "cell_type": "markdown",
   "metadata": {},
   "source": [
    "#### 懒方案\n",
    "预先定义一大堆决策器， 每个决策器中的阈值都不同"
   ]
  },
  {
   "cell_type": "code",
   "execution_count": 3,
   "metadata": {
    "collapsed": true
   },
   "outputs": [],
   "source": [
    "def decision_1(x):\n",
    "    return x>1\n",
    "\n",
    "def decision_2(x):\n",
    "    return x>2\n",
    "\n",
    "def decision_3(x):\n",
    "    return x>3"
   ]
  },
  {
   "cell_type": "markdown",
   "metadata": {},
   "source": [
    "显然， 这种方法是不现实的。 我们显然不可能穷尽所有可能的阈值并且会造成大量的重复代码。"
   ]
  },
  {
   "cell_type": "markdown",
   "metadata": {},
   "source": [
    "#### closure方案\n",
    "利用closure"
   ]
  },
  {
   "cell_type": "code",
   "execution_count": 4,
   "metadata": {
    "collapsed": true
   },
   "outputs": [],
   "source": [
    "def decision_factory(threshold):\n",
    "    def inner(x):\n",
    "        return x>=threshold        \n",
    "    return inner"
   ]
  },
  {
   "cell_type": "markdown",
   "metadata": {},
   "source": [
    "这样如果要得到不用阈值的决策器， 只要把阈值传给“工厂”， 让它“生产”我们需要的决策器函数即可。 我们通过传入不同的阈值， 可以得到几百， 几千个不同的决策器函数， 但是\"工厂\"函数只需要写一个即可。"
   ]
  },
  {
   "cell_type": "code",
   "execution_count": 5,
   "metadata": {
    "collapsed": false
   },
   "outputs": [
    {
     "name": "stdout",
     "output_type": "stream",
     "text": [
      "False True\n"
     ]
    }
   ],
   "source": [
    "decision = decision_factory(1)\n",
    "print(decision(0.9),decision(1.1))"
   ]
  },
  {
   "cell_type": "markdown",
   "metadata": {},
   "source": [
    "#### 其它方案\n",
    "实现一个特定的目的，不一定只有一种方案。 为了实现之前的需求，除了用closure， 当然也可以用其它的方式实现。可以先写一个接受双参数的函数"
   ]
  },
  {
   "cell_type": "code",
   "execution_count": 6,
   "metadata": {
    "collapsed": true
   },
   "outputs": [],
   "source": [
    "def decision(x, threshold):\n",
    "    return x>=threshold"
   ]
  },
  {
   "cell_type": "markdown",
   "metadata": {},
   "source": [
    "这个函数不符合只接受“待判断”数值的约定，不过可以用python的partial函数实现。"
   ]
  },
  {
   "cell_type": "code",
   "execution_count": 7,
   "metadata": {
    "collapsed": true
   },
   "outputs": [],
   "source": [
    "from functools import partial\n",
    "d = partial(decision, threshold = 1)"
   ]
  },
  {
   "cell_type": "markdown",
   "metadata": {},
   "source": [
    "上面这段代码把threshold参数固定成1， 并且返回只需要接受x的新函数，起到的功能和closure是一样的。"
   ]
  },
  {
   "cell_type": "code",
   "execution_count": 8,
   "metadata": {
    "collapsed": false
   },
   "outputs": [
    {
     "name": "stdout",
     "output_type": "stream",
     "text": [
      "False True\n"
     ]
    }
   ],
   "source": [
    "print(d(0.99),d(1.1))"
   ]
  },
  {
   "cell_type": "markdown",
   "metadata": {},
   "source": [
    "如果不想引入functools这个库， 其实写个lambda函数也是可以起到一样的作用的"
   ]
  },
  {
   "cell_type": "code",
   "execution_count": 9,
   "metadata": {
    "collapsed": false
   },
   "outputs": [
    {
     "name": "stdout",
     "output_type": "stream",
     "text": [
      "False True\n"
     ]
    }
   ],
   "source": [
    "d = lambda x:decision(x,1)\n",
    "print(d(0.99),d(1.1))"
   ]
  },
  {
   "cell_type": "markdown",
   "metadata": {},
   "source": [
    "### 场景二\n",
    "#### closure的应用"
   ]
  },
  {
   "cell_type": "markdown",
   "metadata": {},
   "source": [
    "outer函数中的数据， 在每次inner函数被执行的时候， 并不会被清除而是会记忆之前的状态。 因此可以利用这点，创造一个能记录状态的函数。典型的场景是一个计数器。"
   ]
  },
  {
   "cell_type": "code",
   "execution_count": 10,
   "metadata": {
    "collapsed": false
   },
   "outputs": [],
   "source": [
    "def counter_factory():\n",
    "    state = {'count':0}\n",
    "    def counter():\n",
    "        state['count'] = state['count']+1\n",
    "        return state['count']\n",
    "    return counter\n",
    "\n",
    "counter = counter_factory()"
   ]
  },
  {
   "cell_type": "code",
   "execution_count": 11,
   "metadata": {
    "collapsed": false
   },
   "outputs": [
    {
     "name": "stdout",
     "output_type": "stream",
     "text": [
      "1\n",
      "2\n"
     ]
    }
   ],
   "source": [
    "print(counter())\n",
    "print(counter())"
   ]
  },
  {
   "cell_type": "markdown",
   "metadata": {},
   "source": [
    "不错要注意的是，inner函数只能修改outer函数中mutable类型的数据。 如果尝试修改mutable类型的数据， 会导致出错。"
   ]
  },
  {
   "cell_type": "code",
   "execution_count": 12,
   "metadata": {
    "collapsed": true
   },
   "outputs": [],
   "source": [
    "def counter_factory():\n",
    "    a = 0\n",
    "    def counter():\n",
    "        a = a+1\n",
    "        return a\n",
    "    return counter\n",
    "\n",
    "counter = counter_factory()"
   ]
  },
  {
   "cell_type": "code",
   "execution_count": 50,
   "metadata": {
    "collapsed": false
   },
   "outputs": [
    {
     "ename": "UnboundLocalError",
     "evalue": "local variable 'a' referenced before assignment",
     "output_type": "error",
     "traceback": [
      "\u001b[0;31m---------------------------------------------------------------------------\u001b[0m",
      "\u001b[0;31mUnboundLocalError\u001b[0m                         Traceback (most recent call last)",
      "\u001b[0;32m<ipython-input-50-3c75396f9759>\u001b[0m in \u001b[0;36m<module>\u001b[0;34m()\u001b[0m\n\u001b[0;32m----> 1\u001b[0;31m \u001b[0mcounter\u001b[0m\u001b[0;34m(\u001b[0m\u001b[0;34m)\u001b[0m\u001b[0;34m\u001b[0m\u001b[0m\n\u001b[0m",
      "\u001b[0;32m<ipython-input-49-5d16bee0ed08>\u001b[0m in \u001b[0;36mcounter\u001b[0;34m()\u001b[0m\n\u001b[1;32m      2\u001b[0m     \u001b[0ma\u001b[0m \u001b[0;34m=\u001b[0m \u001b[0;36m0\u001b[0m\u001b[0;34m\u001b[0m\u001b[0m\n\u001b[1;32m      3\u001b[0m     \u001b[0;32mdef\u001b[0m \u001b[0mcounter\u001b[0m\u001b[0;34m(\u001b[0m\u001b[0;34m)\u001b[0m\u001b[0;34m:\u001b[0m\u001b[0;34m\u001b[0m\u001b[0m\n\u001b[0;32m----> 4\u001b[0;31m         \u001b[0ma\u001b[0m \u001b[0;34m=\u001b[0m \u001b[0ma\u001b[0m\u001b[0;34m+\u001b[0m\u001b[0;36m1\u001b[0m\u001b[0;34m\u001b[0m\u001b[0m\n\u001b[0m\u001b[1;32m      5\u001b[0m         \u001b[0;32mreturn\u001b[0m \u001b[0ma\u001b[0m\u001b[0;34m\u001b[0m\u001b[0m\n\u001b[1;32m      6\u001b[0m     \u001b[0;32mreturn\u001b[0m \u001b[0mcounter\u001b[0m\u001b[0;34m\u001b[0m\u001b[0m\n",
      "\u001b[0;31mUnboundLocalError\u001b[0m: local variable 'a' referenced before assignment"
     ]
    }
   ],
   "source": [
    "counter()"
   ]
  },
  {
   "cell_type": "markdown",
   "metadata": {},
   "source": [
    "#### object方案"
   ]
  },
  {
   "cell_type": "markdown",
   "metadata": {},
   "source": [
    "创建一个object, 让object内部的属性去记录自己的状态"
   ]
  },
  {
   "cell_type": "code",
   "execution_count": 53,
   "metadata": {
    "collapsed": true
   },
   "outputs": [],
   "source": [
    "class Counter:\n",
    "    def __init__(self):\n",
    "        self.count = 0\n",
    "        \n",
    "    def run(self):\n",
    "        self.count+=1\n",
    "        return self.count\n",
    "    \n",
    "counter = Counter()"
   ]
  },
  {
   "cell_type": "code",
   "execution_count": 54,
   "metadata": {
    "collapsed": false
   },
   "outputs": [
    {
     "name": "stdout",
     "output_type": "stream",
     "text": [
      "1\n",
      "2\n"
     ]
    }
   ],
   "source": [
    "print(counter.run())\n",
    "print(counter.run())"
   ]
  },
  {
   "cell_type": "markdown",
   "metadata": {},
   "source": [
    "通过添加一个\\__call__特殊method, 可以让上面的counter像函数那样被使用， 这样和closure的例子就更像了。(能够像函数那样被调用的object称为functor)"
   ]
  },
  {
   "cell_type": "code",
   "execution_count": 57,
   "metadata": {
    "collapsed": true
   },
   "outputs": [],
   "source": [
    "class Counter:\n",
    "    def __init__(self):\n",
    "        self.count = 0\n",
    "        \n",
    "    def __call__(self):\n",
    "        self.run()\n",
    "        return self.count\n",
    "        \n",
    "    def run(self):\n",
    "        self.count+=1\n",
    "        return self.count\n",
    "    \n",
    "counter = Counter()"
   ]
  },
  {
   "cell_type": "code",
   "execution_count": 58,
   "metadata": {
    "collapsed": false
   },
   "outputs": [
    {
     "name": "stdout",
     "output_type": "stream",
     "text": [
      "1\n",
      "2\n"
     ]
    }
   ],
   "source": [
    "print(counter())\n",
    "print(counter())"
   ]
  },
  {
   "cell_type": "markdown",
   "metadata": {},
   "source": [
    "### 各种实现方式对性能的影响"
   ]
  },
  {
   "cell_type": "markdown",
   "metadata": {},
   "source": [
    "有多种实现方案都能实现“记录状态”或是\"固定部分行为\"， 不同的实现方式对性能的影响如何？以下是一个实验。"
   ]
  },
  {
   "cell_type": "code",
   "execution_count": 13,
   "metadata": {
    "collapsed": true
   },
   "outputs": [],
   "source": [
    "import pandas as pd"
   ]
  },
  {
   "cell_type": "code",
   "execution_count": 14,
   "metadata": {
    "collapsed": false
   },
   "outputs": [
    {
     "data": {
      "text/html": [
       "<div>\n",
       "<table border=\"1\" class=\"dataframe\">\n",
       "  <thead>\n",
       "    <tr style=\"text-align: right;\">\n",
       "      <th></th>\n",
       "      <th>code</th>\n",
       "      <th>region</th>\n",
       "    </tr>\n",
       "  </thead>\n",
       "  <tbody>\n",
       "    <tr>\n",
       "      <th>0</th>\n",
       "      <td>110000</td>\n",
       "      <td>北京市</td>\n",
       "    </tr>\n",
       "    <tr>\n",
       "      <th>1</th>\n",
       "      <td>110100</td>\n",
       "      <td>市辖区</td>\n",
       "    </tr>\n",
       "    <tr>\n",
       "      <th>2</th>\n",
       "      <td>110101</td>\n",
       "      <td>东城区</td>\n",
       "    </tr>\n",
       "    <tr>\n",
       "      <th>3</th>\n",
       "      <td>110102</td>\n",
       "      <td>西城区</td>\n",
       "    </tr>\n",
       "    <tr>\n",
       "      <th>4</th>\n",
       "      <td>110105</td>\n",
       "      <td>朝阳区</td>\n",
       "    </tr>\n",
       "  </tbody>\n",
       "</table>\n",
       "</div>"
      ],
      "text/plain": [
       "     code region\n",
       "0  110000    北京市\n",
       "1  110100    市辖区\n",
       "2  110101    东城区\n",
       "3  110102    西城区\n",
       "4  110105    朝阳区"
      ]
     },
     "execution_count": 14,
     "metadata": {},
     "output_type": "execute_result"
    }
   ],
   "source": [
    "df = pd.read_csv('pid_region.csv', usecols = ['code','region'])\n",
    "df.head()"
   ]
  },
  {
   "cell_type": "markdown",
   "metadata": {},
   "source": [
    "为了比较不同版本的代码消耗的时间， 先写一个函数。功能是重复执行函数n次后显示消耗的时间。"
   ]
  },
  {
   "cell_type": "code",
   "execution_count": 16,
   "metadata": {
    "collapsed": true
   },
   "outputs": [],
   "source": [
    "def timming(n, func, args):\n",
    "    from datetime import datetime\n",
    "\n",
    "    t1 = datetime.now()\n",
    "    for i in range(n):\n",
    "        func(*args)\n",
    "\n",
    "    t2 = datetime.now()\n",
    "    print(\"repeat {} times, elapsed time: {} seconds\".format(n, (t2-t1).total_seconds()))\n"
   ]
  },
  {
   "cell_type": "markdown",
   "metadata": {},
   "source": [
    "接下来准备好五个版本的代码用于比较"
   ]
  },
  {
   "cell_type": "markdown",
   "metadata": {},
   "source": [
    "双参数版"
   ]
  },
  {
   "cell_type": "code",
   "execution_count": 17,
   "metadata": {
    "collapsed": true
   },
   "outputs": [],
   "source": [
    "def func_1(code, df):\n",
    "    return df[df['code']==code]['region'].iloc[0]"
   ]
  },
  {
   "cell_type": "markdown",
   "metadata": {},
   "source": [
    "partial函数版"
   ]
  },
  {
   "cell_type": "code",
   "execution_count": 18,
   "metadata": {
    "collapsed": true
   },
   "outputs": [],
   "source": [
    "from functools import partial\n",
    "func_2 = partial(func_1, df = df)"
   ]
  },
  {
   "cell_type": "markdown",
   "metadata": {},
   "source": [
    "lambda函数版"
   ]
  },
  {
   "cell_type": "code",
   "execution_count": 19,
   "metadata": {
    "collapsed": true
   },
   "outputs": [],
   "source": [
    "func_3 = lambda code:func_1(code, df)"
   ]
  },
  {
   "cell_type": "markdown",
   "metadata": {},
   "source": [
    "closure版"
   ]
  },
  {
   "cell_type": "code",
   "execution_count": 20,
   "metadata": {
    "collapsed": true
   },
   "outputs": [],
   "source": [
    "def outer(df):\n",
    "    def inner(code):\n",
    "        return df[df['code']==code]['region'].iloc[0]\n",
    "    return inner\n",
    "\n",
    "func_4 = outer(df)"
   ]
  },
  {
   "cell_type": "markdown",
   "metadata": {},
   "source": [
    "functor版"
   ]
  },
  {
   "cell_type": "code",
   "execution_count": 21,
   "metadata": {
    "collapsed": true
   },
   "outputs": [],
   "source": [
    "class Functor():\n",
    "    def __init__(self, df):\n",
    "        self.df = df\n",
    "        \n",
    "    def __call__(self,code):\n",
    "        return df[df['code']==code]['region'].iloc[0]\n",
    "\n",
    "func_5 = Functor(df)"
   ]
  },
  {
   "cell_type": "code",
   "execution_count": 24,
   "metadata": {
    "collapsed": true
   },
   "outputs": [],
   "source": [
    "def func_6(code):\n",
    "    func = lambda code:func_1(code, df)    \n",
    "    return func(code)"
   ]
  },
  {
   "cell_type": "markdown",
   "metadata": {},
   "source": [
    "然后比较一下它们的速度, 各运行1000次"
   ]
  },
  {
   "cell_type": "code",
   "execution_count": 25,
   "metadata": {
    "collapsed": false
   },
   "outputs": [
    {
     "name": "stdout",
     "output_type": "stream",
     "text": [
      "repeat 1000 times, elapsed time: 0.539396 seconds\n",
      "repeat 1000 times, elapsed time: 0.564577 seconds\n",
      "repeat 1000 times, elapsed time: 0.571492 seconds\n",
      "repeat 1000 times, elapsed time: 0.631192 seconds\n",
      "repeat 1000 times, elapsed time: 0.556657 seconds\n",
      "repeat 1000 times, elapsed time: 0.619901 seconds\n"
     ]
    }
   ],
   "source": [
    "timming(1000, func_1, [310115,df])\n",
    "timming(1000, func_2, [310115])\n",
    "timming(1000, func_3, [310115])\n",
    "timming(1000, func_4, [310115])\n",
    "timming(1000, func_5, [310115])\n",
    "timming(1000, func_6, [310115])"
   ]
  },
  {
   "cell_type": "markdown",
   "metadata": {},
   "source": [
    "似乎效果一样"
   ]
  },
  {
   "cell_type": "markdown",
   "metadata": {},
   "source": [
    "### lambda lazy binding"
   ]
  },
  {
   "cell_type": "markdown",
   "metadata": {},
   "source": [
    "lambda是不能配合for循环批量的\"制造\"函数的"
   ]
  },
  {
   "cell_type": "code",
   "execution_count": 15,
   "metadata": {
    "collapsed": true
   },
   "outputs": [],
   "source": [
    "def add(a, b):\n",
    "    return a+b"
   ]
  },
  {
   "cell_type": "code",
   "execution_count": 16,
   "metadata": {
    "collapsed": false
   },
   "outputs": [
    {
     "name": "stdout",
     "output_type": "stream",
     "text": [
      "31\n",
      "31\n",
      "31\n"
     ]
    }
   ],
   "source": [
    "f_list = [lambda a:a+b for b in [10,20,30]]\n",
    "\n",
    "print(f_list[0](1))\n",
    "print(f_list[1](1))\n",
    "print(f_list[2](1))"
   ]
  },
  {
   "cell_type": "markdown",
   "metadata": {},
   "source": [
    "原因是, lambda函数的lazy binding机制, 导致只有lambda函数被调用的时候，才会去查找b的值。这时循环已经结束，b的数值固定为20"
   ]
  },
  {
   "cell_type": "markdown",
   "metadata": {},
   "source": [
    "但是closure函数并不会出现这个问题"
   ]
  },
  {
   "cell_type": "code",
   "execution_count": 7,
   "metadata": {
    "collapsed": false
   },
   "outputs": [
    {
     "name": "stdout",
     "output_type": "stream",
     "text": [
      "11\n",
      "21\n",
      "31\n"
     ]
    }
   ],
   "source": [
    "def add_closure(b):\n",
    "    def add(a):\n",
    "        return a+b\n",
    "    return add\n",
    "\n",
    "f_list = [add_closure(i) for i in [10,20,30]]\n",
    "\n",
    "print(f_list[0](1))\n",
    "print(f_list[1](1))\n",
    "print(f_list[2](1))"
   ]
  },
  {
   "cell_type": "markdown",
   "metadata": {},
   "source": [
    "如果一定要用lambda函数实现类似效果的话,可以利用默认值来传入b的数值"
   ]
  },
  {
   "cell_type": "code",
   "execution_count": 9,
   "metadata": {
    "collapsed": false
   },
   "outputs": [
    {
     "name": "stdout",
     "output_type": "stream",
     "text": [
      "11\n",
      "21\n",
      "31\n"
     ]
    }
   ],
   "source": [
    "f_list = [lambda a,b=b:a+b for b in [10,20, 30]]\n",
    "\n",
    "print(f_list[0](1))\n",
    "print(f_list[1](1))\n",
    "print(f_list[2](1))"
   ]
  },
  {
   "cell_type": "markdown",
   "metadata": {},
   "source": [
    "partial版的测试"
   ]
  },
  {
   "cell_type": "code",
   "execution_count": 11,
   "metadata": {
    "collapsed": true
   },
   "outputs": [],
   "source": [
    "def add(a,b):\n",
    "    return a+b\n",
    "\n",
    "from functools import partial\n",
    "func_list = [partial(add, b = x) for x in [10,20,30]]"
   ]
  },
  {
   "cell_type": "code",
   "execution_count": 12,
   "metadata": {
    "collapsed": false
   },
   "outputs": [
    {
     "data": {
      "text/plain": [
       "11"
      ]
     },
     "execution_count": 12,
     "metadata": {},
     "output_type": "execute_result"
    }
   ],
   "source": [
    "func_list[0](1)"
   ]
  },
  {
   "cell_type": "code",
   "execution_count": 13,
   "metadata": {
    "collapsed": false
   },
   "outputs": [
    {
     "data": {
      "text/plain": [
       "21"
      ]
     },
     "execution_count": 13,
     "metadata": {},
     "output_type": "execute_result"
    }
   ],
   "source": [
    "func_list[1](1)"
   ]
  },
  {
   "cell_type": "code",
   "execution_count": 14,
   "metadata": {
    "collapsed": false
   },
   "outputs": [
    {
     "data": {
      "text/plain": [
       "31"
      ]
     },
     "execution_count": 14,
     "metadata": {},
     "output_type": "execute_result"
    }
   ],
   "source": [
    "func_list[2](1)"
   ]
  },
  {
   "cell_type": "markdown",
   "metadata": {},
   "source": [
    "可以看到, partial并没有lazy binding的问题"
   ]
  }
 ],
 "metadata": {
  "kernelspec": {
   "display_name": "Python 3",
   "language": "python",
   "name": "python3"
  },
  "language_info": {
   "codemirror_mode": {
    "name": "ipython",
    "version": 3
   },
   "file_extension": ".py",
   "mimetype": "text/x-python",
   "name": "python",
   "nbconvert_exporter": "python",
   "pygments_lexer": "ipython3",
   "version": "3.5.2"
  }
 },
 "nbformat": 4,
 "nbformat_minor": 0
}
