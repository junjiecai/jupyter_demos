{
 "cells": [
  {
   "cell_type": "code",
   "execution_count": 4,
   "metadata": {},
   "outputs": [],
   "source": [
    "from regular_expression_visualization.visualize_reg import search_pattern"
   ]
  },
  {
   "cell_type": "markdown",
   "metadata": {},
   "source": [
    "## Simple pattern"
   ]
  },
  {
   "cell_type": "code",
   "execution_count": 53,
   "metadata": {},
   "outputs": [
    {
     "data": {
      "text/html": [
       "<table><tr><th></th><th style=\"font-size:18px\">ee</th><th style=\"font-size:18px\">ea</th><th style=\"font-size:18px\">ai</th><th style=\"font-size:18px\">aa</th></tr><tr><tr><tr><td style=\"font-size:18px\">tee</td><td><span style='font-size:18px;color:black;'>t<span style='font-size:18px;color:black;border: 1px solid red'>ee</span></span></td><td><span style='font-size:18px;color:black;'>tee</span></td><td><span style='font-size:18px;color:black;'>tee</span></td><td><span style='font-size:18px;color:black;'>tee</span></td></tr><td style=\"font-size:18px\">tea</td><td><span style='font-size:18px;color:black;'>tea</span></td><td><span style='font-size:18px;color:black;'>t<span style='font-size:18px;color:black;border: 1px solid red'>ea</span></span></td><td><span style='font-size:18px;color:black;'>tea</span></td><td><span style='font-size:18px;color:black;'>tea</span></td></tr><td style=\"font-size:18px\">bail</td><td><span style='font-size:18px;color:black;'>bail</span></td><td><span style='font-size:18px;color:black;'>bail</span></td><td><span style='font-size:18px;color:black;'>b<span style='font-size:18px;color:black;border: 1px solid red'>ai</span>l</span></td><td><span style='font-size:18px;color:black;'>bail</span></td></tr></table>"
      ],
      "text/plain": [
       "<IPython.core.display.HTML object>"
      ]
     },
     "execution_count": 53,
     "metadata": {},
     "output_type": "execute_result"
    }
   ],
   "source": [
    "patterns =  [\n",
    "    'ee', # exactly ee\n",
    "    'ea',  # exactly ea\n",
    "    'ai',\n",
    "    'aa'\n",
    "]\n",
    "strings = ['tee', 'tea', 'bail']\n",
    "\n",
    "search_pattern(patterns, strings)"
   ]
  },
  {
   "cell_type": "markdown",
   "metadata": {},
   "source": [
    "## One of the pattern"
   ]
  },
  {
   "cell_type": "markdown",
   "metadata": {},
   "source": [
    "Use ```|``` to seperate several pattern"
   ]
  },
  {
   "cell_type": "code",
   "execution_count": 54,
   "metadata": {},
   "outputs": [
    {
     "data": {
      "text/html": [
       "<table><tr><th></th><th style=\"font-size:18px\">ee|ea|ai</th></tr><tr><tr><tr><td style=\"font-size:18px\">tee</td><td><span style='font-size:18px;color:black;'>t<span style='font-size:18px;color:black;border: 1px solid red'>ee</span></span></td></tr><td style=\"font-size:18px\">tea</td><td><span style='font-size:18px;color:black;'>t<span style='font-size:18px;color:black;border: 1px solid red'>ea</span></span></td></tr><td style=\"font-size:18px\">bail</td><td><span style='font-size:18px;color:black;'>b<span style='font-size:18px;color:black;border: 1px solid red'>ai</span>l</span></td></tr></table>"
      ],
      "text/plain": [
       "<IPython.core.display.HTML object>"
      ]
     },
     "execution_count": 54,
     "metadata": {},
     "output_type": "execute_result"
    }
   ],
   "source": [
    "patterns =  [\n",
    "    'ee|ea|ai', # ee or ea or ai\n",
    "]\n",
    "strings = ['tee', 'tea', 'bail']\n",
    "\n",
    "search_pattern(patterns, strings)"
   ]
  },
  {
   "cell_type": "markdown",
   "metadata": {},
   "source": [
    "Pattern order matters"
   ]
  },
  {
   "cell_type": "code",
   "execution_count": 101,
   "metadata": {},
   "outputs": [
    {
     "data": {
      "text/html": [
       "<table><tr><th></th><th style=\"font-size:18px\">oo|ooo</th><th style=\"font-size:18px\">ooo|oo</th></tr><tr><tr><tr><td style=\"font-size:18px\">loong</td><td><span style='font-size:18px;color:black;'>l<span style='font-size:18px;color:black;border: 1px solid red'>oo</span>ng</span></td><td><span style='font-size:18px;color:black;'>l<span style='font-size:18px;color:black;border: 1px solid red'>oo</span>ng</span></td></tr><td style=\"font-size:18px\">looong</td><td><span style='font-size:18px;color:black;'>l<span style='font-size:18px;color:black;border: 1px solid red'>oo</span>ong</span></td><td><span style='font-size:18px;color:black;'>l<span style='font-size:18px;color:black;border: 1px solid red'>ooo</span>ng</span></td></tr><td style=\"font-size:18px\">long</td><td><span style='font-size:18px;color:black;'>long</span></td><td><span style='font-size:18px;color:black;'>long</span></td></tr></table>"
      ],
      "text/plain": [
       "<IPython.core.display.HTML object>"
      ]
     },
     "execution_count": 101,
     "metadata": {},
     "output_type": "execute_result"
    }
   ],
   "source": [
    " patterns =  [\n",
    "    'oo|ooo', # oo is tried first\n",
    "    'ooo|oo', # ooo is tried first\n",
    "]\n",
    "strings = ['loong', 'looong', 'long']\n",
    "\n",
    "search_pattern(patterns, strings)"
   ]
  },
  {
   "cell_type": "markdown",
   "metadata": {},
   "source": [
    "When \"one of pattern\" is followed by or following other regular expressions, use () to seperate to seperate from them"
   ]
  },
  {
   "cell_type": "code",
   "execution_count": 103,
   "metadata": {},
   "outputs": [
    {
     "data": {
      "text/html": [
       "<table><tr><th></th><th style=\"font-size:18px\">b(ea|ee)</th><th style=\"font-size:18px\">bea|ee</th></tr><tr><tr><td style=\"font-size:18px\">bead</td><td><span style='font-size:18px;color:black;'><span style='font-size:18px;color:black;border: 1px solid red'>bea</span>d</span></td><td><span style='font-size:18px;color:black;'><span style='font-size:18px;color:black;border: 1px solid red'>bea</span>d</span></td></tr><td style=\"font-size:18px\">bee</td><td><span style='font-size:18px;color:black;'><span style='font-size:18px;color:black;border: 1px solid red'>bee</span></span></td><td><span style='font-size:18px;color:black;'>b<span style='font-size:18px;color:black;border: 1px solid red'>ee</span></span></td></tr></table>"
      ],
      "text/plain": [
       "<IPython.core.display.HTML object>"
      ]
     },
     "execution_count": 103,
     "metadata": {},
     "output_type": "execute_result"
    }
   ],
   "source": [
    "patterns =  [\n",
    "    'b(ea|ee)', # b + (ea or ee)\n",
    "    'bea|ee' # bea or ee\n",
    "]\n",
    "strings = ['bead', 'bee']\n",
    "\n",
    "search_pattern(patterns, strings)"
   ]
  },
  {
   "cell_type": "markdown",
   "metadata": {},
   "source": [
    "## Qualifiers"
   ]
  },
  {
   "cell_type": "markdown",
   "metadata": {},
   "source": [
    "### appear m to n times"
   ]
  },
  {
   "cell_type": "markdown",
   "metadata": {},
   "source": [
    "Use ```{m,n}```"
   ]
  },
  {
   "cell_type": "code",
   "execution_count": 107,
   "metadata": {},
   "outputs": [
    {
     "data": {
      "text/html": [
       "<table><tr><th></th><th style=\"font-size:18px\">ooo</th><th style=\"font-size:18px\">o{3}</th><th style=\"font-size:18px\">o{2,3}</th><th style=\"font-size:18px\">o{2, 3}</th><th style=\"font-size:18px\">o{2,}</th><th style=\"font-size:18px\">lo{,3}</th><th style=\"font-size:18px\">o{,3}</th></tr><tr><tr><tr><td style=\"font-size:18px\">looong</td><td><span style='font-size:18px;color:black;'>l<span style='font-size:18px;color:black;border: 1px solid red'>ooo</span>ng</span></td><td><span style='font-size:18px;color:black;'>l<span style='font-size:18px;color:black;border: 1px solid red'>ooo</span>ng</span></td><td><span style='font-size:18px;color:black;'>l<span style='font-size:18px;color:black;border: 1px solid red'>ooo</span>ng</span></td><td><span style='font-size:18px;color:black;'>looong</span></td><td><span style='font-size:18px;color:black;'>l<span style='font-size:18px;color:black;border: 1px solid red'>ooo</span>ng</span></td><td><span style='font-size:18px;color:black;'><span style='font-size:18px;color:black;border: 1px solid red'>looo</span>ng</span></td><td><span style='font-size:18px;color:black;'>looong</span></td></tr><td style=\"font-size:18px\">long</td><td><span style='font-size:18px;color:black;'>long</span></td><td><span style='font-size:18px;color:black;'>long</span></td><td><span style='font-size:18px;color:black;'>long</span></td><td><span style='font-size:18px;color:black;'>long</span></td><td><span style='font-size:18px;color:black;'>long</span></td><td><span style='font-size:18px;color:black;'><span style='font-size:18px;color:black;border: 1px solid red'>lo</span>ng</span></td><td><span style='font-size:18px;color:black;'>long</span></td></tr><td style=\"font-size:18px\">loong</td><td><span style='font-size:18px;color:black;'>loong</span></td><td><span style='font-size:18px;color:black;'>loong</span></td><td><span style='font-size:18px;color:black;'>l<span style='font-size:18px;color:black;border: 1px solid red'>oo</span>ng</span></td><td><span style='font-size:18px;color:black;'>loong</span></td><td><span style='font-size:18px;color:black;'>l<span style='font-size:18px;color:black;border: 1px solid red'>oo</span>ng</span></td><td><span style='font-size:18px;color:black;'><span style='font-size:18px;color:black;border: 1px solid red'>loo</span>ng</span></td><td><span style='font-size:18px;color:black;'>loong</span></td></tr></table>"
      ],
      "text/plain": [
       "<IPython.core.display.HTML object>"
      ]
     },
     "execution_count": 107,
     "metadata": {},
     "output_type": "execute_result"
    }
   ],
   "source": [
    "patterns =  [\n",
    "    'ooo', # o, three times\n",
    "    'o{3}',  # o, three times\n",
    "    'o{2,3}', # o, 2~3 time\n",
    "    'o{2, 3}', # o, Not working! Don't put in the blank!    \n",
    "    'o{2,}', # o, more than 2 times\n",
    "    'lo{,3}', # l + o, o appears 0 to 3 times\n",
    "    'o{,3}', # seems not working alone \n",
    "]\n",
    "strings = ['looong', 'long', 'loong']\n",
    "\n",
    "search_pattern(patterns, strings)"
   ]
  },
  {
   "cell_type": "markdown",
   "metadata": {},
   "source": [
    "### appear at least once"
   ]
  },
  {
   "cell_type": "code",
   "execution_count": 108,
   "metadata": {},
   "outputs": [
    {
     "data": {
      "text/html": [
       "<table><tr><th></th><th style=\"font-size:18px\">o+n</th><th style=\"font-size:18px\">o{1,}n</th></tr><tr><tr><tr><td style=\"font-size:18px\">looong</td><td><span style='font-size:18px;color:black;'>l<span style='font-size:18px;color:black;border: 1px solid red'>ooon</span>g</span></td><td><span style='font-size:18px;color:black;'>l<span style='font-size:18px;color:black;border: 1px solid red'>ooon</span>g</span></td></tr><td style=\"font-size:18px\">long</td><td><span style='font-size:18px;color:black;'>l<span style='font-size:18px;color:black;border: 1px solid red'>on</span>g</span></td><td><span style='font-size:18px;color:black;'>l<span style='font-size:18px;color:black;border: 1px solid red'>on</span>g</span></td></tr><td style=\"font-size:18px\">bug</td><td><span style='font-size:18px;color:black;'>bug</span></td><td><span style='font-size:18px;color:black;'>bug</span></td></tr></table>"
      ],
      "text/plain": [
       "<IPython.core.display.HTML object>"
      ]
     },
     "execution_count": 108,
     "metadata": {},
     "output_type": "execute_result"
    }
   ],
   "source": [
    "patterns =  [\n",
    "    'o+n', # o, at least 1 time\n",
    "    'o{1,}n'# same as above\n",
    "]\n",
    "strings = ['looong', 'long', 'bug']\n",
    "\n",
    "search_pattern(patterns, strings)"
   ]
  },
  {
   "cell_type": "markdown",
   "metadata": {},
   "source": [
    "### appear zero or more times"
   ]
  },
  {
   "cell_type": "code",
   "execution_count": 109,
   "metadata": {},
   "outputs": [
    {
     "data": {
      "text/html": [
       "<table><tr><th></th><th style=\"font-size:18px\">lo*ng</th><th style=\"font-size:18px\">lo{0,}ng</th></tr><tr><tr><tr><tr><td style=\"font-size:18px\">long</td><td><span style='font-size:18px;color:black;'><span style='font-size:18px;color:black;border: 1px solid red'>long</span></span></td><td><span style='font-size:18px;color:black;'><span style='font-size:18px;color:black;border: 1px solid red'>long</span></span></td></tr><td style=\"font-size:18px\">lng</td><td><span style='font-size:18px;color:black;'><span style='font-size:18px;color:black;border: 1px solid red'>lng</span></span></td><td><span style='font-size:18px;color:black;'><span style='font-size:18px;color:black;border: 1px solid red'>lng</span></span></td></tr><td style=\"font-size:18px\">loong</td><td><span style='font-size:18px;color:black;'><span style='font-size:18px;color:black;border: 1px solid red'>loong</span></span></td><td><span style='font-size:18px;color:black;'><span style='font-size:18px;color:black;border: 1px solid red'>loong</span></span></td></tr><td style=\"font-size:18px\">leong</td><td><span style='font-size:18px;color:black;'>leong</span></td><td><span style='font-size:18px;color:black;'>leong</span></td></tr></table>"
      ],
      "text/plain": [
       "<IPython.core.display.HTML object>"
      ]
     },
     "execution_count": 109,
     "metadata": {},
     "output_type": "execute_result"
    }
   ],
   "source": [
    "patterns =  [\n",
    "    'lo*ng', # long, o appears zero or more time\n",
    "    'lo{0,}ng' # same as above\n",
    "]\n",
    "strings = ['long', 'lng', 'loong', 'leong']\n",
    "\n",
    "search_pattern(patterns, strings)"
   ]
  },
  {
   "cell_type": "markdown",
   "metadata": {},
   "source": [
    "### appear zero or one time"
   ]
  },
  {
   "cell_type": "code",
   "execution_count": 110,
   "metadata": {},
   "outputs": [
    {
     "data": {
      "text/html": [
       "<table><tr><th></th><th style=\"font-size:18px\">apples?</th><th style=\"font-size:18px\">apples{0,1}</th></tr><tr><tr><td style=\"font-size:18px\">apple</td><td><span style='font-size:18px;color:black;'><span style='font-size:18px;color:black;border: 1px solid red'>apple</span></span></td><td><span style='font-size:18px;color:black;'><span style='font-size:18px;color:black;border: 1px solid red'>apple</span></span></td></tr><td style=\"font-size:18px\">apples</td><td><span style='font-size:18px;color:black;'><span style='font-size:18px;color:black;border: 1px solid red'>apples</span></span></td><td><span style='font-size:18px;color:black;'><span style='font-size:18px;color:black;border: 1px solid red'>apples</span></span></td></tr></table>"
      ],
      "text/plain": [
       "<IPython.core.display.HTML object>"
      ]
     },
     "execution_count": 110,
     "metadata": {},
     "output_type": "execute_result"
    }
   ],
   "source": [
    "patterns =  [\n",
    "    'apples?', # apple, ending s may not appear\n",
    "    'apples{0,1}' # same as above\n",
    "]\n",
    "strings = ['apple', 'apples']\n",
    "\n",
    "search_pattern(patterns, strings)"
   ]
  },
  {
   "cell_type": "markdown",
   "metadata": {},
   "source": [
    "### non-greedy mode"
   ]
  },
  {
   "cell_type": "markdown",
   "metadata": {},
   "source": [
    "By default, regular expressions try to match the longest possible string (greedy mode). If this is not desired, add ```?``` after qualifiers to match the shortest possible string."
   ]
  },
  {
   "cell_type": "code",
   "execution_count": 7,
   "metadata": {},
   "outputs": [
    {
     "data": {
      "text/html": [
       "<table><tr><th></th><th style=\"font-size:18px\">#.+#</th><th style=\"font-size:18px\">#.+?#</th></tr><tr><td style=\"font-size:18px\">#Chapter 2#  #Ongoing#</td><td><span style='font-size:18px;color:black;'><span style='font-size:18px;color:black;border: 1px solid red'>#Chapter 2#  #Ongoing#</span></span></td><td><span style='font-size:18px;color:black;'><span style='font-size:18px;color:black;border: 1px solid red'>#Chapter 2#</span>  #Ongoing#</span></td></tr></table>"
      ],
      "text/plain": [
       "<IPython.core.display.HTML object>"
      ]
     },
     "execution_count": 7,
     "metadata": {},
     "output_type": "execute_result"
    }
   ],
   "source": [
    "patterns =  [\n",
    "    '#.+#', # greedy mode\n",
    "    '#.+?#', # non-greedy mode\n",
    "]\n",
    "strings = ['#Chapter 2#  #Ongoing#']\n",
    "\n",
    "search_pattern(patterns, strings)"
   ]
  },
  {
   "cell_type": "markdown",
   "metadata": {},
   "source": [
    "## Sub expression"
   ]
  },
  {
   "cell_type": "markdown",
   "metadata": {},
   "source": [
    "use ```()```"
   ]
  },
  {
   "cell_type": "code",
   "execution_count": 115,
   "metadata": {},
   "outputs": [
    {
     "data": {
      "text/html": [
       "<table><tr><th></th><th style=\"font-size:18px\">ba(na){2}</th><th style=\"font-size:18px\">banana</th><th style=\"font-size:18px\">bana{2}</th><th style=\"font-size:18px\">banaa</th></tr><tr><tr><td style=\"font-size:18px\">banana</td><td><span style='font-size:18px;color:black;'><span style='font-size:18px;color:black;border: 1px solid red'>banana</span></span></td><td><span style='font-size:18px;color:black;'><span style='font-size:18px;color:black;border: 1px solid red'>banana</span></span></td><td><span style='font-size:18px;color:black;'>banana</span></td><td><span style='font-size:18px;color:black;'>banana</span></td></tr><td style=\"font-size:18px\">banaa</td><td><span style='font-size:18px;color:black;'>banaa</span></td><td><span style='font-size:18px;color:black;'>banaa</span></td><td><span style='font-size:18px;color:black;'><span style='font-size:18px;color:black;border: 1px solid red'>banaa</span></span></td><td><span style='font-size:18px;color:black;'><span style='font-size:18px;color:black;border: 1px solid red'>banaa</span></span></td></tr></table>"
      ],
      "text/plain": [
       "<IPython.core.display.HTML object>"
      ]
     },
     "execution_count": 115,
     "metadata": {},
     "output_type": "execute_result"
    }
   ],
   "source": [
    "patterns =  [\n",
    "    'ba(na){2}', # b + na, na appears two times\n",
    "    'banana', # same as above\n",
    "    'bana{2}', # ban + a, a appear 2 times,\n",
    "    'banaa', # same as above\n",
    "    \n",
    "]\n",
    "strings = ['banana', 'banaa']\n",
    "\n",
    "search_pattern(patterns, strings)"
   ]
  },
  {
   "cell_type": "code",
   "execution_count": 116,
   "metadata": {},
   "outputs": [
    {
     "data": {
      "text/html": [
       "<table><tr><th></th><th style=\"font-size:18px\">(a+_+){2}</th><th style=\"font-size:18px\">a+_+a+_+</th><th style=\"font-size:18px\">a+_+</th></tr><tr><tr><tr><td style=\"font-size:18px\">aa_a__</td><td><span style='font-size:18px;color:black;'><span style='font-size:18px;color:black;border: 1px solid red'>aa_a__</span></span></td><td><span style='font-size:18px;color:black;'><span style='font-size:18px;color:black;border: 1px solid red'>aa_a__</span></span></td><td><span style='font-size:18px;color:black;'><span style='font-size:18px;color:black;border: 1px solid red'>aa_</span>a__</span></td></tr><td style=\"font-size:18px\">a_</td><td><span style='font-size:18px;color:black;'>a_</span></td><td><span style='font-size:18px;color:black;'>a_</span></td><td><span style='font-size:18px;color:black;'><span style='font-size:18px;color:black;border: 1px solid red'>a_</span></span></td></tr><td style=\"font-size:18px\">a__a_a_</td><td><span style='font-size:18px;color:black;'><span style='font-size:18px;color:black;border: 1px solid red'>a__a_</span>a_</span></td><td><span style='font-size:18px;color:black;'><span style='font-size:18px;color:black;border: 1px solid red'>a__a_</span>a_</span></td><td><span style='font-size:18px;color:black;'><span style='font-size:18px;color:black;border: 1px solid red'>a__</span>a_a_</span></td></tr></table>"
      ],
      "text/plain": [
       "<IPython.core.display.HTML object>"
      ]
     },
     "execution_count": 116,
     "metadata": {},
     "output_type": "execute_result"
    }
   ],
   "source": [
    "patterns =  [\n",
    "    '(a+_+){2}', # two consecutive pattern which match a+_+, they are not necessarily the same string\n",
    "    'a+_+a+_+', # same as above\n",
    "    'a+_+'\n",
    "]\n",
    "strings = ['aa_a__', 'a_', 'a__a_a_']\n",
    "\n",
    "search_pattern(patterns, strings)"
   ]
  },
  {
   "cell_type": "markdown",
   "metadata": {},
   "source": [
    "## Character Set"
   ]
  },
  {
   "cell_type": "markdown",
   "metadata": {},
   "source": [
    "### Any character\n",
    "```.``` stands for any character"
   ]
  },
  {
   "cell_type": "code",
   "execution_count": 63,
   "metadata": {},
   "outputs": [
    {
     "data": {
      "text/html": [
       "<table><tr><th></th><th style=\"font-size:18px\">b.d</th><th style=\"font-size:18px\">be..</th></tr><tr><tr><tr><tr><tr><td style=\"font-size:18px\">bed</td><td><span style='font-size:18px;color:black;'><span style='font-size:18px;color:black;border: 1px solid red'>bed</span></span></td><td><span style='font-size:18px;color:black;'>bed</span></td></tr><td style=\"font-size:18px\">bid</td><td><span style='font-size:18px;color:black;'><span style='font-size:18px;color:black;border: 1px solid red'>bid</span></span></td><td><span style='font-size:18px;color:black;'>bid</span></td></tr><td style=\"font-size:18px\">bee</td><td><span style='font-size:18px;color:black;'>bee</span></td><td><span style='font-size:18px;color:black;'>bee</span></td></tr><td style=\"font-size:18px\">benign</td><td><span style='font-size:18px;color:black;'>benign</span></td><td><span style='font-size:18px;color:black;'><span style='font-size:18px;color:black;border: 1px solid red'>beni</span>gn</span></td></tr><td style=\"font-size:18px\">beed</td><td><span style='font-size:18px;color:black;'>beed</span></td><td><span style='font-size:18px;color:black;'><span style='font-size:18px;color:black;border: 1px solid red'>beed</span></span></td></tr></table>"
      ],
      "text/plain": [
       "<IPython.core.display.HTML object>"
      ]
     },
     "execution_count": 63,
     "metadata": {},
     "output_type": "execute_result"
    }
   ],
   "source": [
    "patterns =  [\n",
    "    'b.d', # b + any character + d\n",
    "    'be..' # b + e + any character + any character\n",
    "]\n",
    "strings = ['bed', 'bid','bee', 'benign', 'beed']\n",
    "\n",
    "search_pattern(patterns, strings)"
   ]
  },
  {
   "cell_type": "markdown",
   "metadata": {},
   "source": [
    "### Any character in a set\n",
    "Use ```[...]```"
   ]
  },
  {
   "cell_type": "code",
   "execution_count": 64,
   "metadata": {},
   "outputs": [
    {
     "data": {
      "text/html": [
       "<table><tr><th></th><th style=\"font-size:18px\">b[ei]d</th><th style=\"font-size:18px\">bed|bid</th></tr><tr><tr><tr><tr><td style=\"font-size:18px\">bed</td><td><span style='font-size:18px;color:black;'><span style='font-size:18px;color:black;border: 1px solid red'>bed</span></span></td><td><span style='font-size:18px;color:black;'><span style='font-size:18px;color:black;border: 1px solid red'>bed</span></span></td></tr><td style=\"font-size:18px\">bid</td><td><span style='font-size:18px;color:black;'><span style='font-size:18px;color:black;border: 1px solid red'>bid</span></span></td><td><span style='font-size:18px;color:black;'><span style='font-size:18px;color:black;border: 1px solid red'>bid</span></span></td></tr><td style=\"font-size:18px\">bee</td><td><span style='font-size:18px;color:black;'>bee</span></td><td><span style='font-size:18px;color:black;'>bee</span></td></tr><td style=\"font-size:18px\">bud</td><td><span style='font-size:18px;color:black;'>bud</span></td><td><span style='font-size:18px;color:black;'>bud</span></td></tr></table>"
      ],
      "text/plain": [
       "<IPython.core.display.HTML object>"
      ]
     },
     "execution_count": 64,
     "metadata": {},
     "output_type": "execute_result"
    }
   ],
   "source": [
    "patterns =  [\n",
    "    'b[ei]d', # b + e or i + d\n",
    "    'bed|bid' # same as above\n",
    "] \n",
    "strings = ['bed', 'bid', 'bee', 'bud']\n",
    "\n",
    "search_pattern(patterns, strings)"
   ]
  },
  {
   "cell_type": "markdown",
   "metadata": {},
   "source": [
    "Use ```-``` for character range"
   ]
  },
  {
   "cell_type": "code",
   "execution_count": 65,
   "metadata": {},
   "outputs": [
    {
     "data": {
      "text/html": [
       "<table><tr><th></th><th style=\"font-size:18px\">id_[0-5]</th><th style=\"font-size:18px\">id_[012345]</th></tr><tr><tr><td style=\"font-size:18px\">id_1</td><td><span style='font-size:18px;color:black;'><span style='font-size:18px;color:black;border: 1px solid red'>id_1</span></span></td><td><span style='font-size:18px;color:black;'><span style='font-size:18px;color:black;border: 1px solid red'>id_1</span></span></td></tr><td style=\"font-size:18px\">id_6</td><td><span style='font-size:18px;color:black;'>id_6</span></td><td><span style='font-size:18px;color:black;'>id_6</span></td></tr></table>"
      ],
      "text/plain": [
       "<IPython.core.display.HTML object>"
      ]
     },
     "execution_count": 65,
     "metadata": {},
     "output_type": "execute_result"
    }
   ],
   "source": [
    "patterns =  [\n",
    "    'id_[0-5]', # id_ + any number in 0 to 5\n",
    "    'id_[012345]' # same as above\n",
    "]\n",
    "strings = ['id_1', 'id_6']\n",
    "\n",
    "search_pattern(patterns, strings)"
   ]
  },
  {
   "cell_type": "code",
   "execution_count": 117,
   "metadata": {},
   "outputs": [
    {
     "data": {
      "text/html": [
       "<table><tr><th></th><th style=\"font-size:18px\">type_[a-ex]</th><th style=\"font-size:18px\">type_[abcdex]</th><th style=\"font-size:18px\">type_[a-zA-Z]</th></tr><tr><tr><tr><tr><td style=\"font-size:18px\">type_a</td><td><span style='font-size:18px;color:black;'><span style='font-size:18px;color:black;border: 1px solid red'>type_a</span></span></td><td><span style='font-size:18px;color:black;'><span style='font-size:18px;color:black;border: 1px solid red'>type_a</span></span></td><td><span style='font-size:18px;color:black;'><span style='font-size:18px;color:black;border: 1px solid red'>type_a</span></span></td></tr><td style=\"font-size:18px\">type_b</td><td><span style='font-size:18px;color:black;'><span style='font-size:18px;color:black;border: 1px solid red'>type_b</span></span></td><td><span style='font-size:18px;color:black;'><span style='font-size:18px;color:black;border: 1px solid red'>type_b</span></span></td><td><span style='font-size:18px;color:black;'><span style='font-size:18px;color:black;border: 1px solid red'>type_b</span></span></td></tr><td style=\"font-size:18px\">type_x</td><td><span style='font-size:18px;color:black;'><span style='font-size:18px;color:black;border: 1px solid red'>type_x</span></span></td><td><span style='font-size:18px;color:black;'><span style='font-size:18px;color:black;border: 1px solid red'>type_x</span></span></td><td><span style='font-size:18px;color:black;'><span style='font-size:18px;color:black;border: 1px solid red'>type_x</span></span></td></tr><td style=\"font-size:18px\">type_Z</td><td><span style='font-size:18px;color:black;'>type_Z</span></td><td><span style='font-size:18px;color:black;'>type_Z</span></td><td><span style='font-size:18px;color:black;'><span style='font-size:18px;color:black;border: 1px solid red'>type_Z</span></span></td></tr></table>"
      ],
      "text/plain": [
       "<IPython.core.display.HTML object>"
      ]
     },
     "execution_count": 117,
     "metadata": {},
     "output_type": "execute_result"
    }
   ],
   "source": [
    "patterns =  [\n",
    "    'type_[a-ex]', # type_ + any character in range a to e and x,\n",
    "    'type_[abcdex]', # same as above\n",
    "    'type_[a-zA-Z]' # any letter\n",
    "] \n",
    "strings = ['type_a', 'type_b', 'type_x', 'type_Z']\n",
    "\n",
    "search_pattern(patterns, strings)"
   ]
  },
  {
   "cell_type": "markdown",
   "metadata": {},
   "source": [
    "Don't misuse ```[...]``` to expression one the pattern !"
   ]
  },
  {
   "cell_type": "code",
   "execution_count": 12,
   "metadata": {},
   "outputs": [
    {
     "data": {
      "text/html": [
       "<table><tr><th></th><th style=\"font-size:18px\">(公斤|千克).+</th><th style=\"font-size:18px\">[公斤|千克].+</th></tr><tr><tr><tr><tr><td style=\"font-size:18px\">购买2公斤苹果</td><td><span style='font-size:18px;color:black;'>购买2<span style='font-size:18px;color:black;border: 1px solid red'>公斤苹果</span></span></td><td><span style='font-size:18px;color:black;'>购买2<span style='font-size:18px;color:black;border: 1px solid red'>公斤苹果</span></span></td></tr><td style=\"font-size:18px\">开公司</td><td><span style='font-size:18px;color:black;'>开公司</span></td><td><span style='font-size:18px;color:black;'>开<span style='font-size:18px;color:black;border: 1px solid red'>公司</span></span></td></tr><td style=\"font-size:18px\">保持克制</td><td><span style='font-size:18px;color:black;'>保持克制</span></td><td><span style='font-size:18px;color:black;'>保持<span style='font-size:18px;color:black;border: 1px solid red'>克制</span></span></td></tr><td style=\"font-size:18px\">&lt;&lt;|&gt;&gt;</td><td><span style='font-size:18px;color:black;'>&lt;&lt;|&gt;&gt;</span></td><td><span style='font-size:18px;color:black;'>&lt;&lt;<span style='font-size:18px;color:black;border: 1px solid red'>|&gt;&gt;</span></span></td></tr></table>"
      ],
      "text/plain": [
       "<IPython.core.display.HTML object>"
      ]
     },
     "execution_count": 12,
     "metadata": {},
     "output_type": "execute_result"
    }
   ],
   "source": [
    " patterns =  [\n",
    "    '(公斤|千克).+', # 公斤 or 千克     \n",
    "    '[公斤|千克].+', # character set containing 公，斤，千, 克 and |\n",
    "] \n",
    "strings = ['购买2公斤苹果', '开公司', '保持克制', '<<|>>']\n",
    "\n",
    "search_pattern(patterns, strings)"
   ]
  },
  {
   "cell_type": "markdown",
   "metadata": {},
   "source": [
    "### Any character not in set"
   ]
  },
  {
   "cell_type": "markdown",
   "metadata": {},
   "source": [
    "Use ```[^...]```"
   ]
  },
  {
   "cell_type": "code",
   "execution_count": 67,
   "metadata": {},
   "outputs": [
    {
     "data": {
      "text/html": [
       "<table><tr><th></th><th style=\"font-size:18px\">type_[^a-z]</th></tr><tr><tr><tr><td style=\"font-size:18px\">type_1</td><td><span style='font-size:18px;color:black;'><span style='font-size:18px;color:black;border: 1px solid red'>type_1</span></span></td></tr><td style=\"font-size:18px\">type_a</td><td><span style='font-size:18px;color:black;'>type_a</span></td></tr><td style=\"font-size:18px\">type_c</td><td><span style='font-size:18px;color:black;'>type_c</span></td></tr></table>"
      ],
      "text/plain": [
       "<IPython.core.display.HTML object>"
      ]
     },
     "execution_count": 67,
     "metadata": {},
     "output_type": "execute_result"
    }
   ],
   "source": [
    "patterns =  [\n",
    "    'type_[^a-z]' # type_ + any character not in a to z\n",
    "] \n",
    "strings = ['type_1', 'type_a', 'type_c']\n",
    "\n",
    "search_pattern(patterns, strings)"
   ]
  },
  {
   "cell_type": "markdown",
   "metadata": {},
   "source": [
    "### Any number"
   ]
  },
  {
   "cell_type": "markdown",
   "metadata": {},
   "source": [
    "Use ```\\d```"
   ]
  },
  {
   "cell_type": "code",
   "execution_count": 68,
   "metadata": {},
   "outputs": [
    {
     "data": {
      "text/html": [
       "<table><tr><th></th><th style=\"font-size:18px\">id_\\d\\d</th><th style=\"font-size:18px\">id_[0-9][0-9]</th></tr><tr><tr><tr><td style=\"font-size:18px\">id_12</td><td><span style='font-size:18px;color:black;'><span style='font-size:18px;color:black;border: 1px solid red'>id_12</span></span></td><td><span style='font-size:18px;color:black;'><span style='font-size:18px;color:black;border: 1px solid red'>id_12</span></span></td></tr><td style=\"font-size:18px\">id_0</td><td><span style='font-size:18px;color:black;'>id_0</span></td><td><span style='font-size:18px;color:black;'>id_0</span></td></tr><td style=\"font-size:18px\">id</td><td><span style='font-size:18px;color:black;'>id</span></td><td><span style='font-size:18px;color:black;'>id</span></td></tr></table>"
      ],
      "text/plain": [
       "<IPython.core.display.HTML object>"
      ]
     },
     "execution_count": 68,
     "metadata": {},
     "output_type": "execute_result"
    }
   ],
   "source": [
    "patterns =  [\n",
    "    'id_\\d\\d', # id_ + any number character + any number character\n",
    "    'id_[0-9][0-9]' # same as above\n",
    "]\n",
    "strings = ['id_12', 'id_0', 'id']\n",
    "\n",
    "search_pattern(patterns, strings)"
   ]
  },
  {
   "cell_type": "markdown",
   "metadata": {},
   "source": [
    "### Any non-number character"
   ]
  },
  {
   "cell_type": "markdown",
   "metadata": {},
   "source": [
    "Use ```\\D```"
   ]
  },
  {
   "cell_type": "code",
   "execution_count": 69,
   "metadata": {},
   "outputs": [
    {
     "data": {
      "text/html": [
       "<table><tr><th></th><th style=\"font-size:18px\">e\\D</th><th style=\"font-size:18px\">e[^0-9]</th></tr><tr><tr><tr><td style=\"font-size:18px\">bee</td><td><span style='font-size:18px;color:black;'>b<span style='font-size:18px;color:black;border: 1px solid red'>ee</span></span></td><td><span style='font-size:18px;color:black;'>b<span style='font-size:18px;color:black;border: 1px solid red'>ee</span></span></td></tr><td style=\"font-size:18px\">tel</td><td><span style='font-size:18px;color:black;'>t<span style='font-size:18px;color:black;border: 1px solid red'>el</span></span></td><td><span style='font-size:18px;color:black;'>t<span style='font-size:18px;color:black;border: 1px solid red'>el</span></span></td></tr><td style=\"font-size:18px\">te1</td><td><span style='font-size:18px;color:black;'>te1</span></td><td><span style='font-size:18px;color:black;'>te1</span></td></tr></table>"
      ],
      "text/plain": [
       "<IPython.core.display.HTML object>"
      ]
     },
     "execution_count": 69,
     "metadata": {},
     "output_type": "execute_result"
    }
   ],
   "source": [
    "patterns =  [\n",
    "    'e\\D',  # e + any character which is not number character\n",
    "    'e[^0-9]' # same as above\n",
    "]\n",
    "strings = ['bee', 'tel', 'te1']\n",
    "\n",
    "search_pattern(patterns, strings)"
   ]
  },
  {
   "cell_type": "markdown",
   "metadata": {},
   "source": [
    "### Any word charcters"
   ]
  },
  {
   "cell_type": "markdown",
   "metadata": {},
   "source": [
    "Use ```\\w```, word character means a-z, A-Z, 0-9 and _"
   ]
  },
  {
   "cell_type": "code",
   "execution_count": 70,
   "metadata": {},
   "outputs": [
    {
     "data": {
      "text/html": [
       "<table><tr><th></th><th style=\"font-size:18px\">\\w+</th><th style=\"font-size:18px\">[a-zA-Z0-9_]+</th></tr><tr><td style=\"font-size:18px\">:id_1.</td><td><span style='font-size:18px;color:black;'>:<span style='font-size:18px;color:black;border: 1px solid red'>id_1</span>.</span></td><td><span style='font-size:18px;color:black;'>:<span style='font-size:18px;color:black;border: 1px solid red'>id_1</span>.</span></td></tr></table>"
      ],
      "text/plain": [
       "<IPython.core.display.HTML object>"
      ]
     },
     "execution_count": 70,
     "metadata": {},
     "output_type": "execute_result"
    }
   ],
   "source": [
    "patterns = [\n",
    "    '\\w+',  # any word character, more than one time\n",
    "    '[a-zA-Z0-9_]+' # same as above\n",
    "]\n",
    "strings = [':id_1.']\n",
    "\n",
    "search_pattern(patterns, strings)"
   ]
  },
  {
   "cell_type": "markdown",
   "metadata": {},
   "source": [
    "### Any non-word characters"
   ]
  },
  {
   "cell_type": "markdown",
   "metadata": {},
   "source": [
    "Use ```\\W```"
   ]
  },
  {
   "cell_type": "code",
   "execution_count": 71,
   "metadata": {},
   "outputs": [
    {
     "data": {
      "text/html": [
       "<table><tr><th></th><th style=\"font-size:18px\">\\W+</th><th style=\"font-size:18px\">[^a-zA-Z0-9_]+</th></tr><tr><td style=\"font-size:18px\">id_1 + id_2</td><td><span style='font-size:18px;color:black;'>id_1<span style='font-size:18px;color:black;border: 1px solid red'> + </span>id_2</span></td><td><span style='font-size:18px;color:black;'>id_1<span style='font-size:18px;color:black;border: 1px solid red'> + </span>id_2</span></td></tr></table>"
      ],
      "text/plain": [
       "<IPython.core.display.HTML object>"
      ]
     },
     "execution_count": 71,
     "metadata": {},
     "output_type": "execute_result"
    }
   ],
   "source": [
    "patterns =  [\n",
    "    '\\W+', # any non-word character, more than one time\n",
    "    '[^a-zA-Z0-9_]+'# same as above\n",
    "]\n",
    "strings = ['id_1 + id_2']\n",
    "\n",
    "search_pattern(patterns, strings)"
   ]
  },
  {
   "cell_type": "markdown",
   "metadata": {},
   "source": [
    "### Any space"
   ]
  },
  {
   "cell_type": "markdown",
   "metadata": {},
   "source": [
    "Use ```\\s```"
   ]
  },
  {
   "cell_type": "code",
   "execution_count": 72,
   "metadata": {},
   "outputs": [
    {
     "data": {
      "text/html": [
       "<table><tr><th></th><th style=\"font-size:18px\">\\s.*\\s</th><th style=\"font-size:18px\">[\t\n",
       "\f",
       "\r",
       " ].*[\t\n",
       "\f",
       "\r",
       " ]</th></tr><tr><td style=\"font-size:18px\">Monkey D Luffy</td><td><span style='font-size:18px;color:black;'>Monkey<span style='font-size:18px;color:black;border: 1px solid red'> D </span>Luffy</span></td><td><span style='font-size:18px;color:black;'>Monkey<span style='font-size:18px;color:black;border: 1px solid red'> D </span>Luffy</span></td></tr></table>"
      ],
      "text/plain": [
       "<IPython.core.display.HTML object>"
      ]
     },
     "execution_count": 72,
     "metadata": {},
     "output_type": "execute_result"
    }
   ],
   "source": [
    "patterns =  [\n",
    "    '\\s.*\\s', # blank + any string + blank\n",
    "    '[\\t\\n\\f\\r ].*[\\t\\n\\f\\r ]' # same as above\n",
    "]\n",
    "strings = ['Monkey D Luffy']\n",
    "\n",
    "search_pattern(patterns, strings)"
   ]
  },
  {
   "cell_type": "markdown",
   "metadata": {},
   "source": [
    "### Any Non Space"
   ]
  },
  {
   "cell_type": "code",
   "execution_count": 119,
   "metadata": {},
   "outputs": [
    {
     "data": {
      "text/html": [
       "<table><tr><th></th><th style=\"font-size:18px\">\\S.+\\S</th><th style=\"font-size:18px\">[^\t\n",
       "\f",
       "\r",
       " ].*[^\t\n",
       "\f",
       "\r",
       " ]</th></tr><tr><td style=\"font-size:18px\">on the\n",
       "tree</td><td><span style='font-size:18px;color:black;'><span style='font-size:18px;color:black;border: 1px solid red'>on the</span>\n",
       "tree</span></td><td><span style='font-size:18px;color:black;'><span style='font-size:18px;color:black;border: 1px solid red'>on the</span>\n",
       "tree</span></td></tr></table>"
      ],
      "text/plain": [
       "<IPython.core.display.HTML object>"
      ]
     },
     "execution_count": 119,
     "metadata": {},
     "output_type": "execute_result"
    }
   ],
   "source": [
    "patterns =  [\n",
    "    '\\S.+\\S', # any character except space + any string + any character except space\n",
    "    '[^\\t\\n\\f\\r ].*[^\\t\\n\\f\\r ]' # same as above\n",
    "]\n",
    "strings = ['on the\\ntree']\n",
    "\n",
    "search_pattern(patterns, strings)"
   ]
  },
  {
   "cell_type": "markdown",
   "metadata": {},
   "source": [
    "## Escaping"
   ]
  },
  {
   "cell_type": "markdown",
   "metadata": {},
   "source": [
    "As you see, many characters like ```(```,```.```,```+``` have special means in regular expression. If you want to disable these and search for these characters, add ```\\``` before them"
   ]
  },
  {
   "cell_type": "code",
   "execution_count": 120,
   "metadata": {},
   "outputs": [
    {
     "data": {
      "text/html": [
       "<table><tr><th></th><th style=\"font-size:18px\">($\\d+.\\d+)</th><th style=\"font-size:18px\">\\(\\$\\d+\\.\\d+\\)</th></tr><tr><td style=\"font-size:18px\">apple ($3.25)</td><td><span style='font-size:18px;color:black;'>apple ($3.25)</span></td><td><span style='font-size:18px;color:black;'>apple <span style='font-size:18px;color:black;border: 1px solid red'>($3.25)</span></span></td></tr></table>"
      ],
      "text/plain": [
       "<IPython.core.display.HTML object>"
      ]
     },
     "execution_count": 120,
     "metadata": {},
     "output_type": "execute_result"
    }
   ],
   "source": [
    "patterns =  [\n",
    "    '($\\d+.\\d+)', # $ . + are not treated as characters\n",
    "    '\\(\\$\\d+\\.\\d+\\)' # $ . + are treated as characters\n",
    "]\n",
    "strings = ['apple ($3.25)']\n",
    "\n",
    "search_pattern(patterns, strings)"
   ]
  },
  {
   "cell_type": "markdown",
   "metadata": {},
   "source": [
    "## Anchor"
   ]
  },
  {
   "cell_type": "markdown",
   "metadata": {},
   "source": [
    "Anchor are searched but won't be part be of the matching result"
   ]
  },
  {
   "cell_type": "markdown",
   "metadata": {},
   "source": [
    "### followed by"
   ]
  },
  {
   "cell_type": "markdown",
   "metadata": {},
   "source": [
    "Use ```(?=...)```"
   ]
  },
  {
   "cell_type": "code",
   "execution_count": 88,
   "metadata": {},
   "outputs": [
    {
     "data": {
      "text/html": [
       "<table><tr><th></th><th style=\"font-size:18px\">\\w+(?=\\.)</th><th style=\"font-size:18px\">\\w+\\.</th></tr><tr><td style=\"font-size:18px\">Apple juice.</td><td><span style='font-size:18px;color:black;'>Apple <span style='font-size:18px;color:black;border: 1px solid red'>juice</span>.</span></td><td><span style='font-size:18px;color:black;'>Apple <span style='font-size:18px;color:black;border: 1px solid red'>juice.</span></span></td></tr></table>"
      ],
      "text/plain": [
       "<IPython.core.display.HTML object>"
      ]
     },
     "execution_count": 88,
     "metadata": {},
     "output_type": "execute_result"
    }
   ],
   "source": [
    "patterns =  [\n",
    "    '\\w+(?=\\.)',  # word character string, followed by comma. the comma is not returned in the matching result\n",
    "    '\\w+\\.' # comma is returned in the matching result\n",
    "]\n",
    "strings = ['Apple juice.']\n",
    "\n",
    "search_pattern(patterns, strings)"
   ]
  },
  {
   "cell_type": "markdown",
   "metadata": {},
   "source": [
    "### Not followed by"
   ]
  },
  {
   "cell_type": "markdown",
   "metadata": {},
   "source": [
    "Use ```(?!...)```"
   ]
  },
  {
   "cell_type": "code",
   "execution_count": 89,
   "metadata": {},
   "outputs": [
    {
     "data": {
      "text/html": [
       "<table><tr><th></th><th style=\"font-size:18px\">\\w+(?!\\.)</th><th style=\"font-size:18px\">\\w+[^\\.]</th></tr><tr><td style=\"font-size:18px\">Apple juice.</td><td><span style='font-size:18px;color:black;'><span style='font-size:18px;color:black;border: 1px solid red'>Apple</span> juice.</span></td><td><span style='font-size:18px;color:black;'><span style='font-size:18px;color:black;border: 1px solid red'>Apple </span>juice.</span></td></tr></table>"
      ],
      "text/plain": [
       "<IPython.core.display.HTML object>"
      ]
     },
     "execution_count": 89,
     "metadata": {},
     "output_type": "execute_result"
    }
   ],
   "source": [
    "patterns =  [\n",
    "    '\\w+(?!\\.)', # word character string, not followed by comma\n",
    "    '\\w+[^\\.]' # word character string, followed by any character which is not comma\n",
    "]\n",
    "strings = ['Apple juice.']\n",
    "\n",
    "search_pattern(patterns, strings)"
   ]
  },
  {
   "cell_type": "markdown",
   "metadata": {},
   "source": [
    "### Following"
   ]
  },
  {
   "cell_type": "markdown",
   "metadata": {},
   "source": [
    "Use ```(?<=...)```"
   ]
  },
  {
   "cell_type": "code",
   "execution_count": 90,
   "metadata": {},
   "outputs": [
    {
     "data": {
      "text/html": [
       "<table><tr><th></th><th style=\"font-size:18px\">(?<=:)\\d+</th><th style=\"font-size:18px\">:\\d+</th></tr><tr><td style=\"font-size:18px\">apple:10</td><td><span style='font-size:18px;color:black;'>apple:<span style='font-size:18px;color:black;border: 1px solid red'>10</span></span></td><td><span style='font-size:18px;color:black;'>apple<span style='font-size:18px;color:black;border: 1px solid red'>:10</span></span></td></tr></table>"
      ],
      "text/plain": [
       "<IPython.core.display.HTML object>"
      ]
     },
     "execution_count": 90,
     "metadata": {},
     "output_type": "execute_result"
    }
   ],
   "source": [
    "patterns =  [\n",
    "    '(?<=:)\\d+', # number character string, following :\n",
    "    ':\\d+' # : + number character string\n",
    "]\n",
    "strings = ['apple:10']\n",
    "\n",
    "search_pattern(patterns, strings)"
   ]
  },
  {
   "cell_type": "markdown",
   "metadata": {},
   "source": [
    "### not following"
   ]
  },
  {
   "cell_type": "markdown",
   "metadata": {},
   "source": [
    "Use ```(?<!)```"
   ]
  },
  {
   "cell_type": "code",
   "execution_count": 94,
   "metadata": {},
   "outputs": [
    {
     "data": {
      "text/html": [
       "<table><tr><th></th><th style=\"font-size:18px\">(?<!A)\\d+</th><th style=\"font-size:18px\">[^A]\\d+</th></tr><tr><td style=\"font-size:18px\">A123 123</td><td><span style='font-size:18px;color:black;'>A1<span style='font-size:18px;color:black;border: 1px solid red'>23</span> 123</span></td><td><span style='font-size:18px;color:black;'>A<span style='font-size:18px;color:black;border: 1px solid red'>123</span> 123</span></td></tr></table>"
      ],
      "text/plain": [
       "<IPython.core.display.HTML object>"
      ]
     },
     "execution_count": 94,
     "metadata": {},
     "output_type": "execute_result"
    }
   ],
   "source": [
    "patterns =  [\n",
    "    '(?<!A)\\d+', # number character string, not followed by A\n",
    "    '[^A]\\d+' # any character expect A + number character string\n",
    "]\n",
    "strings = ['A123 123']\n",
    "\n",
    "\n",
    "search_pattern(patterns, strings)"
   ]
  },
  {
   "cell_type": "markdown",
   "metadata": {},
   "source": [
    "### border of word"
   ]
  },
  {
   "cell_type": "code",
   "execution_count": 95,
   "metadata": {},
   "outputs": [
    {
     "data": {
      "text/html": [
       "<table><tr><th></th><th style=\"font-size:18px\">\\beat\\b</th><th style=\"font-size:18px\">eat</th></tr><tr><tr><td style=\"font-size:18px\">I eat food</td><td><span style='font-size:18px;color:black;'>I <span style='font-size:18px;color:black;border: 1px solid red'>eat</span> food</span></td><td><span style='font-size:18px;color:black;'>I <span style='font-size:18px;color:black;border: 1px solid red'>eat</span> food</span></td></tr><td style=\"font-size:18px\">beat</td><td><span style='font-size:18px;color:black;'>beat</span></td><td><span style='font-size:18px;color:black;'>b<span style='font-size:18px;color:black;border: 1px solid red'>eat</span></span></td></tr></table>"
      ],
      "text/plain": [
       "<IPython.core.display.HTML object>"
      ]
     },
     "execution_count": 95,
     "metadata": {},
     "output_type": "execute_result"
    }
   ],
   "source": [
    "patterns =  [\n",
    "    r'\\beat\\b', # eat surrounded by border of word, (whole word searching)\n",
    "    'eat' #\n",
    "]\n",
    "strings = ['I eat food', 'beat']\n",
    "\n",
    "search_pattern(patterns, strings)"
   ]
  },
  {
   "cell_type": "markdown",
   "metadata": {},
   "source": [
    "Why use ```r``` in ```r'\\beat\\b'```? ```\\b``` in python has special meaning (like ```+``` has special meaning in regular expression), it represents a back space character [(see here)](https://stackoverflow.com/questions/25065608/what-does-backward-slash-b-do-in-python) \n",
    "\n",
    "To disable this behaviour, add ```r``` in front of the string. (Like we add ```\\``` before ```+``` in regular expression)"
   ]
  },
  {
   "cell_type": "markdown",
   "metadata": {},
   "source": [
    "### not border of word"
   ]
  },
  {
   "cell_type": "code",
   "execution_count": 97,
   "metadata": {},
   "outputs": [
    {
     "data": {
      "text/html": [
       "<table><tr><th></th><th style=\"font-size:18px\">\\Beat\\B</th><th style=\"font-size:18px\">eat</th></tr><tr><tr><td style=\"font-size:18px\">I eat food</td><td><span style='font-size:18px;color:black;'>I eat food</span></td><td><span style='font-size:18px;color:black;'>I <span style='font-size:18px;color:black;border: 1px solid red'>eat</span> food</span></td></tr><td style=\"font-size:18px\">beats</td><td><span style='font-size:18px;color:black;'>b<span style='font-size:18px;color:black;border: 1px solid red'>eat</span>s</span></td><td><span style='font-size:18px;color:black;'>b<span style='font-size:18px;color:black;border: 1px solid red'>eat</span>s</span></td></tr></table>"
      ],
      "text/plain": [
       "<IPython.core.display.HTML object>"
      ]
     },
     "execution_count": 97,
     "metadata": {},
     "output_type": "execute_result"
    }
   ],
   "source": [
    "patterns =  [\n",
    "    r'\\Beat\\B', # eat, not following or followed by word border, (appear within a word)\n",
    "    'eat'\n",
    "]\n",
    "strings = ['I eat food', 'beats']\n",
    "\n",
    "search_pattern(patterns, strings)"
   ]
  }
 ],
 "metadata": {
  "kernelspec": {
   "display_name": "Python 3",
   "language": "python",
   "name": "python3"
  },
  "language_info": {
   "codemirror_mode": {
    "name": "ipython",
    "version": 3
   },
   "file_extension": ".py",
   "mimetype": "text/x-python",
   "name": "python",
   "nbconvert_exporter": "python",
   "pygments_lexer": "ipython3",
   "version": "3.6.5"
  },
  "toc": {
   "base_numbering": 1,
   "nav_menu": {},
   "number_sections": true,
   "sideBar": true,
   "skip_h1_title": false,
   "title_cell": "Table of Contents",
   "title_sidebar": "Contents",
   "toc_cell": false,
   "toc_position": {
    "height": "calc(100% - 180px)",
    "left": "10px",
    "top": "150px",
    "width": "256px"
   },
   "toc_section_display": true,
   "toc_window_display": true
  }
 },
 "nbformat": 4,
 "nbformat_minor": 2
}
