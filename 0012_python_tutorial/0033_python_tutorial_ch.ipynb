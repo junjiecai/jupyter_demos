{
 "cells": [
  {
   "cell_type": "markdown",
   "metadata": {
    "ExecuteTime": {
     "end_time": "2018-01-25T16:33:44.156000Z",
     "start_time": "2018-01-25T16:33:44.078000Z"
    }
   },
   "source": [
    "![logo](python_logo.jpg)"
   ]
  },
  {
   "cell_type": "markdown",
   "metadata": {
    "ExecuteTime": {
     "end_time": "2018-01-12T04:42:59.026000Z",
     "start_time": "2018-01-12T04:42:59.019000Z"
    }
   },
   "source": [
    "大家每天上班的时候，可能会随身携带的钱包，笔记本，笔，手机都物件。为了避免丢三落四，往往会把这些物件放在一个背包里。这样只要把这个背包在身上，自然就带上了里面所装的物品。这里背包就起到了一个容器，收集相关的物品。\n",
    "\n",
    "编程的时候，我们也会遇到一些，以后有一个容器，能够把相关的多个变量容纳起来。\n",
    "\n",
    "现在有两个小组，成员的名字是\n",
    "* 小组A的成员是'John', 'Jack'\n",
    "* 小组B的成员是'Lily', 'Ben', 'Jay'"
   ]
  },
  {
   "cell_type": "markdown",
   "metadata": {},
   "source": [
    "为了之后能够对这些名字进行操作，第一步得把这些赋给变量名方便后面使用。 例如这样"
   ]
  },
  {
   "cell_type": "code",
   "execution_count": 92,
   "metadata": {},
   "outputs": [],
   "source": [
    "name_1 = 'John'\n",
    "name_2 = 'Jack'\n",
    "name_3 = 'Lily'\n",
    "name_4 = 'Ben'\n",
    "name_5 = 'Jay'"
   ]
  },
  {
   "cell_type": "markdown",
   "metadata": {},
   "source": [
    "OK。如果我现在需要print()打印出小组B的所有人名称？请问怎么办？我们只能凭借原来的资料或者大脑的回忆，找出小组B对应的变量是name_3, name_4, name_5"
   ]
  },
  {
   "cell_type": "code",
   "execution_count": 95,
   "metadata": {},
   "outputs": [
    {
     "name": "stdout",
     "output_type": "stream",
     "text": [
      "Lily Ben Jay\n"
     ]
    }
   ],
   "source": [
    "print(name_3, name_4, name_5)"
   ]
  },
  {
   "cell_type": "markdown",
   "metadata": {},
   "source": [
    "大家可能觉得这里的问题是，这里主要的困难是一开始命名变量的时候，体现不出名字的分组信息，那么再命名变量的时候，加上分组的信息是否可以解决这个问题？例如这样“"
   ]
  },
  {
   "cell_type": "code",
   "execution_count": 87,
   "metadata": {},
   "outputs": [],
   "source": [
    "group_a_name_1 = 'John'\n",
    "group_a_name_2 = 'Jack'\n",
    "group_a_name_3 = 'Lily'\n",
    "group_b_name_4 = 'Ben'\n",
    "group_b_name_5 = 'Jay'"
   ]
  },
  {
   "cell_type": "markdown",
   "metadata": {},
   "source": [
    "但是如果有100个名字呢"
   ]
  },
  {
   "cell_type": "markdown",
   "metadata": {},
   "source": [
    "# 列表list"
   ]
  },
  {
   "cell_type": "code",
   "execution_count": 80,
   "metadata": {
    "ExecuteTime": {
     "end_time": "2018-01-25T13:54:38.026000Z",
     "start_time": "2018-01-25T13:54:38.018000Z"
    }
   },
   "outputs": [],
   "source": []
  },
  {
   "cell_type": "markdown",
   "metadata": {
    "ExecuteTime": {
     "end_time": "2018-01-12T04:46:09.655000Z",
     "start_time": "2018-01-12T04:46:09.640000Z"
    }
   },
   "source": [
    "如果有很多的名字，比如100个，显然这不是一个好方法。而且很多时候我们事先没法知道传入的数据的数量会有多少，例如读取存在一个文本文件中的名单。"
   ]
  },
  {
   "cell_type": "markdown",
   "metadata": {},
   "source": [
    "这种场合下可以使用list来容纳多个长度不定的值。list的创建方法是```[item_1, item_2, ...]```"
   ]
  },
  {
   "cell_type": "markdown",
   "metadata": {},
   "source": [
    "#### 容器的创建"
   ]
  },
  {
   "cell_type": "code",
   "execution_count": 53,
   "metadata": {
    "ExecuteTime": {
     "end_time": "2018-01-25T13:55:58.189000Z",
     "start_time": "2018-01-25T13:55:58.174000Z"
    }
   },
   "outputs": [
    {
     "data": {
      "text/plain": [
       "['John', 'Jack', 'Lily', 'Ben', 'Jay']"
      ]
     },
     "execution_count": 53,
     "metadata": {},
     "output_type": "execute_result"
    }
   ],
   "source": [
    "names = [\n",
    "    'John',\n",
    "    'Jack',\n",
    "    'Lily',\n",
    "    'Ben',\n",
    "    'Jay'\n",
    "]\n",
    "\n",
    "names"
   ]
  },
  {
   "cell_type": "markdown",
   "metadata": {},
   "source": [
    "注意，不同项目之间的','不可以遗漏。 比较下面的语句，实际上是把一个文本分行定义(只定义了一个文本)"
   ]
  },
  {
   "cell_type": "code",
   "execution_count": 54,
   "metadata": {},
   "outputs": [
    {
     "data": {
      "text/plain": [
       "['JohnJackLilyBenJay']"
      ]
     },
     "execution_count": 54,
     "metadata": {},
     "output_type": "execute_result"
    }
   ],
   "source": [
    "names_2 = [\n",
    "    'John'\n",
    "    'Jack'\n",
    "    'Lily'\n",
    "    'Ben'\n",
    "    'Jay'\n",
    "]\n",
    "\n",
    "names_2"
   ]
  },
  {
   "cell_type": "markdown",
   "metadata": {},
   "source": [
    "#### list中可以嵌套list\n",
    "就像包里可以放另外一个包"
   ]
  },
  {
   "cell_type": "code",
   "execution_count": 55,
   "metadata": {
    "ExecuteTime": {
     "end_time": "2018-01-25T15:13:13.817000Z",
     "start_time": "2018-01-25T15:13:13.806000Z"
    }
   },
   "outputs": [
    {
     "data": {
      "text/plain": [
       "[1, 2, 3, [4, 5, 6]]"
      ]
     },
     "execution_count": 55,
     "metadata": {},
     "output_type": "execute_result"
    }
   ],
   "source": [
    "[1, 2, 3, [4, 5, 6]]"
   ]
  },
  {
   "cell_type": "markdown",
   "metadata": {},
   "source": [
    "#### list中选择一个元素"
   ]
  },
  {
   "cell_type": "code",
   "execution_count": 56,
   "metadata": {
    "ExecuteTime": {
     "end_time": "2018-01-25T13:56:40.107000Z",
     "start_time": "2018-01-25T13:56:40.098000Z"
    }
   },
   "outputs": [
    {
     "data": {
      "text/plain": [
       "'John'"
      ]
     },
     "execution_count": 56,
     "metadata": {},
     "output_type": "execute_result"
    }
   ],
   "source": [
    "names[0] #取出第一个元素, 注意下标是从0开始的"
   ]
  },
  {
   "cell_type": "markdown",
   "metadata": {},
   "source": [
    "可以用'-'从末尾往前取"
   ]
  },
  {
   "cell_type": "code",
   "execution_count": 57,
   "metadata": {
    "ExecuteTime": {
     "end_time": "2018-01-25T13:57:26.502000Z",
     "start_time": "2018-01-25T13:57:26.496000Z"
    }
   },
   "outputs": [
    {
     "data": {
      "text/plain": [
       "'Jay'"
      ]
     },
     "execution_count": 57,
     "metadata": {},
     "output_type": "execute_result"
    }
   ],
   "source": [
    "names[-1] # 取出最后一个元素, 结合-去使用的，倒数第一个是从1开始的"
   ]
  },
  {
   "cell_type": "markdown",
   "metadata": {
    "ExecuteTime": {
     "end_time": "2018-01-12T07:25:25.474352Z",
     "start_time": "2018-01-12T07:25:25.330352Z"
    }
   },
   "source": [
    "用m:n的语法选出一段下标范围内的元素，注意下标m对应的元素会被包括在结果中，但是下标n对应的元素会被排除。"
   ]
  },
  {
   "cell_type": "markdown",
   "metadata": {},
   "source": [
    "#### list中选择多个元素\n",
    "结果还是以list方式返回"
   ]
  },
  {
   "cell_type": "code",
   "execution_count": 58,
   "metadata": {
    "ExecuteTime": {
     "end_time": "2018-01-25T14:00:02.551000Z",
     "start_time": "2018-01-25T14:00:02.546000Z"
    }
   },
   "outputs": [
    {
     "data": {
      "text/plain": [
       "['Lily', 'Ben']"
      ]
     },
     "execution_count": 58,
     "metadata": {},
     "output_type": "execute_result"
    }
   ],
   "source": [
    "names[2:4] # 选出下标是2和3的元素, 相当于原来list中第3, 4个元素"
   ]
  },
  {
   "cell_type": "markdown",
   "metadata": {
    "ExecuteTime": {
     "end_time": "2018-01-12T04:49:14.512000Z",
     "start_time": "2018-01-12T04:49:14.493000Z"
    }
   },
   "source": [
    "每隔开一个取出元素"
   ]
  },
  {
   "cell_type": "code",
   "execution_count": 59,
   "metadata": {
    "ExecuteTime": {
     "end_time": "2018-01-25T14:00:37.446000Z",
     "start_time": "2018-01-25T14:00:37.437000Z"
    }
   },
   "outputs": [
    {
     "data": {
      "text/plain": [
       "['John', 'Lily', 'Jay']"
      ]
     },
     "execution_count": 59,
     "metadata": {},
     "output_type": "execute_result"
    }
   ],
   "source": [
    "names[0:6:2] #取出下标是0,2,4的元素"
   ]
  },
  {
   "cell_type": "code",
   "execution_count": 60,
   "metadata": {},
   "outputs": [
    {
     "data": {
      "text/plain": [
       "['John', 'Jack', 'Lily', 'Ben', 'Jay']"
      ]
     },
     "execution_count": 60,
     "metadata": {},
     "output_type": "execute_result"
    }
   ],
   "source": [
    "names[0:6:1] # 等价names[0:6]"
   ]
  },
  {
   "cell_type": "code",
   "execution_count": 61,
   "metadata": {
    "ExecuteTime": {
     "end_time": "2018-01-25T14:02:08.341000Z",
     "start_time": "2018-01-25T14:02:08.333000Z"
    }
   },
   "outputs": [
    {
     "data": {
      "text/plain": [
       "['John', 'Lily', 'Jay']"
      ]
     },
     "execution_count": 61,
     "metadata": {},
     "output_type": "execute_result"
    }
   ],
   "source": [
    "names[::2] #取出下标是0, 2, 4的元素"
   ]
  },
  {
   "cell_type": "markdown",
   "metadata": {
    "ExecuteTime": {
     "end_time": "2018-01-25T14:03:54.305000Z",
     "start_time": "2018-01-25T14:03:54.296000Z"
    }
   },
   "source": [
    "可是间隔为-1时，可以很方便的调转原来list的顺序哦"
   ]
  },
  {
   "cell_type": "code",
   "execution_count": 62,
   "metadata": {
    "ExecuteTime": {
     "end_time": "2018-01-25T14:05:19.570000Z",
     "start_time": "2018-01-25T14:05:19.559000Z"
    }
   },
   "outputs": [
    {
     "data": {
      "text/plain": [
       "['Jay', 'Ben', 'Lily', 'Jack', 'John']"
      ]
     },
     "execution_count": 62,
     "metadata": {},
     "output_type": "execute_result"
    }
   ],
   "source": [
    "names[::-1] #相当于names[-1:-6:-1]"
   ]
  },
  {
   "cell_type": "markdown",
   "metadata": {},
   "source": [
    "总结下，可以用```some_list[start_index:end_index:step]```的方式选取里面包含的元素"
   ]
  },
  {
   "cell_type": "markdown",
   "metadata": {},
   "source": [
    "添加一个元素\n",
    "\n",
    "在末尾添加"
   ]
  },
  {
   "cell_type": "markdown",
   "metadata": {},
   "source": [
    "#### list中添加元素"
   ]
  },
  {
   "cell_type": "code",
   "execution_count": 63,
   "metadata": {
    "ExecuteTime": {
     "end_time": "2018-01-12T07:26:56.713352Z",
     "start_time": "2018-01-12T07:26:56.671352Z"
    }
   },
   "outputs": [
    {
     "data": {
      "text/plain": [
       "['John', 'Jack', 'Lily', 'Ben', 'Jay', 'Mary']"
      ]
     },
     "execution_count": 63,
     "metadata": {},
     "output_type": "execute_result"
    }
   ],
   "source": [
    "names.append('Mary')\n",
    "names"
   ]
  },
  {
   "cell_type": "markdown",
   "metadata": {},
   "source": [
    "在指定位置添加"
   ]
  },
  {
   "cell_type": "code",
   "execution_count": 64,
   "metadata": {
    "ExecuteTime": {
     "end_time": "2018-01-12T07:27:14.290352Z",
     "start_time": "2018-01-12T07:27:14.260352Z"
    }
   },
   "outputs": [
    {
     "data": {
      "text/plain": [
       "['John', 'Jack', 'Zack', 'Lily', 'Ben', 'Jay', 'Mary']"
      ]
     },
     "execution_count": 64,
     "metadata": {},
     "output_type": "execute_result"
    }
   ],
   "source": [
    "names.insert(2, 'Zack')\n",
    "names"
   ]
  },
  {
   "cell_type": "markdown",
   "metadata": {
    "ExecuteTime": {
     "end_time": "2018-01-12T03:19:16.268362Z",
     "start_time": "2018-01-12T03:19:16.255362Z"
    }
   },
   "source": [
    "### 元组tuple"
   ]
  },
  {
   "cell_type": "markdown",
   "metadata": {
    "ExecuteTime": {
     "end_time": "2018-01-12T05:10:13.542065Z",
     "start_time": "2018-01-12T05:10:13.527062Z"
    }
   },
   "source": [
    "和list相似，可以作为容纳多个数据的容器。tuple的定义方式为```(item_1, item_2, ...)```"
   ]
  },
  {
   "cell_type": "code",
   "execution_count": 65,
   "metadata": {
    "ExecuteTime": {
     "end_time": "2018-01-25T15:04:46.147000Z",
     "start_time": "2018-01-25T15:04:46.133000Z"
    }
   },
   "outputs": [
    {
     "data": {
      "text/plain": [
       "(1, 2)"
      ]
     },
     "execution_count": 65,
     "metadata": {},
     "output_type": "execute_result"
    }
   ],
   "source": [
    "t = (1, 2)\n",
    "t"
   ]
  },
  {
   "cell_type": "markdown",
   "metadata": {},
   "source": [
    "但是要注意，用这种方式创建tuple，如果只有一个元素，需要再末尾添加```,```"
   ]
  },
  {
   "cell_type": "code",
   "execution_count": 66,
   "metadata": {},
   "outputs": [
    {
     "data": {
      "text/plain": [
       "1"
      ]
     },
     "execution_count": 66,
     "metadata": {},
     "output_type": "execute_result"
    }
   ],
   "source": [
    "t = (1) # 这样是创建不了tuple的\n",
    "t"
   ]
  },
  {
   "cell_type": "code",
   "execution_count": 67,
   "metadata": {},
   "outputs": [
    {
     "data": {
      "text/plain": [
       "(1,)"
      ]
     },
     "execution_count": 67,
     "metadata": {},
     "output_type": "execute_result"
    }
   ],
   "source": [
    "t = (1,)\n",
    "t"
   ]
  },
  {
   "cell_type": "markdown",
   "metadata": {},
   "source": [
    "此外, 有多种创建方式"
   ]
  },
  {
   "cell_type": "code",
   "execution_count": 68,
   "metadata": {
    "ExecuteTime": {
     "end_time": "2018-01-25T15:05:36.545000Z",
     "start_time": "2018-01-25T15:05:36.539000Z"
    }
   },
   "outputs": [
    {
     "data": {
      "text/plain": [
       "(1, 2)"
      ]
     },
     "execution_count": 68,
     "metadata": {},
     "output_type": "execute_result"
    }
   ],
   "source": [
    "t = 1, 2 # 可以省略()\n",
    "t"
   ]
  },
  {
   "cell_type": "code",
   "execution_count": 69,
   "metadata": {},
   "outputs": [
    {
     "data": {
      "text/plain": [
       "(1,)"
      ]
     },
     "execution_count": 69,
     "metadata": {},
     "output_type": "execute_result"
    }
   ],
   "source": [
    "t = 1,  # 这样实际上创建了包含1的tuple, 所以写python的时候要小心不要随便在语句结尾添加,\n",
    "t"
   ]
  },
  {
   "cell_type": "markdown",
   "metadata": {},
   "source": [
    "python代码中要小心不要错误的使用逗号， 例如下面把字符串首字母大写的代码"
   ]
  },
  {
   "cell_type": "code",
   "execution_count": 70,
   "metadata": {
    "ExecuteTime": {
     "end_time": "2018-01-25T15:07:58.721000Z",
     "start_time": "2018-01-25T15:07:58.713000Z"
    }
   },
   "outputs": [
    {
     "data": {
      "text/plain": [
       "'John'"
      ]
     },
     "execution_count": 70,
     "metadata": {},
     "output_type": "execute_result"
    }
   ],
   "source": [
    "name = 'john'\n",
    "name.capitalize()"
   ]
  },
  {
   "cell_type": "markdown",
   "metadata": {
    "ExecuteTime": {
     "end_time": "2018-01-25T15:10:14.987000Z",
     "start_time": "2018-01-25T15:10:14.970000Z"
    }
   },
   "source": [
    "下面的代码会出错，因为name指向的不在是'John'这个字符串，而是一个tuple。 这也是之前分行定义代码时每行之间不能添加逗号的原因，那样定义的就不是一个字符串，而是tuple"
   ]
  },
  {
   "cell_type": "code",
   "execution_count": 71,
   "metadata": {
    "ExecuteTime": {
     "end_time": "2018-01-25T15:11:03.111000Z",
     "start_time": "2018-01-25T15:11:03.102000Z"
    }
   },
   "outputs": [
    {
     "ename": "AttributeError",
     "evalue": "'tuple' object has no attribute 'capitalize'",
     "output_type": "error",
     "traceback": [
      "\u001b[0;31m---------------------------------------------------------------------------\u001b[0m",
      "\u001b[0;31mAttributeError\u001b[0m                            Traceback (most recent call last)",
      "\u001b[0;32m<ipython-input-71-33cd1ad55640>\u001b[0m in \u001b[0;36m<module>\u001b[0;34m()\u001b[0m\n\u001b[1;32m      1\u001b[0m \u001b[0mname\u001b[0m \u001b[0;34m=\u001b[0m \u001b[0;34m'john'\u001b[0m\u001b[0;34m,\u001b[0m  \u001b[0;31m#小心别不小心在代码中添加不该加的逗号\u001b[0m\u001b[0;34m\u001b[0m\u001b[0m\n\u001b[0;32m----> 2\u001b[0;31m \u001b[0mname\u001b[0m\u001b[0;34m.\u001b[0m\u001b[0mcapitalize\u001b[0m\u001b[0;34m(\u001b[0m\u001b[0;34m)\u001b[0m\u001b[0;34m\u001b[0m\u001b[0m\n\u001b[0m",
      "\u001b[0;31mAttributeError\u001b[0m: 'tuple' object has no attribute 'capitalize'"
     ]
    }
   ],
   "source": [
    "name = 'john',  #小心别不小心在代码中添加不该加的逗号\n",
    "name.capitalize()"
   ]
  },
  {
   "cell_type": "code",
   "execution_count": 72,
   "metadata": {
    "ExecuteTime": {
     "end_time": "2018-01-25T15:11:06.557000Z",
     "start_time": "2018-01-25T15:11:06.545000Z"
    }
   },
   "outputs": [
    {
     "data": {
      "text/plain": [
       "'John'"
      ]
     },
     "execution_count": 72,
     "metadata": {},
     "output_type": "execute_result"
    }
   ],
   "source": [
    "name = 'john',  #选择出第一个元素才是'john’\n",
    "name[0].capitalize()"
   ]
  },
  {
   "cell_type": "markdown",
   "metadata": {},
   "source": [
    "## for循环\n",
    "\n",
    "编程之所以有自动化重复冗余工作的潜力，很大程度上归功于能够自动的对一个范围，或者一个容器中的数据自动的一个一个的访问，并且进行某种操作。\n",
    "\n",
    "python中for循环语法可以很方便的对list或者tuple中每一个元素进行遍历。"
   ]
  },
  {
   "cell_type": "code",
   "execution_count": 103,
   "metadata": {
    "ExecuteTime": {
     "end_time": "2018-01-25T15:29:21.480000Z",
     "start_time": "2018-01-25T15:29:21.471000Z"
    }
   },
   "outputs": [
    {
     "name": "stdout",
     "output_type": "stream",
     "text": [
      "Amanda\n",
      "Jack\n",
      "Lily\n",
      "Ben\n",
      "Jay\n"
     ]
    }
   ],
   "source": [
    "names = ['amanda', 'jack', 'lily', 'ben', 'jay']\n",
    "\n",
    "for name in names: # 定义for循环，这里names是包含多个数据的容器，name是每次访问一个容器中的数据后，临时给他的变量名。\n",
    "    new_name = name.capitalize() # 定义每次访问了一个元素后，要做什么操作。这里我们将name首字母大写并print\n",
    "    print(new_name)"
   ]
  },
  {
   "cell_type": "code",
   "execution_count": 104,
   "metadata": {},
   "outputs": [
    {
     "ename": "IndentationError",
     "evalue": "unindent does not match any outer indentation level (<ipython-input-104-800f10bff405>, line 5)",
     "output_type": "error",
     "traceback": [
      "\u001b[0;36m  File \u001b[0;32m\"<ipython-input-104-800f10bff405>\"\u001b[0;36m, line \u001b[0;32m5\u001b[0m\n\u001b[0;31m    print(new_name)\u001b[0m\n\u001b[0m                   ^\u001b[0m\n\u001b[0;31mIndentationError\u001b[0m\u001b[0;31m:\u001b[0m unindent does not match any outer indentation level\n"
     ]
    }
   ],
   "source": [
    "names = ['amanda', 'jack', 'lily', 'ben', 'jay']\n",
    "\n",
    "for name in names: # 定义for循环，这里names是包含多个数据的容器，name是每次访问一个容器中的数据后，临时给他的变量名。\n",
    "        new_name = name.capitalize() # 定义每次访问了一个元素后，要做什么操作。这里我们将name首字母大写并print\n",
    "    print(new_name)"
   ]
  },
  {
   "cell_type": "code",
   "execution_count": 105,
   "metadata": {},
   "outputs": [
    {
     "ename": "SyntaxError",
     "evalue": "invalid syntax (<ipython-input-105-9e21e36a0239>, line 3)",
     "output_type": "error",
     "traceback": [
      "\u001b[0;36m  File \u001b[0;32m\"<ipython-input-105-9e21e36a0239>\"\u001b[0;36m, line \u001b[0;32m3\u001b[0m\n\u001b[0;31m    for name in names # 定义for循环，这里names是包含多个数据的容器，name是每次访问一个容器中的数据后，临时给他的变量名。\u001b[0m\n\u001b[0m                                                                              ^\u001b[0m\n\u001b[0;31mSyntaxError\u001b[0m\u001b[0;31m:\u001b[0m invalid syntax\n"
     ]
    }
   ],
   "source": [
    "names = ['amanda', 'jack', 'lily', 'ben', 'jay']\n",
    "\n",
    "for name in names # 定义for循环，这里names是包含多个数据的容器，name是每次访问一个容器中的数据后，临时给他的变量名。\n",
    "    new_name = name.capitalize() # 定义每次访问了一个元素后，要做什么操作。这里我们将name首字母大写并print\n",
    "    print(new_name)"
   ]
  },
  {
   "cell_type": "code",
   "execution_count": 109,
   "metadata": {},
   "outputs": [
    {
     "name": "stdout",
     "output_type": "stream",
     "text": [
      "Jay\n"
     ]
    }
   ],
   "source": [
    "names = ['amanda', 'jack', 'lily', 'ben', 'jay']\n",
    "\n",
    "for name in names: # 定义for循环，这里names是包含多个数据的容器，name是每次访问一个容器中的数据后，临时给他的变量名。\n",
    "    new_name = name.capitalize() # 定义每次访问了一个元素后，要做什么操作。这里我们将name首字母大写并print\n",
    "print(new_name)"
   ]
  },
  {
   "cell_type": "markdown",
   "metadata": {
    "ExecuteTime": {
     "end_time": "2018-01-25T15:29:31.572000Z",
     "start_time": "2018-01-25T15:29:31.562000Z"
    }
   },
   "source": [
    "这里语法上要注意:\n",
    "* 定义for循环的行最后一定用':'结尾\n",
    "* 定义for循环内容的部分，一定要有缩进\n",
    "\n",
    "\n",
    "python中有个规律, 一旦结尾需要:结尾， 那么下面的代码也需要有一级缩进"
   ]
  },
  {
   "cell_type": "code",
   "execution_count": 113,
   "metadata": {
    "ExecuteTime": {
     "end_time": "2018-01-25T15:34:21.170000Z",
     "start_time": "2018-01-25T15:34:21.163000Z"
    },
    "code_folding": []
   },
   "outputs": [
    {
     "name": "stdout",
     "output_type": "stream",
     "text": [
      "Amanda\n",
      "Jack\n",
      "Lily\n",
      "Ben\n",
      "Jay\n",
      "This line is out of for loop\n"
     ]
    }
   ],
   "source": [
    "for name in names:#注意结尾的:\n",
    "    new_name = name.capitalize() #这里开始相对for循环的定义行，要有一级缩进\n",
    "    print(new_name)    \n",
    "    \n",
    "print('This line is out of for loop') # 从缩进就可以看出，这一行不属于for循环的内容"
   ]
  },
  {
   "cell_type": "markdown",
   "metadata": {},
   "source": [
    "注意前面介绍的tuple unpacking的技巧，可以用在for循环中哟"
   ]
  },
  {
   "cell_type": "code",
   "execution_count": 119,
   "metadata": {
    "ExecuteTime": {
     "end_time": "2018-01-26T06:18:01.439000Z",
     "start_time": "2018-01-26T06:18:01.411000Z"
    }
   },
   "outputs": [
    {
     "name": "stdout",
     "output_type": "stream",
     "text": [
      "John 32 32\n",
      "Tom 19 19\n",
      "Lily 23 23\n"
     ]
    }
   ],
   "source": [
    "records = [\n",
    "    (1, ('John', 32, 'male')),\n",
    "    (2, ('Tom', 19, 'male')),\n",
    "    (3, ('Lily', 23, 'female'))\n",
    "]\n",
    "\n",
    "for record in records:\n",
    "    record_id = record[0]\n",
    "    name = record[1][0]\n",
    "    age = record[1][1]    \n",
    "    sex = record[1][1]        \n",
    "    \n",
    "    print(name, age, sex)"
   ]
  },
  {
   "cell_type": "code",
   "execution_count": 120,
   "metadata": {},
   "outputs": [
    {
     "name": "stdout",
     "output_type": "stream",
     "text": [
      "John 32 male\n",
      "Tom 19 male\n",
      "Lily 23 female\n"
     ]
    }
   ],
   "source": [
    "records = [\n",
    "    (1, ('John', 32, 'male')),\n",
    "    (2, ('Tom', 19, 'male')),\n",
    "    (3, ('Lily', 23, 'female'))\n",
    "]\n",
    "\n",
    "for record in records:\n",
    "    record_id, (name, age, sex) = record\n",
    "    \n",
    "    print(name, age, sex)"
   ]
  },
  {
   "cell_type": "code",
   "execution_count": 121,
   "metadata": {},
   "outputs": [
    {
     "name": "stdout",
     "output_type": "stream",
     "text": [
      "John 32 male\n",
      "Tom 19 male\n",
      "Lily 23 female\n"
     ]
    }
   ],
   "source": [
    "for record_id, (name, age, sex) in records:\n",
    "    print(name, age, sex)"
   ]
  },
  {
   "cell_type": "markdown",
   "metadata": {
    "ExecuteTime": {
     "end_time": "2018-01-26T06:18:50.248000Z",
     "start_time": "2018-01-26T06:18:50.221000Z"
    }
   },
   "source": [
    "上面的简便写法和下面是一样的。"
   ]
  },
  {
   "cell_type": "markdown",
   "metadata": {},
   "source": [
    "## 条件判断\n",
    "循环给编程带来了代替人工，自动化做重复劳动的能力。 那么条件判断则给编程带来根据不同的场景，做出不同处理的重要能力。\n",
    "\n",
    "下面的代码中，我们希望判断数字是奇数还是偶数。"
   ]
  },
  {
   "cell_type": "code",
   "execution_count": 67,
   "metadata": {
    "ExecuteTime": {
     "end_time": "2018-01-25T16:01:39.929000Z",
     "start_time": "2018-01-25T16:01:39.902000Z"
    }
   },
   "outputs": [
    {
     "name": "stdout",
     "output_type": "stream",
     "text": [
      "x is odd number\n"
     ]
    }
   ],
   "source": [
    "x = 3\n",
    "\n",
    "# if必须的， elif和else可选的\n",
    "if x % 2 == 1: # 除以二以后余数是1，那么执行下面分值的语句\n",
    "    print('x is odd number')\n",
    "elif x % 2 == 0: # 偶数除以二以后余数是0，那么执行下面分值的语句\n",
    "    print('x is even number')\n",
    "else: # 如果上面所有的情况都不满足，，那么执行下面分值的语句\n",
    "    print('x is not integer')   \n",
    "    "
   ]
  },
  {
   "cell_type": "markdown",
   "metadata": {
    "ExecuteTime": {
     "end_time": "2018-01-25T15:57:11.248000Z",
     "start_time": "2018-01-25T15:57:11.231000Z"
    }
   },
   "source": [
    "这里有几点要注意的地方:\n",
    "* 这里注意, 判断一个变量是否等于某个数值的时候， 用\"==\"， 而不是\"=\"\n",
    "* 关于结尾的\":\"，以及接下来的一级缩进，和for循环是类似的。\n",
    "* if条件判断的多个分支中，只有一个会被执行\n",
    "* if和elif部分，都需要提供条件判断的语句；else不需要"
   ]
  },
  {
   "cell_type": "markdown",
   "metadata": {
    "ExecuteTime": {
     "end_time": "2018-01-25T16:01:53.801000Z",
     "start_time": "2018-01-25T16:01:53.791000Z"
    }
   },
   "source": [
    "if语句中, elif和else都是可选的部分，不一定非要有。"
   ]
  },
  {
   "cell_type": "code",
   "execution_count": 68,
   "metadata": {
    "ExecuteTime": {
     "end_time": "2018-01-25T16:03:26.187000Z",
     "start_time": "2018-01-25T16:03:26.181000Z"
    }
   },
   "outputs": [
    {
     "name": "stdout",
     "output_type": "stream",
     "text": [
      "x is 0\n"
     ]
    }
   ],
   "source": [
    "x = 0\n",
    "if x == 0:\n",
    "    print('x is 0')    "
   ]
  },
  {
   "cell_type": "markdown",
   "metadata": {
    "ExecuteTime": {
     "end_time": "2018-01-12T05:23:51.104800Z",
     "start_time": "2018-01-12T05:23:51.093800Z"
    }
   },
   "source": [
    "一个常见的需求是，将若干简单的条件判断组合成一个复杂的条件判断。可以用and表示且，or表示或,not表示否"
   ]
  },
  {
   "cell_type": "code",
   "execution_count": 69,
   "metadata": {
    "ExecuteTime": {
     "end_time": "2018-01-25T16:04:44.491000Z",
     "start_time": "2018-01-25T16:04:44.473000Z"
    }
   },
   "outputs": [
    {
     "name": "stdout",
     "output_type": "stream",
     "text": [
      "False\n",
      "True\n",
      "False\n"
     ]
    }
   ],
   "source": [
    "x = 5\n",
    "\n",
    "print((x > 3) and (x % 2 == 0) )\n",
    "print((x > 3) or (x % 2 == 0))\n",
    "print(not (x > 3))\n"
   ]
  },
  {
   "cell_type": "markdown",
   "metadata": {},
   "source": [
    "建议用含义明确的变量名代替逻辑表达式， 让代码容易理解"
   ]
  },
  {
   "cell_type": "code",
   "execution_count": 70,
   "metadata": {
    "ExecuteTime": {
     "end_time": "2018-01-25T16:05:02.753000Z",
     "start_time": "2018-01-25T16:05:02.744000Z"
    }
   },
   "outputs": [
    {
     "name": "stdout",
     "output_type": "stream",
     "text": [
      "False\n",
      "True\n",
      "False\n"
     ]
    }
   ],
   "source": [
    "bigger_than_3 = x > 3\n",
    "is_even = (x % 2 == 0)\n",
    "\n",
    "print(bigger_than_3 and is_even)\n",
    "print(bigger_than_3 or is_even)\n",
    "print(not bigger_than_3)"
   ]
  },
  {
   "cell_type": "markdown",
   "metadata": {},
   "source": [
    "## 函数的定义"
   ]
  },
  {
   "cell_type": "markdown",
   "metadata": {
    "ExecuteTime": {
     "end_time": "2018-01-25T16:05:27.370000Z",
     "start_time": "2018-01-25T16:05:27.352000Z"
    }
   },
   "source": [
    "回到一开始海伦公式的例子"
   ]
  },
  {
   "cell_type": "code",
   "execution_count": 71,
   "metadata": {
    "ExecuteTime": {
     "end_time": "2018-01-25T16:05:49.789000Z",
     "start_time": "2018-01-25T16:05:49.779000Z"
    }
   },
   "outputs": [],
   "source": [
    "a = 3\n",
    "b = 4\n",
    "c = 5\n",
    "\n",
    "half_perimeter = (a + b + c) / 2\n",
    "surface = (half_perimeter * (half_perimeter - a) * (half_perimeter - b) * (half_perimeter - c)) ** 0.5  "
   ]
  },
  {
   "cell_type": "markdown",
   "metadata": {
    "ExecuteTime": {
     "end_time": "2018-01-25T16:10:57.107000Z",
     "start_time": "2018-01-25T16:10:57.084000Z"
    }
   },
   "source": [
    "虽然这段代码做到了将可变成分和固定成分分离，但是如果代码中多次要使用这个计算怎么办？\n",
    "\n",
    "复制黏贴？好吧，是个办法。但是复制黏贴有很大的缺点。我们想对这代码进行修改的时候，例如在计算面积前先判断三角形的边长是否合理。如果用复制黏贴的方式，那么之后修改逻辑时，就得找到所有的相关代码进行修改。\n",
    "\n",
    "如果我们要重复利用一段相同的计算逻辑， 我们可以把相关的逻辑定义成一个函数，之后只要反复调用这个函数即可。"
   ]
  },
  {
   "cell_type": "code",
   "execution_count": 72,
   "metadata": {
    "ExecuteTime": {
     "end_time": "2018-01-25T16:14:51.526000Z",
     "start_time": "2018-01-25T16:14:51.505000Z"
    }
   },
   "outputs": [],
   "source": [
    "# 用def关键词开始函数的定义\n",
    "def triagle_surface(a, b, c): # 函数定义的要素是，函数名，参数列表。\n",
    "    half_perimeter = (a + b + c) / 2\n",
    "    surface = (half_perimeter * (half_perimeter - a) * (half_perimeter - b) * (half_perimeter - c)) ** 0.5\n",
    "    \n",
    "    return surface # 记得将感兴趣的值用return返回"
   ]
  },
  {
   "cell_type": "code",
   "execution_count": 73,
   "metadata": {
    "ExecuteTime": {
     "end_time": "2018-01-25T16:15:22.816000Z",
     "start_time": "2018-01-25T16:15:22.810000Z"
    }
   },
   "outputs": [
    {
     "data": {
      "text/plain": [
       "9.921567416492215"
      ]
     },
     "execution_count": 73,
     "metadata": {},
     "output_type": "execute_result"
    }
   ],
   "source": [
    "triagle_surface(4, 5, 6)"
   ]
  },
  {
   "cell_type": "code",
   "execution_count": 74,
   "metadata": {
    "ExecuteTime": {
     "end_time": "2018-01-25T16:15:31.189000Z",
     "start_time": "2018-01-25T16:15:31.165000Z"
    }
   },
   "outputs": [
    {
     "data": {
      "text/plain": [
       "6.0"
      ]
     },
     "execution_count": 74,
     "metadata": {},
     "output_type": "execute_result"
    }
   ],
   "source": [
    "triagle_surface(3, 4, 5)"
   ]
  },
  {
   "cell_type": "markdown",
   "metadata": {
    "ExecuteTime": {
     "end_time": "2018-01-25T16:16:35.154000Z",
     "start_time": "2018-01-25T16:16:35.145000Z"
    }
   },
   "source": [
    "定义函数有很多好处，如果我们希望让这个函数计算面积前先检验三角形边长是否合理并提示，只需要修改函数的定义，不用修改调用这个函数的代码。"
   ]
  },
  {
   "cell_type": "code",
   "execution_count": 75,
   "metadata": {
    "ExecuteTime": {
     "end_time": "2018-01-25T16:20:57.952000Z",
     "start_time": "2018-01-25T16:20:57.941000Z"
    }
   },
   "outputs": [],
   "source": [
    "# 用def关键词开始函数的定义\n",
    "def triagle_surface(a, b, c): # 函数定义的要素是，函数名，参数列表。\n",
    "    all_positive = (a > 0) and (b > 0) and (c > 0)\n",
    "    if (a + b > c) and (a + c > b) and (c + b > a) and all_positive:\n",
    "        print('Edge lengths are valid')\n",
    "    else:\n",
    "        print('Edge lengths are invalid')       \n",
    "    \n",
    "    \n",
    "    half_perimeter = (a + b + c) / 2\n",
    "    surface = (half_perimeter * (half_perimeter - a) * (half_perimeter - b) * (half_perimeter - c)) ** 0.5\n",
    "    \n",
    "    return surface # 记得将感兴趣的值用return返回"
   ]
  },
  {
   "cell_type": "code",
   "execution_count": 76,
   "metadata": {
    "ExecuteTime": {
     "end_time": "2018-01-25T16:21:00.313000Z",
     "start_time": "2018-01-25T16:21:00.301000Z"
    }
   },
   "outputs": [
    {
     "name": "stdout",
     "output_type": "stream",
     "text": [
      "Edge lengths are valid\n"
     ]
    },
    {
     "data": {
      "text/plain": [
       "9.921567416492215"
      ]
     },
     "execution_count": 76,
     "metadata": {},
     "output_type": "execute_result"
    }
   ],
   "source": [
    "triagle_surface(4, 5, 6)"
   ]
  },
  {
   "cell_type": "code",
   "execution_count": 77,
   "metadata": {
    "ExecuteTime": {
     "end_time": "2018-01-25T16:21:00.946000Z",
     "start_time": "2018-01-25T16:21:00.935000Z"
    }
   },
   "outputs": [
    {
     "name": "stdout",
     "output_type": "stream",
     "text": [
      "Edge lengths are invalid\n"
     ]
    },
    {
     "data": {
      "text/plain": [
       "(1.060575238724907e-15+17.320508075688775j)"
      ]
     },
     "execution_count": 77,
     "metadata": {},
     "output_type": "execute_result"
    }
   ],
   "source": [
    "triagle_surface(4, 5, 11)"
   ]
  },
  {
   "cell_type": "markdown",
   "metadata": {
    "ExecuteTime": {
     "end_time": "2018-01-25T16:21:58.916000Z",
     "start_time": "2018-01-25T16:21:58.887000Z"
    }
   },
   "source": [
    "此外，定义函数后，可以通过取合适的函数名表达意图，忽略不重要的细节。上面定义了这个函数后，我们很明确的知道目的是用三角形的三条边计算面积，不必每次都要和计算的细节逻辑纠缠在一起。"
   ]
  },
  {
   "cell_type": "markdown",
   "metadata": {},
   "source": [
    "此外，函数中的变量名有自己的作用域，可以和函数外的变量名隔离。这样不同地方的变量名就不容易\"撞车\"。\n",
    "\n",
    "打个比方，如果A， B两个班级都有叫”蔡俊杰“的学生。A班上课的时候，老师提问叫”蔡俊杰“的时候，大家都知道指的不是B班的”蔡俊杰“，因为大家知道（可能是潜意识的），老师只会叫A班中的学生。"
   ]
  },
  {
   "cell_type": "code",
   "execution_count": 78,
   "metadata": {},
   "outputs": [
    {
     "name": "stdout",
     "output_type": "stream",
     "text": [
      "x result in add_one\n",
      "3\n",
      "x result in add_two\n",
      "4\n",
      "2\n"
     ]
    }
   ],
   "source": [
    "def add_one(x):\n",
    "    x  = x + 1\n",
    "    print('x result in add_one')\n",
    "    print(x)\n",
    "    return x\n",
    "\n",
    "def add_two(x):\n",
    "    x = x + 2\n",
    "    print('x result in add_two')    \n",
    "    print(x)\n",
    "    return x\n",
    "    \n",
    "x = 2\n",
    "\n",
    "y = add_one(x)\n",
    "z = add_two(x)\n",
    "\n",
    "print(x)"
   ]
  },
  {
   "cell_type": "markdown",
   "metadata": {},
   "source": [
    "函数中如果用到了一个变量名，但是函数中找不到的话，会尝试找函数外定义的变量名。"
   ]
  },
  {
   "cell_type": "code",
   "execution_count": 79,
   "metadata": {},
   "outputs": [
    {
     "name": "stdout",
     "output_type": "stream",
     "text": [
      "11\n",
      "9\n"
     ]
    }
   ],
   "source": [
    "x = 1\n",
    "\n",
    "def add(y):\n",
    "    return y + x\n",
    "\n",
    "def subtract(y):\n",
    "    return y - x\n",
    "\n",
    "print(add(10))\n",
    "print(subtract(10))"
   ]
  },
  {
   "cell_type": "markdown",
   "metadata": {},
   "source": [
    "虽然这么做会带来一些方便， 例如多个函数都需要接受x， 用上面的方法可以让函数的参数列表得到简化"
   ]
  },
  {
   "cell_type": "code",
   "execution_count": 80,
   "metadata": {},
   "outputs": [
    {
     "name": "stdout",
     "output_type": "stream",
     "text": [
      "11\n",
      "9\n"
     ]
    }
   ],
   "source": [
    "x = 1\n",
    "\n",
    "def add(y, x):\n",
    "    return y + x\n",
    "\n",
    "def subtract(y, x):\n",
    "    return y - x\n",
    "\n",
    "print(add(10, x))\n",
    "print(subtract(10, x))"
   ]
  },
  {
   "cell_type": "markdown",
   "metadata": {},
   "source": [
    "但是请避免这样使用，因为这会导致函数无法移植到其他代码，让代码难以被重复利用。之后我们有更好的策略去解决避免在多个函数重复定义和传入相同的函数的问题。"
   ]
  },
  {
   "cell_type": "markdown",
   "metadata": {
    "ExecuteTime": {
     "end_time": "2018-01-25T16:27:12.158000Z",
     "start_time": "2018-01-25T16:27:12.151000Z"
    }
   },
   "source": [
    "调用的参数的时候，传入的数据是根据位置和参数列表的变量名匹配的。这种参数被称为positional arguments"
   ]
  },
  {
   "cell_type": "code",
   "execution_count": 81,
   "metadata": {
    "ExecuteTime": {
     "end_time": "2018-01-25T16:26:09.015000Z",
     "start_time": "2018-01-25T16:26:08.996000Z"
    }
   },
   "outputs": [
    {
     "data": {
      "text/plain": [
       "7"
      ]
     },
     "execution_count": 81,
     "metadata": {},
     "output_type": "execute_result"
    }
   ],
   "source": [
    "def my_function(a, b, c):\n",
    "    return a + b * c\n",
    "\n",
    "my_function(1, 2, 3) # 1对应a, 2对应b, 3对应c"
   ]
  },
  {
   "cell_type": "markdown",
   "metadata": {},
   "source": [
    "除此之外，定义函数的时候也可以定义一些keyword arguments，这部分参数可以提供默认值，调用时不指定这部分参数的数值，就会采用默认值。"
   ]
  },
  {
   "cell_type": "code",
   "execution_count": 82,
   "metadata": {
    "ExecuteTime": {
     "end_time": "2018-01-25T16:28:41.253000Z",
     "start_time": "2018-01-25T16:28:41.248000Z"
    }
   },
   "outputs": [],
   "source": [
    "def my_power_function(x, p=3):\n",
    "    return x ** p"
   ]
  },
  {
   "cell_type": "code",
   "execution_count": 83,
   "metadata": {
    "ExecuteTime": {
     "end_time": "2018-01-25T16:29:07.151000Z",
     "start_time": "2018-01-25T16:29:07.130000Z"
    }
   },
   "outputs": [
    {
     "data": {
      "text/plain": [
       "16"
      ]
     },
     "execution_count": 83,
     "metadata": {},
     "output_type": "execute_result"
    }
   ],
   "source": [
    "my_power_function(2, p=4)"
   ]
  },
  {
   "cell_type": "code",
   "execution_count": 84,
   "metadata": {
    "ExecuteTime": {
     "end_time": "2018-01-25T16:29:03.410000Z",
     "start_time": "2018-01-25T16:29:03.405000Z"
    }
   },
   "outputs": [
    {
     "data": {
      "text/plain": [
       "8"
      ]
     },
     "execution_count": 84,
     "metadata": {},
     "output_type": "execute_result"
    }
   ],
   "source": [
    "my_power_function(2)"
   ]
  }
 ],
 "metadata": {
  "kernelspec": {
   "display_name": "Python 3",
   "language": "python",
   "name": "python3"
  },
  "language_info": {
   "codemirror_mode": {
    "name": "ipython",
    "version": 3
   },
   "file_extension": ".py",
   "mimetype": "text/x-python",
   "name": "python",
   "nbconvert_exporter": "python",
   "pygments_lexer": "ipython3",
   "version": "3.6.5"
  },
  "toc": {
   "base_numbering": 1,
   "nav_menu": {},
   "number_sections": true,
   "sideBar": true,
   "skip_h1_title": false,
   "title_cell": "Table of Contents",
   "title_sidebar": "Contents",
   "toc_cell": false,
   "toc_position": {
    "height": "calc(100% - 180px)",
    "left": "10px",
    "top": "150px",
    "width": "384px"
   },
   "toc_section_display": "block",
   "toc_window_display": false
  }
 },
 "nbformat": 4,
 "nbformat_minor": 2
}
