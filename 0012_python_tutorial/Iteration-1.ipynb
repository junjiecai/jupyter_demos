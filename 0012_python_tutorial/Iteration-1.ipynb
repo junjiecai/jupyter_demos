{
 "cells": [
  {
   "cell_type": "markdown",
   "metadata": {
    "ExecuteTime": {
     "end_time": "2018-01-25T16:33:44.156000Z",
     "start_time": "2018-01-25T16:33:44.078000Z"
    }
   },
   "source": [
    "![logo](python_logo.jpg)"
   ]
  },
  {
   "cell_type": "markdown",
   "metadata": {
    "ExecuteTime": {
     "end_time": "2018-01-12T02:39:04.467198Z",
     "start_time": "2018-01-12T02:39:04.456204Z"
    }
   },
   "source": [
    "# 面向非程序员的Python编程--迭代1"
   ]
  },
  {
   "cell_type": "markdown",
   "metadata": {
    "ExecuteTime": {
     "end_time": "2018-01-12T04:31:32.468510Z",
     "start_time": "2018-01-12T04:31:32.461510Z"
    }
   },
   "source": [
    "## 熟悉基本的数据类型"
   ]
  },
  {
   "cell_type": "markdown",
   "metadata": {
    "ExecuteTime": {
     "end_time": "2018-01-12T04:31:52.253489Z",
     "start_time": "2018-01-12T04:31:52.249488Z"
    }
   },
   "source": [
    "### 整数int"
   ]
  },
  {
   "cell_type": "markdown",
   "metadata": {},
   "source": [
    "表示一个整数很容易"
   ]
  },
  {
   "cell_type": "code",
   "execution_count": 2,
   "metadata": {
    "ExecuteTime": {
     "end_time": "2018-01-26T06:13:46.291000Z",
     "start_time": "2018-01-26T06:13:46.259000Z"
    }
   },
   "outputs": [
    {
     "data": {
      "text/plain": [
       "123"
      ]
     },
     "execution_count": 2,
     "metadata": {},
     "output_type": "execute_result"
    }
   ],
   "source": [
    "123"
   ]
  },
  {
   "cell_type": "markdown",
   "metadata": {},
   "source": [
    "对整数进行一些基本的运算"
   ]
  },
  {
   "cell_type": "code",
   "execution_count": 3,
   "metadata": {
    "ExecuteTime": {
     "end_time": "2018-01-25T12:29:17.809000Z",
     "start_time": "2018-01-25T12:29:17.800000Z"
    }
   },
   "outputs": [
    {
     "data": {
      "text/plain": [
       "0"
      ]
     },
     "execution_count": 3,
     "metadata": {},
     "output_type": "execute_result"
    }
   ],
   "source": [
    "100 + 100 - 200"
   ]
  },
  {
   "cell_type": "code",
   "execution_count": 7,
   "metadata": {
    "ExecuteTime": {
     "end_time": "2018-01-25T12:29:53.604000Z",
     "start_time": "2018-01-25T12:29:53.582000Z"
    }
   },
   "outputs": [
    {
     "name": "stdout",
     "output_type": "stream",
     "text": [
      "2\n",
      "6\n",
      "8\n",
      "1\n",
      "2.5\n",
      "2\n"
     ]
    }
   ],
   "source": [
    "print(1 + 1)\n",
    "print(2 * 3)\n",
    "print(2 ** 3) # 2的3次方\n",
    "print(3 % 2) # 3除以2取余数\n",
    "print(5 / 2)\n",
    "print(5 // 2) # 做除法后保留整数"
   ]
  },
  {
   "cell_type": "markdown",
   "metadata": {},
   "source": [
    " 运算优先级"
   ]
  },
  {
   "cell_type": "code",
   "execution_count": 11,
   "metadata": {},
   "outputs": [
    {
     "data": {
      "text/plain": [
       "7"
      ]
     },
     "execution_count": 11,
     "metadata": {},
     "output_type": "execute_result"
    }
   ],
   "source": [
    "1 + 2 * 3"
   ]
  },
  {
   "cell_type": "markdown",
   "metadata": {},
   "source": [
    "善用()控制优先顺序"
   ]
  },
  {
   "cell_type": "code",
   "execution_count": 14,
   "metadata": {},
   "outputs": [
    {
     "data": {
      "text/plain": [
       "7.75"
      ]
     },
     "execution_count": 14,
     "metadata": {},
     "output_type": "execute_result"
    }
   ],
   "source": [
    "1 + ((2 * 3) + (3 / 4))"
   ]
  },
  {
   "cell_type": "markdown",
   "metadata": {
    "ExecuteTime": {
     "end_time": "2018-01-12T04:33:05.499813Z",
     "start_time": "2018-01-12T04:33:05.495812Z"
    }
   },
   "source": [
    "## 浮点数float"
   ]
  },
  {
   "cell_type": "markdown",
   "metadata": {
    "ExecuteTime": {
     "end_time": "2018-01-25T12:30:22.177000Z",
     "start_time": "2018-01-25T12:30:22.163000Z"
    }
   },
   "source": [
    "不同的创建方式"
   ]
  },
  {
   "cell_type": "code",
   "execution_count": 16,
   "metadata": {
    "ExecuteTime": {
     "end_time": "2018-01-25T12:30:26.685000Z",
     "start_time": "2018-01-25T12:30:26.669000Z"
    }
   },
   "outputs": [
    {
     "name": "stdout",
     "output_type": "stream",
     "text": [
      "1.0\n",
      "1.0\n"
     ]
    }
   ],
   "source": [
    "print(1.0)\n",
    "print(float(1))"
   ]
  },
  {
   "cell_type": "markdown",
   "metadata": {
    "ExecuteTime": {
     "end_time": "2018-01-12T04:34:49.394201Z",
     "start_time": "2018-01-12T04:34:49.381200Z"
    }
   },
   "source": [
    "float可以和int一起参与计算，结果会被处理成float"
   ]
  },
  {
   "cell_type": "code",
   "execution_count": 22,
   "metadata": {},
   "outputs": [
    {
     "data": {
      "text/plain": [
       "5.3"
      ]
     },
     "execution_count": 22,
     "metadata": {},
     "output_type": "execute_result"
    }
   ],
   "source": [
    "1 + 4.3"
   ]
  },
  {
   "cell_type": "markdown",
   "metadata": {
    "ExecuteTime": {
     "end_time": "2018-01-12T04:35:14.053000Z",
     "start_time": "2018-01-12T04:35:14.049000Z"
    }
   },
   "source": [
    "## 字符串"
   ]
  },
  {
   "cell_type": "markdown",
   "metadata": {},
   "source": [
    "可以用单引号或者双引号表示字符串"
   ]
  },
  {
   "cell_type": "code",
   "execution_count": 24,
   "metadata": {
    "ExecuteTime": {
     "end_time": "2018-01-25T12:31:18.304000Z",
     "start_time": "2018-01-25T12:31:18.292000Z"
    }
   },
   "outputs": [
    {
     "name": "stdout",
     "output_type": "stream",
     "text": [
      "yademan\n",
      "yademan\n"
     ]
    }
   ],
   "source": [
    "print('yademan')\n",
    "print(\"yademan\")"
   ]
  },
  {
   "cell_type": "markdown",
   "metadata": {},
   "source": [
    "但是不能混合使用哦"
   ]
  },
  {
   "cell_type": "code",
   "execution_count": 26,
   "metadata": {
    "ExecuteTime": {
     "end_time": "2018-01-25T12:31:34.281000Z",
     "start_time": "2018-01-25T12:31:34.269000Z"
    }
   },
   "outputs": [
    {
     "ename": "SyntaxError",
     "evalue": "EOL while scanning string literal (<ipython-input-26-a13b6841177a>, line 1)",
     "output_type": "error",
     "traceback": [
      "\u001b[0;36m  File \u001b[0;32m\"<ipython-input-26-a13b6841177a>\"\u001b[0;36m, line \u001b[0;32m1\u001b[0m\n\u001b[0;31m    'yademan\"\u001b[0m\n\u001b[0m             ^\u001b[0m\n\u001b[0;31mSyntaxError\u001b[0m\u001b[0;31m:\u001b[0m EOL while scanning string literal\n"
     ]
    }
   ],
   "source": [
    "'yademan\""
   ]
  },
  {
   "cell_type": "markdown",
   "metadata": {},
   "source": [
    "如果字符串的内容有单引号，那么可以用双引号去标记字符串；反之亦然"
   ]
  },
  {
   "cell_type": "code",
   "execution_count": 28,
   "metadata": {
    "ExecuteTime": {
     "end_time": "2018-01-25T12:33:52.973000Z",
     "start_time": "2018-01-25T12:33:52.951000Z"
    }
   },
   "outputs": [
    {
     "name": "stdout",
     "output_type": "stream",
     "text": [
      "my name is \"yademan\"\n",
      "my name is 'yademan'\n"
     ]
    }
   ],
   "source": [
    "print('my name is \"yademan\"')\n",
    "print(\"my name is 'yademan'\")"
   ]
  },
  {
   "cell_type": "markdown",
   "metadata": {
    "ExecuteTime": {
     "end_time": "2018-01-25T12:36:58.504000Z",
     "start_time": "2018-01-25T12:36:58.494000Z"
    }
   },
   "source": [
    "如果字符串里面的内容同时有双引号和单引号，为了让python分清哪些引号是内容，哪些只是标记字符串，可以在表示内容的引号前加上\\"
   ]
  },
  {
   "cell_type": "code",
   "execution_count": 31,
   "metadata": {
    "ExecuteTime": {
     "end_time": "2018-01-25T12:42:56.698000Z",
     "start_time": "2018-01-25T12:42:56.676000Z"
    }
   },
   "outputs": [
    {
     "name": "stdout",
     "output_type": "stream",
     "text": [
      "my name is \"yademan'\n",
      "my name is \"yademan'\n"
     ]
    }
   ],
   "source": [
    "print('my name is \\\"yademan\\'')\n",
    "print(\"my name is \\\"yademan\\'\")"
   ]
  },
  {
   "cell_type": "markdown",
   "metadata": {
    "ExecuteTime": {
     "end_time": "2018-01-12T04:37:22.466000Z",
     "start_time": "2018-01-12T04:37:22.439000Z"
    }
   },
   "source": [
    "可以用 + 连接字符串"
   ]
  },
  {
   "cell_type": "code",
   "execution_count": 34,
   "metadata": {
    "ExecuteTime": {
     "end_time": "2018-01-25T12:43:07.447000Z",
     "start_time": "2018-01-25T12:43:07.425000Z"
    }
   },
   "outputs": [
    {
     "data": {
      "text/plain": [
       "'yademan@wacai.com'"
      ]
     },
     "execution_count": 34,
     "metadata": {},
     "output_type": "execute_result"
    }
   ],
   "source": [
    "'yademan' + '@wacai.com'"
   ]
  },
  {
   "cell_type": "markdown",
   "metadata": {},
   "source": [
    "猜猜下面的结果?"
   ]
  },
  {
   "cell_type": "code",
   "execution_count": 39,
   "metadata": {
    "ExecuteTime": {
     "end_time": "2018-01-25T12:46:13.128000Z",
     "start_time": "2018-01-25T12:46:13.109000Z"
    }
   },
   "outputs": [
    {
     "data": {
      "text/plain": [
       "'哈哈哈哈哈哈哈哈哈哈哈哈哈哈哈哈哈哈哈哈!!!!!'"
      ]
     },
     "execution_count": 39,
     "metadata": {},
     "output_type": "execute_result"
    }
   ],
   "source": [
    "'哈' * 20 + '!'*5"
   ]
  },
  {
   "cell_type": "markdown",
   "metadata": {},
   "source": [
    "### 定义大段的字符串"
   ]
  },
  {
   "cell_type": "markdown",
   "metadata": {},
   "source": [
    "如果有一段较长的文本, 写成一行读起来会很费劲。"
   ]
  },
  {
   "cell_type": "code",
   "execution_count": 44,
   "metadata": {},
   "outputs": [
    {
     "data": {
      "text/plain": [
       "'Python is an interpreted high-level programming language for general-purpose programming. Created by Guido van Rossum and first released in 1991, Python has a design philosophy that emphasizes code readability, notably using significant whitespace. It provides constructs that enable clear programming on both small and large scales.[25] In July 2018, Van Rossum stepped down as the leader in the language community after 30 years.'"
      ]
     },
     "execution_count": 44,
     "metadata": {},
     "output_type": "execute_result"
    }
   ],
   "source": [
    "'Python is an interpreted high-level programming language for general-purpose programming. Created by Guido van Rossum and first released in 1991, Python has a design philosophy that emphasizes code readability, notably using significant whitespace. It provides constructs that enable clear programming on both small and large scales.[25] In July 2018, Van Rossum stepped down as the leader in the language community after 30 years.'"
   ]
  },
  {
   "cell_type": "markdown",
   "metadata": {},
   "source": [
    "如果要分行定义字符串的话会报错"
   ]
  },
  {
   "cell_type": "code",
   "execution_count": 46,
   "metadata": {},
   "outputs": [
    {
     "ename": "SyntaxError",
     "evalue": "EOL while scanning string literal (<ipython-input-46-c8ed37c971e1>, line 1)",
     "output_type": "error",
     "traceback": [
      "\u001b[0;36m  File \u001b[0;32m\"<ipython-input-46-c8ed37c971e1>\"\u001b[0;36m, line \u001b[0;32m1\u001b[0m\n\u001b[0;31m    'Python is an interpreted high-level programming language for general-purpose programming.\u001b[0m\n\u001b[0m                                                                                               ^\u001b[0m\n\u001b[0;31mSyntaxError\u001b[0m\u001b[0;31m:\u001b[0m EOL while scanning string literal\n"
     ]
    }
   ],
   "source": [
    "'Python is an interpreted high-level programming language for general-purpose programming. \n",
    "Created by Guido van Rossum and first released in 1991, \n",
    "Python has a design philosophy that emphasizes code readability, \n",
    "notably using significant whitespace. \n",
    "It provides constructs that enable clear programming on both small and large scales.\n",
    "[25] In July 2018, Van Rossum stepped down as the leader in the language community after 30 years.'"
   ]
  },
  {
   "cell_type": "markdown",
   "metadata": {},
   "source": [
    "可以用`(...)`分行书写这样的长文本。注意行与行之间不能加空格。这段代码和上一段实现的功能一样。"
   ]
  },
  {
   "cell_type": "code",
   "execution_count": 49,
   "metadata": {},
   "outputs": [
    {
     "data": {
      "text/plain": [
       "'Python is an interpreted high-level programming language for general-purpose programming.Created by Guido van Rossum and first released in 1991, Python has a design philosophy that emphasizes code readability, notably using significant whitespace. It provides constructs that enable clear programming on both small and large scales.[25] In July 2018, Van Rossum stepped down as the leader in the language community after 30 years.'"
      ]
     },
     "execution_count": 49,
     "metadata": {},
     "output_type": "execute_result"
    }
   ],
   "source": [
    "(\n",
    "    'Python is an interpreted high-level programming language for general-purpose programming.'\n",
    "    'Created by Guido van Rossum and first released in 1991, '\n",
    "    'Python has a design philosophy that emphasizes code readability, '\n",
    "    'notably using significant whitespace. '\n",
    "    'It provides constructs that enable clear programming on both small and large scales.'\n",
    "    \"[25] In July 2018, Van Rossum stepped down as the leader in the language community after 30 years.\"\n",
    ")"
   ]
  },
  {
   "cell_type": "markdown",
   "metadata": {},
   "source": [
    "用`'''...'''`也可以定义大段的文本, 注意使用这种方式， `'''...'''`中包含的空格，换行都会被保留"
   ]
  },
  {
   "cell_type": "code",
   "execution_count": 51,
   "metadata": {},
   "outputs": [
    {
     "name": "stdout",
     "output_type": "stream",
     "text": [
      "\n",
      "    Python is an interpreted high-level programming language for general-purpose programming. \n",
      "    \n",
      "    Created by Guido van Rossum and first released in 1991, Python has a design philosophy that \n",
      "    \n",
      "    emphasizes code readability, notably using significant whitespace. It provides constructs \n",
      "    \n",
      "    that enable clear programming on both small and large scales.[25] In July 2018, Van Rossum \n",
      "    \n",
      "    stepped down as the leader in the language community after 30 years.\n",
      "    \n"
     ]
    }
   ],
   "source": [
    "print(\n",
    "    '''\n",
    "    Python is an interpreted high-level programming language for general-purpose programming. \n",
    "    \n",
    "    Created by Guido van Rossum and first released in 1991, Python has a design philosophy that \n",
    "    \n",
    "    emphasizes code readability, notably using significant whitespace. It provides constructs \n",
    "    \n",
    "    that enable clear programming on both small and large scales.[25] In July 2018, Van Rossum \n",
    "    \n",
    "    stepped down as the leader in the language community after 30 years.\n",
    "    '''\n",
    ")"
   ]
  },
  {
   "cell_type": "code",
   "execution_count": 53,
   "metadata": {},
   "outputs": [
    {
     "data": {
      "text/plain": [
       "'\\nPython is an interpreted high-level programming language for general-purpose programming. \\n\\nCreated by Guido van Rossum and first released in 1991, Python has a design philosophy that \\n\\nemphasizes code readability, notably using significant whitespace. It provides constructs \\n\\nthat enable clear programming on both small and large scales.[25] In July 2018, Van Rossum \\n\\nstepped down as the leader in the language community after 30 years.\\n'"
      ]
     },
     "execution_count": 53,
     "metadata": {},
     "output_type": "execute_result"
    }
   ],
   "source": [
    "\n",
    "'''\n",
    "Python is an interpreted high-level programming language for general-purpose programming. \n",
    "\n",
    "Created by Guido van Rossum and first released in 1991, Python has a design philosophy that \n",
    "\n",
    "emphasizes code readability, notably using significant whitespace. It provides constructs \n",
    "\n",
    "that enable clear programming on both small and large scales.[25] In July 2018, Van Rossum \n",
    "\n",
    "stepped down as the leader in the language community after 30 years.\n",
    "'''\n"
   ]
  },
  {
   "cell_type": "code",
   "execution_count": 59,
   "metadata": {},
   "outputs": [
    {
     "data": {
      "text/html": [
       "<div>\n",
       "<style scoped>\n",
       "    .dataframe tbody tr th:only-of-type {\n",
       "        vertical-align: middle;\n",
       "    }\n",
       "\n",
       "    .dataframe tbody tr th {\n",
       "        vertical-align: top;\n",
       "    }\n",
       "\n",
       "    .dataframe thead th {\n",
       "        text-align: right;\n",
       "    }\n",
       "</style>\n",
       "<table border=\"1\" class=\"dataframe\">\n",
       "  <thead>\n",
       "    <tr style=\"text-align: right;\">\n",
       "      <th></th>\n",
       "      <th>A</th>\n",
       "    </tr>\n",
       "  </thead>\n",
       "  <tbody>\n",
       "    <tr>\n",
       "      <th>0</th>\n",
       "      <td>1</td>\n",
       "    </tr>\n",
       "    <tr>\n",
       "      <th>1</th>\n",
       "      <td>2</td>\n",
       "    </tr>\n",
       "  </tbody>\n",
       "</table>\n",
       "</div>"
      ],
      "text/plain": [
       "   A\n",
       "0  1\n",
       "1  2"
      ]
     },
     "execution_count": 59,
     "metadata": {},
     "output_type": "execute_result"
    }
   ],
   "source": [
    "from pandas import DataFrame\n",
    "\n",
    "df = DataFrame({'A':[1, 2]})\n",
    "df"
   ]
  },
  {
   "cell_type": "code",
   "execution_count": 58,
   "metadata": {},
   "outputs": [
    {
     "data": {
      "text/html": [
       "<div>\n",
       "<style scoped>\n",
       "    .dataframe tbody tr th:only-of-type {\n",
       "        vertical-align: middle;\n",
       "    }\n",
       "\n",
       "    .dataframe tbody tr th {\n",
       "        vertical-align: top;\n",
       "    }\n",
       "\n",
       "    .dataframe thead th {\n",
       "        text-align: right;\n",
       "    }\n",
       "</style>\n",
       "<table border=\"1\" class=\"dataframe\">\n",
       "  <thead>\n",
       "    <tr style=\"text-align: right;\">\n",
       "      <th></th>\n",
       "      <th>A</th>\n",
       "    </tr>\n",
       "  </thead>\n",
       "  <tbody>\n",
       "    <tr>\n",
       "      <th>0</th>\n",
       "      <td>1</td>\n",
       "    </tr>\n",
       "    <tr>\n",
       "      <th>1</th>\n",
       "      <td>2</td>\n",
       "    </tr>\n",
       "  </tbody>\n",
       "</table>\n",
       "</div>"
      ],
      "text/plain": [
       "      A    \n",
       "0         1\n",
       "1         2"
      ]
     },
     "execution_count": 58,
     "metadata": {},
     "output_type": "execute_result"
    }
   ],
   "source": [
    "df = DataFrame({'    A    ':['1', '2']})\n",
    "df"
   ]
  },
  {
   "cell_type": "markdown",
   "metadata": {
    "ExecuteTime": {
     "end_time": "2018-01-12T04:41:58.720000Z",
     "start_time": "2018-01-12T04:41:58.713000Z"
    }
   },
   "source": [
    "## 变量"
   ]
  },
  {
   "cell_type": "markdown",
   "metadata": {
    "ExecuteTime": {
     "end_time": "2018-01-12T03:00:02.818096Z",
     "start_time": "2018-01-12T03:00:02.711096Z"
    }
   },
   "source": [
    "先看下面这段表达式， 大家是否能一眼看出它的意图?"
   ]
  },
  {
   "cell_type": "code",
   "execution_count": 61,
   "metadata": {
    "ExecuteTime": {
     "end_time": "2018-01-25T12:46:16.584000Z",
     "start_time": "2018-01-25T12:46:16.553000Z"
    }
   },
   "outputs": [
    {
     "data": {
      "text/plain": [
       "9.921567416492215"
      ]
     },
     "execution_count": 61,
     "metadata": {},
     "output_type": "execute_result"
    }
   ],
   "source": [
    " (((4 + 5 + 6)/2) * ((4 + 5 + 6)/2 - 4) * ((4 + 5 + 6)/2 - 5) * ((4 + 5 + 6)/2 - 6)) ** 0.5"
   ]
  },
  {
   "cell_type": "markdown",
   "metadata": {
    "ExecuteTime": {
     "end_time": "2018-01-25T12:50:42.088000Z",
     "start_time": "2018-01-25T12:50:42.072000Z"
    }
   },
   "source": [
    "实际上上面的表达式的含义是根据三角形的三条边的边长4, 5, 6按照海伦公式计算面积。上面的表达式有很多不足\n",
    "\n",
    "* 存在很多重复的计算，例如周长的一般(4 + 5 + 6) / 2 被重复计算了3遍\n",
    "* 整个表达式非常复杂，读起来很费劲(可读性差)\n",
    "\n",
    "这时候，可以利用编程语言都支持的“变量”这一工具改善这个问题"
   ]
  },
  {
   "cell_type": "markdown",
   "metadata": {},
   "source": [
    "看下面引入变量的代码"
   ]
  },
  {
   "cell_type": "code",
   "execution_count": 74,
   "metadata": {
    "ExecuteTime": {
     "end_time": "2018-01-25T12:59:09.032000Z",
     "start_time": "2018-01-25T12:59:09.017000Z"
    }
   },
   "outputs": [
    {
     "data": {
      "text/plain": [
       "9.921567416492215"
      ]
     },
     "execution_count": 74,
     "metadata": {},
     "output_type": "execute_result"
    }
   ],
   "source": [
    "# 用变量a, b, c去指代4,5,6三个数据\n",
    "a = 4\n",
    "b = 5\n",
    "c = 6\n",
    "\n",
    "# 之后可以用变量去表达计算逻辑， 并且将结果存成其他的变量\n",
    "half_perimeter = (a + b + c) / 2\n",
    "\n",
    "surface = (half_perimeter * (half_perimeter - a) * (half_perimeter - b) * (half_perimeter - c)) ** 0.5\n",
    "surface"
   ]
  },
  {
   "cell_type": "code",
   "execution_count": 75,
   "metadata": {},
   "outputs": [
    {
     "data": {
      "text/plain": [
       "9.921567416492215"
      ]
     },
     "execution_count": 75,
     "metadata": {},
     "output_type": "execute_result"
    }
   ],
   "source": [
    "part_a = half_perimeter - a\n",
    "part_b = half_perimeter - b\n",
    "part_c = half_perimeter - c\n",
    "\n",
    "\n",
    "surface = (half_perimeter * part_a * part_b * part_c) ** 0.5\n",
    "surface"
   ]
  },
  {
   "cell_type": "markdown",
   "metadata": {
    "ExecuteTime": {
     "end_time": "2018-01-25T13:07:22.352000Z",
     "start_time": "2018-01-25T13:07:22.327000Z"
    }
   },
   "source": [
    "上面的代码中的a, b, c, half_perimeter, surface就是变量名， 它们让你有机会用一个更有意义的名字去指代数据或者中间计算结果，使用变量的好处\n",
    "* 取一个更有意义的名字，让代码更容易理解\n",
    "* 让重要的中间结果可以被保存，避免每次重新倒要重新计算， 例如用half_perimeter表示周长的一半\n",
    "* 将复杂的运算逻辑拆分几个独立的步骤, 让每一步计算不是那么复杂难懂\n",
    "\n",
    "如此之外，在变量的帮助下，可以清晰的隔离出代码中容易发生变化的成分和不容易发生变化的成分。\n",
    "\n",
    "在用海伦公式计算三角形的面积这个需求中，三角形的边长是容易发生变化的，给定边长以后计算面积的逻辑是固定的。下面的代码清晰的分析出了这两部分。"
   ]
  },
  {
   "cell_type": "code",
   "execution_count": 76,
   "metadata": {
    "ExecuteTime": {
     "end_time": "2018-01-25T13:12:32.595000Z",
     "start_time": "2018-01-25T13:12:32.584000Z"
    }
   },
   "outputs": [],
   "source": [
    "# 三角形的边长是容易改变的部分， 变量接收的是具体的数值\n",
    "a = 4\n",
    "b = 5\n",
    "c = 6\n",
    "\n",
    "# 给定边长后的计算逻辑是固定的，这里公式自带的常数，没有定死的数值\n",
    "half_perimeter = (a + b + c) / 2\n",
    "\n",
    "surface = (half_perimeter * (half_perimeter - a) * (half_perimeter - b) * (half_perimeter - c)) ** 0.5"
   ]
  },
  {
   "cell_type": "markdown",
   "metadata": {},
   "source": [
    "如果我们的边长变成了7, 8, 9，我们可以放心的改变的边长的定义，不用去操心后面的计算逻辑"
   ]
  },
  {
   "cell_type": "code",
   "execution_count": 78,
   "metadata": {
    "ExecuteTime": {
     "end_time": "2018-01-25T13:15:05.988000Z",
     "start_time": "2018-01-25T13:15:05.976000Z"
    }
   },
   "outputs": [],
   "source": [
    "# 边长变成7, 8, 9我们只需要改变开头的定义\n",
    "a = 7\n",
    "b = 8\n",
    "c = 9\n",
    "\n",
    "# 我们知道不管前面的部分怎么改，后面的逻辑不需要改变。也就不必操心这部分。\n",
    "half_perimeter = (a + b + c) / 2\n",
    "\n",
    "surface = (half_perimeter * (half_perimeter - a) * (half_perimeter - b) * (half_perimeter - c)) ** 0.5"
   ]
  },
  {
   "cell_type": "markdown",
   "metadata": {},
   "source": [
    "对比一下， 如果没有做好“可变和不变”的分离，那么一旦需求发生改变，那么事情就会很麻烦。\n",
    "\n",
    "例如如果代码是下面这样，虽然一定程度上利用变量拆分了复杂的计算过程，但是如果要把计算的边长替换成4,5,6，那么就要很小心的去阅读代码，将原先的2,3,4替换掉，同时要保留海伦公式自带的常数2。\n",
    "\n",
    "这个过程这会消耗不少时间和精力，而且容易无意中改错代码，又需要额外的时间精力去排查和修正错误。"
   ]
  },
  {
   "cell_type": "code",
   "execution_count": 79,
   "metadata": {
    "ExecuteTime": {
     "end_time": "2018-01-25T13:30:04.850000Z",
     "start_time": "2018-01-25T13:30:04.844000Z"
    }
   },
   "outputs": [],
   "source": [
    "# 并没有将需求中容易变化的边长和剩余的计算逻辑很好的分离，今后边长变化时就得去小心的阅读，理解和修改代码\n",
    "part_a = (2 + 3 + 4) / 2 - 2\n",
    "part_b = (2 + 3 + 4) / 2 - 3\n",
    "part_c = (2 + 3 + 4) / 2 - 4\n",
    "\n",
    "surface = (part_a * part_b * part_c) ** 0.5"
   ]
  },
  {
   "cell_type": "markdown",
   "metadata": {},
   "source": [
    "### 变量的定义\n",
    "\n",
    "看了上面的代码，大家应该很容易观察到 \"变量名 = 数值/表达式\" 就可以很容易的“定义”一个变量。不管关于“定义变量”，这里有一些细节要注意。\n",
    "\n",
    "下面的代码运行后，y的取值是多少？"
   ]
  },
  {
   "cell_type": "code",
   "execution_count": 83,
   "metadata": {
    "ExecuteTime": {
     "end_time": "2018-01-25T13:37:45.402000Z",
     "start_time": "2018-01-25T13:37:45.395000Z"
    }
   },
   "outputs": [
    {
     "data": {
      "text/plain": [
       "3"
      ]
     },
     "execution_count": 83,
     "metadata": {},
     "output_type": "execute_result"
    }
   ],
   "source": [
    "x = 3\n",
    "y = x\n",
    "x = 5\n",
    "y"
   ]
  },
  {
   "cell_type": "markdown",
   "metadata": {
    "ExecuteTime": {
     "end_time": "2018-01-25T13:40:23.023000Z",
     "start_time": "2018-01-25T13:40:23.010000Z"
    }
   },
   "source": [
    "如果认为y是5的话，那么很遗憾，答错了。\n",
    "\n",
    "这里我们要更仔细的去理解'='的含义\n",
    "\n",
    "'变量名 = 数值'这个表达式， 可以把变量名想象成一个标签，贴在数值上，以后我们就可以用这个标签去指代这个数据。"
   ]
  },
  {
   "cell_type": "code",
   "execution_count": 84,
   "metadata": {
    "ExecuteTime": {
     "end_time": "2018-01-25T13:44:37.050000Z",
     "start_time": "2018-01-25T13:44:37.045000Z"
    }
   },
   "outputs": [],
   "source": [
    "x = 3 # 以后可以用x去代表3, x-->3"
   ]
  },
  {
   "cell_type": "markdown",
   "metadata": {},
   "source": [
    "'变量名A = 变量名B'的表达式里， 变量名A会去找到变量名B指代的数据，然后也成为这个数据的标签， 之后可以同时用变量名A和变量名B去指代这个数据。"
   ]
  },
  {
   "cell_type": "code",
   "execution_count": 85,
   "metadata": {
    "ExecuteTime": {
     "end_time": "2018-01-25T13:48:59.121000Z",
     "start_time": "2018-01-25T13:48:59.117000Z"
    }
   },
   "outputs": [],
   "source": [
    "y = x # y发现=右侧的x是另一个变量名，那么会找到x所指的数据3, 也指向它。 x-->3<--y"
   ]
  },
  {
   "cell_type": "markdown",
   "metadata": {
    "ExecuteTime": {
     "end_time": "2018-01-25T13:51:11.844000Z",
     "start_time": "2018-01-25T13:51:11.834000Z"
    }
   },
   "source": [
    "如果之后运行x = 5， 相当于把x这个标签从数值3上面“揭下”, 重新贴到数值5上面。这个过程并不会影响y继续“贴在”3上。"
   ]
  },
  {
   "cell_type": "code",
   "execution_count": 86,
   "metadata": {
    "ExecuteTime": {
     "end_time": "2018-01-25T13:51:41.481000Z",
     "start_time": "2018-01-25T13:51:41.477000Z"
    }
   },
   "outputs": [],
   "source": [
    "x = 5 # x, y分别指向不同的数值， x-->3, y-->5"
   ]
  },
  {
   "cell_type": "markdown",
   "metadata": {},
   "source": [
    "##  python对缩紧有严格要求"
   ]
  },
  {
   "cell_type": "markdown",
   "metadata": {},
   "source": [
    "python对于空格，tab有严格的要求"
   ]
  },
  {
   "cell_type": "code",
   "execution_count": 89,
   "metadata": {},
   "outputs": [
    {
     "ename": "IndentationError",
     "evalue": "unexpected indent (<ipython-input-89-5aab6bebd8ca>, line 2)",
     "output_type": "error",
     "traceback": [
      "\u001b[0;36m  File \u001b[0;32m\"<ipython-input-89-5aab6bebd8ca>\"\u001b[0;36m, line \u001b[0;32m2\u001b[0m\n\u001b[0;31m    y = 2\u001b[0m\n\u001b[0m    ^\u001b[0m\n\u001b[0;31mIndentationError\u001b[0m\u001b[0;31m:\u001b[0m unexpected indent\n"
     ]
    }
   ],
   "source": [
    "x = 1\n",
    "    y = 2"
   ]
  },
  {
   "cell_type": "code",
   "execution_count": 90,
   "metadata": {},
   "outputs": [
    {
     "ename": "IndentationError",
     "evalue": "unexpected indent (<ipython-input-90-f503d74ec970>, line 2)",
     "output_type": "error",
     "traceback": [
      "\u001b[0;36m  File \u001b[0;32m\"<ipython-input-90-f503d74ec970>\"\u001b[0;36m, line \u001b[0;32m2\u001b[0m\n\u001b[0;31m    y = 2\u001b[0m\n\u001b[0m    ^\u001b[0m\n\u001b[0;31mIndentationError\u001b[0m\u001b[0;31m:\u001b[0m unexpected indent\n"
     ]
    }
   ],
   "source": [
    "x = 1\n",
    " y = 2"
   ]
  },
  {
   "cell_type": "markdown",
   "metadata": {
    "ExecuteTime": {
     "end_time": "2018-01-12T04:42:59.026000Z",
     "start_time": "2018-01-12T04:42:59.019000Z"
    }
   },
   "source": [
    "## 更多的数据类型\n",
    "\n",
    "### 列表list"
   ]
  },
  {
   "cell_type": "markdown",
   "metadata": {},
   "source": [
    "如果需要记录多个人的名字，怎么办?"
   ]
  },
  {
   "cell_type": "code",
   "execution_count": 105,
   "metadata": {
    "ExecuteTime": {
     "end_time": "2018-01-25T13:54:38.026000Z",
     "start_time": "2018-01-25T13:54:38.018000Z"
    }
   },
   "outputs": [],
   "source": [
    "name_1 = 'John'\n",
    "name_2 = 'Jack'\n",
    "name_3 = 'Lily'\n",
    "name_4 = 'Ben'\n",
    "name_5 = 'Jay'\n",
    "\n",
    "# ....\n"
   ]
  },
  {
   "cell_type": "markdown",
   "metadata": {
    "ExecuteTime": {
     "end_time": "2018-01-12T04:46:09.655000Z",
     "start_time": "2018-01-12T04:46:09.640000Z"
    }
   },
   "source": [
    "如果有很多的名字，显然这不是一个好方法， 这种场合下可以使用list来记录多个数据"
   ]
  },
  {
   "cell_type": "code",
   "execution_count": 106,
   "metadata": {
    "ExecuteTime": {
     "end_time": "2018-01-25T13:55:58.189000Z",
     "start_time": "2018-01-25T13:55:58.174000Z"
    }
   },
   "outputs": [
    {
     "data": {
      "text/plain": [
       "['John', 'Jack', 'Lily', 'Ben', 'Jay']"
      ]
     },
     "execution_count": 106,
     "metadata": {},
     "output_type": "execute_result"
    }
   ],
   "source": [
    "names = [\n",
    "    'John',\n",
    "    'Jack',\n",
    "    'Lily',\n",
    "    'Ben',\n",
    "    'Jay'\n",
    "]\n",
    "\n",
    "names"
   ]
  },
  {
   "cell_type": "markdown",
   "metadata": {},
   "source": [
    "对于list常见的操作"
   ]
  },
  {
   "cell_type": "markdown",
   "metadata": {
    "ExecuteTime": {
     "end_time": "2018-01-12T04:48:06.446000Z",
     "start_time": "2018-01-12T04:48:06.431000Z"
    }
   },
   "source": [
    "取出特定位置的元素，注意位置编号是从0开始的"
   ]
  },
  {
   "cell_type": "code",
   "execution_count": 107,
   "metadata": {
    "ExecuteTime": {
     "end_time": "2018-01-25T13:56:40.107000Z",
     "start_time": "2018-01-25T13:56:40.098000Z"
    }
   },
   "outputs": [
    {
     "data": {
      "text/plain": [
       "'John'"
      ]
     },
     "execution_count": 107,
     "metadata": {},
     "output_type": "execute_result"
    }
   ],
   "source": [
    "names[0] #取出第一个元素"
   ]
  },
  {
   "cell_type": "markdown",
   "metadata": {},
   "source": [
    "可以用'-'从末尾往前取"
   ]
  },
  {
   "cell_type": "code",
   "execution_count": 108,
   "metadata": {
    "ExecuteTime": {
     "end_time": "2018-01-25T13:57:26.502000Z",
     "start_time": "2018-01-25T13:57:26.496000Z"
    }
   },
   "outputs": [
    {
     "data": {
      "text/plain": [
       "'Jay'"
      ]
     },
     "execution_count": 108,
     "metadata": {},
     "output_type": "execute_result"
    }
   ],
   "source": [
    "names[-1] # 取出最后一个元素"
   ]
  },
  {
   "cell_type": "markdown",
   "metadata": {
    "ExecuteTime": {
     "end_time": "2018-01-12T07:25:25.474352Z",
     "start_time": "2018-01-12T07:25:25.330352Z"
    }
   },
   "source": [
    "用m:n的语法选出一段下标范围内的元素，注意下标m对应的元素会被包括在结果中，但是下标n对应的元素会被排除。"
   ]
  },
  {
   "cell_type": "code",
   "execution_count": 109,
   "metadata": {
    "ExecuteTime": {
     "end_time": "2018-01-25T14:00:02.551000Z",
     "start_time": "2018-01-25T14:00:02.546000Z"
    }
   },
   "outputs": [
    {
     "data": {
      "text/plain": [
       "['Lily', 'Ben']"
      ]
     },
     "execution_count": 109,
     "metadata": {},
     "output_type": "execute_result"
    }
   ],
   "source": [
    "names[2:4] # 选出下标是2和3的元素, 相当于原来list中第3, 4个元素"
   ]
  },
  {
   "cell_type": "markdown",
   "metadata": {
    "ExecuteTime": {
     "end_time": "2018-01-12T04:49:14.512000Z",
     "start_time": "2018-01-12T04:49:14.493000Z"
    }
   },
   "source": [
    "隔开一个取出元素"
   ]
  },
  {
   "cell_type": "code",
   "execution_count": 110,
   "metadata": {
    "ExecuteTime": {
     "end_time": "2018-01-25T14:00:37.446000Z",
     "start_time": "2018-01-25T14:00:37.437000Z"
    }
   },
   "outputs": [
    {
     "data": {
      "text/plain": [
       "['John', 'Lily', 'Jay']"
      ]
     },
     "execution_count": 110,
     "metadata": {},
     "output_type": "execute_result"
    }
   ],
   "source": [
    "names[0:6:2] #取出下表是0,2,4的元素"
   ]
  },
  {
   "cell_type": "markdown",
   "metadata": {
    "collapsed": true
   },
   "source": [
    "可以忽略起止位置，只填写间隔，例如"
   ]
  },
  {
   "cell_type": "code",
   "execution_count": 111,
   "metadata": {
    "ExecuteTime": {
     "end_time": "2018-01-25T14:02:08.341000Z",
     "start_time": "2018-01-25T14:02:08.333000Z"
    }
   },
   "outputs": [
    {
     "data": {
      "text/plain": [
       "['John', 'Lily', 'Jay']"
      ]
     },
     "execution_count": 111,
     "metadata": {},
     "output_type": "execute_result"
    }
   ],
   "source": [
    "names[::2] #取出下标是0, 2, 4的元素"
   ]
  },
  {
   "cell_type": "markdown",
   "metadata": {
    "ExecuteTime": {
     "end_time": "2018-01-25T14:02:52.160000Z",
     "start_time": "2018-01-25T14:02:52.153000Z"
    }
   },
   "source": [
    "取出所有元素...似乎在干无意义的事儿"
   ]
  },
  {
   "cell_type": "code",
   "execution_count": 112,
   "metadata": {
    "ExecuteTime": {
     "end_time": "2018-01-25T14:04:20.087000Z",
     "start_time": "2018-01-25T14:04:20.075000Z"
    }
   },
   "outputs": [
    {
     "data": {
      "text/plain": [
       "['John', 'Jack', 'Lily', 'Ben', 'Jay']"
      ]
     },
     "execution_count": 112,
     "metadata": {},
     "output_type": "execute_result"
    }
   ],
   "source": [
    "names[::1] # 相当于names[0:5:1]"
   ]
  },
  {
   "cell_type": "markdown",
   "metadata": {
    "ExecuteTime": {
     "end_time": "2018-01-25T14:03:54.305000Z",
     "start_time": "2018-01-25T14:03:54.296000Z"
    }
   },
   "source": [
    "可是间隔为-1时，可以很方便的调转原来list的顺序哦"
   ]
  },
  {
   "cell_type": "code",
   "execution_count": 113,
   "metadata": {
    "ExecuteTime": {
     "end_time": "2018-01-25T14:05:19.570000Z",
     "start_time": "2018-01-25T14:05:19.559000Z"
    }
   },
   "outputs": [
    {
     "data": {
      "text/plain": [
       "['Jay', 'Ben', 'Lily', 'Jack', 'John']"
      ]
     },
     "execution_count": 113,
     "metadata": {},
     "output_type": "execute_result"
    }
   ],
   "source": [
    "names[::-1] #相当于names[-1:-6:-1]"
   ]
  },
  {
   "cell_type": "markdown",
   "metadata": {},
   "source": [
    "添加一个元素\n",
    "\n",
    "在末尾添加"
   ]
  },
  {
   "cell_type": "code",
   "execution_count": 114,
   "metadata": {
    "ExecuteTime": {
     "end_time": "2018-01-12T07:26:56.713352Z",
     "start_time": "2018-01-12T07:26:56.671352Z"
    }
   },
   "outputs": [
    {
     "data": {
      "text/plain": [
       "['John', 'Jack', 'Lily', 'Ben', 'Jay', 'Mary']"
      ]
     },
     "execution_count": 114,
     "metadata": {},
     "output_type": "execute_result"
    }
   ],
   "source": [
    "names.append('Mary')\n",
    "names"
   ]
  },
  {
   "cell_type": "markdown",
   "metadata": {},
   "source": [
    "在指定位置添加"
   ]
  },
  {
   "cell_type": "code",
   "execution_count": 115,
   "metadata": {
    "ExecuteTime": {
     "end_time": "2018-01-12T07:27:14.290352Z",
     "start_time": "2018-01-12T07:27:14.260352Z"
    }
   },
   "outputs": [
    {
     "data": {
      "text/plain": [
       "['John', 'Jack', 'Zack', 'Lily', 'Ben', 'Jay', 'Mary']"
      ]
     },
     "execution_count": 115,
     "metadata": {},
     "output_type": "execute_result"
    }
   ],
   "source": [
    "names.insert(2, 'Zack')\n",
    "names"
   ]
  },
  {
   "cell_type": "markdown",
   "metadata": {
    "ExecuteTime": {
     "end_time": "2018-01-12T04:53:05.474317Z",
     "start_time": "2018-01-12T04:53:05.465317Z"
    }
   },
   "source": [
    "合并两个list"
   ]
  },
  {
   "cell_type": "code",
   "execution_count": 116,
   "metadata": {
    "ExecuteTime": {
     "end_time": "2018-01-25T14:25:54.415000Z",
     "start_time": "2018-01-25T14:25:54.406000Z"
    }
   },
   "outputs": [
    {
     "data": {
      "text/plain": [
       "['John', 'Jack', 'Zack', 'Lily', 'Ben', 'Jay', 'Mary']"
      ]
     },
     "execution_count": 116,
     "metadata": {},
     "output_type": "execute_result"
    }
   ],
   "source": [
    "names"
   ]
  },
  {
   "cell_type": "markdown",
   "metadata": {},
   "source": [
    "list中可以嵌套list"
   ]
  },
  {
   "cell_type": "code",
   "execution_count": 117,
   "metadata": {
    "ExecuteTime": {
     "end_time": "2018-01-25T15:13:13.817000Z",
     "start_time": "2018-01-25T15:13:13.806000Z"
    }
   },
   "outputs": [
    {
     "data": {
      "text/plain": [
       "[1, 2, 3, [4, 5, 6]]"
      ]
     },
     "execution_count": 117,
     "metadata": {},
     "output_type": "execute_result"
    }
   ],
   "source": [
    "[1, 2, 3, [4, 5, 6]]"
   ]
  },
  {
   "cell_type": "markdown",
   "metadata": {
    "ExecuteTime": {
     "end_time": "2018-01-25T14:43:39.898000Z",
     "start_time": "2018-01-25T14:43:39.887000Z"
    }
   },
   "source": [
    "下面我们在来做一个小测试。下面的代码运行后，another_names[0]的结果是什么?"
   ]
  },
  {
   "cell_type": "code",
   "execution_count": 118,
   "metadata": {
    "ExecuteTime": {
     "end_time": "2018-01-25T14:44:26.066000Z",
     "start_time": "2018-01-25T14:44:26.060000Z"
    }
   },
   "outputs": [],
   "source": [
    "names = names = [\n",
    "    'John',\n",
    "    'Jack',\n",
    "    'Lily',\n",
    "    'Ben',\n",
    "    'Jay'\n",
    "]\n",
    "another_names = names\n",
    "names[0] = 'Amanda'"
   ]
  },
  {
   "cell_type": "markdown",
   "metadata": {
    "ExecuteTime": {
     "end_time": "2018-01-25T14:46:42.871000Z",
     "start_time": "2018-01-25T14:46:42.862000Z"
    }
   },
   "source": [
    "运行后这里会发现another_names[0]的结果是'John'。结合前面的例子"
   ]
  },
  {
   "cell_type": "code",
   "execution_count": 119,
   "metadata": {
    "ExecuteTime": {
     "end_time": "2018-01-25T14:50:11.977000Z",
     "start_time": "2018-01-25T14:50:11.973000Z"
    }
   },
   "outputs": [],
   "source": [
    "x = 3\n",
    "y = x\n",
    "x = 5"
   ]
  },
  {
   "cell_type": "markdown",
   "metadata": {
    "ExecuteTime": {
     "end_time": "2018-01-25T14:54:50.521000Z",
     "start_time": "2018-01-25T14:54:50.505000Z"
    }
   },
   "source": [
    "大家可能会觉得疑惑，上面的例子里运行x = 5以后并不会影响y，为什么这里names[0] = 'Amanda'会影响another_names[0]?"
   ]
  },
  {
   "cell_type": "markdown",
   "metadata": {
    "ExecuteTime": {
     "end_time": "2018-01-25T14:59:01.826000Z",
     "start_time": "2018-01-25T14:59:01.820000Z"
    }
   },
   "source": [
    "这里的区别是, names是变量名，但是names[0]并不是一个变量名\n",
    "\n",
    "names[0] = 'Amanda'这句在运行的时候， 含义并不是将一个变量名指向一个数据， 而是将names所指的list的第一个的位置的元素修改成Amanda。由于another_names和names都指向同一个list，所以对names的修改会反应在another_names上。\n",
    "\n",
    "'='表达式到底是修改数据还是让变量名赋值给一个数值？ 区分这两种情况的关键是看\"=\"左边是否是一个纯粹的变量名。"
   ]
  },
  {
   "cell_type": "markdown",
   "metadata": {
    "ExecuteTime": {
     "end_time": "2018-01-12T03:19:16.268362Z",
     "start_time": "2018-01-12T03:19:16.255362Z"
    }
   },
   "source": [
    "### 元组tuple"
   ]
  },
  {
   "cell_type": "markdown",
   "metadata": {
    "ExecuteTime": {
     "end_time": "2018-01-12T05:10:13.542065Z",
     "start_time": "2018-01-12T05:10:13.527062Z"
    }
   },
   "source": [
    "和list相似，可以作为容纳多个数据的容器"
   ]
  },
  {
   "cell_type": "code",
   "execution_count": 120,
   "metadata": {
    "ExecuteTime": {
     "end_time": "2018-01-25T15:04:46.147000Z",
     "start_time": "2018-01-25T15:04:46.133000Z"
    }
   },
   "outputs": [
    {
     "data": {
      "text/plain": [
       "(1, 2)"
      ]
     },
     "execution_count": 120,
     "metadata": {},
     "output_type": "execute_result"
    }
   ],
   "source": [
    "t = (1, 2)\n",
    "t"
   ]
  },
  {
   "cell_type": "markdown",
   "metadata": {},
   "source": [
    "但是tuple是不能修改的"
   ]
  },
  {
   "cell_type": "code",
   "execution_count": 121,
   "metadata": {
    "ExecuteTime": {
     "end_time": "2018-01-25T15:05:00.455000Z",
     "start_time": "2018-01-25T15:05:00.440000Z"
    }
   },
   "outputs": [
    {
     "ename": "TypeError",
     "evalue": "'tuple' object does not support item assignment",
     "output_type": "error",
     "traceback": [
      "\u001b[0;31m---------------------------------------------------------------------------\u001b[0m",
      "\u001b[0;31mTypeError\u001b[0m                                 Traceback (most recent call last)",
      "\u001b[0;32m<ipython-input-121-724a2335dedd>\u001b[0m in \u001b[0;36m<module>\u001b[0;34m()\u001b[0m\n\u001b[0;32m----> 1\u001b[0;31m \u001b[0mt\u001b[0m\u001b[0;34m[\u001b[0m\u001b[0;36m0\u001b[0m\u001b[0;34m]\u001b[0m \u001b[0;34m=\u001b[0m \u001b[0;36m3\u001b[0m\u001b[0;34m\u001b[0m\u001b[0m\n\u001b[0m",
      "\u001b[0;31mTypeError\u001b[0m: 'tuple' object does not support item assignment"
     ]
    }
   ],
   "source": [
    "t[0] = 3"
   ]
  },
  {
   "cell_type": "markdown",
   "metadata": {},
   "source": [
    "有多种创建方式"
   ]
  },
  {
   "cell_type": "code",
   "execution_count": null,
   "metadata": {
    "ExecuteTime": {
     "end_time": "2018-01-25T15:05:36.545000Z",
     "start_time": "2018-01-25T15:05:36.539000Z"
    }
   },
   "outputs": [],
   "source": [
    "t = (1, 2)\n",
    "t = 1, 2 \n",
    "t = tuple([1, 2])"
   ]
  },
  {
   "cell_type": "markdown",
   "metadata": {
    "ExecuteTime": {
     "end_time": "2018-01-25T15:06:15.252000Z",
     "start_time": "2018-01-25T15:06:15.244000Z"
    }
   },
   "source": [
    "如果tuple只有一个元素，必须在元素的结尾添加逗号"
   ]
  },
  {
   "cell_type": "code",
   "execution_count": null,
   "metadata": {
    "ExecuteTime": {
     "end_time": "2018-01-25T15:06:42.542000Z",
     "start_time": "2018-01-25T15:06:42.532000Z"
    }
   },
   "outputs": [],
   "source": [
    "t = (1) # 不会创建tuple, 结果创建了一个int 1\n",
    "t"
   ]
  },
  {
   "cell_type": "code",
   "execution_count": null,
   "metadata": {
    "ExecuteTime": {
     "end_time": "2018-01-25T15:06:56.896000Z",
     "start_time": "2018-01-25T15:06:56.890000Z"
    }
   },
   "outputs": [],
   "source": [
    "t = (1,) #会创建tuple, 里面有一个int 1\n",
    "t"
   ]
  },
  {
   "cell_type": "markdown",
   "metadata": {},
   "source": [
    "对应的，python代码中要小心不要错误的使用逗号， 例如下面把字符串首字母大写的代码"
   ]
  },
  {
   "cell_type": "code",
   "execution_count": null,
   "metadata": {
    "ExecuteTime": {
     "end_time": "2018-01-25T15:07:58.721000Z",
     "start_time": "2018-01-25T15:07:58.713000Z"
    }
   },
   "outputs": [],
   "source": [
    "name = 'john'\n",
    "name.capitalize()"
   ]
  },
  {
   "cell_type": "markdown",
   "metadata": {
    "ExecuteTime": {
     "end_time": "2018-01-25T15:10:14.987000Z",
     "start_time": "2018-01-25T15:10:14.970000Z"
    }
   },
   "source": [
    "下面的代码会出错，因为name指向的不在是'John'这个字符串，而是一个tuple。 这也是之前分行定义代码时每行之间不能添加逗号的原因，那样定义的就不是一个字符串，而是tuple"
   ]
  },
  {
   "cell_type": "code",
   "execution_count": null,
   "metadata": {
    "ExecuteTime": {
     "end_time": "2018-01-25T15:11:03.111000Z",
     "start_time": "2018-01-25T15:11:03.102000Z"
    }
   },
   "outputs": [],
   "source": [
    "name = 'john',  #小心别不小心在代码中添加不该加的逗号\n",
    "name.capitalize()"
   ]
  },
  {
   "cell_type": "code",
   "execution_count": null,
   "metadata": {
    "ExecuteTime": {
     "end_time": "2018-01-25T15:11:06.557000Z",
     "start_time": "2018-01-25T15:11:06.545000Z"
    }
   },
   "outputs": [],
   "source": [
    "name = 'john',  #不要创建tuple的时候别加逗号\n",
    "name[0].capitalize()"
   ]
  },
  {
   "cell_type": "markdown",
   "metadata": {
    "ExecuteTime": {
     "end_time": "2018-01-25T15:15:37.991000Z",
     "start_time": "2018-01-25T15:15:37.982000Z"
    }
   },
   "source": [
    "一个常见的需求是将tuple中的数据拆掉包装，定义给不同的变量。 例如下面的tuple, 我们希望把里面的数据分别用record_id, name, age去接收"
   ]
  },
  {
   "cell_type": "code",
   "execution_count": null,
   "metadata": {
    "ExecuteTime": {
     "end_time": "2018-01-26T06:16:44.279000Z",
     "start_time": "2018-01-26T06:16:44.259000Z"
    }
   },
   "outputs": [],
   "source": [
    "record = (1, ('John', 32))"
   ]
  },
  {
   "cell_type": "markdown",
   "metadata": {},
   "source": [
    "下面这样是可以的"
   ]
  },
  {
   "cell_type": "code",
   "execution_count": null,
   "metadata": {
    "ExecuteTime": {
     "end_time": "2018-01-26T06:16:45.587000Z",
     "start_time": "2018-01-26T06:16:45.576000Z"
    }
   },
   "outputs": [],
   "source": [
    "record_id = record[0]\n",
    "name = record[1][0]\n",
    "age = record[1][1]"
   ]
  },
  {
   "cell_type": "markdown",
   "metadata": {},
   "source": [
    "但是这里可以用tuple unpacking的技巧让代码更加的简洁"
   ]
  },
  {
   "cell_type": "code",
   "execution_count": null,
   "metadata": {
    "ExecuteTime": {
     "end_time": "2018-01-26T06:17:12.628000Z",
     "start_time": "2018-01-26T06:17:12.597000Z"
    }
   },
   "outputs": [],
   "source": [
    "record_id, (name, age) = record\n",
    "\n",
    "print(record_id)\n",
    "print(name)\n",
    "print(age)"
   ]
  },
  {
   "cell_type": "markdown",
   "metadata": {
    "ExecuteTime": {
     "end_time": "2018-01-25T15:17:02.636000Z",
     "start_time": "2018-01-25T15:17:02.627000Z"
    }
   },
   "source": [
    "这里的关键是让左边的变量组成和右边结构一样的tuple即可"
   ]
  },
  {
   "cell_type": "markdown",
   "metadata": {},
   "source": [
    "另一个经典应用, 交换a, b的数值。 这个在C语言中是一个经典的练习，必须借助中间变量完成。"
   ]
  },
  {
   "cell_type": "code",
   "execution_count": null,
   "metadata": {
    "ExecuteTime": {
     "end_time": "2018-01-25T15:19:01.123000Z",
     "start_time": "2018-01-25T15:19:01.108000Z"
    }
   },
   "outputs": [],
   "source": [
    "a = 1\n",
    "b = 2\n",
    "\n",
    "tmp = a\n",
    "a = b\n",
    "b = tmp\n",
    "\n",
    "print(a, b)"
   ]
  },
  {
   "cell_type": "markdown",
   "metadata": {
    "ExecuteTime": {
     "end_time": "2018-01-25T15:19:09.002000Z",
     "start_time": "2018-01-25T15:19:08.987000Z"
    }
   },
   "source": [
    "python中利用tuple unpacking只需要"
   ]
  },
  {
   "cell_type": "code",
   "execution_count": null,
   "metadata": {
    "ExecuteTime": {
     "end_time": "2018-01-25T15:20:13.187000Z",
     "start_time": "2018-01-25T15:20:13.177000Z"
    }
   },
   "outputs": [],
   "source": [
    "a, b = b, a # 别忘了b, a也是定义了一个tuple哦\n",
    "\n",
    "print(a, b)"
   ]
  },
  {
   "cell_type": "markdown",
   "metadata": {},
   "source": [
    "等价但是看上去啰嗦些的方式"
   ]
  },
  {
   "cell_type": "code",
   "execution_count": null,
   "metadata": {},
   "outputs": [],
   "source": [
    "(a, b) = (b, a) # 别忘了b, a也是定义了一个tuple哦\n",
    "\n",
    "print(a, b)"
   ]
  },
  {
   "cell_type": "markdown",
   "metadata": {
    "ExecuteTime": {
     "end_time": "2018-01-25T15:20:32.062000Z",
     "start_time": "2018-01-25T15:20:32.049000Z"
    }
   },
   "source": [
    "甚至可以一次交换多个变量的数值"
   ]
  },
  {
   "cell_type": "code",
   "execution_count": null,
   "metadata": {
    "ExecuteTime": {
     "end_time": "2018-01-12T08:01:41.550352Z",
     "start_time": "2018-01-12T08:01:41.541352Z"
    }
   },
   "outputs": [],
   "source": [
    "a = 1\n",
    "b = 2\n",
    "c = 3\n",
    "\n",
    "b, c, a = a, b, c\n",
    "\n",
    "print(a)\n",
    "print(b)\n",
    "print(c)"
   ]
  },
  {
   "cell_type": "markdown",
   "metadata": {},
   "source": [
    "## for循环\n",
    "\n",
    "编程之所以有自动化重复冗余工作的潜力，很大程度上归功于能够自动的对一个范围，或者一个容器中的数据自动的一个一个的访问，并且进行某种操作。\n",
    "\n",
    "python中for循环语法可以很方便的对list或者tuple中每一个元素进行遍历。"
   ]
  },
  {
   "cell_type": "code",
   "execution_count": null,
   "metadata": {
    "ExecuteTime": {
     "end_time": "2018-01-25T15:29:21.480000Z",
     "start_time": "2018-01-25T15:29:21.471000Z"
    }
   },
   "outputs": [],
   "source": [
    "names = ['Amanda', 'Jack', 'Lily', 'Ben', 'Jay']\n",
    "\n",
    "for name in names: # 定义for循环，这里names是包含多个数据的容器，name是每次访问一个容器中的数据后，临时给他的变量名。\n",
    "    new_name = name.capitalize() # 定义每次访问了一个元素后，要做什么操作。这里我们将name首字母大写并print\n",
    "    print(new_name)"
   ]
  },
  {
   "cell_type": "markdown",
   "metadata": {
    "ExecuteTime": {
     "end_time": "2018-01-25T15:29:31.572000Z",
     "start_time": "2018-01-25T15:29:31.562000Z"
    }
   },
   "source": [
    "这里语法上要注意:\n",
    "* 定义for循环的行最后一定用':'结尾\n",
    "* 定义for循环内容的部分，一定要有缩进\n",
    "\n",
    "\n",
    "python中有个规律, 一旦结尾需要:结尾， 那么下面的代码也需要有一级缩进"
   ]
  },
  {
   "cell_type": "code",
   "execution_count": null,
   "metadata": {
    "ExecuteTime": {
     "end_time": "2018-01-25T15:34:21.170000Z",
     "start_time": "2018-01-25T15:34:21.163000Z"
    },
    "code_folding": []
   },
   "outputs": [],
   "source": [
    "for name in names: #注意结尾的:\n",
    "    new_name = name.capitalize() #这里开始相对for循环的定义行，要有一级缩进\n",
    "    print(new_name)    \n",
    "print('This line is out of for loop') # 从缩进就可以看出，这一行不属于for循环的内容"
   ]
  },
  {
   "cell_type": "markdown",
   "metadata": {},
   "source": [
    "注意前面介绍的tuple unpacking的技巧，可以用在for循环中哟"
   ]
  },
  {
   "cell_type": "code",
   "execution_count": null,
   "metadata": {
    "ExecuteTime": {
     "end_time": "2018-01-26T06:18:01.439000Z",
     "start_time": "2018-01-26T06:18:01.411000Z"
    }
   },
   "outputs": [],
   "source": [
    "records = [\n",
    "    (1, ('John', 32, 'male')),\n",
    "    (2, ('Tom', 19, 'male')),\n",
    "    (3, ('Lily', 23, 'female'))\n",
    "]\n",
    "\n",
    "\n",
    "for record_id, (name, age, sex) in records:\n",
    "    print(name, age, sex)"
   ]
  },
  {
   "cell_type": "markdown",
   "metadata": {
    "ExecuteTime": {
     "end_time": "2018-01-26T06:18:50.248000Z",
     "start_time": "2018-01-26T06:18:50.221000Z"
    }
   },
   "source": [
    "上面的简便写法和下面是一样的。"
   ]
  },
  {
   "cell_type": "code",
   "execution_count": null,
   "metadata": {
    "ExecuteTime": {
     "end_time": "2018-01-26T06:18:31.708000Z",
     "start_time": "2018-01-26T06:18:31.686000Z"
    }
   },
   "outputs": [],
   "source": [
    "for record in records:\n",
    "    record_id, (name, age, sex) = record\n",
    "    print(name, age, sex)"
   ]
  },
  {
   "cell_type": "markdown",
   "metadata": {},
   "source": [
    "## 条件判断\n",
    "循环给编程带来了代替人工，自动化做重复劳动的能力。 那么条件判断则给编程带来根据不同的场景，做出不同处理的重要能力。\n",
    "\n",
    "下面的代码中，我们希望判断数字是奇数还是偶数。"
   ]
  },
  {
   "cell_type": "code",
   "execution_count": null,
   "metadata": {
    "ExecuteTime": {
     "end_time": "2018-01-25T16:01:39.929000Z",
     "start_time": "2018-01-25T16:01:39.902000Z"
    }
   },
   "outputs": [],
   "source": [
    "x = 3\n",
    "\n",
    "# if必须的， elif和else可选的\n",
    "if x % 2 == 1: # 除以二以后余数是1，那么执行下面分值的语句\n",
    "    print('x is odd number')\n",
    "elif x % 2 == 0: # 偶数除以二以后余数是0，那么执行下面分值的语句\n",
    "    print('x is even number')\n",
    "else: # 如果上面所有的情况都不满足，，那么执行下面分值的语句\n",
    "    print('x is not integer')   \n",
    "    "
   ]
  },
  {
   "cell_type": "markdown",
   "metadata": {
    "ExecuteTime": {
     "end_time": "2018-01-25T15:57:11.248000Z",
     "start_time": "2018-01-25T15:57:11.231000Z"
    }
   },
   "source": [
    "这里有几点要注意的地方:\n",
    "* 这里注意, 判断一个变量是否等于某个数值的时候， 用\"==\"， 而不是\"=\"\n",
    "* 关于结尾的\":\"，以及接下来的一级缩进，和for循环是类似的。\n",
    "* if条件判断的多个分支中，只有一个会被执行\n",
    "* if和elif部分，都需要提供条件判断的语句；else不需要"
   ]
  },
  {
   "cell_type": "markdown",
   "metadata": {
    "ExecuteTime": {
     "end_time": "2018-01-25T16:01:53.801000Z",
     "start_time": "2018-01-25T16:01:53.791000Z"
    }
   },
   "source": [
    "if语句中, elif和else都是可选的部分，不一定非要有。"
   ]
  },
  {
   "cell_type": "code",
   "execution_count": null,
   "metadata": {
    "ExecuteTime": {
     "end_time": "2018-01-25T16:03:26.187000Z",
     "start_time": "2018-01-25T16:03:26.181000Z"
    }
   },
   "outputs": [],
   "source": [
    "x = 0\n",
    "if x == 0:\n",
    "    print('x is 0')    "
   ]
  },
  {
   "cell_type": "markdown",
   "metadata": {
    "ExecuteTime": {
     "end_time": "2018-01-12T05:23:51.104800Z",
     "start_time": "2018-01-12T05:23:51.093800Z"
    }
   },
   "source": [
    "一个常见的需求是，将若干简单的条件判断组合成一个复杂的条件判断。可以用and表示且，or表示或,not表示否"
   ]
  },
  {
   "cell_type": "code",
   "execution_count": null,
   "metadata": {
    "ExecuteTime": {
     "end_time": "2018-01-25T16:04:44.491000Z",
     "start_time": "2018-01-25T16:04:44.473000Z"
    }
   },
   "outputs": [],
   "source": [
    "x = 5\n",
    "\n",
    "print((x > 3) and (x % 2 == 0) )\n",
    "print((x > 3) or (x % 2 == 0))\n",
    "print(not (x > 3))\n"
   ]
  },
  {
   "cell_type": "markdown",
   "metadata": {},
   "source": [
    "建议用含义明确的变量名代替逻辑表达式， 让代码容易理解"
   ]
  },
  {
   "cell_type": "code",
   "execution_count": null,
   "metadata": {
    "ExecuteTime": {
     "end_time": "2018-01-25T16:05:02.753000Z",
     "start_time": "2018-01-25T16:05:02.744000Z"
    }
   },
   "outputs": [],
   "source": [
    "bigger_than_3 = x > 3\n",
    "is_even = (x % 2 == 0)\n",
    "\n",
    "print(bigger_than_3 and is_even)\n",
    "print(bigger_than_3 or is_even)\n",
    "print(not bigger_than_3)"
   ]
  },
  {
   "cell_type": "markdown",
   "metadata": {},
   "source": [
    "## 函数的定义"
   ]
  },
  {
   "cell_type": "markdown",
   "metadata": {
    "ExecuteTime": {
     "end_time": "2018-01-25T16:05:27.370000Z",
     "start_time": "2018-01-25T16:05:27.352000Z"
    }
   },
   "source": [
    "回到一开始海伦公式的例子"
   ]
  },
  {
   "cell_type": "code",
   "execution_count": null,
   "metadata": {
    "ExecuteTime": {
     "end_time": "2018-01-25T16:05:49.789000Z",
     "start_time": "2018-01-25T16:05:49.779000Z"
    }
   },
   "outputs": [],
   "source": [
    "a = 3\n",
    "b = 4\n",
    "c = 5\n",
    "\n",
    "half_perimeter = (a + b + c) / 2\n",
    "surface = (half_perimeter * (half_perimeter - a) * (half_perimeter - b) * (half_perimeter - c)) ** 0.5  "
   ]
  },
  {
   "cell_type": "markdown",
   "metadata": {
    "ExecuteTime": {
     "end_time": "2018-01-25T16:10:57.107000Z",
     "start_time": "2018-01-25T16:10:57.084000Z"
    }
   },
   "source": [
    "虽然这段代码做到了将可变成分和固定成分分离，但是如果代码中多次要使用这个计算怎么办？\n",
    "\n",
    "复制黏贴？好吧，是个办法。但是复制黏贴有很大的缺点。我们想对这代码进行修改的时候，例如在计算面积前先判断三角形的边长是否合理。如果用复制黏贴的方式，那么之后修改逻辑时，就得找到所有的相关代码进行修改。\n",
    "\n",
    "如果我们要重复利用一段相同的计算逻辑， 我们可以把相关的逻辑定义成一个函数，之后只要反复调用这个函数即可。"
   ]
  },
  {
   "cell_type": "code",
   "execution_count": null,
   "metadata": {
    "ExecuteTime": {
     "end_time": "2018-01-25T16:14:51.526000Z",
     "start_time": "2018-01-25T16:14:51.505000Z"
    }
   },
   "outputs": [],
   "source": [
    "# 用def关键词开始函数的定义\n",
    "def triagle_surface(a, b, c): # 函数定义的要素是，函数名，参数列表。\n",
    "    half_perimeter = (a + b + c) / 2\n",
    "    surface = (half_perimeter * (half_perimeter - a) * (half_perimeter - b) * (half_perimeter - c)) ** 0.5\n",
    "    \n",
    "    return surface # 记得将感兴趣的值用return返回"
   ]
  },
  {
   "cell_type": "code",
   "execution_count": null,
   "metadata": {
    "ExecuteTime": {
     "end_time": "2018-01-25T16:15:22.816000Z",
     "start_time": "2018-01-25T16:15:22.810000Z"
    }
   },
   "outputs": [],
   "source": [
    "triagle_surface(4, 5, 6)"
   ]
  },
  {
   "cell_type": "code",
   "execution_count": null,
   "metadata": {
    "ExecuteTime": {
     "end_time": "2018-01-25T16:15:31.189000Z",
     "start_time": "2018-01-25T16:15:31.165000Z"
    }
   },
   "outputs": [],
   "source": [
    "triagle_surface(3, 4, 5)"
   ]
  },
  {
   "cell_type": "markdown",
   "metadata": {
    "ExecuteTime": {
     "end_time": "2018-01-25T16:16:35.154000Z",
     "start_time": "2018-01-25T16:16:35.145000Z"
    }
   },
   "source": [
    "定义函数有很多好处，如果我们希望让这个函数计算面积前先检验三角形边长是否合理并提示，只需要修改函数的定义，不用修改调用这个函数的代码。"
   ]
  },
  {
   "cell_type": "code",
   "execution_count": null,
   "metadata": {
    "ExecuteTime": {
     "end_time": "2018-01-25T16:20:57.952000Z",
     "start_time": "2018-01-25T16:20:57.941000Z"
    }
   },
   "outputs": [],
   "source": [
    "# 用def关键词开始函数的定义\n",
    "def triagle_surface(a, b, c): # 函数定义的要素是，函数名，参数列表。\n",
    "    all_positive = (a > 0) and (b > 0) and (c > 0)\n",
    "    if (a + b > c) and (a + c > b) and (c + b > a) and all_positive:\n",
    "        print('Edge lengths are valid')\n",
    "    else:\n",
    "        print('Edge lengths are invalid')       \n",
    "    \n",
    "    \n",
    "    half_perimeter = (a + b + c) / 2\n",
    "    surface = (half_perimeter * (half_perimeter - a) * (half_perimeter - b) * (half_perimeter - c)) ** 0.5\n",
    "    \n",
    "    return surface # 记得将感兴趣的值用return返回"
   ]
  },
  {
   "cell_type": "code",
   "execution_count": null,
   "metadata": {
    "ExecuteTime": {
     "end_time": "2018-01-25T16:21:00.313000Z",
     "start_time": "2018-01-25T16:21:00.301000Z"
    }
   },
   "outputs": [],
   "source": [
    "triagle_surface(4, 5, 6)"
   ]
  },
  {
   "cell_type": "code",
   "execution_count": null,
   "metadata": {
    "ExecuteTime": {
     "end_time": "2018-01-25T16:21:00.946000Z",
     "start_time": "2018-01-25T16:21:00.935000Z"
    }
   },
   "outputs": [],
   "source": [
    "triagle_surface(4, 5, 11)"
   ]
  },
  {
   "cell_type": "markdown",
   "metadata": {
    "ExecuteTime": {
     "end_time": "2018-01-25T16:21:58.916000Z",
     "start_time": "2018-01-25T16:21:58.887000Z"
    }
   },
   "source": [
    "此外，定义函数后，可以通过取合适的函数名表达意图，忽略不重要的细节。上面定义了这个函数后，我们很明确的知道目的是用三角形的三条边计算面积，不必每次都要和计算的细节逻辑纠缠在一起。"
   ]
  },
  {
   "cell_type": "markdown",
   "metadata": {},
   "source": [
    "此外，函数中的变量名有自己的作用域，可以和函数外的变量名隔离。这样不同地方的变量名就不容易\"撞车\"。\n",
    "\n",
    "打个比方，如果A， B两个班级都有叫”蔡俊杰“的学生。A班上课的时候，老师提问叫”蔡俊杰“的时候，大家都知道指的不是B班的”蔡俊杰“，因为大家知道（可能是潜意识的），老师只会叫A班中的学生。"
   ]
  },
  {
   "cell_type": "code",
   "execution_count": null,
   "metadata": {},
   "outputs": [],
   "source": [
    "def add_one(x):\n",
    "    x  = x + 1\n",
    "    print('x result in add_one')\n",
    "    print(x)\n",
    "    return x\n",
    "\n",
    "def add_two(x):\n",
    "    x = x + 2\n",
    "    print('x result in add_two')    \n",
    "    print(x)\n",
    "    return x\n",
    "    \n",
    "x = 2\n",
    "\n",
    "y = add_one(x)\n",
    "z = add_two(x)\n",
    "\n",
    "print(x)"
   ]
  },
  {
   "cell_type": "markdown",
   "metadata": {},
   "source": [
    "函数中如果用到了一个变量名，但是函数中找不到的话，会尝试找函数外定义的变量名。"
   ]
  },
  {
   "cell_type": "code",
   "execution_count": null,
   "metadata": {},
   "outputs": [],
   "source": [
    "x = 1\n",
    "\n",
    "def add(y):\n",
    "    return y + x\n",
    "\n",
    "def subtract(y):\n",
    "    return y - x\n",
    "\n",
    "print(add(10))\n",
    "print(subtract(10))"
   ]
  },
  {
   "cell_type": "markdown",
   "metadata": {},
   "source": [
    "虽然这么做会带来一些方便， 例如多个函数都需要接受x， 用上面的方法可以让函数的参数列表得到简化"
   ]
  },
  {
   "cell_type": "code",
   "execution_count": null,
   "metadata": {},
   "outputs": [],
   "source": [
    "x = 1\n",
    "\n",
    "def add(y, x):\n",
    "    return y + x\n",
    "\n",
    "def subtract(y, x):\n",
    "    return y - x\n",
    "\n",
    "print(add(10, x))\n",
    "print(subtract(10, x))"
   ]
  },
  {
   "cell_type": "markdown",
   "metadata": {},
   "source": [
    "但是请避免这样使用，因为这会导致函数无法移植到其他代码，让代码难以被重复利用。之后我们有更好的策略去解决避免在多个函数重复定义和传入相同的函数的问题。"
   ]
  },
  {
   "cell_type": "markdown",
   "metadata": {
    "ExecuteTime": {
     "end_time": "2018-01-25T16:27:12.158000Z",
     "start_time": "2018-01-25T16:27:12.151000Z"
    }
   },
   "source": [
    "调用的参数的时候，传入的数据是根据位置和参数列表的变量名匹配的。这种参数被称为positional arguments"
   ]
  },
  {
   "cell_type": "code",
   "execution_count": null,
   "metadata": {
    "ExecuteTime": {
     "end_time": "2018-01-25T16:26:09.015000Z",
     "start_time": "2018-01-25T16:26:08.996000Z"
    }
   },
   "outputs": [],
   "source": [
    "def my_function(a, b, c):\n",
    "    return a + b * c\n",
    "\n",
    "my_function(1, 2, 3) # 1对应a, 2对应b, 3对应c"
   ]
  },
  {
   "cell_type": "markdown",
   "metadata": {},
   "source": [
    "除此之外，定义函数的时候也可以定义一些keyword arguments，这部分参数可以提供默认值，调用时不指定这部分参数的数值，就会采用默认值。"
   ]
  },
  {
   "cell_type": "code",
   "execution_count": null,
   "metadata": {
    "ExecuteTime": {
     "end_time": "2018-01-25T16:28:41.253000Z",
     "start_time": "2018-01-25T16:28:41.248000Z"
    }
   },
   "outputs": [],
   "source": [
    "def my_power_function(x, p=3):\n",
    "    return x ** p"
   ]
  },
  {
   "cell_type": "code",
   "execution_count": null,
   "metadata": {
    "ExecuteTime": {
     "end_time": "2018-01-25T16:29:07.151000Z",
     "start_time": "2018-01-25T16:29:07.130000Z"
    }
   },
   "outputs": [],
   "source": [
    "my_power_function(2, p=4)"
   ]
  },
  {
   "cell_type": "code",
   "execution_count": null,
   "metadata": {
    "ExecuteTime": {
     "end_time": "2018-01-25T16:29:03.410000Z",
     "start_time": "2018-01-25T16:29:03.405000Z"
    }
   },
   "outputs": [],
   "source": [
    "my_power_function(2)"
   ]
  },
  {
   "cell_type": "code",
   "execution_count": null,
   "metadata": {},
   "outputs": [],
   "source": []
  }
 ],
 "metadata": {
  "kernelspec": {
   "display_name": "Python 3",
   "language": "python",
   "name": "python3"
  },
  "language_info": {
   "codemirror_mode": {
    "name": "ipython",
    "version": 3
   },
   "file_extension": ".py",
   "mimetype": "text/x-python",
   "name": "python",
   "nbconvert_exporter": "python",
   "pygments_lexer": "ipython3",
   "version": "3.7.1"
  },
  "toc": {
   "base_numbering": 1,
   "nav_menu": {},
   "number_sections": true,
   "sideBar": true,
   "skip_h1_title": false,
   "title_cell": "Table of Contents",
   "title_sidebar": "Contents",
   "toc_cell": false,
   "toc_position": {
    "height": "calc(100% - 180px)",
    "left": "10px",
    "top": "150px",
    "width": "384px"
   },
   "toc_section_display": "block",
   "toc_window_display": true
  }
 },
 "nbformat": 4,
 "nbformat_minor": 2
}
