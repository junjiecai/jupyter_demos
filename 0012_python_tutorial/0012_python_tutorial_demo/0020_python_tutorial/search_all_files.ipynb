{
 "cells": [
  {
   "cell_type": "code",
   "execution_count": 5,
   "metadata": {},
   "outputs": [],
   "source": [
    "from os import listdir\n",
    "from os.path import join\n",
    "import re\n",
    "from pandas import DataFrame"
   ]
  },
  {
   "cell_type": "code",
   "execution_count": 6,
   "metadata": {},
   "outputs": [],
   "source": [
    "folder = 'output'\n",
    "patterns = ['心脏.*无震颤']\n",
    "\n",
    "match_result = []\n",
    "for file_name in listdir(folder):\n",
    "    if not file_name.endswith('.DS_Store'):\n",
    "        with open(join(folder, file_name)) as f:\n",
    "            texts = ''.join(f.readlines())\n",
    "            for pattern in patterns:\n",
    "                search_result = re.search(pattern, texts)\n",
    "                if search_result:\n",
    "                    start_index, end_index = search_result.span()\n",
    "                    match_result.append((file_name, texts[start_index:end_index]))\n",
    "                else:\n",
    "                    match_result.append((file_name, None))                    \n",
    "                \n",
    "                "
   ]
  },
  {
   "cell_type": "code",
   "execution_count": 7,
   "metadata": {
    "scrolled": false
   },
   "outputs": [],
   "source": [
    "DataFrame(match_result, columns = ['file_name', '心脏.*杂音']).to_excel('search_result.xlsx', index=True)"
   ]
  },
  {
   "cell_type": "code",
   "execution_count": null,
   "metadata": {},
   "outputs": [],
   "source": []
  }
 ],
 "metadata": {
  "kernelspec": {
   "display_name": "Python 3",
   "language": "python",
   "name": "python3"
  },
  "language_info": {
   "codemirror_mode": {
    "name": "ipython",
    "version": 3
   },
   "file_extension": ".py",
   "mimetype": "text/x-python",
   "name": "python",
   "nbconvert_exporter": "python",
   "pygments_lexer": "ipython3",
   "version": "3.6.5"
  },
  "toc": {
   "base_numbering": 1,
   "nav_menu": {},
   "number_sections": true,
   "sideBar": true,
   "skip_h1_title": false,
   "title_cell": "Table of Contents",
   "title_sidebar": "Contents",
   "toc_cell": false,
   "toc_position": {},
   "toc_section_display": true,
   "toc_window_display": false
  }
 },
 "nbformat": 4,
 "nbformat_minor": 2
}
