{
 "cells": [
  {
   "cell_type": "code",
   "execution_count": 1,
   "metadata": {},
   "outputs": [],
   "source": [
    "import pandas as pd\n",
    "from os.path import join, exists\n",
    "from os import makedirs"
   ]
  },
  {
   "cell_type": "code",
   "execution_count": 2,
   "metadata": {},
   "outputs": [],
   "source": [
    "# pull parameters out for easy reuse later\n",
    "excel_name = \"体格检查_result.xlsx\"\n",
    "target_col = 'tgjc'\n",
    "folder = 'output'"
   ]
  },
  {
   "cell_type": "code",
   "execution_count": 3,
   "metadata": {},
   "outputs": [],
   "source": [
    "df = pd.read_excel(excel_name)\n",
    "\n",
    "articels = list(df[target_col])\n",
    "\n",
    "# create folder if not exist\n",
    "if not exists(folder):\n",
    "    makedirs(folder)\n",
    "    \n",
    "# iterate through articales and save them in to txt files\n",
    "for i, article in enumerate(articels):\n",
    "    file_name = \"{}.txt\".format(str(i + 2))\n",
    "\n",
    "    # Use context manager to automatically close \n",
    "    #opened file after enclosing codes are done\n",
    "    with open(join(folder, file_name), 'w') as f: \n",
    "        article = article.replace('\\\\n', '\\n') # \\ is excaped in original string\n",
    "        f.write(article)"
   ]
  }
 ],
 "metadata": {
  "kernelspec": {
   "display_name": "Python 3",
   "language": "python",
   "name": "python3"
  },
  "language_info": {
   "codemirror_mode": {
    "name": "ipython",
    "version": 3
   },
   "file_extension": ".py",
   "mimetype": "text/x-python",
   "name": "python",
   "nbconvert_exporter": "python",
   "pygments_lexer": "ipython3",
   "version": "3.6.5"
  },
  "toc": {
   "base_numbering": 1,
   "nav_menu": {},
   "number_sections": true,
   "sideBar": true,
   "skip_h1_title": false,
   "title_cell": "Table of Contents",
   "title_sidebar": "Contents",
   "toc_cell": false,
   "toc_position": {},
   "toc_section_display": true,
   "toc_window_display": false
  }
 },
 "nbformat": 4,
 "nbformat_minor": 2
}
