{
 "cells": [
  {
   "cell_type": "code",
   "execution_count": 30,
   "metadata": {},
   "outputs": [],
   "source": [
    "import pandas as pd\n",
    "from bs4 import BeautifulSoup\n",
    "from os.path import exists, join\n",
    "from os import mkdir\n",
    "\n",
    "def get_history(text):\n",
    "    bs = BeautifulSoup(text, 'html5lib')\n",
    "    p_tag = bs.find('p', {'align':'LEFT', 'style':\"font-weight: normal\"})\n",
    "    if p_tag:\n",
    "        r = p_tag.findAll('span')\n",
    "        if r:\n",
    "            return ''.join([s.text for s in r])\n",
    "        else:\n",
    "            return None\n",
    "    else:\n",
    "        return None"
   ]
  },
  {
   "cell_type": "code",
   "execution_count": 31,
   "metadata": {},
   "outputs": [],
   "source": [
    "extracted_output = 'extracted'"
   ]
  },
  {
   "cell_type": "code",
   "execution_count": 32,
   "metadata": {
    "scrolled": false
   },
   "outputs": [],
   "source": [
    "if not exists(extracted_output):\n",
    "    mkdir(extracted_output)\n",
    "\n",
    "with open('入院记录.csv') as f:\n",
    "    texts = ''.join(f.readlines())\n",
    "\n",
    "texts = texts.split('<HTML>')\n",
    "new_texts = []\n",
    "\n",
    "new_texts.append(texts[0])\n",
    "for i, text in enumerate(texts[1:]):\n",
    "    text = \"<HTML>\" + text\n",
    "    text = text.replace('【','').replace('】','').replace('SPAN', 'span').replace('gb2312', 'utf8')\n",
    "    html_file_name = join(extracted_output, '{}.html'.format(str(i)))\n",
    "    txt_file_name = join(extracted_output, '{}.txt'.format(str(i)))    \n",
    "    \n",
    "    with open(html_file_name, 'w') as file:\n",
    "        file.write(text)\n",
    "\n",
    "    history = get_history(text)     \n",
    "    if history:\n",
    "        with open(txt_file_name, 'w') as file:\n",
    "            file.write(history)"
   ]
  }
 ],
 "metadata": {
  "kernelspec": {
   "display_name": "Python 3",
   "language": "python",
   "name": "python3"
  },
  "language_info": {
   "codemirror_mode": {
    "name": "ipython",
    "version": 3
   },
   "file_extension": ".py",
   "mimetype": "text/x-python",
   "name": "python",
   "nbconvert_exporter": "python",
   "pygments_lexer": "ipython3",
   "version": "3.6.5"
  },
  "toc": {
   "base_numbering": 1,
   "nav_menu": {},
   "number_sections": true,
   "sideBar": true,
   "skip_h1_title": false,
   "title_cell": "Table of Contents",
   "title_sidebar": "Contents",
   "toc_cell": false,
   "toc_position": {},
   "toc_section_display": true,
   "toc_window_display": false
  }
 },
 "nbformat": 4,
 "nbformat_minor": 2
}
