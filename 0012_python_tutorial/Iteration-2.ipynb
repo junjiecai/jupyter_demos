{
 "cells": [
  {
   "cell_type": "markdown",
   "metadata": {},
   "source": [
    "# 新的容器dict"
   ]
  },
  {
   "cell_type": "markdown",
   "metadata": {
    "ExecuteTime": {
     "end_time": "2018-01-26T05:54:19.522000Z",
     "start_time": "2018-01-26T05:54:19.513000Z"
    }
   },
   "source": [
    "上一次介绍过的list和tuple都是靠位置去定位，但有时候我们希望用不同的\"标签\"去定位相应的数据(key-value pair)，这时候我们可以用dict这个容器。"
   ]
  },
  {
   "cell_type": "code",
   "execution_count": 97,
   "metadata": {
    "ExecuteTime": {
     "end_time": "2018-01-26T06:21:12.208000Z",
     "start_time": "2018-01-26T06:21:12.189000Z"
    }
   },
   "outputs": [
    {
     "data": {
      "text/plain": [
       "{'a': 1, 'b': 2, 'c': 3}"
      ]
     },
     "execution_count": 97,
     "metadata": {},
     "output_type": "execute_result"
    }
   ],
   "source": [
    "d = { # 大括号\n",
    "    'a': 1,\n",
    "    'b': 2,\n",
    "    'c': 3,\n",
    "}\n",
    "\n",
    "d"
   ]
  },
  {
   "cell_type": "code",
   "execution_count": 99,
   "metadata": {
    "ExecuteTime": {
     "end_time": "2018-01-26T06:22:45.277463Z",
     "start_time": "2018-01-26T06:22:45.267464Z"
    }
   },
   "outputs": [
    {
     "data": {
      "text/plain": [
       "18"
      ]
     },
     "execution_count": 99,
     "metadata": {},
     "output_type": "execute_result"
    }
   ],
   "source": [
    "d = {\n",
    "    'John':32,\n",
    "    'Lily':18,\n",
    "    'Mary':33\n",
    "}\n",
    "\n",
    "d['Lily']"
   ]
  },
  {
   "cell_type": "markdown",
   "metadata": {
    "ExecuteTime": {
     "end_time": "2018-01-26T05:57:07.942000Z",
     "start_time": "2018-01-26T05:57:07.923000Z"
    }
   },
   "source": [
    "然后可以用相应的key去查找对应的value"
   ]
  },
  {
   "cell_type": "markdown",
   "metadata": {},
   "source": [
    "注意key不能重复"
   ]
  },
  {
   "cell_type": "code",
   "execution_count": 101,
   "metadata": {
    "ExecuteTime": {
     "end_time": "2018-01-26T06:23:01.817808Z",
     "start_time": "2018-01-26T06:23:01.796811Z"
    }
   },
   "outputs": [
    {
     "data": {
      "text/plain": [
       "{'a': 2}"
      ]
     },
     "execution_count": 101,
     "metadata": {},
     "output_type": "execute_result"
    }
   ],
   "source": [
    "d = {\n",
    "    'a':1,\n",
    "    'a':2\n",
    "}\n",
    "\n",
    "d"
   ]
  },
  {
   "cell_type": "markdown",
   "metadata": {},
   "source": [
    "value可以重复"
   ]
  },
  {
   "cell_type": "code",
   "execution_count": 102,
   "metadata": {
    "ExecuteTime": {
     "end_time": "2018-01-26T06:23:19.048085Z",
     "start_time": "2018-01-26T06:23:19.028087Z"
    }
   },
   "outputs": [
    {
     "data": {
      "text/plain": [
       "{'a': 1, 'b': 1}"
      ]
     },
     "execution_count": 102,
     "metadata": {},
     "output_type": "execute_result"
    }
   ],
   "source": [
    "d = {\n",
    "    'a':1,\n",
    "    'b':1\n",
    "}\n",
    "\n",
    "d"
   ]
  },
  {
   "cell_type": "markdown",
   "metadata": {},
   "source": [
    "# 面向对象编程"
   ]
  },
  {
   "cell_type": "markdown",
   "metadata": {},
   "source": [
    "假设我们有这样一个场景， 我们需要记录点的二维坐标，移动这个点，并且记录发打印这个点的移动轨迹。每个点有一个代表它的名字。\n",
    "\n",
    "\n",
    "经过一番设计， 我们决定\n",
    "\n",
    "* 可以用一个tuple去记录点的位置, tuple中的两个元素分别代表x, y坐标\n",
    "* list去记录点的轨迹, list中每个元素是一个位置的tuple\n",
    "* 设计两个函数去移动点和打印点的轨迹"
   ]
  },
  {
   "cell_type": "code",
   "execution_count": 103,
   "metadata": {
    "ExecuteTime": {
     "end_time": "2018-01-26T06:29:06.540000Z",
     "start_time": "2018-01-26T06:29:06.514000Z"
    }
   },
   "outputs": [],
   "source": [
    "def move_point(position, offset, trace):\n",
    "    x, y = position\n",
    "    \n",
    "    x_offset, y_offset = offset\n",
    "    \n",
    "    x = x + x_offset\n",
    "    y = y + y_offset\n",
    "    \n",
    "    trace.append((x, y))\n",
    "    \n",
    "    new_trace = trace.copy()\n",
    "    \n",
    "    return (x, y), trace\n",
    "\n",
    "\n",
    "def print_trace(trace, name):\n",
    "    print('trace of {}'.format(name))\n",
    "    for x, y in trace:\n",
    "        print(x, y) "
   ]
  },
  {
   "cell_type": "markdown",
   "metadata": {},
   "source": [
    "在上面函数的帮助下，完成这个任务"
   ]
  },
  {
   "cell_type": "code",
   "execution_count": 107,
   "metadata": {
    "ExecuteTime": {
     "end_time": "2018-01-26T06:32:58.226000Z",
     "start_time": "2018-01-26T06:32:58.185000Z"
    }
   },
   "outputs": [
    {
     "name": "stdout",
     "output_type": "stream",
     "text": [
      "trace of A\n",
      "1 1\n",
      "2 1\n",
      "0 5\n",
      "trace of B\n",
      "1 3\n",
      "3 3\n",
      "-2 -1\n"
     ]
    }
   ],
   "source": [
    "name_a = 'A'\n",
    "current_position_a = [0, 0]\n",
    "trace_a = []\n",
    "\n",
    "current_position_a, trace_a = move_point(current_position_a, (1, 1),  trace_a)\n",
    "current_position_a, trace_a = move_point(current_position_a, (1, 0),  trace_a)\n",
    "current_position_a, trace_a = move_point(current_position_a, (-2, 4),  trace_a)\n",
    "print_trace(trace_a, name_a)\n",
    "\n",
    "\n",
    "name_b = 'B'\n",
    "current_position_b = [0, 0]\n",
    "trace_b = []\n",
    "\n",
    "current_position_b, trace_b = move_point(current_position_b, (1, 3),  trace_b)\n",
    "current_position_b, trace_b = move_point(current_position_b, (2, 0),  trace_b)\n",
    "current_position_b, trace_b = move_point(current_position_b, (-5, -4),  trace_b)\n",
    "print_trace(trace_b, name_b)"
   ]
  },
  {
   "cell_type": "markdown",
   "metadata": {
    "ExecuteTime": {
     "end_time": "2018-01-26T05:04:14.118000Z",
     "start_time": "2018-01-26T05:04:14.105000Z"
    }
   },
   "source": [
    "虽然在函数的帮助下，已经隐藏了一部分复杂的细节。但是上面的代码还是会给头脑带来不少负担。\n",
    "\n",
    "一. 写上面代码的时候需要时刻记住一些比较底层的细节。\n",
    "* 点的位置是tuple记录信息的，第一位是x, 第二位是y\n",
    "* 轨迹trace是用list存储信息的，里面每一个元素是代表位置的tuple\n",
    "* 点的名称使用name储存的\n",
    "* move_point这个函数修改传入的current_position和trace, 并且返回复制后的值。\n",
    "\n",
    "\n",
    "二. 代码中存在很多变量的传递和返回， 看上去很乱。\n",
    "\n",
    "\n",
    "下面我们看看引入面向对象编程的类(Class)之后的代码"
   ]
  },
  {
   "cell_type": "code",
   "execution_count": 127,
   "metadata": {
    "ExecuteTime": {
     "end_time": "2018-01-26T06:56:33.240064Z",
     "start_time": "2018-01-26T06:56:33.213067Z"
    },
    "collapsed": true
   },
   "outputs": [],
   "source": [
    "class Point: # 用class关键词开始Class的定义，注意结尾的:和之后的缩进\n",
    "    def __init__(self, x, y, name): #每个class 都必须有 __init__，用于初始化数据。注意第一个参数必须是self\n",
    "        self.x = x #定义了self.x以后，之后所有的方法都可以访问self.x的数值\n",
    "        self.y = y\n",
    "        self.name = name\n",
    "        \n",
    "        self.trace = [\n",
    "            (x, y)\n",
    "        ]\n",
    "        \n",
    "    def move(self, x_offset, y_offset): # class中的方法第一个参数必须是self\n",
    "        self.x = self.x + x_offset\n",
    "        self.y = self.y + y_offset\n",
    "        \n",
    "        self.trace.append([self.x, self.y])\n",
    "        \n",
    "    def print_trace(self):  \n",
    "        print('trace of {}'.format(self.name))\n",
    "        for x, y in self.trace:\n",
    "            print(x, y)"
   ]
  },
  {
   "cell_type": "code",
   "execution_count": 122,
   "metadata": {
    "ExecuteTime": {
     "end_time": "2018-01-26T06:52:30.403000Z",
     "start_time": "2018-01-26T06:52:30.372000Z"
    }
   },
   "outputs": [
    {
     "name": "stdout",
     "output_type": "stream",
     "text": [
      "__init__ is called\n"
     ]
    }
   ],
   "source": [
    "class SimpleClass:\n",
    "    def __init__(self, x):\n",
    "        print('__init__ is called')\n",
    "        self.x = x\n",
    "        \n",
    "    def test(self): #方法(method)\n",
    "        print(self.x)\n",
    "        \n",
    "    def test_1(self):\n",
    "        print(self.x)        \n",
    "        \n",
    "sc = SimpleClass(2)"
   ]
  },
  {
   "cell_type": "markdown",
   "metadata": {
    "ExecuteTime": {
     "end_time": "2018-01-26T06:50:53.590000Z",
     "start_time": "2018-01-26T06:50:53.572000Z"
    }
   },
   "source": [
    "更具类的定义生成一个具体的对象"
   ]
  },
  {
   "cell_type": "code",
   "execution_count": 121,
   "metadata": {
    "ExecuteTime": {
     "end_time": "2018-01-26T06:50:58.700000Z",
     "start_time": "2018-01-26T06:50:58.686000Z"
    }
   },
   "outputs": [
    {
     "name": "stdout",
     "output_type": "stream",
     "text": [
      "__init__ is called\n",
      "2\n",
      "__init__ is called\n",
      "2\n"
     ]
    }
   ],
   "source": [
    "sc = SimpleClass(2)\n",
    "sc.test()\n",
    "\n",
    "sc_2 = SimpleClass(5)\n",
    "sc.test()"
   ]
  },
  {
   "cell_type": "markdown",
   "metadata": {
    "ExecuteTime": {
     "end_time": "2018-01-26T04:35:43.891000Z",
     "start_time": "2018-01-26T04:35:43.876000Z"
    }
   },
   "source": [
    "面向对象版本的代码， 是不是简洁很多？\n",
    "\n",
    "想一下我们的电视机，如果没有外壳，而是把里面的线路板和电线暴露出来，那么使用的时候会多困难。面向对象编程相当于电视机的外壳，把希望暴露给使用者的部分(电源按钮，换台按钮)和内部的细节隐藏了起来。"
   ]
  },
  {
   "cell_type": "code",
   "execution_count": 130,
   "metadata": {
    "ExecuteTime": {
     "end_time": "2018-01-26T06:57:46.537733Z",
     "start_time": "2018-01-26T06:57:46.504737Z"
    }
   },
   "outputs": [
    {
     "name": "stdout",
     "output_type": "stream",
     "text": [
      "trace of A\n",
      "0 0\n",
      "1 1\n",
      "2 1\n",
      "0 -3\n",
      "trace of B\n",
      "0 0\n",
      "1 3\n",
      "3 3\n",
      "-2 -1\n"
     ]
    }
   ],
   "source": [
    "point_a = Point(0, 0, 'A')\n",
    "\n",
    "\n",
    "point_a.move(1, 1)\n",
    "point_a.move(1, 0)\n",
    "point_a.move(-2, -4)\n",
    "point_a.print_trace()\n",
    "\n",
    "\n",
    "point_b = Point(0, 0, 'B')\n",
    "point_b.move(1, 3)\n",
    "point_b.move(2, 0)\n",
    "point_b.move(-5, -4)\n",
    "point_b.print_trace()"
   ]
  },
  {
   "cell_type": "markdown",
   "metadata": {
    "ExecuteTime": {
     "end_time": "2018-01-26T05:15:50.855000Z",
     "start_time": "2018-01-26T05:15:50.837000Z"
    }
   },
   "source": [
    "注意, 使用面向对象定义的method的时候，用的是object.method_name()这样的语法。\n",
    "\n",
    "\n",
    "同时，也可以用object.attribute访问object里面的属性。(通过self.xxx定义)"
   ]
  },
  {
   "cell_type": "code",
   "execution_count": 131,
   "metadata": {
    "ExecuteTime": {
     "end_time": "2018-01-26T06:57:49.248462Z",
     "start_time": "2018-01-26T06:57:49.229464Z"
    }
   },
   "outputs": [
    {
     "data": {
      "text/plain": [
       "-2"
      ]
     },
     "execution_count": 131,
     "metadata": {},
     "output_type": "execute_result"
    }
   ],
   "source": [
    "point_b.x"
   ]
  },
  {
   "cell_type": "markdown",
   "metadata": {},
   "source": [
    "可以看到面向对象版本的代码可以更有效的隐藏了底层复杂的细节，能让使用者更专注于高层的意图，降低思维负担。\n",
    "\n",
    "大家目前可以先不用去用Class写自己的代码，但是至少以后遇到\"object.xxx\"这样的语法不要疑惑即可。"
   ]
  },
  {
   "cell_type": "markdown",
   "metadata": {},
   "source": [
    "# 认识pandas\n",
    "python之所以强大，很大程度上归功于python有大量成熟的开源第三方库可以使用，避免所有的代码都需要从头开始写，极大的节省了开发者的时间。\n",
    "\n",
    "其中，pandas就是python下做数据分析和数据清洗非常优秀的一个库。\n",
    "\n",
    "和tuple, list等python内置的函数不同，要使用pandas，需要先安装pandas(Anaconda已经帮忙装好)并且在代码中导入pandas。"
   ]
  },
  {
   "cell_type": "code",
   "execution_count": 2,
   "metadata": {
    "ExecuteTime": {
     "end_time": "2018-01-26T07:15:46.783000Z",
     "start_time": "2018-01-26T07:15:46.174000Z"
    },
    "collapsed": true
   },
   "outputs": [],
   "source": [
    "import pandas as pd # 导入库，并且重新命名"
   ]
  },
  {
   "cell_type": "markdown",
   "metadata": {},
   "source": [
    "## Series"
   ]
  },
  {
   "cell_type": "markdown",
   "metadata": {
    "ExecuteTime": {
     "end_time": "2018-01-26T05:27:16.475000Z",
     "start_time": "2018-01-26T05:27:16.460000Z"
    }
   },
   "source": [
    "下面演示一下pandas里面用于储存一位数据的class, Series"
   ]
  },
  {
   "cell_type": "code",
   "execution_count": 7,
   "metadata": {
    "ExecuteTime": {
     "end_time": "2018-01-26T07:17:28.097000Z",
     "start_time": "2018-01-26T07:17:28.070000Z"
    }
   },
   "outputs": [
    {
     "data": {
      "text/plain": [
       "a    1\n",
       "b    2\n",
       "c    3\n",
       "d    4\n",
       "e    5\n",
       "f    5\n",
       "g    3\n",
       "dtype: int64"
      ]
     },
     "execution_count": 7,
     "metadata": {},
     "output_type": "execute_result"
    }
   ],
   "source": [
    "s = pd.Series([1, 2, 3, 4, 5, 5, 3], index=['a', 'b', 'c', 'd', 'e', 'f', 'g']) \n",
    "s"
   ]
  },
  {
   "cell_type": "markdown",
   "metadata": {},
   "source": [
    "Series中提供了大量的method，用于分析和统计数据"
   ]
  },
  {
   "cell_type": "code",
   "execution_count": 8,
   "metadata": {
    "ExecuteTime": {
     "end_time": "2018-01-26T07:17:52.791000Z",
     "start_time": "2018-01-26T07:17:52.762000Z"
    }
   },
   "outputs": [
    {
     "data": {
      "text/plain": [
       "3.2857142857142856"
      ]
     },
     "execution_count": 8,
     "metadata": {},
     "output_type": "execute_result"
    }
   ],
   "source": [
    "s.mean()"
   ]
  },
  {
   "cell_type": "code",
   "execution_count": 9,
   "metadata": {
    "ExecuteTime": {
     "end_time": "2018-01-26T07:17:56.502000Z",
     "start_time": "2018-01-26T07:17:56.467000Z"
    }
   },
   "outputs": [
    {
     "data": {
      "text/plain": [
       "5    2\n",
       "3    2\n",
       "4    1\n",
       "2    1\n",
       "1    1\n",
       "dtype: int64"
      ]
     },
     "execution_count": 9,
     "metadata": {},
     "output_type": "execute_result"
    }
   ],
   "source": [
    "s.value_counts()"
   ]
  },
  {
   "cell_type": "code",
   "execution_count": 10,
   "metadata": {
    "ExecuteTime": {
     "end_time": "2018-01-26T07:19:49.956000Z",
     "start_time": "2018-01-26T07:19:49.923000Z"
    }
   },
   "outputs": [
    {
     "data": {
      "text/plain": [
       "5    0.285714\n",
       "3    0.285714\n",
       "4    0.142857\n",
       "2    0.142857\n",
       "1    0.142857\n",
       "dtype: float64"
      ]
     },
     "execution_count": 10,
     "metadata": {},
     "output_type": "execute_result"
    }
   ],
   "source": [
    "s.value_counts(normalize=True)"
   ]
  },
  {
   "cell_type": "markdown",
   "metadata": {
    "ExecuteTime": {
     "end_time": "2018-01-26T05:29:42.387731Z",
     "start_time": "2018-01-26T05:29:42.369732Z"
    }
   },
   "source": [
    "最大的值所在的index"
   ]
  },
  {
   "cell_type": "code",
   "execution_count": 11,
   "metadata": {
    "ExecuteTime": {
     "end_time": "2018-01-26T07:20:12.403000Z",
     "start_time": "2018-01-26T07:20:12.382000Z"
    }
   },
   "outputs": [
    {
     "data": {
      "text/plain": [
       "'e'"
      ]
     },
     "execution_count": 11,
     "metadata": {},
     "output_type": "execute_result"
    }
   ],
   "source": [
    "s.argmax()"
   ]
  },
  {
   "cell_type": "markdown",
   "metadata": {
    "ExecuteTime": {
     "end_time": "2018-01-26T05:29:59.499019Z",
     "start_time": "2018-01-26T05:29:59.481021Z"
    }
   },
   "source": [
    "选出最大的三个数字"
   ]
  },
  {
   "cell_type": "code",
   "execution_count": 12,
   "metadata": {
    "ExecuteTime": {
     "end_time": "2018-01-26T07:20:34.261000Z",
     "start_time": "2018-01-26T07:20:34.230000Z"
    }
   },
   "outputs": [
    {
     "data": {
      "text/plain": [
       "e    5\n",
       "f    5\n",
       "d    4\n",
       "dtype: int64"
      ]
     },
     "execution_count": 12,
     "metadata": {},
     "output_type": "execute_result"
    }
   ],
   "source": [
    "s.nlargest(3)"
   ]
  },
  {
   "cell_type": "markdown",
   "metadata": {},
   "source": [
    "积累求和"
   ]
  },
  {
   "cell_type": "code",
   "execution_count": 70,
   "metadata": {
    "ExecuteTime": {
     "end_time": "2018-01-26T05:33:39.430000Z",
     "start_time": "2018-01-26T05:33:39.419000Z"
    }
   },
   "outputs": [
    {
     "data": {
      "text/plain": [
       "a     1\n",
       "b     3\n",
       "c     6\n",
       "d    10\n",
       "e    15\n",
       "f    20\n",
       "g    23\n",
       "dtype: int64"
      ]
     },
     "execution_count": 70,
     "metadata": {},
     "output_type": "execute_result"
    }
   ],
   "source": [
    "s.cumsum()"
   ]
  },
  {
   "cell_type": "markdown",
   "metadata": {
    "ExecuteTime": {
     "end_time": "2018-01-26T05:41:18.596000Z",
     "start_time": "2018-01-26T05:41:18.576000Z"
    }
   },
   "source": [
    "逻辑运算"
   ]
  },
  {
   "cell_type": "code",
   "execution_count": 13,
   "metadata": {
    "ExecuteTime": {
     "end_time": "2018-01-26T07:21:11.640000Z",
     "start_time": "2018-01-26T07:21:11.604000Z"
    }
   },
   "outputs": [
    {
     "data": {
      "text/plain": [
       "a    False\n",
       "b     True\n",
       "c     True\n",
       "d     True\n",
       "e     True\n",
       "f     True\n",
       "g     True\n",
       "dtype: bool"
      ]
     },
     "execution_count": 13,
     "metadata": {},
     "output_type": "execute_result"
    }
   ],
   "source": [
    "s > 1"
   ]
  },
  {
   "cell_type": "markdown",
   "metadata": {},
   "source": [
    "Series可以参与运算, Series对自动去对齐index"
   ]
  },
  {
   "cell_type": "code",
   "execution_count": 15,
   "metadata": {
    "ExecuteTime": {
     "end_time": "2018-01-26T07:21:54.096000Z",
     "start_time": "2018-01-26T07:21:54.058000Z"
    }
   },
   "outputs": [
    {
     "data": {
      "text/plain": [
       "a    1\n",
       "b    2\n",
       "c    3\n",
       "dtype: int64"
      ]
     },
     "execution_count": 15,
     "metadata": {},
     "output_type": "execute_result"
    }
   ],
   "source": [
    "s_1 = pd.Series([1, 2, 3], index = ['a', 'b', 'c']) \n",
    "s_2 = pd.Series([2, 1, 4], index = ['b', 'a', 'd']) \n",
    "\n",
    "s_1"
   ]
  },
  {
   "cell_type": "code",
   "execution_count": 16,
   "metadata": {
    "ExecuteTime": {
     "end_time": "2018-01-26T07:21:57.359000Z",
     "start_time": "2018-01-26T07:21:57.335000Z"
    }
   },
   "outputs": [
    {
     "data": {
      "text/plain": [
       "b    2\n",
       "a    1\n",
       "d    4\n",
       "dtype: int64"
      ]
     },
     "execution_count": 16,
     "metadata": {},
     "output_type": "execute_result"
    }
   ],
   "source": [
    "s_2"
   ]
  },
  {
   "cell_type": "code",
   "execution_count": 17,
   "metadata": {
    "ExecuteTime": {
     "end_time": "2018-01-26T07:22:05.867000Z",
     "start_time": "2018-01-26T07:22:05.834000Z"
    }
   },
   "outputs": [
    {
     "data": {
      "text/plain": [
       "a    2.0\n",
       "b    4.0\n",
       "c    NaN\n",
       "d    NaN\n",
       "dtype: float64"
      ]
     },
     "execution_count": 17,
     "metadata": {},
     "output_type": "execute_result"
    }
   ],
   "source": [
    "s_1 + s_2"
   ]
  },
  {
   "cell_type": "markdown",
   "metadata": {},
   "source": [
    "保留选出>3的数值，形成新的Series"
   ]
  },
  {
   "cell_type": "code",
   "execution_count": 19,
   "metadata": {
    "ExecuteTime": {
     "end_time": "2018-01-26T07:25:11.696000Z",
     "start_time": "2018-01-26T07:25:11.662000Z"
    }
   },
   "outputs": [
    {
     "data": {
      "text/plain": [
       "d    4\n",
       "e    5\n",
       "f    5\n",
       "dtype: int64"
      ]
     },
     "execution_count": 19,
     "metadata": {},
     "output_type": "execute_result"
    }
   ],
   "source": [
    "s.loc[s > 3]"
   ]
  },
  {
   "cell_type": "code",
   "execution_count": 20,
   "metadata": {
    "ExecuteTime": {
     "end_time": "2018-01-26T07:26:19.830000Z",
     "start_time": "2018-01-26T07:26:19.810000Z"
    }
   },
   "outputs": [
    {
     "data": {
      "text/plain": [
       "a    1\n",
       "c    3\n",
       "d    4\n",
       "dtype: int64"
      ]
     },
     "execution_count": 20,
     "metadata": {},
     "output_type": "execute_result"
    }
   ],
   "source": [
    "s.loc[['a', 'c', 'd']]"
   ]
  },
  {
   "cell_type": "code",
   "execution_count": 22,
   "metadata": {
    "ExecuteTime": {
     "end_time": "2018-01-26T07:27:07.488000Z",
     "start_time": "2018-01-26T07:27:07.465000Z"
    }
   },
   "outputs": [
    {
     "data": {
      "text/plain": [
       "a    1\n",
       "c    3\n",
       "dtype: int64"
      ]
     },
     "execution_count": 22,
     "metadata": {},
     "output_type": "execute_result"
    }
   ],
   "source": [
    "s.iloc[[0, 2]]"
   ]
  },
  {
   "cell_type": "code",
   "execution_count": 30,
   "metadata": {
    "ExecuteTime": {
     "end_time": "2018-01-26T07:30:00.991000Z",
     "start_time": "2018-01-26T07:30:00.959000Z"
    }
   },
   "outputs": [
    {
     "data": {
      "text/plain": [
       "a    a\n",
       "0    b\n",
       "1    c\n",
       "dtype: object"
      ]
     },
     "execution_count": 30,
     "metadata": {},
     "output_type": "execute_result"
    }
   ],
   "source": [
    "ss = pd.Series(['a', 'b', 'c'], index = ['a', 0, 1])\n",
    "ss"
   ]
  },
  {
   "cell_type": "markdown",
   "metadata": {},
   "source": [
    "Series如果在代码中用的很多, 每次用pd.Series觉得麻烦，可以专门导入它a"
   ]
  },
  {
   "cell_type": "code",
   "execution_count": 38,
   "metadata": {
    "ExecuteTime": {
     "end_time": "2018-01-26T07:31:55.066000Z",
     "start_time": "2018-01-26T07:31:55.050000Z"
    },
    "collapsed": true
   },
   "outputs": [],
   "source": [
    "from pandas import Series as AAA"
   ]
  },
  {
   "cell_type": "code",
   "execution_count": 37,
   "metadata": {
    "ExecuteTime": {
     "end_time": "2018-01-26T07:31:45.191000Z",
     "start_time": "2018-01-26T07:31:45.178000Z"
    }
   },
   "outputs": [
    {
     "data": {
      "text/plain": [
       "0    A\n",
       "1    B\n",
       "2    C\n",
       "dtype: object"
      ]
     },
     "execution_count": 37,
     "metadata": {},
     "output_type": "execute_result"
    }
   ],
   "source": [
    "Series(['A', 'B', 'C'])"
   ]
  },
  {
   "cell_type": "code",
   "execution_count": 47,
   "metadata": {
    "ExecuteTime": {
     "end_time": "2018-01-26T07:37:27.771000Z",
     "start_time": "2018-01-26T07:37:27.753000Z"
    }
   },
   "outputs": [
    {
     "data": {
      "text/plain": [
       "'aa'"
      ]
     },
     "execution_count": 47,
     "metadata": {},
     "output_type": "execute_result"
    }
   ],
   "source": [
    "class Child:\n",
    "    def __init__(self, child_name):\n",
    "        self.name = child_name\n",
    "\n",
    "class Parent:\n",
    "    def __init__(self, child_name):\n",
    "        self.child = Child(child_name)\n",
    "        \n",
    "p = Parent('aa')    \n",
    "child = p.child\n",
    "\n",
    "child.name"
   ]
  },
  {
   "cell_type": "markdown",
   "metadata": {},
   "source": [
    "## DataFrame"
   ]
  },
  {
   "cell_type": "markdown",
   "metadata": {
    "ExecuteTime": {
     "end_time": "2018-01-26T05:36:19.492000Z",
     "start_time": "2018-01-26T05:36:19.469000Z"
    }
   },
   "source": [
    "DataFrame用于存储二维的数据表"
   ]
  },
  {
   "cell_type": "code",
   "execution_count": 50,
   "metadata": {
    "ExecuteTime": {
     "end_time": "2018-01-26T07:39:30.764000Z",
     "start_time": "2018-01-26T07:39:30.748000Z"
    },
    "collapsed": true
   },
   "outputs": [],
   "source": [
    "from pandas import DataFrame"
   ]
  },
  {
   "cell_type": "code",
   "execution_count": 52,
   "metadata": {
    "ExecuteTime": {
     "end_time": "2018-01-26T07:39:48.540000Z",
     "start_time": "2018-01-26T07:39:48.509000Z"
    }
   },
   "outputs": [
    {
     "data": {
      "text/html": [
       "<div>\n",
       "<style>\n",
       "    .dataframe thead tr:only-child th {\n",
       "        text-align: right;\n",
       "    }\n",
       "\n",
       "    .dataframe thead th {\n",
       "        text-align: left;\n",
       "    }\n",
       "\n",
       "    .dataframe tbody tr th {\n",
       "        vertical-align: top;\n",
       "    }\n",
       "</style>\n",
       "<table border=\"1\" class=\"dataframe\">\n",
       "  <thead>\n",
       "    <tr style=\"text-align: right;\">\n",
       "      <th></th>\n",
       "      <th>A</th>\n",
       "      <th>B</th>\n",
       "    </tr>\n",
       "  </thead>\n",
       "  <tbody>\n",
       "    <tr>\n",
       "      <th>0</th>\n",
       "      <td>1</td>\n",
       "      <td>a</td>\n",
       "    </tr>\n",
       "    <tr>\n",
       "      <th>1</th>\n",
       "      <td>2</td>\n",
       "      <td>b</td>\n",
       "    </tr>\n",
       "    <tr>\n",
       "      <th>2</th>\n",
       "      <td>3</td>\n",
       "      <td>c</td>\n",
       "    </tr>\n",
       "    <tr>\n",
       "      <th>3</th>\n",
       "      <td>4</td>\n",
       "      <td>d</td>\n",
       "    </tr>\n",
       "  </tbody>\n",
       "</table>\n",
       "</div>"
      ],
      "text/plain": [
       "   A  B\n",
       "0  1  a\n",
       "1  2  b\n",
       "2  3  c\n",
       "3  4  d"
      ]
     },
     "execution_count": 52,
     "metadata": {},
     "output_type": "execute_result"
    }
   ],
   "source": [
    "df = DataFrame({'A': [1,2,3,4], 'B': ['a','b','c','d']})\n",
    "df"
   ]
  },
  {
   "cell_type": "code",
   "execution_count": 54,
   "metadata": {
    "ExecuteTime": {
     "end_time": "2018-01-26T07:40:01.194000Z",
     "start_time": "2018-01-26T07:40:01.154000Z"
    }
   },
   "outputs": [
    {
     "data": {
      "text/html": [
       "<div>\n",
       "<style>\n",
       "    .dataframe thead tr:only-child th {\n",
       "        text-align: right;\n",
       "    }\n",
       "\n",
       "    .dataframe thead th {\n",
       "        text-align: left;\n",
       "    }\n",
       "\n",
       "    .dataframe tbody tr th {\n",
       "        vertical-align: top;\n",
       "    }\n",
       "</style>\n",
       "<table border=\"1\" class=\"dataframe\">\n",
       "  <thead>\n",
       "    <tr style=\"text-align: right;\">\n",
       "      <th></th>\n",
       "      <th>A</th>\n",
       "      <th>B</th>\n",
       "      <th>C</th>\n",
       "    </tr>\n",
       "  </thead>\n",
       "  <tbody>\n",
       "    <tr>\n",
       "      <th>0</th>\n",
       "      <td>1</td>\n",
       "      <td>a</td>\n",
       "      <td>2</td>\n",
       "    </tr>\n",
       "    <tr>\n",
       "      <th>1</th>\n",
       "      <td>2</td>\n",
       "      <td>b</td>\n",
       "      <td>4</td>\n",
       "    </tr>\n",
       "    <tr>\n",
       "      <th>2</th>\n",
       "      <td>3</td>\n",
       "      <td>c</td>\n",
       "      <td>6</td>\n",
       "    </tr>\n",
       "    <tr>\n",
       "      <th>3</th>\n",
       "      <td>4</td>\n",
       "      <td>d</td>\n",
       "      <td>8</td>\n",
       "    </tr>\n",
       "  </tbody>\n",
       "</table>\n",
       "</div>"
      ],
      "text/plain": [
       "   A  B  C\n",
       "0  1  a  2\n",
       "1  2  b  4\n",
       "2  3  c  6\n",
       "3  4  d  8"
      ]
     },
     "execution_count": 54,
     "metadata": {},
     "output_type": "execute_result"
    }
   ],
   "source": [
    "df['C'] = df['A'] * 2\n",
    "df"
   ]
  },
  {
   "cell_type": "markdown",
   "metadata": {},
   "source": [
    "选出某列Series"
   ]
  },
  {
   "cell_type": "code",
   "execution_count": 55,
   "metadata": {
    "ExecuteTime": {
     "end_time": "2018-01-26T07:40:03.990000Z",
     "start_time": "2018-01-26T07:40:03.971000Z"
    }
   },
   "outputs": [
    {
     "data": {
      "text/plain": [
       "0    1\n",
       "1    2\n",
       "2    3\n",
       "3    4\n",
       "Name: A, dtype: int64"
      ]
     },
     "execution_count": 55,
     "metadata": {},
     "output_type": "execute_result"
    }
   ],
   "source": [
    "df['A']"
   ]
  },
  {
   "cell_type": "markdown",
   "metadata": {},
   "source": [
    "选出某几列组成的DataFrame"
   ]
  },
  {
   "cell_type": "code",
   "execution_count": 56,
   "metadata": {
    "ExecuteTime": {
     "end_time": "2018-01-26T07:40:11.279000Z",
     "start_time": "2018-01-26T07:40:11.251000Z"
    }
   },
   "outputs": [
    {
     "data": {
      "text/html": [
       "<div>\n",
       "<style>\n",
       "    .dataframe thead tr:only-child th {\n",
       "        text-align: right;\n",
       "    }\n",
       "\n",
       "    .dataframe thead th {\n",
       "        text-align: left;\n",
       "    }\n",
       "\n",
       "    .dataframe tbody tr th {\n",
       "        vertical-align: top;\n",
       "    }\n",
       "</style>\n",
       "<table border=\"1\" class=\"dataframe\">\n",
       "  <thead>\n",
       "    <tr style=\"text-align: right;\">\n",
       "      <th></th>\n",
       "      <th>A</th>\n",
       "      <th>C</th>\n",
       "    </tr>\n",
       "  </thead>\n",
       "  <tbody>\n",
       "    <tr>\n",
       "      <th>0</th>\n",
       "      <td>1</td>\n",
       "      <td>2</td>\n",
       "    </tr>\n",
       "    <tr>\n",
       "      <th>1</th>\n",
       "      <td>2</td>\n",
       "      <td>4</td>\n",
       "    </tr>\n",
       "    <tr>\n",
       "      <th>2</th>\n",
       "      <td>3</td>\n",
       "      <td>6</td>\n",
       "    </tr>\n",
       "    <tr>\n",
       "      <th>3</th>\n",
       "      <td>4</td>\n",
       "      <td>8</td>\n",
       "    </tr>\n",
       "  </tbody>\n",
       "</table>\n",
       "</div>"
      ],
      "text/plain": [
       "   A  C\n",
       "0  1  2\n",
       "1  2  4\n",
       "2  3  6\n",
       "3  4  8"
      ]
     },
     "execution_count": 56,
     "metadata": {},
     "output_type": "execute_result"
    }
   ],
   "source": [
    "df[['A', 'C']]"
   ]
  },
  {
   "cell_type": "markdown",
   "metadata": {},
   "source": [
    "注意df[['A']]和df['A']结果是不一样的"
   ]
  },
  {
   "cell_type": "code",
   "execution_count": 57,
   "metadata": {
    "ExecuteTime": {
     "end_time": "2018-01-26T07:40:26.504000Z",
     "start_time": "2018-01-26T07:40:26.471000Z"
    }
   },
   "outputs": [
    {
     "data": {
      "text/html": [
       "<div>\n",
       "<style>\n",
       "    .dataframe thead tr:only-child th {\n",
       "        text-align: right;\n",
       "    }\n",
       "\n",
       "    .dataframe thead th {\n",
       "        text-align: left;\n",
       "    }\n",
       "\n",
       "    .dataframe tbody tr th {\n",
       "        vertical-align: top;\n",
       "    }\n",
       "</style>\n",
       "<table border=\"1\" class=\"dataframe\">\n",
       "  <thead>\n",
       "    <tr style=\"text-align: right;\">\n",
       "      <th></th>\n",
       "      <th>A</th>\n",
       "    </tr>\n",
       "  </thead>\n",
       "  <tbody>\n",
       "    <tr>\n",
       "      <th>0</th>\n",
       "      <td>1</td>\n",
       "    </tr>\n",
       "    <tr>\n",
       "      <th>1</th>\n",
       "      <td>2</td>\n",
       "    </tr>\n",
       "    <tr>\n",
       "      <th>2</th>\n",
       "      <td>3</td>\n",
       "    </tr>\n",
       "    <tr>\n",
       "      <th>3</th>\n",
       "      <td>4</td>\n",
       "    </tr>\n",
       "  </tbody>\n",
       "</table>\n",
       "</div>"
      ],
      "text/plain": [
       "   A\n",
       "0  1\n",
       "1  2\n",
       "2  3\n",
       "3  4"
      ]
     },
     "execution_count": 57,
     "metadata": {},
     "output_type": "execute_result"
    }
   ],
   "source": [
    "df[['A']]"
   ]
  },
  {
   "cell_type": "markdown",
   "metadata": {},
   "source": [
    "# 泰坦尼克号数据的初步分析"
   ]
  },
  {
   "cell_type": "code",
   "execution_count": 62,
   "metadata": {
    "ExecuteTime": {
     "end_time": "2018-01-26T07:42:27.786000Z",
     "start_time": "2018-01-26T07:42:27.720000Z"
    }
   },
   "outputs": [
    {
     "data": {
      "text/html": [
       "<div>\n",
       "<style>\n",
       "    .dataframe thead tr:only-child th {\n",
       "        text-align: right;\n",
       "    }\n",
       "\n",
       "    .dataframe thead th {\n",
       "        text-align: left;\n",
       "    }\n",
       "\n",
       "    .dataframe tbody tr th {\n",
       "        vertical-align: top;\n",
       "    }\n",
       "</style>\n",
       "<table border=\"1\" class=\"dataframe\">\n",
       "  <thead>\n",
       "    <tr style=\"text-align: right;\">\n",
       "      <th></th>\n",
       "      <th>Age</th>\n",
       "      <th>Cabin</th>\n",
       "      <th>Embarked</th>\n",
       "      <th>Fare</th>\n",
       "      <th>Name</th>\n",
       "      <th>Parch</th>\n",
       "      <th>PassengerId</th>\n",
       "      <th>Pclass</th>\n",
       "      <th>Sex</th>\n",
       "      <th>SibSp</th>\n",
       "      <th>Survived</th>\n",
       "      <th>Ticket</th>\n",
       "      <th>dataset_name</th>\n",
       "    </tr>\n",
       "  </thead>\n",
       "  <tbody>\n",
       "    <tr>\n",
       "      <th>0</th>\n",
       "      <td>22.0</td>\n",
       "      <td>NaN</td>\n",
       "      <td>S</td>\n",
       "      <td>7.2500</td>\n",
       "      <td>Braund, Mr. Owen Harris</td>\n",
       "      <td>0</td>\n",
       "      <td>1</td>\n",
       "      <td>3</td>\n",
       "      <td>male</td>\n",
       "      <td>1</td>\n",
       "      <td>0.0</td>\n",
       "      <td>A/5 21171</td>\n",
       "      <td>train</td>\n",
       "    </tr>\n",
       "    <tr>\n",
       "      <th>1</th>\n",
       "      <td>38.0</td>\n",
       "      <td>C85</td>\n",
       "      <td>C</td>\n",
       "      <td>71.2833</td>\n",
       "      <td>Cumings, Mrs. John Bradley (Florence Briggs Th...</td>\n",
       "      <td>0</td>\n",
       "      <td>2</td>\n",
       "      <td>1</td>\n",
       "      <td>female</td>\n",
       "      <td>1</td>\n",
       "      <td>1.0</td>\n",
       "      <td>PC 17599</td>\n",
       "      <td>train</td>\n",
       "    </tr>\n",
       "    <tr>\n",
       "      <th>2</th>\n",
       "      <td>26.0</td>\n",
       "      <td>NaN</td>\n",
       "      <td>S</td>\n",
       "      <td>7.9250</td>\n",
       "      <td>Heikkinen, Miss. Laina</td>\n",
       "      <td>0</td>\n",
       "      <td>3</td>\n",
       "      <td>3</td>\n",
       "      <td>female</td>\n",
       "      <td>0</td>\n",
       "      <td>1.0</td>\n",
       "      <td>STON/O2. 3101282</td>\n",
       "      <td>train</td>\n",
       "    </tr>\n",
       "    <tr>\n",
       "      <th>3</th>\n",
       "      <td>35.0</td>\n",
       "      <td>C123</td>\n",
       "      <td>S</td>\n",
       "      <td>53.1000</td>\n",
       "      <td>Futrelle, Mrs. Jacques Heath (Lily May Peel)</td>\n",
       "      <td>0</td>\n",
       "      <td>4</td>\n",
       "      <td>1</td>\n",
       "      <td>female</td>\n",
       "      <td>1</td>\n",
       "      <td>1.0</td>\n",
       "      <td>113803</td>\n",
       "      <td>train</td>\n",
       "    </tr>\n",
       "    <tr>\n",
       "      <th>4</th>\n",
       "      <td>35.0</td>\n",
       "      <td>NaN</td>\n",
       "      <td>S</td>\n",
       "      <td>8.0500</td>\n",
       "      <td>Allen, Mr. William Henry</td>\n",
       "      <td>0</td>\n",
       "      <td>5</td>\n",
       "      <td>3</td>\n",
       "      <td>male</td>\n",
       "      <td>0</td>\n",
       "      <td>0.0</td>\n",
       "      <td>373450</td>\n",
       "      <td>train</td>\n",
       "    </tr>\n",
       "  </tbody>\n",
       "</table>\n",
       "</div>"
      ],
      "text/plain": [
       "    Age Cabin Embarked     Fare  \\\n",
       "0  22.0   NaN        S   7.2500   \n",
       "1  38.0   C85        C  71.2833   \n",
       "2  26.0   NaN        S   7.9250   \n",
       "3  35.0  C123        S  53.1000   \n",
       "4  35.0   NaN        S   8.0500   \n",
       "\n",
       "                                                Name  Parch  PassengerId  \\\n",
       "0                            Braund, Mr. Owen Harris      0            1   \n",
       "1  Cumings, Mrs. John Bradley (Florence Briggs Th...      0            2   \n",
       "2                             Heikkinen, Miss. Laina      0            3   \n",
       "3       Futrelle, Mrs. Jacques Heath (Lily May Peel)      0            4   \n",
       "4                           Allen, Mr. William Henry      0            5   \n",
       "\n",
       "   Pclass     Sex  SibSp  Survived            Ticket dataset_name  \n",
       "0       3    male      1       0.0         A/5 21171        train  \n",
       "1       1  female      1       1.0          PC 17599        train  \n",
       "2       3  female      0       1.0  STON/O2. 3101282        train  \n",
       "3       1  female      1       1.0            113803        train  \n",
       "4       3    male      0       0.0            373450        train  "
      ]
     },
     "execution_count": 62,
     "metadata": {},
     "output_type": "execute_result"
    }
   ],
   "source": [
    "pd.read_csv('test_full_data.csv').head()"
   ]
  }
 ],
 "metadata": {
  "kernelspec": {
   "display_name": "Python 3",
   "language": "python",
   "name": "python3"
  },
  "language_info": {
   "codemirror_mode": {
    "name": "ipython",
    "version": 3
   },
   "file_extension": ".py",
   "mimetype": "text/x-python",
   "name": "python",
   "nbconvert_exporter": "python",
   "pygments_lexer": "ipython3",
   "version": "3.7.1"
  },
  "toc": {
   "base_numbering": 1,
   "nav_menu": {},
   "number_sections": true,
   "sideBar": true,
   "skip_h1_title": false,
   "title_cell": "Table of Contents",
   "title_sidebar": "Contents",
   "toc_cell": false,
   "toc_position": {},
   "toc_section_display": "block",
   "toc_window_display": true
  }
 },
 "nbformat": 4,
 "nbformat_minor": 2
}
