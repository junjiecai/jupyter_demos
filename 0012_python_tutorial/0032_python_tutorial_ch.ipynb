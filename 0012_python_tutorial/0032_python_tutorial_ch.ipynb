{
 "cells": [
  {
   "cell_type": "markdown",
   "metadata": {
    "ExecuteTime": {
     "end_time": "2018-01-25T16:33:44.156000Z",
     "start_time": "2018-01-25T16:33:44.078000Z"
    }
   },
   "source": [
    "![logo](python_logo.jpg)"
   ]
  },
  {
   "cell_type": "markdown",
   "metadata": {
    "ExecuteTime": {
     "end_time": "2018-01-12T02:39:04.467198Z",
     "start_time": "2018-01-12T02:39:04.456204Z"
    }
   },
   "source": [
    "# 面向非程序员的Python编程-Part 1"
   ]
  },
  {
   "cell_type": "markdown",
   "metadata": {
    "ExecuteTime": {
     "end_time": "2018-01-12T04:31:32.468510Z",
     "start_time": "2018-01-12T04:31:32.461510Z"
    }
   },
   "source": [
    "## 熟悉基本的数据类型"
   ]
  },
  {
   "cell_type": "markdown",
   "metadata": {
    "ExecuteTime": {
     "end_time": "2018-01-12T04:31:52.253489Z",
     "start_time": "2018-01-12T04:31:52.249488Z"
    }
   },
   "source": [
    "### 整数int"
   ]
  },
  {
   "cell_type": "markdown",
   "metadata": {},
   "source": [
    "表示一个整数很容易"
   ]
  },
  {
   "cell_type": "code",
   "execution_count": 1,
   "metadata": {
    "ExecuteTime": {
     "end_time": "2018-01-26T06:13:46.291000Z",
     "start_time": "2018-01-26T06:13:46.259000Z"
    }
   },
   "outputs": [
    {
     "data": {
      "text/plain": [
       "123"
      ]
     },
     "execution_count": 1,
     "metadata": {},
     "output_type": "execute_result"
    }
   ],
   "source": [
    "123"
   ]
  },
  {
   "cell_type": "markdown",
   "metadata": {},
   "source": [
    "对整数进行一些基本的运算"
   ]
  },
  {
   "cell_type": "code",
   "execution_count": 2,
   "metadata": {
    "ExecuteTime": {
     "end_time": "2018-01-25T12:29:17.809000Z",
     "start_time": "2018-01-25T12:29:17.800000Z"
    }
   },
   "outputs": [
    {
     "data": {
      "text/plain": [
       "0"
      ]
     },
     "execution_count": 2,
     "metadata": {},
     "output_type": "execute_result"
    }
   ],
   "source": [
    "100 + 100 - 200"
   ]
  },
  {
   "cell_type": "code",
   "execution_count": 3,
   "metadata": {
    "ExecuteTime": {
     "end_time": "2018-01-25T12:29:53.604000Z",
     "start_time": "2018-01-25T12:29:53.582000Z"
    }
   },
   "outputs": [
    {
     "name": "stdout",
     "output_type": "stream",
     "text": [
      "2\n",
      "6\n",
      "8\n",
      "1\n",
      "2.5\n",
      "2\n"
     ]
    }
   ],
   "source": [
    "print(1 + 1)\n",
    "print(2 * 3)\n",
    "print(2 ** 3) # 2的3次方\n",
    "print(3 % 2) # 3除以2取余数\n",
    "print(5 / 2)\n",
    "print(5 // 2) # 做除法后保留整数"
   ]
  },
  {
   "cell_type": "markdown",
   "metadata": {},
   "source": [
    " 运算优先级"
   ]
  },
  {
   "cell_type": "code",
   "execution_count": 4,
   "metadata": {},
   "outputs": [
    {
     "data": {
      "text/plain": [
       "7"
      ]
     },
     "execution_count": 4,
     "metadata": {},
     "output_type": "execute_result"
    }
   ],
   "source": [
    "1 + 2 * 3"
   ]
  },
  {
   "cell_type": "markdown",
   "metadata": {},
   "source": [
    "善用()控制优先顺序"
   ]
  },
  {
   "cell_type": "code",
   "execution_count": 5,
   "metadata": {},
   "outputs": [
    {
     "data": {
      "text/plain": [
       "7.75"
      ]
     },
     "execution_count": 5,
     "metadata": {},
     "output_type": "execute_result"
    }
   ],
   "source": [
    "1 + ((2 * 3) + (3 / 4))"
   ]
  },
  {
   "cell_type": "markdown",
   "metadata": {
    "ExecuteTime": {
     "end_time": "2018-01-12T04:33:05.499813Z",
     "start_time": "2018-01-12T04:33:05.495812Z"
    }
   },
   "source": [
    "## 浮点数float"
   ]
  },
  {
   "cell_type": "markdown",
   "metadata": {
    "ExecuteTime": {
     "end_time": "2018-01-25T12:30:22.177000Z",
     "start_time": "2018-01-25T12:30:22.163000Z"
    }
   },
   "source": [
    "不同的创建方式"
   ]
  },
  {
   "cell_type": "code",
   "execution_count": 6,
   "metadata": {
    "ExecuteTime": {
     "end_time": "2018-01-25T12:30:26.685000Z",
     "start_time": "2018-01-25T12:30:26.669000Z"
    }
   },
   "outputs": [
    {
     "name": "stdout",
     "output_type": "stream",
     "text": [
      "1.0\n",
      "1.0\n"
     ]
    }
   ],
   "source": [
    "print(1.0)\n",
    "print(float(1))"
   ]
  },
  {
   "cell_type": "markdown",
   "metadata": {
    "ExecuteTime": {
     "end_time": "2018-01-12T04:34:49.394201Z",
     "start_time": "2018-01-12T04:34:49.381200Z"
    }
   },
   "source": [
    "float可以和int一起参与计算，结果会被处理成float"
   ]
  },
  {
   "cell_type": "code",
   "execution_count": 7,
   "metadata": {},
   "outputs": [
    {
     "data": {
      "text/plain": [
       "5.3"
      ]
     },
     "execution_count": 7,
     "metadata": {},
     "output_type": "execute_result"
    }
   ],
   "source": [
    "1 + 4.3"
   ]
  },
  {
   "cell_type": "markdown",
   "metadata": {
    "ExecuteTime": {
     "end_time": "2018-01-12T04:35:14.053000Z",
     "start_time": "2018-01-12T04:35:14.049000Z"
    }
   },
   "source": [
    "## 字符串"
   ]
  },
  {
   "cell_type": "markdown",
   "metadata": {},
   "source": [
    "可以用单引号或者双引号表示字符串"
   ]
  },
  {
   "cell_type": "code",
   "execution_count": 8,
   "metadata": {
    "ExecuteTime": {
     "end_time": "2018-01-25T12:31:18.304000Z",
     "start_time": "2018-01-25T12:31:18.292000Z"
    }
   },
   "outputs": [
    {
     "name": "stdout",
     "output_type": "stream",
     "text": [
      "yademan\n",
      "yademan\n"
     ]
    }
   ],
   "source": [
    "print('yademan')\n",
    "print(\"yademan\")"
   ]
  },
  {
   "cell_type": "markdown",
   "metadata": {},
   "source": [
    "但是不能混合使用哦"
   ]
  },
  {
   "cell_type": "code",
   "execution_count": 9,
   "metadata": {
    "ExecuteTime": {
     "end_time": "2018-01-25T12:31:34.281000Z",
     "start_time": "2018-01-25T12:31:34.269000Z"
    }
   },
   "outputs": [
    {
     "ename": "SyntaxError",
     "evalue": "EOL while scanning string literal (<ipython-input-9-a13b6841177a>, line 1)",
     "output_type": "error",
     "traceback": [
      "\u001b[0;36m  File \u001b[0;32m\"<ipython-input-9-a13b6841177a>\"\u001b[0;36m, line \u001b[0;32m1\u001b[0m\n\u001b[0;31m    'yademan\"\u001b[0m\n\u001b[0m             ^\u001b[0m\n\u001b[0;31mSyntaxError\u001b[0m\u001b[0;31m:\u001b[0m EOL while scanning string literal\n"
     ]
    }
   ],
   "source": [
    "'yademan\""
   ]
  },
  {
   "cell_type": "markdown",
   "metadata": {},
   "source": [
    "如果字符串的内容有单引号，那么可以用双引号去标记字符串；反之亦然"
   ]
  },
  {
   "cell_type": "code",
   "execution_count": 10,
   "metadata": {
    "ExecuteTime": {
     "end_time": "2018-01-25T12:33:52.973000Z",
     "start_time": "2018-01-25T12:33:52.951000Z"
    }
   },
   "outputs": [
    {
     "name": "stdout",
     "output_type": "stream",
     "text": [
      "my name is \"yademan\"\n",
      "my name is 'yademan'\n"
     ]
    }
   ],
   "source": [
    "print('my name is \"yademan\"')\n",
    "print(\"my name is 'yademan'\")"
   ]
  },
  {
   "cell_type": "markdown",
   "metadata": {
    "ExecuteTime": {
     "end_time": "2018-01-25T12:36:58.504000Z",
     "start_time": "2018-01-25T12:36:58.494000Z"
    }
   },
   "source": [
    "如果字符串里面的内容同时有双引号和单引号，为了让python分清哪些引号是内容，哪些只是标记字符串，可以在表示内容的引号前加上\\"
   ]
  },
  {
   "cell_type": "code",
   "execution_count": 11,
   "metadata": {
    "ExecuteTime": {
     "end_time": "2018-01-25T12:42:56.698000Z",
     "start_time": "2018-01-25T12:42:56.676000Z"
    }
   },
   "outputs": [
    {
     "name": "stdout",
     "output_type": "stream",
     "text": [
      "my name is \"yademan'\n",
      "my name is \"yademan'\n"
     ]
    }
   ],
   "source": [
    "print('my name is \\\"yademan\\'')\n",
    "print(\"my name is \\\"yademan\\'\")"
   ]
  },
  {
   "cell_type": "markdown",
   "metadata": {
    "ExecuteTime": {
     "end_time": "2018-01-12T04:37:22.466000Z",
     "start_time": "2018-01-12T04:37:22.439000Z"
    }
   },
   "source": [
    "可以用 + 连接字符串"
   ]
  },
  {
   "cell_type": "code",
   "execution_count": 12,
   "metadata": {
    "ExecuteTime": {
     "end_time": "2018-01-25T12:43:07.447000Z",
     "start_time": "2018-01-25T12:43:07.425000Z"
    }
   },
   "outputs": [
    {
     "data": {
      "text/plain": [
       "'yademan@wacai.com'"
      ]
     },
     "execution_count": 12,
     "metadata": {},
     "output_type": "execute_result"
    }
   ],
   "source": [
    "'yademan' + '@wacai.com'"
   ]
  },
  {
   "cell_type": "markdown",
   "metadata": {},
   "source": [
    "猜猜下面的结果?"
   ]
  },
  {
   "cell_type": "code",
   "execution_count": 13,
   "metadata": {
    "ExecuteTime": {
     "end_time": "2018-01-25T12:46:13.128000Z",
     "start_time": "2018-01-25T12:46:13.109000Z"
    }
   },
   "outputs": [
    {
     "data": {
      "text/plain": [
       "'哈哈哈哈哈哈哈哈哈哈哈哈哈哈哈哈哈哈哈哈!!!!!'"
      ]
     },
     "execution_count": 13,
     "metadata": {},
     "output_type": "execute_result"
    }
   ],
   "source": [
    "'哈' * 20 + '!'*5"
   ]
  },
  {
   "cell_type": "markdown",
   "metadata": {},
   "source": [
    "### 定义大段的字符串"
   ]
  },
  {
   "cell_type": "markdown",
   "metadata": {},
   "source": [
    "如果有一段较长的文本, 写成一行读起来会很费劲。"
   ]
  },
  {
   "cell_type": "code",
   "execution_count": 14,
   "metadata": {},
   "outputs": [
    {
     "data": {
      "text/plain": [
       "'Python is an interpreted high-level programming language for general-purpose programming. Created by Guido van Rossum and first released in 1991, Python has a design philosophy that emphasizes code readability, notably using significant whitespace. It provides constructs that enable clear programming on both small and large scales.[25] In July 2018, Van Rossum stepped down as the leader in the language community after 30 years.'"
      ]
     },
     "execution_count": 14,
     "metadata": {},
     "output_type": "execute_result"
    }
   ],
   "source": [
    "'Python is an interpreted high-level programming language for general-purpose programming. Created by Guido van Rossum and first released in 1991, Python has a design philosophy that emphasizes code readability, notably using significant whitespace. It provides constructs that enable clear programming on both small and large scales.[25] In July 2018, Van Rossum stepped down as the leader in the language community after 30 years.'"
   ]
  },
  {
   "cell_type": "markdown",
   "metadata": {},
   "source": [
    "如果要分行定义字符串的话会报错"
   ]
  },
  {
   "cell_type": "code",
   "execution_count": 15,
   "metadata": {},
   "outputs": [
    {
     "ename": "SyntaxError",
     "evalue": "EOL while scanning string literal (<ipython-input-15-c8ed37c971e1>, line 1)",
     "output_type": "error",
     "traceback": [
      "\u001b[0;36m  File \u001b[0;32m\"<ipython-input-15-c8ed37c971e1>\"\u001b[0;36m, line \u001b[0;32m1\u001b[0m\n\u001b[0;31m    'Python is an interpreted high-level programming language for general-purpose programming.\u001b[0m\n\u001b[0m                                                                                               ^\u001b[0m\n\u001b[0;31mSyntaxError\u001b[0m\u001b[0;31m:\u001b[0m EOL while scanning string literal\n"
     ]
    }
   ],
   "source": [
    "'Python is an interpreted high-level programming language for general-purpose programming. \n",
    "Created by Guido van Rossum and first released in 1991, \n",
    "Python has a design philosophy that emphasizes code readability, \n",
    "notably using significant whitespace. \n",
    "It provides constructs that enable clear programming on both small and large scales.\n",
    "[25] In July 2018, Van Rossum stepped down as the leader in the language community after 30 years.'"
   ]
  },
  {
   "cell_type": "markdown",
   "metadata": {},
   "source": [
    "可以用`(...)`分行书写这样的长文本。注意行与行之间不能加空格。这段代码和上一段实现的功能一样。"
   ]
  },
  {
   "cell_type": "code",
   "execution_count": 16,
   "metadata": {},
   "outputs": [
    {
     "data": {
      "text/plain": [
       "'Python is an interpreted high-level programming language for general-purpose programming.Created by Guido van Rossum and first released in 1991, Python has a design philosophy that emphasizes code readability, notably using significant whitespace. It provides constructs that enable clear programming on both small and large scales.[25] In July 2018, Van Rossum stepped down as the leader in the language community after 30 years.'"
      ]
     },
     "execution_count": 16,
     "metadata": {},
     "output_type": "execute_result"
    }
   ],
   "source": [
    "(\n",
    "    'Python is an interpreted high-level programming language for general-purpose programming.'\n",
    "    'Created by Guido van Rossum and first released in 1991, '\n",
    "    'Python has a design philosophy that emphasizes code readability, '\n",
    "    'notably using significant whitespace. '\n",
    "    'It provides constructs that enable clear programming on both small and large scales.'\n",
    "    \"[25] In July 2018, Van Rossum stepped down as the leader in the language community after 30 years.\"\n",
    ")"
   ]
  },
  {
   "cell_type": "markdown",
   "metadata": {},
   "source": [
    "用`'''...'''`也可以定义大段的文本, 注意使用这种方式， `'''...'''`中包含的空格，换行都会被保留"
   ]
  },
  {
   "cell_type": "code",
   "execution_count": 17,
   "metadata": {},
   "outputs": [
    {
     "name": "stdout",
     "output_type": "stream",
     "text": [
      "\n",
      "    Python is an interpreted high-level programming language for general-purpose programming. \n",
      "    \n",
      "    Created by Guido van Rossum and first released in 1991, Python has a design philosophy that \n",
      "    \n",
      "    emphasizes code readability, notably using significant whitespace. It provides constructs \n",
      "    \n",
      "    that enable clear programming on both small and large scales.[25] In July 2018, Van Rossum \n",
      "    \n",
      "    stepped down as the leader in the language community after 30 years.\n",
      "    \n"
     ]
    }
   ],
   "source": [
    "print(\n",
    "    '''\n",
    "    Python is an interpreted high-level programming language for general-purpose programming. \n",
    "    \n",
    "    Created by Guido van Rossum and first released in 1991, Python has a design philosophy that \n",
    "    \n",
    "    emphasizes code readability, notably using significant whitespace. It provides constructs \n",
    "    \n",
    "    that enable clear programming on both small and large scales.[25] In July 2018, Van Rossum \n",
    "    \n",
    "    stepped down as the leader in the language community after 30 years.\n",
    "    '''\n",
    ")"
   ]
  },
  {
   "cell_type": "code",
   "execution_count": 18,
   "metadata": {},
   "outputs": [
    {
     "data": {
      "text/plain": [
       "'\\nPython is an interpreted high-level programming language for general-purpose programming. \\n\\nCreated by Guido van Rossum and first released in 1991, Python has a design philosophy that \\n\\nemphasizes code readability, notably using significant whitespace. It provides constructs \\n\\nthat enable clear programming on both small and large scales.[25] In July 2018, Van Rossum \\n\\nstepped down as the leader in the language community after 30 years.\\n'"
      ]
     },
     "execution_count": 18,
     "metadata": {},
     "output_type": "execute_result"
    }
   ],
   "source": [
    "\n",
    "'''\n",
    "Python is an interpreted high-level programming language for general-purpose programming. \n",
    "\n",
    "Created by Guido van Rossum and first released in 1991, Python has a design philosophy that \n",
    "\n",
    "emphasizes code readability, notably using significant whitespace. It provides constructs \n",
    "\n",
    "that enable clear programming on both small and large scales.[25] In July 2018, Van Rossum \n",
    "\n",
    "stepped down as the leader in the language community after 30 years.\n",
    "'''\n"
   ]
  },
  {
   "cell_type": "markdown",
   "metadata": {
    "ExecuteTime": {
     "end_time": "2018-01-12T04:41:58.720000Z",
     "start_time": "2018-01-12T04:41:58.713000Z"
    }
   },
   "source": [
    "## 变量"
   ]
  },
  {
   "cell_type": "markdown",
   "metadata": {
    "ExecuteTime": {
     "end_time": "2018-01-12T03:00:02.818096Z",
     "start_time": "2018-01-12T03:00:02.711096Z"
    }
   },
   "source": [
    "先看下面这段表达式， 大家是否能一眼看出它的意图?"
   ]
  },
  {
   "cell_type": "code",
   "execution_count": 19,
   "metadata": {
    "ExecuteTime": {
     "end_time": "2018-01-25T12:46:16.584000Z",
     "start_time": "2018-01-25T12:46:16.553000Z"
    }
   },
   "outputs": [
    {
     "data": {
      "text/plain": [
       "9.921567416492215"
      ]
     },
     "execution_count": 19,
     "metadata": {},
     "output_type": "execute_result"
    }
   ],
   "source": [
    " (((4 + 5 + 6)/2) * ((4 + 5 + 6)/2 - 4) * ((4 + 5 + 6)/2 - 5) * ((4 + 5 + 6)/2 - 6)) ** 0.5"
   ]
  },
  {
   "cell_type": "markdown",
   "metadata": {
    "ExecuteTime": {
     "end_time": "2018-01-25T12:50:42.088000Z",
     "start_time": "2018-01-25T12:50:42.072000Z"
    }
   },
   "source": [
    "实际上上面的表达式的含义是根据三角形的三条边的边长4, 5, 6按照海伦公式计算面积。上面的表达式有很多不足\n",
    "\n",
    "* 存在很多重复的计算，例如周长的一般(4 + 5 + 6) / 2 被重复计算了3遍\n",
    "* 整个表达式非常复杂，读起来很费劲(可读性差)\n",
    "\n",
    "这时候，可以利用编程语言都支持的“变量”这一工具改善这个问题"
   ]
  },
  {
   "cell_type": "markdown",
   "metadata": {},
   "source": [
    "看下面引入变量的代码"
   ]
  },
  {
   "cell_type": "code",
   "execution_count": 20,
   "metadata": {
    "ExecuteTime": {
     "end_time": "2018-01-25T12:59:09.032000Z",
     "start_time": "2018-01-25T12:59:09.017000Z"
    }
   },
   "outputs": [
    {
     "data": {
      "text/plain": [
       "9.921567416492215"
      ]
     },
     "execution_count": 20,
     "metadata": {},
     "output_type": "execute_result"
    }
   ],
   "source": [
    "# 用变量a, b, c去指代4,5,6三个数据\n",
    "a = 4\n",
    "b = 5\n",
    "c = 6\n",
    "\n",
    "# 之后可以用变量去表达计算逻辑， 并且将结果存成其他的变量\n",
    "half_perimeter = (a + b + c) / 2\n",
    "\n",
    "surface = (half_perimeter * (half_perimeter - a) * (half_perimeter - b) * (half_perimeter - c)) ** 0.5\n",
    "surface"
   ]
  },
  {
   "cell_type": "code",
   "execution_count": 21,
   "metadata": {},
   "outputs": [
    {
     "data": {
      "text/plain": [
       "9.921567416492215"
      ]
     },
     "execution_count": 21,
     "metadata": {},
     "output_type": "execute_result"
    }
   ],
   "source": [
    "part_a = half_perimeter - a\n",
    "part_b = half_perimeter - b\n",
    "part_c = half_perimeter - c\n",
    "\n",
    "\n",
    "surface = (half_perimeter * part_a * part_b * part_c) ** 0.5\n",
    "surface"
   ]
  },
  {
   "cell_type": "markdown",
   "metadata": {
    "ExecuteTime": {
     "end_time": "2018-01-25T13:07:22.352000Z",
     "start_time": "2018-01-25T13:07:22.327000Z"
    }
   },
   "source": [
    "上面的代码中的a, b, c, half_perimeter, surface就是变量名， 它们让你有机会用一个更有意义的名字去指代数据或者中间计算结果，使用变量的好处\n",
    "* 取一个更有意义的名字，让代码更容易理解\n",
    "* 让重要的中间结果可以被保存，避免每次重新倒要重新计算， 例如用half_perimeter表示周长的一半\n",
    "* 将复杂的运算逻辑拆分几个独立的步骤, 让每一步计算不是那么复杂难懂\n",
    "\n",
    "如此之外，在变量的帮助下，可以清晰的隔离出代码中容易发生变化的成分和不容易发生变化的成分。\n",
    "\n",
    "在用海伦公式计算三角形的面积这个需求中，三角形的边长是容易发生变化的，给定边长以后计算面积的逻辑是固定的。下面的代码清晰的分析出了这两部分。"
   ]
  },
  {
   "cell_type": "code",
   "execution_count": 26,
   "metadata": {
    "ExecuteTime": {
     "end_time": "2018-01-25T13:12:32.595000Z",
     "start_time": "2018-01-25T13:12:32.584000Z"
    }
   },
   "outputs": [],
   "source": [
    "# 三角形的边长是容易改变的部分， 变量接收的是具体的数值\n",
    "a = 4\n",
    "b = 5\n",
    "c = 6\n",
    "\n",
    "# 给定边长后的计算逻辑是固定的，这里公式自带的常数，没有定死的数值\n",
    "half_perimeter = (a + b + c) / 2\n",
    "\n",
    "surface = (half_perimeter * (half_perimeter - a) * (half_perimeter - b) * (half_perimeter - c)) ** 0.5"
   ]
  },
  {
   "cell_type": "markdown",
   "metadata": {},
   "source": [
    "如果我们的边长变成了7, 8, 9，我们可以放心的改变的边长的定义，不用去操心后面的计算逻辑"
   ]
  },
  {
   "cell_type": "code",
   "execution_count": 27,
   "metadata": {
    "ExecuteTime": {
     "end_time": "2018-01-25T13:15:05.988000Z",
     "start_time": "2018-01-25T13:15:05.976000Z"
    }
   },
   "outputs": [],
   "source": [
    "# 边长变成7, 8, 9我们只需要改变开头的定义\n",
    "a = 7\n",
    "b = 8\n",
    "c = 9\n",
    "\n",
    "# 我们知道不管前面的部分怎么改，后面的逻辑不需要改变。也就不必操心这部分。\n",
    "half_perimeter = (a + b + c) / 2\n",
    "\n",
    "surface = (half_perimeter * (half_perimeter - a) * (half_perimeter - b) * (half_perimeter - c)) ** 0.5"
   ]
  },
  {
   "cell_type": "markdown",
   "metadata": {},
   "source": [
    "对比一下， 如果没有做好“可变和不变”的分离，那么一旦需求发生改变，那么事情就会很麻烦。\n",
    "\n",
    "例如如果代码是下面这样，虽然一定程度上利用变量拆分了复杂的计算过程，但是如果要把计算的边长替换成4,5,6，那么就要很小心的去阅读代码，将原先的2,3,4替换掉，同时要保留海伦公式自带的常数2。\n",
    "\n",
    "这个过程这会消耗不少时间和精力，而且容易无意中改错代码，又需要额外的时间精力去排查和修正错误。"
   ]
  },
  {
   "cell_type": "code",
   "execution_count": 30,
   "metadata": {
    "ExecuteTime": {
     "end_time": "2018-01-25T13:30:04.850000Z",
     "start_time": "2018-01-25T13:30:04.844000Z"
    }
   },
   "outputs": [],
   "source": [
    "# 并没有将需求中容易变化的边长和剩余的计算逻辑很好的分离，今后边长变化时就得去小心的阅读，理解和修改代码\n",
    "part_a = (2 + 3 + 4) / 2 - 2\n",
    "part_b = (2 + 3 + 4) / 2 - 3\n",
    "part_c = (2 + 3 + 4) / 2 - 4\n",
    "\n",
    "surface = (part_a * part_b * part_c) ** 0.5"
   ]
  }
 ],
 "metadata": {
  "kernelspec": {
   "display_name": "Python 3",
   "language": "python",
   "name": "python3"
  },
  "language_info": {
   "codemirror_mode": {
    "name": "ipython",
    "version": 3
   },
   "file_extension": ".py",
   "mimetype": "text/x-python",
   "name": "python",
   "nbconvert_exporter": "python",
   "pygments_lexer": "ipython3",
   "version": "3.6.5"
  },
  "toc": {
   "base_numbering": 1,
   "nav_menu": {},
   "number_sections": true,
   "sideBar": true,
   "skip_h1_title": false,
   "title_cell": "Table of Contents",
   "title_sidebar": "Contents",
   "toc_cell": false,
   "toc_position": {
    "height": "calc(100% - 180px)",
    "left": "10px",
    "top": "150px",
    "width": "384px"
   },
   "toc_section_display": "block",
   "toc_window_display": false
  }
 },
 "nbformat": 4,
 "nbformat_minor": 2
}
