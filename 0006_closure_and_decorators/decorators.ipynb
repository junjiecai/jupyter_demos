{
 "cells": [
  {
   "cell_type": "code",
   "execution_count": 91,
   "metadata": {},
   "outputs": [],
   "source": [
    "from datetime import datetime\n",
    "import time"
   ]
  },
  {
   "cell_type": "code",
   "execution_count": 92,
   "metadata": {},
   "outputs": [],
   "source": [
    "def cal_time(f):\n",
    "    def inner(*args, **kargs):\n",
    "        start_time = datetime.now()\n",
    "        result = f(*args, **kargs)\n",
    "        end_time = datetime.now()\n",
    "        print('使用了{}秒'.format((end_time - start_time).total_seconds()))\n",
    "        \n",
    "        return result\n",
    "        \n",
    "    \n",
    "    \n",
    "    return inner\n",
    "        "
   ]
  },
  {
   "cell_type": "code",
   "execution_count": 93,
   "metadata": {},
   "outputs": [],
   "source": [
    "@cal_time\n",
    "def function_1(a, b):\n",
    "    '''求和'''\n",
    "    return a + b"
   ]
  },
  {
   "cell_type": "code",
   "execution_count": 94,
   "metadata": {},
   "outputs": [],
   "source": [
    "@cal_time\n",
    "def function_2():\n",
    "    '''等3秒'''\n",
    "    time.sleep(3)"
   ]
  },
  {
   "cell_type": "markdown",
   "metadata": {},
   "source": [
    "# 装饰器会丢掉原函数的信息"
   ]
  },
  {
   "cell_type": "code",
   "execution_count": 95,
   "metadata": {},
   "outputs": [
    {
     "data": {
      "text/plain": [
       "'inner'"
      ]
     },
     "execution_count": 95,
     "metadata": {},
     "output_type": "execute_result"
    }
   ],
   "source": [
    "function_1.__name__"
   ]
  },
  {
   "cell_type": "code",
   "execution_count": 96,
   "metadata": {},
   "outputs": [],
   "source": [
    "function_1.__doc__"
   ]
  },
  {
   "cell_type": "markdown",
   "metadata": {},
   "source": [
    "解决方法"
   ]
  },
  {
   "cell_type": "code",
   "execution_count": 97,
   "metadata": {},
   "outputs": [],
   "source": [
    "from functools import wraps"
   ]
  },
  {
   "cell_type": "code",
   "execution_count": 98,
   "metadata": {},
   "outputs": [],
   "source": [
    "def cal_time(f):\n",
    "    @wraps(f)\n",
    "    def inner(*args, **kargs):\n",
    "        start_time = datetime.now()\n",
    "        result = f(*args, **kargs)\n",
    "        end_time = datetime.now()\n",
    "        print('使用了{}秒'.format((end_time - start_time).total_seconds()))\n",
    "        \n",
    "        return result\n",
    "    \n",
    "    return inner\n",
    "        "
   ]
  },
  {
   "cell_type": "code",
   "execution_count": 99,
   "metadata": {},
   "outputs": [],
   "source": [
    "@cal_time\n",
    "def function_3(a, b):\n",
    "    '''除法'''\n",
    "    return a / b"
   ]
  },
  {
   "cell_type": "code",
   "execution_count": 100,
   "metadata": {},
   "outputs": [
    {
     "data": {
      "text/plain": [
       "'function_3'"
      ]
     },
     "execution_count": 100,
     "metadata": {},
     "output_type": "execute_result"
    }
   ],
   "source": [
    "function_3.__name__"
   ]
  },
  {
   "cell_type": "code",
   "execution_count": 101,
   "metadata": {},
   "outputs": [
    {
     "data": {
      "text/plain": [
       "'除法'"
      ]
     },
     "execution_count": 101,
     "metadata": {},
     "output_type": "execute_result"
    }
   ],
   "source": [
    "function_3.__doc__"
   ]
  },
  {
   "cell_type": "markdown",
   "metadata": {},
   "source": [
    "## 带参数的装饰器"
   ]
  },
  {
   "cell_type": "markdown",
   "metadata": {},
   "source": [
    "# ```cal_time本身不是装饰器，而是返回了一个装饰器"
   ]
  },
  {
   "cell_type": "code",
   "execution_count": 102,
   "metadata": {},
   "outputs": [],
   "source": [
    "def cal_time(unit='s'):\n",
    "    def decorator(f):\n",
    "        def inner(*args, **kargs):\n",
    "            start_time = datetime.now()\n",
    "            result = f(*args, **kargs)\n",
    "            end_time = datetime.now()\n",
    "            if unit=='s':\n",
    "                print('使用了{}秒'.format((end_time - start_time).total_seconds()))\n",
    "            elif unit == 'm':\n",
    "                print('使用了{}分钟'.format((end_time - start_time).total_seconds()/60))\n",
    "            else:\n",
    "                raise ValueError('Unknown Erro')\n",
    "\n",
    "            return result    \n",
    "        return inner\n",
    "    return decorator\n",
    "        \n",
    "\n",
    "\n"
   ]
  },
  {
   "cell_type": "markdown",
   "metadata": {},
   "source": [
    "注意用法，```cal_time```这里需要调用, 而装饰器本身不需要调用"
   ]
  },
  {
   "cell_type": "code",
   "execution_count": 103,
   "metadata": {},
   "outputs": [],
   "source": [
    "@cal_time(unit='s')\n",
    "def function_2():\n",
    "    '''等3秒'''\n",
    "    time.sleep(3)\n"
   ]
  },
  {
   "cell_type": "code",
   "execution_count": 104,
   "metadata": {},
   "outputs": [
    {
     "name": "stdout",
     "output_type": "stream",
     "text": [
      "使用了3.001607秒\n"
     ]
    }
   ],
   "source": [
    "function_2()"
   ]
  },
  {
   "cell_type": "code",
   "execution_count": 105,
   "metadata": {},
   "outputs": [],
   "source": [
    "@cal_time(unit='m')\n",
    "def function_2():\n",
    "    '''等3秒'''\n",
    "    time.sleep(3)"
   ]
  },
  {
   "cell_type": "code",
   "execution_count": 106,
   "metadata": {},
   "outputs": [
    {
     "name": "stdout",
     "output_type": "stream",
     "text": [
      "使用了0.050033466666666665分钟\n"
     ]
    }
   ],
   "source": [
    "function_2()"
   ]
  },
  {
   "cell_type": "markdown",
   "metadata": {},
   "source": [
    "## 装饰器可以用在method上"
   ]
  },
  {
   "cell_type": "code",
   "execution_count": 116,
   "metadata": {},
   "outputs": [],
   "source": [
    "class T:\n",
    "    @cal_time(unit='m')\n",
    "    def wait(self, t):\n",
    "        time.sleep(t)"
   ]
  },
  {
   "cell_type": "code",
   "execution_count": 117,
   "metadata": {},
   "outputs": [
    {
     "name": "stdout",
     "output_type": "stream",
     "text": [
      "使用了0.016754583333333333分钟\n"
     ]
    }
   ],
   "source": [
    "t = T()\n",
    "\n",
    "t.wait(1)"
   ]
  },
  {
   "cell_type": "markdown",
   "metadata": {},
   "source": [
    "method的```function用法```"
   ]
  },
  {
   "cell_type": "code",
   "execution_count": 118,
   "metadata": {},
   "outputs": [
    {
     "name": "stdout",
     "output_type": "stream",
     "text": [
      "使用了0.0167436分钟\n"
     ]
    }
   ],
   "source": [
    "T.wait(t, 1)"
   ]
  },
  {
   "cell_type": "code",
   "execution_count": null,
   "metadata": {},
   "outputs": [],
   "source": []
  }
 ],
 "metadata": {
  "kernelspec": {
   "display_name": "Python 3",
   "language": "python",
   "name": "python3"
  },
  "language_info": {
   "codemirror_mode": {
    "name": "ipython",
    "version": 3
   },
   "file_extension": ".py",
   "mimetype": "text/x-python",
   "name": "python",
   "nbconvert_exporter": "python",
   "pygments_lexer": "ipython3",
   "version": "3.7.1"
  },
  "toc": {
   "base_numbering": 1,
   "nav_menu": {},
   "number_sections": true,
   "sideBar": true,
   "skip_h1_title": false,
   "title_cell": "Table of Contents",
   "title_sidebar": "Contents",
   "toc_cell": false,
   "toc_position": {},
   "toc_section_display": true,
   "toc_window_display": false
  }
 },
 "nbformat": 4,
 "nbformat_minor": 2
}
