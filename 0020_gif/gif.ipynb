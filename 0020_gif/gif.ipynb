{
 "cells": [
  {
   "cell_type": "code",
   "execution_count": 174,
   "metadata": {},
   "outputs": [],
   "source": [
    "from pandas import DataFrame\n",
    "from numpy.random import normal, uniform"
   ]
  },
  {
   "cell_type": "code",
   "execution_count": 175,
   "metadata": {},
   "outputs": [],
   "source": [
    "df = DataFrame(uniform(-5, 10, size = [100, 2]), columns=['train','test'])\n",
    "df['test'] = df['train'] ** 2 + normal(scale=5, size=[100, 1])[:, 0]\n",
    "df['test_min'] = df['test'].cummin()"
   ]
  },
  {
   "cell_type": "code",
   "execution_count": 176,
   "metadata": {},
   "outputs": [
    {
     "data": {
      "image/png": "[encoded data removed]",
      "text/plain": [
       "<Figure size 432x288 with 1 Axes>"
      ]
     },
     "metadata": {
      "needs_background": "light"
     },
     "output_type": "display_data"
    }
   ],
   "source": [
    "import numpy as np\n",
    "import matplotlib.pyplot as plt\n",
    "import matplotlib.animation as animation\n",
    "\n",
    "fig, ax = plt.subplots()\n",
    "\n",
    "x = np.arange(0, 2*np.pi, 0.01)\n",
    "ax.plot([df.iat[0, 0]], [df.iat[0, 1]], 'bo')\n",
    "ax.set_xlim(-10, 20)\n",
    "ax.set_ylim(-20, 100)\n",
    "ax.set_xlabel('train_error')\n",
    "ax.set_ylabel('test_error')\n",
    "\n",
    "\n",
    "def init():  # only required for blitting to give a clean slate.\n",
    "    line =  ax.plot([df.iat[0, 0]], [df.iat[0, 1]], 'bo')\n",
    "    return line\n",
    "\n",
    "\n",
    "def animate(i):\n",
    "#     line.set_ydata(np.sin(x + i / 100))  # update the data.\n",
    "#     return line,\n",
    "    lines = ax.lines\n",
    "    plt.setp(lines, color='b')\n",
    "    \n",
    "    \n",
    "    ax.set_title('round = {}'.format(i))\n",
    "    \n",
    "    \n",
    "    line = ax.plot([df.iat[i, 0]], [df.iat[i, 1]], 'ro')\n",
    "\n",
    "    \n",
    "    return line\n",
    "\n",
    "\n",
    "ani = animation.FuncAnimation(\n",
    "    fig, animate, init_func=init, interval=2, blit=True, save_count=100)"
   ]
  },
  {
   "cell_type": "code",
   "execution_count": 177,
   "metadata": {},
   "outputs": [],
   "source": [
    "# from matplotlib.animation import ImageMagickFileWriter\n",
    "# writer = ImageMagickWriter(fps=15, metadata=dict(artist='Me'), bitrate=1800)\n",
    "# ani.save(\"movie.gif\", writer=writer)\n",
    "\n",
    "ani.save('line.gif', dpi=80, writer='imagemagick')"
   ]
  },
  {
   "cell_type": "code",
   "execution_count": null,
   "metadata": {},
   "outputs": [],
   "source": []
  },
  {
   "cell_type": "code",
   "execution_count": null,
   "metadata": {},
   "outputs": [],
   "source": []
  }
 ],
 "metadata": {
  "kernelspec": {
   "display_name": "Python 3",
   "language": "python",
   "name": "python3"
  },
  "language_info": {
   "codemirror_mode": {
    "name": "ipython",
    "version": 3
   },
   "file_extension": ".py",
   "mimetype": "text/x-python",
   "name": "python",
   "nbconvert_exporter": "python",
   "pygments_lexer": "ipython3",
   "version": "3.7.1"
  },
  "toc": {
   "base_numbering": 1,
   "nav_menu": {},
   "number_sections": true,
   "sideBar": true,
   "skip_h1_title": false,
   "title_cell": "Table of Contents",
   "title_sidebar": "Contents",
   "toc_cell": false,
   "toc_position": {},
   "toc_section_display": true,
   "toc_window_display": false
  }
 },
 "nbformat": 4,
 "nbformat_minor": 2
}
